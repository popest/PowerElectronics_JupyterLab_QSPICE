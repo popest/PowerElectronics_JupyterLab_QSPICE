{
 "cells": [
  {
   "cell_type": "code",
   "execution_count": 1,
   "id": "7bbddfbd-3a67-472b-929f-734b99250dce",
   "metadata": {},
   "outputs": [],
   "source": [
    "import math\n",
    "import pandas as pd\n",
    "import numpy as np\n",
    "\n",
    "import CCM_Boost_PFC_QSPICE_circs\n",
    "\n",
    "from IPython.display import display, Markdown, Latex\n",
    "from matplotlib import pyplot as plt\n",
    "from matplotlib.ticker import (MultipleLocator, AutoMinorLocator)\n",
    "from scipy.interpolate import RegularGridInterpolator\n",
    "from scipy.interpolate import interp1d\n",
    "\n",
    "pd.options.display.float_format = '{:.5e}'.format\n",
    "\n",
    "\n",
    "# 2D interpolation \n",
    "# path - path to data folder\n",
    "# file_name - filename of csv file with EON/EFF data\n",
    "# VDS - MOSFET VDS value\n",
    "# ID - drain current\n",
    "# note: current vector has to start from 0 up to value larger than maximum peak current\n",
    "# note: voltage vector should start from 0 up to VDS_max\n",
    "def ESW_Interp(path,file_name,VDS,ID):\n",
    "    \n",
    "    ESW=0\n",
    "    if (VDS >= 0) and (file_name != ''):\n",
    "        df = pd.read_csv(path+file_name, header=None)\n",
    "\n",
    "        Y=df.iloc[1:len(df.index),0].to_numpy()\n",
    "\n",
    "        X=df.iloc[0,1:].to_numpy()\n",
    "\n",
    "        data=df.iloc[1:,1:].to_numpy()\n",
    "   \n",
    "        interp = RegularGridInterpolator((Y,X),data)\n",
    "        ESW=interp((ID,VDS))\n",
    "       \n",
    "    else:\n",
    "        ESW=0\n",
    "    \n",
    "    \n",
    "    return ESW\n",
    "\n",
    "# Switching Losses Calculation\n",
    "# data - Pandas dataframe\n",
    "# VDS - VDS value. In Boost PFC, VDS is equal to Vout\n",
    "\n",
    "#return: Total energy in J over current waveform period\n",
    "def ESW_Calc(data,VDS):\n",
    "    \n",
    "    #df = pd.read_csv(path+file_name)\n",
    "    df = data\n",
    "    # Modify the data so small numerical deviation from 0 and 1 will not interfere with TurnON/OFF detection\n",
    "    # Tolerance range for modification. E.g. Value within range of 1 +/- tolerance is still concidered as 1\n",
    "    tolerance=1e-4\n",
    "    df['V(pwm)']=df['V(pwm)'].apply(lambda x: 1 if (1-tolerance) <= x <= (1+tolerance) else x)\n",
    "    df['V(pwm)']=df['V(pwm)'].apply(lambda x: 0 if (0-tolerance) <= x <= (0+tolerance) else x)\n",
    "\n",
    "    #Detect Turn-OFF (1->0)\n",
    "    mask_OFF = (df['V(pwm)'] == 1) & (df['V(pwm)'].shift(-1) < 1)\n",
    "    \n",
    "    #Detect Turn-ON (0->1)\n",
    "    mask_ON = (df['V(pwm)'] == 1) & (df['V(pwm)'].shift(1) < 1)\n",
    "\n",
    "    # DataFrame of currents for Turn-OFF energy calculation\n",
    "    I_OFF = df.loc[mask_OFF,['Time','I(S1)']]\n",
    "    # Replace all negative current values by 0\n",
    "    I_OFF['I(S1)'] = I_OFF['I(S1)'].apply(lambda x: max(0,x))\n",
    "    \n",
    "    # DataFrame of currents for Turn-ON energy calculation\n",
    "    I_ON = df.loc[mask_ON,['Time','I(S1)']]\n",
    "    # Replace all negative current values by 0\n",
    "    I_ON['I(S1)'] = I_ON['I(S1)'].apply(lambda x: max(0,x))\n",
    "\n",
    "    # Calculate and add EOFF column\n",
    "    I_OFF['EOFF'] = ESW_Interp(MOS_DATA_FLD,EOFF_file_name,VDS,I_OFF['I(S1)'])\n",
    "\n",
    "    # Calculate and add EON column\n",
    "    I_ON['EON'] = ESW_Interp(MOS_DATA_FLD,EON_file_name,VDS,I_ON['I(S1)'])\n",
    "\n",
    "    sum_EOFF = I_OFF['EOFF'].sum()\n",
    "    sum_EON = I_ON['EON'].sum()\n",
    "    E_tot = sum_EOFF + sum_EON\n",
    "\n",
    " #   print(I_OFF.to_string())\n",
    " #   print(I_ON.to_string())\n",
    "\n",
    " #   print('Total Eoff = ', sum_EOFF)\n",
    " #   print('Total Eon = ', sum_EON)\n",
    " #   print('Total ESW = ', E_tot)\n",
    "       \n",
    "    return E_tot\n"
   ]
  },
  {
   "cell_type": "markdown",
   "id": "f1d48b82-a5c1-4e85-a4db-681e7d4207fd",
   "metadata": {},
   "source": [
    "# Input Data"
   ]
  },
  {
   "cell_type": "code",
   "execution_count": 2,
   "id": "f4dbefb7-5d03-4906-b57c-2be9b8f42ca6",
   "metadata": {},
   "outputs": [],
   "source": [
    "# Use simulation (True/False)\n",
    "sim_on = True\n",
    "\n",
    "#Input AC values in RMS\n",
    "VAC_min = 195\n",
    "VAC_max = 265\n",
    "VAC_nom = 230\n",
    "\n",
    "AC_freq=50\n",
    "\n",
    "#Output Voltage\n",
    "Vout=400\n",
    "Vout_pp=20\n",
    "\n",
    "Pout=900\n",
    "#Estimated efficiency\n",
    "eff=0.96\n",
    "#switching frequency\n",
    "fsw=133e3\n",
    "\n",
    "#Inductor ripple current (e.g. for 25% put 0.25)\n",
    "IL_ripple=0.5\n",
    "\n",
    "### Input REC Bridge Diode ####\n",
    "REC_fwd = 1\n",
    "REC_rdiff = 30e-3\n",
    "\n",
    "### Input EMI Filter ###\n",
    "#Additional total resistance formed by EMI components\n",
    "#CM_Choke+Relay\n",
    "R_EMI = 8e-3+0.1\n",
    "\n",
    "### MOSFET ###\n",
    "# Set MOSFET Data Folder and EOFF and EON file names. If empty string is provided, EOFF and EON energy estimation is skipped and return 0 J\n",
    "# Note. EOFF and EON data should be obtained using a standard double-pulse test method using the actual boost diode.\n",
    "MOS_DATA_FLD = \"Data/MOSFET/IPP60R120P7/\"\n",
    "EOFF_file_name = \"EOFF_15V_100degC_5600mOhm_25ns_IDH08G65C6.csv\"\n",
    "EON_file_name = \"EON_15V_100degC_5600mOhm_25ns_IDH08G65C6.csv\"\n",
    "\n",
    "#WC RDSon@100degC\n",
    "rdson=0.204\n",
    "\n",
    "### Output Diode@75degC ###\n",
    "# Infineon IDH08G65C6\n",
    "BOOST_fwd=0.69\n",
    "BOOST_rdiff=76e-3\n",
    "BOOST_Qc = 12.2e-9\n",
    "\n",
    "### Output Capacitor ###\n",
    "Cout_ESR = 150e-3\n",
    "\n",
    "### Current sense resistor\n",
    "Rsense = 10e-3\n",
    "\n",
    "################### TESTING ########################\n",
    "\n",
    "\n",
    "#print('EOFF Energy:',ESW_Interp(MOS_DATA_FLD,EOFF_file_name,400,[0.01, 11]))\n",
    "#print('EON Energy:',ESW_Interp(MOS_DATA_FLD,EON_file_name,400,0.1))\n",
    "\n",
    "# QSPICE_PFC_CCM_ACMC(VAC_rms, Cout, ESR, eff, fsw, freq, L, Pout, Vout)\n",
    "#ret=CCM_Boost_PFC_QSPICE_circs.QSPICE_PFC_CCM_ACMC(250, 500e-6, 150e-3, 0.96, 65e3, 50, 295e-6, 900, 400)\n",
    "#print(ret[1][0])\n",
    "\n",
    "#E_results = ESW_Calc(ret[0],400)\n",
    "#print(E_results)\n",
    "\n",
    "#wfrm = ret[0]\n",
    "#plt.plot(wfrm[\"Time\"], wfrm[\"V(OUT)\"])\n",
    "#plt.show()"
   ]
  },
  {
   "cell_type": "markdown",
   "id": "28453081-1d28-411a-8b78-4fd054700bc2",
   "metadata": {},
   "source": [
    "# Minimum Inductor Value Estimation (in uH)\n",
    "Note: Valid at minimum Vin and full load. To maintain the same ripple at maximum Vin, inductance must be higher"
   ]
  },
  {
   "cell_type": "code",
   "execution_count": 3,
   "id": "215ec0cf-9f06-412b-9750-d0ba309672df",
   "metadata": {},
   "outputs": [],
   "source": [
    "L=1/IL_ripple*(VAC_min**2/Pout)*(1-math.sqrt(2)*VAC_min/Vout)*1/fsw"
   ]
  },
  {
   "cell_type": "code",
   "execution_count": 4,
   "id": "529094a1-021c-4305-8c48-6bcfc25b6cf4",
   "metadata": {},
   "outputs": [
    {
     "name": "stdout",
     "output_type": "stream",
     "text": [
      "197\n"
     ]
    }
   ],
   "source": [
    "print(round(L*1e6))"
   ]
  },
  {
   "cell_type": "markdown",
   "id": "411156e2-54fa-4712-8159-ffa29f223357",
   "metadata": {},
   "source": [
    "# Maximum Allowed Pk-Pk Output Voltage Ripple (in V)\n",
    "To ensure proper boost functionality, output voltage must be alwasy higher than input voltage"
   ]
  },
  {
   "cell_type": "code",
   "execution_count": 5,
   "id": "39ae679f-30b7-4b2e-9b79-6f1629d87745",
   "metadata": {
    "jupyter": {
     "source_hidden": true
    }
   },
   "outputs": [
    {
     "name": "stdout",
     "output_type": "stream",
     "text": [
      "25.23\n"
     ]
    }
   ],
   "source": [
    "Vout_pp_max=Vout-VAC_max*math.sqrt(2)\n",
    "print(round(Vout_pp_max,2))\n",
    "if Vout_pp > Vout_pp_max:\n",
    "    display(Markdown('<font size=\"6\"> <span style=\"color:red\"> Warning: Defined output pk-pk voltage ripple does not ensure proper boost functionality </span></font>'))"
   ]
  },
  {
   "cell_type": "markdown",
   "id": "70452a25-fd9c-4ce2-bf8f-00e81b429f02",
   "metadata": {},
   "source": [
    "# Output Capacitor Requirements"
   ]
  },
  {
   "cell_type": "markdown",
   "id": "e3db024d-9162-4324-80bb-98be2dabb01f",
   "metadata": {},
   "source": [
    "## Minimum Capacitance (in uF)"
   ]
  },
  {
   "cell_type": "code",
   "execution_count": 6,
   "id": "01ac6b52-ce95-4d24-bca3-2b8d0f362cd3",
   "metadata": {},
   "outputs": [],
   "source": [
    "Cout=Pout/(2*math.pi*AC_freq*Vout_pp*Vout)"
   ]
  },
  {
   "cell_type": "code",
   "execution_count": 7,
   "id": "42dbb125-19c1-486e-8caa-beaaabe78786",
   "metadata": {},
   "outputs": [
    {
     "data": {
      "text/plain": [
       "358.1"
      ]
     },
     "execution_count": 7,
     "metadata": {},
     "output_type": "execute_result"
    }
   ],
   "source": [
    "round(Cout*1e6,2)"
   ]
  },
  {
   "cell_type": "markdown",
   "id": "90a8bc70-48b1-4aff-8a4f-3c8d4dcfda77",
   "metadata": {},
   "source": [
    "# Stress Analysis (Worst-Case Calculation)"
   ]
  },
  {
   "cell_type": "markdown",
   "id": "57d0ce0b-ea67-4d42-87cb-6e8618b4bf82",
   "metadata": {},
   "source": [
    "## Input RMS Current (in A)"
   ]
  },
  {
   "cell_type": "code",
   "execution_count": 8,
   "id": "e703e20c-ee62-44d8-93d8-d8550b7840ac",
   "metadata": {},
   "outputs": [
    {
     "data": {
      "text/plain": [
       "4.6"
      ]
     },
     "execution_count": 8,
     "metadata": {},
     "output_type": "execute_result"
    }
   ],
   "source": [
    "I_IN_RMS = Pout/VAC_min\n",
    "round(I_IN_RMS,1)"
   ]
  },
  {
   "cell_type": "markdown",
   "id": "7cf06720-eee2-43cb-884c-f82f5b292925",
   "metadata": {},
   "source": [
    "## Current Sense Resistor RMS Current (in A)"
   ]
  },
  {
   "cell_type": "code",
   "execution_count": 9,
   "id": "e28a6840-cb1c-4805-98b1-802e5abbb852",
   "metadata": {},
   "outputs": [
    {
     "data": {
      "text/plain": [
       "4.6"
      ]
     },
     "execution_count": 9,
     "metadata": {},
     "output_type": "execute_result"
    }
   ],
   "source": [
    "I_RSENSE_RMS = I_IN_RMS\n",
    "round(I_RSENSE_RMS,1)"
   ]
  },
  {
   "cell_type": "markdown",
   "id": "6ed5ba8d-9f98-414a-8f6a-5d0fb7c8be57",
   "metadata": {},
   "source": [
    "## Inductor Peak Current (in A)"
   ]
  },
  {
   "cell_type": "code",
   "execution_count": 10,
   "id": "4ebb91ac-24d0-4c9b-ac88-7f9a11ce75e2",
   "metadata": {},
   "outputs": [],
   "source": [
    "IL_peak=math.sqrt(2)*(Pout/eff)/VAC_min*(1+IL_ripple/2)"
   ]
  },
  {
   "cell_type": "code",
   "execution_count": 11,
   "id": "980a0505-448f-4151-bf3e-33b41e0df06d",
   "metadata": {},
   "outputs": [
    {
     "data": {
      "text/plain": [
       "8.5"
      ]
     },
     "execution_count": 11,
     "metadata": {},
     "output_type": "execute_result"
    }
   ],
   "source": [
    "round(IL_peak,1)"
   ]
  },
  {
   "cell_type": "markdown",
   "id": "c3617a61-9770-4da8-9301-8c51985460a0",
   "metadata": {},
   "source": [
    "## Inductor RMS Current (in A)"
   ]
  },
  {
   "cell_type": "code",
   "execution_count": 12,
   "id": "e1e6718d-674c-44d2-84f7-f5f3f2a1afc4",
   "metadata": {},
   "outputs": [],
   "source": [
    "IL_RMS=(Pout/eff)/VAC_min"
   ]
  },
  {
   "cell_type": "code",
   "execution_count": 13,
   "id": "a82ee8ca-1ce6-402c-bdc8-a204d63cc4d5",
   "metadata": {},
   "outputs": [
    {
     "data": {
      "text/plain": [
       "4.81"
      ]
     },
     "execution_count": 13,
     "metadata": {},
     "output_type": "execute_result"
    }
   ],
   "source": [
    "round(IL_RMS,2)"
   ]
  },
  {
   "cell_type": "markdown",
   "id": "0149083d-0c18-4c15-9240-475a45eeafca",
   "metadata": {},
   "source": [
    "## MOSFET RMS Current (in A)"
   ]
  },
  {
   "cell_type": "code",
   "execution_count": 14,
   "id": "ea7d445c-5712-487d-88cc-ad8c052388c4",
   "metadata": {},
   "outputs": [],
   "source": [
    "I_FET_RMS=(Pout/eff)/VAC_min*math.sqrt(1-(8*math.sqrt(2)*VAC_min/(3*math.pi*Vout)))"
   ]
  },
  {
   "cell_type": "code",
   "execution_count": 15,
   "id": "6f62bce2-ae3a-48b3-a6d6-820d28e1565a",
   "metadata": {},
   "outputs": [
    {
     "data": {
      "text/plain": [
       "3.1"
      ]
     },
     "execution_count": 15,
     "metadata": {},
     "output_type": "execute_result"
    }
   ],
   "source": [
    "round(I_FET_RMS,2)"
   ]
  },
  {
   "cell_type": "markdown",
   "id": "d1c77cf6-3035-4c5e-a9a3-9d2f43f775b6",
   "metadata": {},
   "source": [
    "## BOOST Diode AVG Current (in A)"
   ]
  },
  {
   "cell_type": "code",
   "execution_count": 16,
   "id": "716d8231-d7fd-4c95-9327-b673036e3c1e",
   "metadata": {},
   "outputs": [],
   "source": [
    "I_BOOST_AVG = Pout/Vout"
   ]
  },
  {
   "cell_type": "code",
   "execution_count": 17,
   "id": "e691b845-29a2-4f78-bf11-7106bc9069f3",
   "metadata": {},
   "outputs": [
    {
     "data": {
      "text/plain": [
       "2.25"
      ]
     },
     "execution_count": 17,
     "metadata": {},
     "output_type": "execute_result"
    }
   ],
   "source": [
    "round(I_BOOST_AVG,2)"
   ]
  },
  {
   "cell_type": "markdown",
   "id": "3190b8c0-00ce-4c58-9776-7abc729644ae",
   "metadata": {},
   "source": [
    "## BOOST Diode RMS Current (in A)"
   ]
  },
  {
   "cell_type": "code",
   "execution_count": 18,
   "id": "db1b12a0-1df0-45d2-abe5-f085ed670879",
   "metadata": {},
   "outputs": [
    {
     "data": {
      "text/plain": [
       "3.68"
      ]
     },
     "execution_count": 18,
     "metadata": {},
     "output_type": "execute_result"
    }
   ],
   "source": [
    "I_BOOST_RMS = Pout/(VAC_min*eff)*math.sqrt((8*math.sqrt(2)*VAC_min)/(3*math.pi*Vout))\n",
    "round(I_BOOST_RMS,2)"
   ]
  },
  {
   "cell_type": "markdown",
   "id": "61d79f0a-4823-4733-89b6-d96cac0b08c5",
   "metadata": {},
   "source": [
    "## Output Capacitor RMS Current (in A)"
   ]
  },
  {
   "cell_type": "code",
   "execution_count": 19,
   "id": "fdebb3f5-279e-404a-b84f-f469aa0b075a",
   "metadata": {},
   "outputs": [],
   "source": [
    "I_Cout_RMS=math.sqrt((8*math.sqrt(2)*Pout**2/(3*math.pi*VAC_min*Vout))-Pout**2/Vout**2)"
   ]
  },
  {
   "cell_type": "code",
   "execution_count": 20,
   "id": "8587f779-4360-4947-8ee3-f691ba83ac8e",
   "metadata": {},
   "outputs": [
    {
     "data": {
      "text/plain": [
       "2.72"
      ]
     },
     "execution_count": 20,
     "metadata": {},
     "output_type": "execute_result"
    }
   ],
   "source": [
    "round(I_Cout_RMS,2)"
   ]
  },
  {
   "cell_type": "markdown",
   "id": "aa70d26c-93ca-47af-aca0-49f3012e74d0",
   "metadata": {},
   "source": [
    "## Output Capacitor Peak Voltage (in V)"
   ]
  },
  {
   "cell_type": "code",
   "execution_count": 21,
   "id": "3d003d71-6c75-49f5-9e59-a91dd089ba6a",
   "metadata": {},
   "outputs": [
    {
     "data": {
      "text/plain": [
       "410.0"
      ]
     },
     "execution_count": 21,
     "metadata": {},
     "output_type": "execute_result"
    }
   ],
   "source": [
    "V_Cout_MAX = Vout+Vout_pp/2\n",
    "round(V_Cout_MAX,2)"
   ]
  },
  {
   "cell_type": "markdown",
   "id": "dd47629a-bb36-44dc-974f-293e90897400",
   "metadata": {
    "jupyter": {
     "source_hidden": true
    }
   },
   "source": [
    "## REC Diode AVG Current / per diode (in A)"
   ]
  },
  {
   "cell_type": "code",
   "execution_count": 22,
   "id": "4e203a12-2302-4698-8204-2e321f1f43eb",
   "metadata": {},
   "outputs": [
    {
     "data": {
      "text/plain": [
       "2.16"
      ]
     },
     "execution_count": 22,
     "metadata": {},
     "output_type": "execute_result"
    }
   ],
   "source": [
    "I_REC_AVG=1/math.pi*math.sqrt(2)*(Pout/eff)/VAC_min\n",
    "round(I_REC_AVG,2)"
   ]
  },
  {
   "cell_type": "markdown",
   "id": "f198d0a0-d1f4-49f4-a090-4ecfbed5848d",
   "metadata": {},
   "source": [
    "## REC Diode RMS Current / per diode (in A)"
   ]
  },
  {
   "cell_type": "code",
   "execution_count": 23,
   "id": "50df3e62-9d5b-49a2-a34a-a7930898df7b",
   "metadata": {},
   "outputs": [
    {
     "data": {
      "text/plain": [
       "3.4"
      ]
     },
     "execution_count": 23,
     "metadata": {},
     "output_type": "execute_result"
    }
   ],
   "source": [
    "I_REC_RMS = math.sqrt(2)*(Pout/(eff*VAC_min))/2\n",
    "round(I_REC_RMS,2)"
   ]
  },
  {
   "cell_type": "markdown",
   "id": "2b437ca4-a119-4823-a818-c3cfd29e3de5",
   "metadata": {},
   "source": [
    "# Stress Analysis (Worst-Case Simulation)"
   ]
  },
  {
   "cell_type": "code",
   "execution_count": 24,
   "id": "071b36a2-ecad-4b2e-b50b-d6504ff1e224",
   "metadata": {
    "jupyter": {
     "source_hidden": true
    }
   },
   "outputs": [],
   "source": [
    "E_SW_FET = 0\n",
    "if sim_on == True:\n",
    "    # QSPICE_PFC_CCM_ACMC(VAC_rms, Cout, ESR, eff, fsw, freq, L, Pout, Vout)\n",
    "    results_sim=CCM_Boost_PFC_QSPICE_circs.QSPICE_PFC_CCM_ACMC(VAC_min, Cout, Cout_ESR, eff, fsw, AC_freq, L, Pout, Vout)\n",
    "  #  print(results_sim[1])\n",
    "    IL_RMS       = results_sim[1][0]\n",
    "    IL_peak      = results_sim[1][1]\n",
    "    I_FET_RMS    = results_sim[1][2]\n",
    "    I_BOOST_AVG  = results_sim[1][3]\n",
    "    I_BOOST_RMS  = results_sim[1][4]\n",
    "    I_Cout_RMS   = results_sim[1][5]\n",
    "    I_REC_AVG    = results_sim[1][6]\n",
    "    I_REC_RMS    = results_sim[1][7]\n",
    "    V_Cout_MAX   = results_sim[1][8]+results_sim[1][9]/2\n",
    "    I_IN_RMS     = results_sim[1][10]\n",
    "    I_RSENSE_RMS = results_sim[1][11]\n",
    "    \n",
    "    E_SW_FET = ESW_Calc(results_sim[0],Vout)\n",
    "\n",
    "    wfrm = results_sim[0]"
   ]
  },
  {
   "cell_type": "markdown",
   "id": "4d2829ab-2fc3-4ada-84f7-9104136e0796",
   "metadata": {},
   "source": [
    "## Input RMS Current (in A)"
   ]
  },
  {
   "cell_type": "code",
   "execution_count": 25,
   "id": "c1eadf1a-b0c7-4759-8abb-8a23944d3c5c",
   "metadata": {},
   "outputs": [
    {
     "data": {
      "text/plain": [
       "4.9"
      ]
     },
     "execution_count": 25,
     "metadata": {},
     "output_type": "execute_result"
    }
   ],
   "source": [
    "round(I_IN_RMS,1)"
   ]
  },
  {
   "cell_type": "markdown",
   "id": "d362c32c-bf85-4a0d-afb4-808e02aca9bb",
   "metadata": {},
   "source": [
    "## Current Sense Resistor RMS Current (in A)"
   ]
  },
  {
   "cell_type": "code",
   "execution_count": 26,
   "id": "8f41258c-4ab6-4e8d-981f-eb3d60742dbb",
   "metadata": {},
   "outputs": [
    {
     "data": {
      "text/plain": [
       "4.9"
      ]
     },
     "execution_count": 26,
     "metadata": {},
     "output_type": "execute_result"
    }
   ],
   "source": [
    "round(I_RSENSE_RMS,1)"
   ]
  },
  {
   "cell_type": "markdown",
   "id": "b9de7524-d2e2-49bc-9903-08568882829f",
   "metadata": {},
   "source": [
    "## Inductor Peak Current (in A)"
   ]
  },
  {
   "cell_type": "code",
   "execution_count": 27,
   "id": "4382f883-5d6d-4356-a0fb-ee8682ab1c4c",
   "metadata": {},
   "outputs": [
    {
     "data": {
      "text/plain": [
       "8.5"
      ]
     },
     "execution_count": 27,
     "metadata": {},
     "output_type": "execute_result"
    }
   ],
   "source": [
    "round(IL_peak,1)"
   ]
  },
  {
   "cell_type": "markdown",
   "id": "c37debc3-4aa1-42ea-bda3-7834adfcdf5c",
   "metadata": {},
   "source": [
    "## Inductor RMS Current (in A)"
   ]
  },
  {
   "cell_type": "code",
   "execution_count": 28,
   "id": "701e97ee-68bb-479d-afe1-a2143f405479",
   "metadata": {},
   "outputs": [
    {
     "data": {
      "text/plain": [
       "4.93"
      ]
     },
     "execution_count": 28,
     "metadata": {},
     "output_type": "execute_result"
    }
   ],
   "source": [
    "round(IL_RMS,2)"
   ]
  },
  {
   "cell_type": "markdown",
   "id": "73e374c3-801d-47cc-a7ef-074ffa7b0339",
   "metadata": {},
   "source": [
    "## MOSFET RMS Current (in A)"
   ]
  },
  {
   "cell_type": "code",
   "execution_count": 29,
   "id": "d5e70429-adf1-47d9-aea9-23fce1902ec1",
   "metadata": {},
   "outputs": [
    {
     "data": {
      "text/plain": [
       "3.2"
      ]
     },
     "execution_count": 29,
     "metadata": {},
     "output_type": "execute_result"
    }
   ],
   "source": [
    "round(I_FET_RMS,2)"
   ]
  },
  {
   "cell_type": "markdown",
   "id": "f0e85aa1-319d-445f-8f7e-5d06f10fa789",
   "metadata": {},
   "source": [
    "## BOOST Diode AVG Current (in A)"
   ]
  },
  {
   "cell_type": "code",
   "execution_count": 30,
   "id": "1d7472f7-7779-4e46-b2d2-aba12fdce03c",
   "metadata": {},
   "outputs": [
    {
     "data": {
      "text/plain": [
       "2.35"
      ]
     },
     "execution_count": 30,
     "metadata": {},
     "output_type": "execute_result"
    }
   ],
   "source": [
    "round(I_BOOST_AVG,2)"
   ]
  },
  {
   "cell_type": "markdown",
   "id": "6b4442d2-f5b2-47f7-8764-ed5832b979d2",
   "metadata": {},
   "source": [
    "## BOOST Diode RMS Current (in A)"
   ]
  },
  {
   "cell_type": "code",
   "execution_count": 31,
   "id": "b6dda864-d2bc-4949-ba33-2161abde22e6",
   "metadata": {},
   "outputs": [
    {
     "data": {
      "text/plain": [
       "3.75"
      ]
     },
     "execution_count": 31,
     "metadata": {},
     "output_type": "execute_result"
    }
   ],
   "source": [
    "round(I_BOOST_RMS,2)"
   ]
  },
  {
   "cell_type": "markdown",
   "id": "199645a2-80c4-4763-80d6-056a599c0a9e",
   "metadata": {},
   "source": [
    "## Output Capacitor RMS Current (in A)"
   ]
  },
  {
   "cell_type": "code",
   "execution_count": 32,
   "id": "80c9e206-3b78-4a43-b501-a2e7736125bd",
   "metadata": {},
   "outputs": [
    {
     "data": {
      "text/plain": [
       "2.93"
      ]
     },
     "execution_count": 32,
     "metadata": {},
     "output_type": "execute_result"
    }
   ],
   "source": [
    "round(I_Cout_RMS,2)"
   ]
  },
  {
   "cell_type": "markdown",
   "id": "33e95a18-7310-4323-a2d1-03b61d8e0cd8",
   "metadata": {},
   "source": [
    "## Output Capacitor Peak Voltage (in V)"
   ]
  },
  {
   "cell_type": "code",
   "execution_count": 33,
   "id": "b8e3ab1d-fb12-409a-9aea-f8a861fc11ec",
   "metadata": {},
   "outputs": [
    {
     "data": {
      "text/plain": [
       "410.96"
      ]
     },
     "execution_count": 33,
     "metadata": {},
     "output_type": "execute_result"
    }
   ],
   "source": [
    "round(V_Cout_MAX,2)"
   ]
  },
  {
   "cell_type": "markdown",
   "id": "c8307b1d-d07b-421e-89fd-2e6fda208791",
   "metadata": {},
   "source": [
    "## REC Diode AVG Current / per diode (in A)"
   ]
  },
  {
   "cell_type": "code",
   "execution_count": 34,
   "id": "2aa0007f-eeac-4950-9dd3-d7109a85919d",
   "metadata": {},
   "outputs": [
    {
     "data": {
      "text/plain": [
       "2.18"
      ]
     },
     "execution_count": 34,
     "metadata": {},
     "output_type": "execute_result"
    }
   ],
   "source": [
    "round(I_REC_AVG,2)"
   ]
  },
  {
   "cell_type": "markdown",
   "id": "2ff47ea6-3341-42b9-97a4-18cdb8f9925c",
   "metadata": {},
   "source": [
    "## REC Diode RMS Current / per diode (in A)"
   ]
  },
  {
   "cell_type": "code",
   "execution_count": 35,
   "id": "17e91547-cff2-49ce-bbc3-4c7b77dcb3b0",
   "metadata": {},
   "outputs": [
    {
     "data": {
      "text/plain": [
       "3.49"
      ]
     },
     "execution_count": 35,
     "metadata": {},
     "output_type": "execute_result"
    }
   ],
   "source": [
    "round(I_REC_RMS,2)"
   ]
  },
  {
   "cell_type": "markdown",
   "id": "7ed11a5e-927d-4907-a2a1-f9072d067038",
   "metadata": {},
   "source": [
    "# Losses Estimation"
   ]
  },
  {
   "cell_type": "markdown",
   "id": "e1eeb8d7-91d8-4ac3-bab6-0075eee0a396",
   "metadata": {},
   "source": [
    "## Bridge Rectifier (in W)"
   ]
  },
  {
   "cell_type": "code",
   "execution_count": 36,
   "id": "68c09188-551c-4151-beb1-fb978c3c3a9d",
   "metadata": {},
   "outputs": [],
   "source": [
    "P_REC=4*(I_REC_AVG*REC_fwd+REC_rdiff*I_REC_RMS**2)"
   ]
  },
  {
   "cell_type": "code",
   "execution_count": 37,
   "id": "1276c438-075a-4890-8487-571935f0b005",
   "metadata": {},
   "outputs": [
    {
     "data": {
      "text/plain": [
       "10.17"
      ]
     },
     "execution_count": 37,
     "metadata": {},
     "output_type": "execute_result"
    }
   ],
   "source": [
    "round(P_REC,2)"
   ]
  },
  {
   "cell_type": "markdown",
   "id": "2761792b-02f9-4410-b6b1-614cc8680944",
   "metadata": {},
   "source": [
    "## EMI Filter (in W)"
   ]
  },
  {
   "cell_type": "code",
   "execution_count": 38,
   "id": "92e9d833-f7d4-414d-94cd-0a433ce47d6f",
   "metadata": {},
   "outputs": [
    {
     "data": {
      "text/plain": [
       "2.63"
      ]
     },
     "execution_count": 38,
     "metadata": {},
     "output_type": "execute_result"
    }
   ],
   "source": [
    "P_EMI = R_EMI * I_IN_RMS**2\n",
    "round(P_EMI,2)"
   ]
  },
  {
   "cell_type": "markdown",
   "id": "59f9ac19-d2a5-402c-a598-63ef0c51ab63",
   "metadata": {},
   "source": [
    "## Boost Diode"
   ]
  },
  {
   "cell_type": "markdown",
   "id": "ef481796-08b9-4444-9355-3023b85a5cbc",
   "metadata": {},
   "source": [
    "### Conduction Losses (in W)"
   ]
  },
  {
   "cell_type": "code",
   "execution_count": 39,
   "id": "dce7ff32-e02f-4d95-b640-01e22100bb01",
   "metadata": {},
   "outputs": [
    {
     "data": {
      "text/plain": [
       "2.69"
      ]
     },
     "execution_count": 39,
     "metadata": {},
     "output_type": "execute_result"
    }
   ],
   "source": [
    "P_diode_cond=I_BOOST_AVG*BOOST_fwd + BOOST_rdiff * I_BOOST_RMS**2 \n",
    "round(P_diode_cond,2)"
   ]
  },
  {
   "cell_type": "markdown",
   "id": "3405191a-6c31-46a8-a130-8926673a58ea",
   "metadata": {},
   "source": [
    "### Switching Losses (in W)"
   ]
  },
  {
   "cell_type": "code",
   "execution_count": 40,
   "id": "8a648519-cb28-4bb8-a990-5d7d524d05f8",
   "metadata": {},
   "outputs": [],
   "source": [
    "P_diode_SW=0.5*Vout*BOOST_Qc*fsw"
   ]
  },
  {
   "cell_type": "code",
   "execution_count": 41,
   "id": "63bbd4c0-3fe9-41ca-af89-b4164780822d",
   "metadata": {},
   "outputs": [
    {
     "data": {
      "text/plain": [
       "0.32"
      ]
     },
     "execution_count": 41,
     "metadata": {},
     "output_type": "execute_result"
    }
   ],
   "source": [
    "round(P_diode_SW,2)"
   ]
  },
  {
   "cell_type": "markdown",
   "id": "a3828e46-13a3-44bf-bafc-1c5a060979db",
   "metadata": {},
   "source": [
    "## MOSFET"
   ]
  },
  {
   "cell_type": "markdown",
   "id": "57b81257-0eb2-4a56-bc28-17e2d155a16b",
   "metadata": {},
   "source": [
    "### Conduction Losses (in W)"
   ]
  },
  {
   "cell_type": "code",
   "execution_count": 42,
   "id": "d1be8590-e25d-454a-b690-30ea760e6981",
   "metadata": {},
   "outputs": [
    {
     "data": {
      "text/plain": [
       "2.08"
      ]
     },
     "execution_count": 42,
     "metadata": {},
     "output_type": "execute_result"
    }
   ],
   "source": [
    "P_FET_Cond = rdson * I_FET_RMS**2\n",
    "round(P_FET_Cond,2)"
   ]
  },
  {
   "cell_type": "markdown",
   "id": "0d117ffb-aec7-4a9a-a36a-85a8dec676a0",
   "metadata": {},
   "source": [
    "### Switching Losses (in W)"
   ]
  },
  {
   "cell_type": "code",
   "execution_count": 43,
   "id": "533bc88b-63f2-435d-b2c2-4a57f24c6f53",
   "metadata": {},
   "outputs": [
    {
     "data": {
      "text/plain": [
       "2.5"
      ]
     },
     "execution_count": 43,
     "metadata": {},
     "output_type": "execute_result"
    }
   ],
   "source": [
    "P_FET_SW = E_SW_FET*AC_freq\n",
    "round(P_FET_SW,2)"
   ]
  },
  {
   "cell_type": "markdown",
   "id": "d3e2e990-627e-4bda-acb7-52fee4fbcd21",
   "metadata": {},
   "source": [
    "## Output Capacitor (in W)"
   ]
  },
  {
   "cell_type": "code",
   "execution_count": 44,
   "id": "eb58b0d9-541f-47a1-9973-1d44debdb65a",
   "metadata": {},
   "outputs": [
    {
     "data": {
      "text/plain": [
       "1.29"
      ]
     },
     "execution_count": 44,
     "metadata": {},
     "output_type": "execute_result"
    }
   ],
   "source": [
    "P_Cout = Cout_ESR * I_Cout_RMS**2\n",
    "round(P_Cout,2)"
   ]
  },
  {
   "cell_type": "markdown",
   "id": "d5b658c5-e1db-4857-a6c5-e305a95c0bed",
   "metadata": {},
   "source": [
    "## Current Sense Resistor (in W)"
   ]
  },
  {
   "cell_type": "code",
   "execution_count": 45,
   "id": "4b6fad90-0bcd-49d9-879a-25cbd7bd58d0",
   "metadata": {},
   "outputs": [
    {
     "data": {
      "text/plain": [
       "0.24"
      ]
     },
     "execution_count": 45,
     "metadata": {},
     "output_type": "execute_result"
    }
   ],
   "source": [
    "P_Rsense = Rsense*I_RSENSE_RMS**2\n",
    "round(P_Rsense,2)"
   ]
  },
  {
   "cell_type": "markdown",
   "id": "91a1785c-5d5c-4c91-be8e-49190b8914f2",
   "metadata": {},
   "source": [
    "# Estimated Total Converter Losses Without Magnetic Losses"
   ]
  },
  {
   "cell_type": "code",
   "execution_count": 46,
   "id": "d0dec598-0910-4d18-97a1-e45028f8ea83",
   "metadata": {
    "jupyter": {
     "source_hidden": true
    }
   },
   "outputs": [
    {
     "data": {
      "image/png": "[encoded data removed]",
      "text/plain": [
       "<Figure size 1700x600 with 2 Axes>"
      ]
     },
     "metadata": {},
     "output_type": "display_data"
    }
   ],
   "source": [
    "%matplotlib inline\n",
    "labels_Ploss= 'Input_REC+EMI', 'Primary_FET', 'Boost_Diode', 'R_sense+Output_Cap'\n",
    "data_Ploss = [P_REC+P_EMI, P_FET_Cond+P_FET_SW, P_diode_cond+P_diode_SW, P_Rsense+P_Cout]\n",
    "\n",
    "labels_Ploss_Bar= 'REC', 'EMI', 'P_Cond', 'P_SW', 'D_Cond', 'D_SW', 'R_sen', 'Cout'\n",
    "data_Ploss_Bar = [P_REC, P_EMI, P_FET_Cond, P_FET_SW, P_diode_cond, P_diode_SW, P_Rsense, P_Cout]\n",
    "\n",
    "#bar_labels = ['red', 'blue', '_red', 'orange','green']\n",
    "bar_colors = ['tab:blue', 'tab:blue', 'tab:orange', 'tab:orange', 'tab:green', 'tab:green','tab:red', 'tab:red']\n",
    "\n",
    "def autopct_format(values):\n",
    "        def my_format(pct):\n",
    "            total = sum(values)\n",
    "            val = round(pct*total/100,3)\n",
    "            return '{:.1f}%\\n({v:.2f} W)'.format(pct, v=val)\n",
    "        return my_format\n",
    "\n",
    "def addlabels(x,y):\n",
    "    for i in range(len(x)):\n",
    "        ax2.text(i, y[i]+0.05, round(y[i],2), ha = 'center')\n",
    "        \n",
    "\n",
    "fig, (ax1, ax2) = plt.subplots(1, 2, figsize=(17,6))\n",
    "#fig, ax1 = plt.subplots()\n",
    "\n",
    "if sim_on == True:\n",
    "    fig.suptitle('Power Losses Breakdown (w/o Losses in Magnetics)'+'\\n'+'(Minimum Input Voltage)',fontsize=18)\n",
    "else:\n",
    "    fig.suptitle('Power Losses Breakdown (w/o MOSFET SW Losses and Losses in Magnetics)'+'\\n'+'(Minimum Input Voltage)',fontsize=18)\n",
    "ax1.pie(data_Ploss, labels=labels_Ploss, autopct=autopct_format(data_Ploss))\n",
    "\n",
    "ax2.bar(labels_Ploss_Bar, data_Ploss_Bar,color=bar_colors)\n",
    "ax2.grid(True, linestyle='-.',axis='y')\n",
    "ax2.yaxis.set_minor_locator(AutoMinorLocator(5))\n",
    "ax2.set_ylabel('Power (W)')\n",
    "addlabels(labels_Ploss_Bar,data_Ploss_Bar)\n",
    "\n",
    "fig.subplots_adjust(top=0.86)\n",
    "\n",
    "plt.show()\n",
    "if sim_on == False:\n",
    "    display(Markdown('<font size=\"6\"> <span style=\"color:red\"> Warning: Primary MOSFET switching losses are available only when simulated.</span></font>'))"
   ]
  },
  {
   "cell_type": "markdown",
   "id": "09b95188-0c7f-4918-b8f7-cf10fd7cb08c",
   "metadata": {},
   "source": [
    "# Estimated Total Efficiency Without Magnetics (in %)"
   ]
  },
  {
   "cell_type": "code",
   "execution_count": 47,
   "id": "90c3fcdc-0577-49f8-8217-51450f2a5db6",
   "metadata": {},
   "outputs": [
    {
     "data": {
      "text/plain": [
       "97.6"
      ]
     },
     "execution_count": 47,
     "metadata": {},
     "output_type": "execute_result"
    }
   ],
   "source": [
    "P_total = P_REC+P_EMI+P_FET_Cond+P_FET_SW+P_diode_cond+P_diode_SW+P_Rsense+P_Cout\n",
    "eff_Vin_min = Pout / (Pout+P_total)\n",
    "round(eff_Vin_min*100,1)"
   ]
  },
  {
   "cell_type": "code",
   "execution_count": 48,
   "id": "8c593c93-1e88-4677-809d-ebe57237002b",
   "metadata": {
    "jupyter": {
     "source_hidden": true
    }
   },
   "outputs": [],
   "source": [
    "if eff > eff_Vin_min:\n",
    "    display(Markdown('<font size=\"6\"> <span style=\"color:red\"> Warning: User estimated efficiency is bigger than calculated. The results are underestimated.</span></font>'))"
   ]
  },
  {
   "cell_type": "markdown",
   "id": "8b68861d-5b9a-4da7-bec7-9dd9f8ceb135",
   "metadata": {},
   "source": [
    "# Selected Waveforms"
   ]
  },
  {
   "cell_type": "code",
   "execution_count": 49,
   "id": "bc831fc2-fe3d-420d-9a25-75166c12b9cf",
   "metadata": {
    "jupyter": {
     "source_hidden": true
    }
   },
   "outputs": [
    {
     "data": {
      "application/vnd.jupyter.widget-view+json": {
       "model_id": "e61ded8f09414bad988efd9b8dd41239",
       "version_major": 2,
       "version_minor": 0
      },
      "image/png": "[encoded data removed]",
      "text/html": [
       "\n",
       "            <div style=\"display: inline-block;\">\n",
       "                <div class=\"jupyter-widgets widget-label\" style=\"text-align: center;\">\n",
       "                    Figure\n",
       "                </div>\n",
       "                <img src='data:image/png;base64,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' width=1300.0/>\n",
       "            </div>\n",
       "        "
      ],
      "text/plain": [
       "Canvas(toolbar=Toolbar(toolitems=[('Home', 'Reset original view', 'home', 'home'), ('Back', 'Back to previous …"
      ]
     },
     "metadata": {},
     "output_type": "display_data"
    }
   ],
   "source": [
    "if sim_on == True:\n",
    "    %matplotlib ipympl\n",
    "    fig, (ax1, ax2) = plt.subplots(1, 2, figsize=(13,5))\n",
    "    #fig.suptitle('Power Losses Breakdown (w/o Losses in Magnetics)'+'\\n'+'(Minimum Input Voltage)',fontsize=18)\n",
    "    #ax1.pie(data_Ploss, labels=labels_Ploss, autopct=autopct_format(data_Ploss))\n",
    "    ax1.plot(wfrm[\"Time\"], wfrm[\"V(OUT)\"])\n",
    "    ax1.grid(True, linestyle='-.')\n",
    "    ax1.set(xlabel='Time (s)', ylabel='Output Voltage (V)')\n",
    "    ax2.plot(wfrm[\"Time\"], wfrm[\"I(L1)\"])\n",
    "    ax2.grid(True, linestyle='-.')\n",
    "    ax2.set(xlabel='Time (s)', ylabel='Inductor Current (A)')\n",
    "    plt.show()\n",
    "else:\n",
    "    display(Markdown('<font size=\"6\"> <span style=\"color:red\"> Warning: Available only when simulated.</span></font>'))"
   ]
  },
  {
   "cell_type": "markdown",
   "id": "7900358c-40a0-4c6c-b4c9-1c68440fddc1",
   "metadata": {},
   "source": [
    "# PFC Inductor Design"
   ]
  },
  {
   "cell_type": "markdown",
   "id": "07ee8e67-f773-4704-a4d9-87f85d2482fd",
   "metadata": {},
   "source": [
    "Based on M. Pieniz, J. R. Pinheiro and H. L. Hey, \"An investigation of the boost inductor volume applied to PFC converters,\" 2006 37th IEEE Power Electronics Specialists Conference, Jeju, Korea (South), 2006, pp. 1-7, doi: 10.1109/pesc.2006.1712248.\n",
    "\n",
    "It utilized low cost powder core material with a single layer coil\n"
   ]
  },
  {
   "cell_type": "code",
   "execution_count": 50,
   "id": "99e643de-ea62-46a8-bf10-7d2d6fd4f8f2",
   "metadata": {
    "jupyter": {
     "source_hidden": true
    }
   },
   "outputs": [],
   "source": [
    "#Maximum wire current density in A/cm^2\n",
    "j_max = 600\n",
    "\n",
    "# Minimum wire cross-section in cm^2\n",
    "S_min = IL_RMS / 600\n",
    "\n",
    "#Minimum wire diameter in cm\n",
    "dw_min = math.sqrt(4*S_min/math.pi)\n",
    "\n",
    "#Minimum wire size in AWG\n",
    "AWG_min = round(-39*math.log(dw_min*10/0.127,92)+36)\n",
    "#Core Outside Diameter\n",
    "OD = 50"
   ]
  },
  {
   "cell_type": "markdown",
   "id": "58a2a769-1a62-4b50-8d83-05c02ab19912",
   "metadata": {},
   "source": [
    "## Minimum Wire Diameter"
   ]
  },
  {
   "cell_type": "code",
   "execution_count": 51,
   "id": "cecde6ea-0e06-4ea9-b029-0c3afc5051cd",
   "metadata": {
    "jupyter": {
     "source_hidden": true
    }
   },
   "outputs": [
    {
     "name": "stdout",
     "output_type": "stream",
     "text": [
      "0.8216583333333333\n",
      "0.10228234853879656\n"
     ]
    },
    {
     "ename": "NameError",
     "evalue": "name 'AWG' is not defined",
     "output_type": "error",
     "traceback": [
      "\u001b[1;31m---------------------------------------------------------------------------\u001b[0m",
      "\u001b[1;31mNameError\u001b[0m                                 Traceback (most recent call last)",
      "Cell \u001b[1;32mIn[51], line 3\u001b[0m\n\u001b[0;32m      1\u001b[0m \u001b[38;5;28mprint\u001b[39m(S_min\u001b[38;5;241m*\u001b[39m\u001b[38;5;241m100\u001b[39m)\n\u001b[0;32m      2\u001b[0m \u001b[38;5;28mprint\u001b[39m(dw_min)\n\u001b[1;32m----> 3\u001b[0m \u001b[38;5;28mprint\u001b[39m(\u001b[43mAWG\u001b[49m)\n",
      "\u001b[1;31mNameError\u001b[0m: name 'AWG' is not defined"
     ]
    }
   ],
   "source": [
    "print(S_min*100)\n",
    "print(dw_min)\n",
    "print(AWG)"
   ]
  },
  {
   "cell_type": "code",
   "execution_count": null,
   "id": "26f04c08-03c5-4ea0-bfaa-590e71d07fc6",
   "metadata": {},
   "outputs": [],
   "source": [
    "N_max = 0.95*math.pi*((OD/(dw*kd))-1)"
   ]
  },
  {
   "cell_type": "code",
   "execution_count": null,
   "id": "d85f23d3-df6b-4b68-bfe4-594ef60a2fb3",
   "metadata": {},
   "outputs": [],
   "source": []
  }
 ],
 "metadata": {
  "kernelspec": {
   "display_name": "Python 3 (ipykernel)",
   "language": "python",
   "name": "python3"
  },
  "language_info": {
   "codemirror_mode": {
    "name": "ipython",
    "version": 3
   },
   "file_extension": ".py",
   "mimetype": "text/x-python",
   "name": "python",
   "nbconvert_exporter": "python",
   "pygments_lexer": "ipython3",
   "version": "3.8.17"
  }
 },
 "nbformat": 4,
 "nbformat_minor": 5
}
