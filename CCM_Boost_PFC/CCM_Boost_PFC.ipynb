{
 "cells": [
  {
   "cell_type": "code",
   "execution_count": 1,
   "id": "7bbddfbd-3a67-472b-929f-734b99250dce",
   "metadata": {
    "jupyter": {
     "source_hidden": true
    }
   },
   "outputs": [],
   "source": [
    "import math\n",
    "import pandas as pd\n",
    "import numpy as np\n",
    "\n",
    "import CCM_Boost_PFC_QSPICE_circs\n",
    "\n",
    "from IPython.display import display, Markdown, Latex\n",
    "from matplotlib import pyplot as plt\n",
    "from matplotlib.ticker import (MultipleLocator, AutoMinorLocator)\n",
    "from scipy.interpolate import RegularGridInterpolator\n",
    "from scipy.interpolate import interp1d\n",
    "\n",
    "pd.options.display.float_format = '{:.5e}'.format\n",
    "\n",
    "\n",
    "# 2D interpolation \n",
    "# path - path to data folder\n",
    "# file_name - filename of csv file with EON/EFF data\n",
    "# VDS - MOSFET VDS value\n",
    "# ID - drain current\n",
    "# note: current vector has to start from 0 up to value larger than maximum peak current\n",
    "# note: voltage vector should start from 0 up to VDS_max\n",
    "def ESW_Interp(path,file_name,VDS,ID):\n",
    "    \n",
    "    ESW=0\n",
    "    if (VDS >= 0) and (file_name != ''):\n",
    "        df = pd.read_csv(path+file_name, header=None)\n",
    "\n",
    "        Y=df.iloc[1:len(df.index),0].to_numpy()\n",
    "\n",
    "        X=df.iloc[0,1:].to_numpy()\n",
    "\n",
    "        data=df.iloc[1:,1:].to_numpy()\n",
    "   \n",
    "        interp = RegularGridInterpolator((Y,X),data)\n",
    "        ESW=interp((ID,VDS))\n",
    "       \n",
    "    else:\n",
    "        ESW=0\n",
    "    \n",
    "    \n",
    "    return ESW\n",
    "\n",
    "# Switching Losses Calculation\n",
    "# data - Pandas dataframe\n",
    "# VDS - VDS value. In Boost PFC, VDS is equal to Vout\n",
    "\n",
    "#return: Total energy in J over current waveform period\n",
    "def ESW_Calc(data,VDS):\n",
    "    \n",
    "    #df = pd.read_csv(path+file_name)\n",
    "    df = data\n",
    "    # Modify the data so small numerical deviation from 0 and 1 will not interfere with TurnON/OFF detection\n",
    "    # Tolerance range for modification. E.g. Value within range of 1 +/- tolerance is still concidered as 1\n",
    "    tolerance=1e-4\n",
    "    df['V(pwm)']=df['V(pwm)'].apply(lambda x: 1 if (1-tolerance) <= x <= (1+tolerance) else x)\n",
    "    df['V(pwm)']=df['V(pwm)'].apply(lambda x: 0 if (0-tolerance) <= x <= (0+tolerance) else x)\n",
    "\n",
    "    #Detect Turn-OFF (1->0)\n",
    "    mask_OFF = (df['V(pwm)'] == 1) & (df['V(pwm)'].shift(-1) < 1)\n",
    "    \n",
    "    #Detect Turn-ON (0->1)\n",
    "    mask_ON = (df['V(pwm)'] == 1) & (df['V(pwm)'].shift(1) < 1)\n",
    "\n",
    "    # DataFrame of currents for Turn-OFF energy calculation\n",
    "    I_OFF = df.loc[mask_OFF,['Time','I(S1)']]\n",
    "    # Replace all negative current values by 0\n",
    "    I_OFF['I(S1)'] = I_OFF['I(S1)'].apply(lambda x: max(0,x))\n",
    "    \n",
    "    # DataFrame of currents for Turn-ON energy calculation\n",
    "    I_ON = df.loc[mask_ON,['Time','I(S1)']]\n",
    "    # Replace all negative current values by 0\n",
    "    I_ON['I(S1)'] = I_ON['I(S1)'].apply(lambda x: max(0,x))\n",
    "\n",
    "    # Calculate and add EOFF column\n",
    "    I_OFF['EOFF'] = ESW_Interp(MOS_DATA_FLD,EOFF_file_name,VDS,I_OFF['I(S1)'])\n",
    "\n",
    "    # Calculate and add EON column\n",
    "    I_ON['EON'] = ESW_Interp(MOS_DATA_FLD,EON_file_name,VDS,I_ON['I(S1)'])\n",
    "\n",
    "    sum_EOFF = I_OFF['EOFF'].sum()\n",
    "    sum_EON = I_ON['EON'].sum()\n",
    "    E_tot = sum_EOFF + sum_EON\n",
    "\n",
    " #   print(I_OFF.to_string())\n",
    " #   print(I_ON.to_string())\n",
    "\n",
    " #   print('Total Eoff = ', sum_EOFF)\n",
    " #   print('Total Eon = ', sum_EON)\n",
    " #   print('Total ESW = ', E_tot)\n",
    "       \n",
    "    return E_tot\n"
   ]
  },
  {
   "cell_type": "markdown",
   "id": "f1d48b82-a5c1-4e85-a4db-681e7d4207fd",
   "metadata": {},
   "source": [
    "# Input Data"
   ]
  },
  {
   "cell_type": "code",
   "execution_count": 2,
   "id": "f4dbefb7-5d03-4906-b57c-2be9b8f42ca6",
   "metadata": {},
   "outputs": [],
   "source": [
    "# Use simulation (True/False)\n",
    "sim_on = True\n",
    "\n",
    "#Input AC values in RMS\n",
    "VAC_min = 195\n",
    "VAC_max = 265\n",
    "VAC_nom = 230\n",
    "\n",
    "AC_freq=50\n",
    "\n",
    "#Output Voltage\n",
    "Vout=400\n",
    "Vout_pp=20\n",
    "\n",
    "#Output power \n",
    "#note: Concider that output power is Pout of DC/DC / eff_dc_dc\n",
    "Pout=940\n",
    "#Estimated efficiency\n",
    "eff=0.96\n",
    "#switching frequency\n",
    "fsw=133e3\n",
    "\n",
    "#Inductor ripple current (e.g. for 25% put 0.25)\n",
    "IL_ripple=0.5\n",
    "\n",
    "### Input REC Bridge Diode ####\n",
    "REC_fwd = 1\n",
    "REC_rdiff = 30e-3\n",
    "\n",
    "### Input EMI Filter ###\n",
    "#Additional total resistance formed by EMI components\n",
    "#CM_Choke+Relay\n",
    "R_EMI = 8e-3+0.1\n",
    "\n",
    "### MOSFET ###\n",
    "# Set MOSFET Data Folder and EOFF and EON file names. If empty string is provided, EOFF and EON energy estimation is skipped and return 0 J\n",
    "# Note. EOFF and EON data should be obtained using a standard double-pulse test method using the actual boost diode.\n",
    "MOS_DATA_FLD = \"Data/MOSFET/IPP60R120P7/\"\n",
    "EOFF_file_name = \"EOFF_15V_100degC_5600mOhm_25ns_IDH08G65C6.csv\"\n",
    "EON_file_name = \"EON_15V_100degC_5600mOhm_25ns_IDH08G65C6.csv\"\n",
    "\n",
    "#WC RDSon@100degC\n",
    "rdson=0.204\n",
    "\n",
    "### Output Diode@75degC ###\n",
    "# Infineon IDH08G65C6\n",
    "BOOST_fwd=0.69\n",
    "BOOST_rdiff=76e-3\n",
    "BOOST_Qc = 12.2e-9\n",
    "\n",
    "### Output Capacitor ###\n",
    "Cout_ESR = 150e-3\n",
    "\n",
    "### Current sense resistor\n",
    "Rsense = 10e-3\n",
    "\n",
    "################### TESTING ########################\n",
    "\n",
    "\n",
    "#print('EOFF Energy:',ESW_Interp(MOS_DATA_FLD,EOFF_file_name,400,[0.01, 11]))\n",
    "#print('EON Energy:',ESW_Interp(MOS_DATA_FLD,EON_file_name,400,0.1))\n",
    "\n",
    "# QSPICE_PFC_CCM_ACMC(VAC_rms, Cout, ESR, eff, fsw, freq, L, Pout, Vout)\n",
    "#ret=CCM_Boost_PFC_QSPICE_circs.QSPICE_PFC_CCM_ACMC(250, 500e-6, 150e-3, 0.96, 65e3, 50, 295e-6, 900, 400)\n",
    "#print(ret[1][0])\n",
    "\n",
    "#E_results = ESW_Calc(ret[0],400)\n",
    "#print(E_results)\n",
    "\n",
    "#wfrm = ret[0]\n",
    "#plt.plot(wfrm[\"Time\"], wfrm[\"V(OUT)\"])\n",
    "#plt.show()"
   ]
  },
  {
   "cell_type": "markdown",
   "id": "28453081-1d28-411a-8b78-4fd054700bc2",
   "metadata": {},
   "source": [
    "# Minimum Inductor Value Estimation (in uH)\n",
    "Note: Valid at minimum Vin and full load. To maintain the same ripple at maximum Vin, inductance must be higher"
   ]
  },
  {
   "cell_type": "code",
   "execution_count": 3,
   "id": "215ec0cf-9f06-412b-9750-d0ba309672df",
   "metadata": {},
   "outputs": [],
   "source": [
    "L=1/IL_ripple*(VAC_min**2/Pout)*(1-math.sqrt(2)*VAC_min/Vout)*1/fsw"
   ]
  },
  {
   "cell_type": "code",
   "execution_count": 4,
   "id": "529094a1-021c-4305-8c48-6bcfc25b6cf4",
   "metadata": {},
   "outputs": [
    {
     "name": "stdout",
     "output_type": "stream",
     "text": [
      "189\n"
     ]
    }
   ],
   "source": [
    "print(round(L*1e6))"
   ]
  },
  {
   "cell_type": "markdown",
   "id": "411156e2-54fa-4712-8159-ffa29f223357",
   "metadata": {},
   "source": [
    "# Maximum Allowed Pk-Pk Output Voltage Ripple (in V)\n",
    "To ensure proper boost functionality, output voltage must be alwasy higher than input voltage"
   ]
  },
  {
   "cell_type": "code",
   "execution_count": 5,
   "id": "39ae679f-30b7-4b2e-9b79-6f1629d87745",
   "metadata": {
    "jupyter": {
     "source_hidden": true
    }
   },
   "outputs": [
    {
     "name": "stdout",
     "output_type": "stream",
     "text": [
      "25.23\n"
     ]
    }
   ],
   "source": [
    "Vout_pp_max=Vout-VAC_max*math.sqrt(2)\n",
    "print(round(Vout_pp_max,2))\n",
    "if Vout_pp > Vout_pp_max:\n",
    "    display(Markdown('<font size=\"6\"> <span style=\"color:red\"> Warning: Defined output pk-pk voltage ripple does not ensure proper boost functionality </span></font>'))"
   ]
  },
  {
   "cell_type": "markdown",
   "id": "70452a25-fd9c-4ce2-bf8f-00e81b429f02",
   "metadata": {},
   "source": [
    "# Output Capacitor Requirements"
   ]
  },
  {
   "cell_type": "markdown",
   "id": "e3db024d-9162-4324-80bb-98be2dabb01f",
   "metadata": {},
   "source": [
    "## Minimum Capacitance (in uF)"
   ]
  },
  {
   "cell_type": "code",
   "execution_count": 6,
   "id": "01ac6b52-ce95-4d24-bca3-2b8d0f362cd3",
   "metadata": {},
   "outputs": [],
   "source": [
    "Cout=Pout/(2*math.pi*AC_freq*Vout_pp*Vout)"
   ]
  },
  {
   "cell_type": "code",
   "execution_count": 7,
   "id": "42dbb125-19c1-486e-8caa-beaaabe78786",
   "metadata": {},
   "outputs": [
    {
     "data": {
      "text/plain": [
       "374.01"
      ]
     },
     "execution_count": 7,
     "metadata": {},
     "output_type": "execute_result"
    }
   ],
   "source": [
    "round(Cout*1e6,2)"
   ]
  },
  {
   "cell_type": "markdown",
   "id": "90a8bc70-48b1-4aff-8a4f-3c8d4dcfda77",
   "metadata": {},
   "source": [
    "# Stress Analysis (Worst-Case Calculation)"
   ]
  },
  {
   "cell_type": "markdown",
   "id": "57d0ce0b-ea67-4d42-87cb-6e8618b4bf82",
   "metadata": {},
   "source": [
    "## Input RMS Current (in A)"
   ]
  },
  {
   "cell_type": "code",
   "execution_count": 8,
   "id": "e703e20c-ee62-44d8-93d8-d8550b7840ac",
   "metadata": {},
   "outputs": [
    {
     "data": {
      "text/plain": [
       "4.8"
      ]
     },
     "execution_count": 8,
     "metadata": {},
     "output_type": "execute_result"
    }
   ],
   "source": [
    "I_IN_RMS = Pout/VAC_min\n",
    "round(I_IN_RMS,1)"
   ]
  },
  {
   "cell_type": "markdown",
   "id": "7cf06720-eee2-43cb-884c-f82f5b292925",
   "metadata": {},
   "source": [
    "## Current Sense Resistor RMS Current (in A)"
   ]
  },
  {
   "cell_type": "code",
   "execution_count": 9,
   "id": "e28a6840-cb1c-4805-98b1-802e5abbb852",
   "metadata": {},
   "outputs": [
    {
     "data": {
      "text/plain": [
       "4.8"
      ]
     },
     "execution_count": 9,
     "metadata": {},
     "output_type": "execute_result"
    }
   ],
   "source": [
    "I_RSENSE_RMS = I_IN_RMS\n",
    "round(I_RSENSE_RMS,1)"
   ]
  },
  {
   "cell_type": "markdown",
   "id": "6ed5ba8d-9f98-414a-8f6a-5d0fb7c8be57",
   "metadata": {},
   "source": [
    "## Inductor Peak Current (in A)"
   ]
  },
  {
   "cell_type": "code",
   "execution_count": 10,
   "id": "4ebb91ac-24d0-4c9b-ac88-7f9a11ce75e2",
   "metadata": {},
   "outputs": [],
   "source": [
    "IL_peak=math.sqrt(2)*(Pout/eff)/VAC_min*(1+IL_ripple/2)"
   ]
  },
  {
   "cell_type": "code",
   "execution_count": 11,
   "id": "980a0505-448f-4151-bf3e-33b41e0df06d",
   "metadata": {},
   "outputs": [
    {
     "data": {
      "text/plain": [
       "8.9"
      ]
     },
     "execution_count": 11,
     "metadata": {},
     "output_type": "execute_result"
    }
   ],
   "source": [
    "round(IL_peak,1)"
   ]
  },
  {
   "cell_type": "markdown",
   "id": "c3617a61-9770-4da8-9301-8c51985460a0",
   "metadata": {},
   "source": [
    "## Inductor RMS Current (in A)"
   ]
  },
  {
   "cell_type": "code",
   "execution_count": 12,
   "id": "e1e6718d-674c-44d2-84f7-f5f3f2a1afc4",
   "metadata": {},
   "outputs": [],
   "source": [
    "IL_RMS=(Pout/eff)/VAC_min"
   ]
  },
  {
   "cell_type": "code",
   "execution_count": 13,
   "id": "a82ee8ca-1ce6-402c-bdc8-a204d63cc4d5",
   "metadata": {},
   "outputs": [
    {
     "data": {
      "text/plain": [
       "5.02"
      ]
     },
     "execution_count": 13,
     "metadata": {},
     "output_type": "execute_result"
    }
   ],
   "source": [
    "round(IL_RMS,2)"
   ]
  },
  {
   "cell_type": "markdown",
   "id": "0149083d-0c18-4c15-9240-475a45eeafca",
   "metadata": {},
   "source": [
    "## MOSFET RMS Current (in A)"
   ]
  },
  {
   "cell_type": "code",
   "execution_count": 14,
   "id": "ea7d445c-5712-487d-88cc-ad8c052388c4",
   "metadata": {},
   "outputs": [],
   "source": [
    "I_FET_RMS=(Pout/eff)/VAC_min*math.sqrt(1-(8*math.sqrt(2)*VAC_min/(3*math.pi*Vout)))"
   ]
  },
  {
   "cell_type": "code",
   "execution_count": 15,
   "id": "6f62bce2-ae3a-48b3-a6d6-820d28e1565a",
   "metadata": {},
   "outputs": [
    {
     "data": {
      "text/plain": [
       "3.23"
      ]
     },
     "execution_count": 15,
     "metadata": {},
     "output_type": "execute_result"
    }
   ],
   "source": [
    "round(I_FET_RMS,2)"
   ]
  },
  {
   "cell_type": "markdown",
   "id": "d1c77cf6-3035-4c5e-a9a3-9d2f43f775b6",
   "metadata": {},
   "source": [
    "## BOOST Diode AVG Current (in A)"
   ]
  },
  {
   "cell_type": "code",
   "execution_count": 16,
   "id": "716d8231-d7fd-4c95-9327-b673036e3c1e",
   "metadata": {},
   "outputs": [],
   "source": [
    "I_BOOST_AVG = Pout/Vout"
   ]
  },
  {
   "cell_type": "code",
   "execution_count": 17,
   "id": "e691b845-29a2-4f78-bf11-7106bc9069f3",
   "metadata": {},
   "outputs": [
    {
     "data": {
      "text/plain": [
       "2.35"
      ]
     },
     "execution_count": 17,
     "metadata": {},
     "output_type": "execute_result"
    }
   ],
   "source": [
    "round(I_BOOST_AVG,2)"
   ]
  },
  {
   "cell_type": "markdown",
   "id": "3190b8c0-00ce-4c58-9776-7abc729644ae",
   "metadata": {},
   "source": [
    "## BOOST Diode RMS Current (in A)"
   ]
  },
  {
   "cell_type": "code",
   "execution_count": 18,
   "id": "db1b12a0-1df0-45d2-abe5-f085ed670879",
   "metadata": {},
   "outputs": [
    {
     "data": {
      "text/plain": [
       "3.84"
      ]
     },
     "execution_count": 18,
     "metadata": {},
     "output_type": "execute_result"
    }
   ],
   "source": [
    "I_BOOST_RMS = Pout/(VAC_min*eff)*math.sqrt((8*math.sqrt(2)*VAC_min)/(3*math.pi*Vout))\n",
    "round(I_BOOST_RMS,2)"
   ]
  },
  {
   "cell_type": "markdown",
   "id": "61d79f0a-4823-4733-89b6-d96cac0b08c5",
   "metadata": {},
   "source": [
    "## Output Capacitor RMS Current (in A)"
   ]
  },
  {
   "cell_type": "code",
   "execution_count": 19,
   "id": "fdebb3f5-279e-404a-b84f-f469aa0b075a",
   "metadata": {},
   "outputs": [],
   "source": [
    "I_Cout_RMS=math.sqrt((8*math.sqrt(2)*Pout**2/(3*math.pi*VAC_min*Vout))-Pout**2/Vout**2)"
   ]
  },
  {
   "cell_type": "code",
   "execution_count": 20,
   "id": "8587f779-4360-4947-8ee3-f691ba83ac8e",
   "metadata": {},
   "outputs": [
    {
     "data": {
      "text/plain": [
       "2.84"
      ]
     },
     "execution_count": 20,
     "metadata": {},
     "output_type": "execute_result"
    }
   ],
   "source": [
    "round(I_Cout_RMS,2)"
   ]
  },
  {
   "cell_type": "markdown",
   "id": "aa70d26c-93ca-47af-aca0-49f3012e74d0",
   "metadata": {},
   "source": [
    "## Output Capacitor Peak Voltage (in V)"
   ]
  },
  {
   "cell_type": "code",
   "execution_count": 21,
   "id": "3d003d71-6c75-49f5-9e59-a91dd089ba6a",
   "metadata": {},
   "outputs": [
    {
     "data": {
      "text/plain": [
       "410.0"
      ]
     },
     "execution_count": 21,
     "metadata": {},
     "output_type": "execute_result"
    }
   ],
   "source": [
    "V_Cout_MAX = Vout+Vout_pp/2\n",
    "round(V_Cout_MAX,2)"
   ]
  },
  {
   "cell_type": "markdown",
   "id": "dd47629a-bb36-44dc-974f-293e90897400",
   "metadata": {},
   "source": [
    "## REC Diode AVG Current / per diode (in A)"
   ]
  },
  {
   "cell_type": "code",
   "execution_count": 22,
   "id": "4e203a12-2302-4698-8204-2e321f1f43eb",
   "metadata": {},
   "outputs": [
    {
     "data": {
      "text/plain": [
       "2.26"
      ]
     },
     "execution_count": 22,
     "metadata": {},
     "output_type": "execute_result"
    }
   ],
   "source": [
    "I_REC_AVG=1/math.pi*math.sqrt(2)*(Pout/eff)/VAC_min\n",
    "round(I_REC_AVG,2)"
   ]
  },
  {
   "cell_type": "markdown",
   "id": "f198d0a0-d1f4-49f4-a090-4ecfbed5848d",
   "metadata": {},
   "source": [
    "## REC Diode RMS Current / per diode (in A)"
   ]
  },
  {
   "cell_type": "code",
   "execution_count": 23,
   "id": "50df3e62-9d5b-49a2-a34a-a7930898df7b",
   "metadata": {},
   "outputs": [
    {
     "data": {
      "text/plain": [
       "3.55"
      ]
     },
     "execution_count": 23,
     "metadata": {},
     "output_type": "execute_result"
    }
   ],
   "source": [
    "I_REC_RMS = math.sqrt(2)*(Pout/(eff*VAC_min))/2\n",
    "round(I_REC_RMS,2)"
   ]
  },
  {
   "cell_type": "markdown",
   "id": "2b437ca4-a119-4823-a818-c3cfd29e3de5",
   "metadata": {},
   "source": [
    "# Stress Analysis (Worst-Case Simulation)"
   ]
  },
  {
   "cell_type": "code",
   "execution_count": 24,
   "id": "071b36a2-ecad-4b2e-b50b-d6504ff1e224",
   "metadata": {
    "jupyter": {
     "source_hidden": true
    }
   },
   "outputs": [],
   "source": [
    "E_SW_FET = 0\n",
    "if sim_on == True:\n",
    "    # QSPICE_PFC_CCM_ACMC(VAC_rms, Cout, ESR, eff, fsw, freq, L, Pout, Vout)\n",
    "    results_sim=CCM_Boost_PFC_QSPICE_circs.QSPICE_PFC_CCM_ACMC(VAC_min, Cout, Cout_ESR, eff, fsw, AC_freq, L, Pout, Vout)\n",
    "  #  print(results_sim[1])\n",
    "    IL_RMS       = results_sim[1][0]\n",
    "    IL_peak      = results_sim[1][1]\n",
    "    I_FET_RMS    = results_sim[1][2]\n",
    "    I_BOOST_AVG  = results_sim[1][3]\n",
    "    I_BOOST_RMS  = results_sim[1][4]\n",
    "    I_Cout_RMS   = results_sim[1][5]\n",
    "    I_REC_AVG    = results_sim[1][6]\n",
    "    I_REC_RMS    = results_sim[1][7]\n",
    "    V_Cout_MAX   = results_sim[1][8]+results_sim[1][9]/2\n",
    "    I_IN_RMS     = results_sim[1][10]\n",
    "    I_RSENSE_RMS = results_sim[1][11]\n",
    "    \n",
    "    E_SW_FET = ESW_Calc(results_sim[0],Vout)\n",
    "\n",
    "    wfrm = results_sim[0]"
   ]
  },
  {
   "cell_type": "markdown",
   "id": "4d2829ab-2fc3-4ada-84f7-9104136e0796",
   "metadata": {},
   "source": [
    "## Input RMS Current (in A)"
   ]
  },
  {
   "cell_type": "code",
   "execution_count": 25,
   "id": "c1eadf1a-b0c7-4759-8abb-8a23944d3c5c",
   "metadata": {},
   "outputs": [
    {
     "data": {
      "text/plain": [
       "5.2"
      ]
     },
     "execution_count": 25,
     "metadata": {},
     "output_type": "execute_result"
    }
   ],
   "source": [
    "round(I_IN_RMS,1)"
   ]
  },
  {
   "cell_type": "markdown",
   "id": "d362c32c-bf85-4a0d-afb4-808e02aca9bb",
   "metadata": {},
   "source": [
    "## Current Sense Resistor RMS Current (in A)"
   ]
  },
  {
   "cell_type": "code",
   "execution_count": 26,
   "id": "8f41258c-4ab6-4e8d-981f-eb3d60742dbb",
   "metadata": {},
   "outputs": [
    {
     "data": {
      "text/plain": [
       "5.1"
      ]
     },
     "execution_count": 26,
     "metadata": {},
     "output_type": "execute_result"
    }
   ],
   "source": [
    "round(I_RSENSE_RMS,1)"
   ]
  },
  {
   "cell_type": "markdown",
   "id": "b9de7524-d2e2-49bc-9903-08568882829f",
   "metadata": {},
   "source": [
    "## Inductor Peak Current (in A)"
   ]
  },
  {
   "cell_type": "code",
   "execution_count": 27,
   "id": "4382f883-5d6d-4356-a0fb-ee8682ab1c4c",
   "metadata": {},
   "outputs": [
    {
     "data": {
      "text/plain": [
       "8.9"
      ]
     },
     "execution_count": 27,
     "metadata": {},
     "output_type": "execute_result"
    }
   ],
   "source": [
    "round(IL_peak,1)"
   ]
  },
  {
   "cell_type": "markdown",
   "id": "c37debc3-4aa1-42ea-bda3-7834adfcdf5c",
   "metadata": {},
   "source": [
    "## Inductor RMS Current (in A)"
   ]
  },
  {
   "cell_type": "code",
   "execution_count": 28,
   "id": "701e97ee-68bb-479d-afe1-a2143f405479",
   "metadata": {},
   "outputs": [
    {
     "data": {
      "text/plain": [
       "5.15"
      ]
     },
     "execution_count": 28,
     "metadata": {},
     "output_type": "execute_result"
    }
   ],
   "source": [
    "round(IL_RMS,2)"
   ]
  },
  {
   "cell_type": "markdown",
   "id": "73e374c3-801d-47cc-a7ef-074ffa7b0339",
   "metadata": {},
   "source": [
    "## MOSFET RMS Current (in A)"
   ]
  },
  {
   "cell_type": "code",
   "execution_count": 29,
   "id": "d5e70429-adf1-47d9-aea9-23fce1902ec1",
   "metadata": {},
   "outputs": [
    {
     "data": {
      "text/plain": [
       "3.34"
      ]
     },
     "execution_count": 29,
     "metadata": {},
     "output_type": "execute_result"
    }
   ],
   "source": [
    "round(I_FET_RMS,2)"
   ]
  },
  {
   "cell_type": "markdown",
   "id": "f0e85aa1-319d-445f-8f7e-5d06f10fa789",
   "metadata": {},
   "source": [
    "## BOOST Diode AVG Current (in A)"
   ]
  },
  {
   "cell_type": "code",
   "execution_count": 30,
   "id": "1d7472f7-7779-4e46-b2d2-aba12fdce03c",
   "metadata": {},
   "outputs": [
    {
     "data": {
      "text/plain": [
       "2.45"
      ]
     },
     "execution_count": 30,
     "metadata": {},
     "output_type": "execute_result"
    }
   ],
   "source": [
    "round(I_BOOST_AVG,2)"
   ]
  },
  {
   "cell_type": "markdown",
   "id": "6b4442d2-f5b2-47f7-8764-ed5832b979d2",
   "metadata": {},
   "source": [
    "## BOOST Diode RMS Current (in A)"
   ]
  },
  {
   "cell_type": "code",
   "execution_count": 31,
   "id": "b6dda864-d2bc-4949-ba33-2161abde22e6",
   "metadata": {},
   "outputs": [
    {
     "data": {
      "text/plain": [
       "3.92"
      ]
     },
     "execution_count": 31,
     "metadata": {},
     "output_type": "execute_result"
    }
   ],
   "source": [
    "round(I_BOOST_RMS,2)"
   ]
  },
  {
   "cell_type": "markdown",
   "id": "199645a2-80c4-4763-80d6-056a599c0a9e",
   "metadata": {},
   "source": [
    "## Output Capacitor RMS Current (in A)"
   ]
  },
  {
   "cell_type": "code",
   "execution_count": 32,
   "id": "80c9e206-3b78-4a43-b501-a2e7736125bd",
   "metadata": {},
   "outputs": [
    {
     "data": {
      "text/plain": [
       "3.06"
      ]
     },
     "execution_count": 32,
     "metadata": {},
     "output_type": "execute_result"
    }
   ],
   "source": [
    "round(I_Cout_RMS,2)"
   ]
  },
  {
   "cell_type": "markdown",
   "id": "33e95a18-7310-4323-a2d1-03b61d8e0cd8",
   "metadata": {},
   "source": [
    "## Output Capacitor Peak Voltage (in V)"
   ]
  },
  {
   "cell_type": "code",
   "execution_count": 33,
   "id": "b8e3ab1d-fb12-409a-9aea-f8a861fc11ec",
   "metadata": {},
   "outputs": [
    {
     "data": {
      "text/plain": [
       "410.98"
      ]
     },
     "execution_count": 33,
     "metadata": {},
     "output_type": "execute_result"
    }
   ],
   "source": [
    "round(V_Cout_MAX,2)"
   ]
  },
  {
   "cell_type": "markdown",
   "id": "c8307b1d-d07b-421e-89fd-2e6fda208791",
   "metadata": {},
   "source": [
    "## REC Diode AVG Current / per diode (in A)"
   ]
  },
  {
   "cell_type": "code",
   "execution_count": 34,
   "id": "2aa0007f-eeac-4950-9dd3-d7109a85919d",
   "metadata": {},
   "outputs": [
    {
     "data": {
      "text/plain": [
       "2.27"
      ]
     },
     "execution_count": 34,
     "metadata": {},
     "output_type": "execute_result"
    }
   ],
   "source": [
    "round(I_REC_AVG,2)"
   ]
  },
  {
   "cell_type": "markdown",
   "id": "2ff47ea6-3341-42b9-97a4-18cdb8f9925c",
   "metadata": {},
   "source": [
    "## REC Diode RMS Current / per diode (in A)"
   ]
  },
  {
   "cell_type": "code",
   "execution_count": 35,
   "id": "17e91547-cff2-49ce-bbc3-4c7b77dcb3b0",
   "metadata": {},
   "outputs": [
    {
     "data": {
      "text/plain": [
       "3.64"
      ]
     },
     "execution_count": 35,
     "metadata": {},
     "output_type": "execute_result"
    }
   ],
   "source": [
    "round(I_REC_RMS,2)"
   ]
  },
  {
   "cell_type": "markdown",
   "id": "7ed11a5e-927d-4907-a2a1-f9072d067038",
   "metadata": {},
   "source": [
    "# Losses Estimation"
   ]
  },
  {
   "cell_type": "markdown",
   "id": "e1eeb8d7-91d8-4ac3-bab6-0075eee0a396",
   "metadata": {},
   "source": [
    "## Bridge Rectifier (in W)"
   ]
  },
  {
   "cell_type": "code",
   "execution_count": 36,
   "id": "68c09188-551c-4151-beb1-fb978c3c3a9d",
   "metadata": {},
   "outputs": [],
   "source": [
    "P_REC=4*(I_REC_AVG*REC_fwd+REC_rdiff*I_REC_RMS**2)"
   ]
  },
  {
   "cell_type": "code",
   "execution_count": 37,
   "id": "1276c438-075a-4890-8487-571935f0b005",
   "metadata": {},
   "outputs": [
    {
     "data": {
      "text/plain": [
       "10.69"
      ]
     },
     "execution_count": 37,
     "metadata": {},
     "output_type": "execute_result"
    }
   ],
   "source": [
    "round(P_REC,2)"
   ]
  },
  {
   "cell_type": "markdown",
   "id": "2761792b-02f9-4410-b6b1-614cc8680944",
   "metadata": {},
   "source": [
    "## EMI Filter (in W)"
   ]
  },
  {
   "cell_type": "code",
   "execution_count": 38,
   "id": "92e9d833-f7d4-414d-94cd-0a433ce47d6f",
   "metadata": {},
   "outputs": [
    {
     "data": {
      "text/plain": [
       "2.87"
      ]
     },
     "execution_count": 38,
     "metadata": {},
     "output_type": "execute_result"
    }
   ],
   "source": [
    "P_EMI = R_EMI * I_IN_RMS**2\n",
    "round(P_EMI,2)"
   ]
  },
  {
   "cell_type": "markdown",
   "id": "59f9ac19-d2a5-402c-a598-63ef0c51ab63",
   "metadata": {},
   "source": [
    "## Boost Diode"
   ]
  },
  {
   "cell_type": "markdown",
   "id": "ef481796-08b9-4444-9355-3023b85a5cbc",
   "metadata": {},
   "source": [
    "### Conduction Losses (in W)"
   ]
  },
  {
   "cell_type": "code",
   "execution_count": 39,
   "id": "dce7ff32-e02f-4d95-b640-01e22100bb01",
   "metadata": {},
   "outputs": [
    {
     "data": {
      "text/plain": [
       "2.86"
      ]
     },
     "execution_count": 39,
     "metadata": {},
     "output_type": "execute_result"
    }
   ],
   "source": [
    "P_diode_cond=I_BOOST_AVG*BOOST_fwd + BOOST_rdiff * I_BOOST_RMS**2 \n",
    "round(P_diode_cond,2)"
   ]
  },
  {
   "cell_type": "markdown",
   "id": "3405191a-6c31-46a8-a130-8926673a58ea",
   "metadata": {},
   "source": [
    "### Switching Losses (in W)"
   ]
  },
  {
   "cell_type": "code",
   "execution_count": 40,
   "id": "8a648519-cb28-4bb8-a990-5d7d524d05f8",
   "metadata": {},
   "outputs": [],
   "source": [
    "P_diode_SW=Vout*BOOST_Qc*fsw"
   ]
  },
  {
   "cell_type": "code",
   "execution_count": 41,
   "id": "63bbd4c0-3fe9-41ca-af89-b4164780822d",
   "metadata": {},
   "outputs": [
    {
     "data": {
      "text/plain": [
       "0.65"
      ]
     },
     "execution_count": 41,
     "metadata": {},
     "output_type": "execute_result"
    }
   ],
   "source": [
    "round(P_diode_SW,2)"
   ]
  },
  {
   "cell_type": "markdown",
   "id": "f49d8d20-e407-4e97-b3e8-7d7194741d38",
   "metadata": {},
   "source": [
    "This is not losses on diode but on FET which is already included due to DP test performed with actual diode. D_SW has been deleted from graph below. It still remains in total losses calculation. It requires verification. This should be true due to the capacitive character of QRR in SiC diode."
   ]
  },
  {
   "cell_type": "markdown",
   "id": "a3828e46-13a3-44bf-bafc-1c5a060979db",
   "metadata": {},
   "source": [
    "## MOSFET"
   ]
  },
  {
   "cell_type": "markdown",
   "id": "57b81257-0eb2-4a56-bc28-17e2d155a16b",
   "metadata": {},
   "source": [
    "### Conduction Losses (in W)"
   ]
  },
  {
   "cell_type": "code",
   "execution_count": 42,
   "id": "d1be8590-e25d-454a-b690-30ea760e6981",
   "metadata": {},
   "outputs": [
    {
     "data": {
      "text/plain": [
       "2.27"
      ]
     },
     "execution_count": 42,
     "metadata": {},
     "output_type": "execute_result"
    }
   ],
   "source": [
    "P_FET_Cond = rdson * I_FET_RMS**2\n",
    "round(P_FET_Cond,2)"
   ]
  },
  {
   "cell_type": "markdown",
   "id": "0d117ffb-aec7-4a9a-a36a-85a8dec676a0",
   "metadata": {},
   "source": [
    "### Switching Losses (in W)"
   ]
  },
  {
   "cell_type": "code",
   "execution_count": 43,
   "id": "533bc88b-63f2-435d-b2c2-4a57f24c6f53",
   "metadata": {},
   "outputs": [
    {
     "data": {
      "text/plain": [
       "2.65"
      ]
     },
     "execution_count": 43,
     "metadata": {},
     "output_type": "execute_result"
    }
   ],
   "source": [
    "P_FET_SW = E_SW_FET*AC_freq\n",
    "round(P_FET_SW,2)"
   ]
  },
  {
   "cell_type": "markdown",
   "id": "d3e2e990-627e-4bda-acb7-52fee4fbcd21",
   "metadata": {},
   "source": [
    "## Output Capacitor (in W)"
   ]
  },
  {
   "cell_type": "code",
   "execution_count": 44,
   "id": "eb58b0d9-541f-47a1-9973-1d44debdb65a",
   "metadata": {},
   "outputs": [
    {
     "data": {
      "text/plain": [
       "1.4"
      ]
     },
     "execution_count": 44,
     "metadata": {},
     "output_type": "execute_result"
    }
   ],
   "source": [
    "P_Cout = Cout_ESR * I_Cout_RMS**2\n",
    "round(P_Cout,2)"
   ]
  },
  {
   "cell_type": "markdown",
   "id": "d5b658c5-e1db-4857-a6c5-e305a95c0bed",
   "metadata": {},
   "source": [
    "## Current Sense Resistor (in W)"
   ]
  },
  {
   "cell_type": "code",
   "execution_count": 45,
   "id": "4b6fad90-0bcd-49d9-879a-25cbd7bd58d0",
   "metadata": {},
   "outputs": [
    {
     "data": {
      "text/plain": [
       "0.27"
      ]
     },
     "execution_count": 45,
     "metadata": {},
     "output_type": "execute_result"
    }
   ],
   "source": [
    "P_Rsense = Rsense*I_RSENSE_RMS**2\n",
    "round(P_Rsense,2)"
   ]
  },
  {
   "cell_type": "markdown",
   "id": "91a1785c-5d5c-4c91-be8e-49190b8914f2",
   "metadata": {},
   "source": [
    "# Estimated Total Converter Losses Without Magnetic Losses"
   ]
  },
  {
   "cell_type": "code",
   "execution_count": 46,
   "id": "d0dec598-0910-4d18-97a1-e45028f8ea83",
   "metadata": {},
   "outputs": [
    {
     "data": {
      "image/png": "[encoded data removed]",
      "text/plain": [
       "<Figure size 1700x600 with 2 Axes>"
      ]
     },
     "metadata": {},
     "output_type": "display_data"
    }
   ],
   "source": [
    "%matplotlib inline\n",
    "labels_Ploss= 'Input_REC+EMI', 'Primary_FET', 'Boost_Diode', 'R_sense+Output_Cap'\n",
    "data_Ploss = [P_REC+P_EMI, P_FET_Cond+P_FET_SW, P_diode_cond, P_Rsense+P_Cout]\n",
    "\n",
    "labels_Ploss_Bar= 'REC', 'EMI', 'P_Cond', 'P_SW', 'D_Cond', 'R_sen', 'Cout'\n",
    "data_Ploss_Bar = [P_REC, P_EMI, P_FET_Cond, P_FET_SW, P_diode_cond, P_Rsense, P_Cout]\n",
    "\n",
    "#bar_labels = ['red', 'blue', '_red', 'orange','green']\n",
    "bar_colors = ['tab:blue', 'tab:blue', 'tab:orange', 'tab:orange', 'tab:green', 'tab:green','tab:red', 'tab:red']\n",
    "\n",
    "def autopct_format(values):\n",
    "        def my_format(pct):\n",
    "            total = sum(values)\n",
    "            val = round(pct*total/100,3)\n",
    "            return '{:.1f}%\\n({v:.2f} W)'.format(pct, v=val)\n",
    "        return my_format\n",
    "\n",
    "def addlabels(x,y):\n",
    "    for i in range(len(x)):\n",
    "        ax2.text(i, y[i]+0.05, round(y[i],2), ha = 'center')\n",
    "        \n",
    "\n",
    "fig, (ax1, ax2) = plt.subplots(1, 2, figsize=(17,6))\n",
    "#fig, ax1 = plt.subplots()\n",
    "\n",
    "if sim_on == True:\n",
    "    fig.suptitle('Power Losses Breakdown (w/o Losses in Magnetics)'+'\\n'+'(Minimum Input Voltage)',fontsize=18)\n",
    "else:\n",
    "    fig.suptitle('Power Losses Breakdown (w/o MOSFET SW Losses and Losses in Magnetics)'+'\\n'+'(Minimum Input Voltage)',fontsize=18)\n",
    "ax1.pie(data_Ploss, labels=labels_Ploss, autopct=autopct_format(data_Ploss))\n",
    "\n",
    "ax2.bar(labels_Ploss_Bar, data_Ploss_Bar,color=bar_colors)\n",
    "ax2.grid(True, linestyle='-.',axis='y')\n",
    "ax2.yaxis.set_minor_locator(AutoMinorLocator(5))\n",
    "ax2.set_ylabel('Power (W)')\n",
    "addlabels(labels_Ploss_Bar,data_Ploss_Bar)\n",
    "\n",
    "fig.subplots_adjust(top=0.86)\n",
    "\n",
    "plt.show()\n",
    "if sim_on == False:\n",
    "    display(Markdown('<font size=\"6\"> <span style=\"color:red\"> Warning: Primary MOSFET switching losses are available only when simulated.</span></font>'))"
   ]
  },
  {
   "cell_type": "markdown",
   "id": "09b95188-0c7f-4918-b8f7-cf10fd7cb08c",
   "metadata": {},
   "source": [
    "# Estimated Total Efficiency Without Magnetics (in %)"
   ]
  },
  {
   "cell_type": "code",
   "execution_count": 47,
   "id": "90c3fcdc-0577-49f8-8217-51450f2a5db6",
   "metadata": {},
   "outputs": [
    {
     "data": {
      "text/plain": [
       "97.5"
      ]
     },
     "execution_count": 47,
     "metadata": {},
     "output_type": "execute_result"
    }
   ],
   "source": [
    "P_total = P_REC+P_EMI+P_FET_Cond+P_FET_SW+P_diode_cond+P_diode_SW+P_Rsense+P_Cout\n",
    "eff_Vin_min = Pout / (Pout+P_total)\n",
    "round(eff_Vin_min*100,1)"
   ]
  },
  {
   "cell_type": "code",
   "execution_count": 48,
   "id": "8c593c93-1e88-4677-809d-ebe57237002b",
   "metadata": {
    "jupyter": {
     "source_hidden": true
    }
   },
   "outputs": [],
   "source": [
    "if eff > eff_Vin_min:\n",
    "    display(Markdown('<font size=\"6\"> <span style=\"color:red\"> Warning: User estimated efficiency is bigger than calculated. The results are underestimated.</span></font>'))"
   ]
  },
  {
   "cell_type": "markdown",
   "id": "8b68861d-5b9a-4da7-bec7-9dd9f8ceb135",
   "metadata": {},
   "source": [
    "# Selected Waveforms"
   ]
  },
  {
   "cell_type": "code",
   "execution_count": 49,
   "id": "bc831fc2-fe3d-420d-9a25-75166c12b9cf",
   "metadata": {
    "jupyter": {
     "source_hidden": true
    }
   },
   "outputs": [
    {
     "data": {
      "application/vnd.jupyter.widget-view+json": {
       "model_id": "50eee18289ce42f2bc2cb0d28790d1b8",
       "version_major": 2,
       "version_minor": 0
      },
      "image/png": "[encoded data removed]",
      "text/html": [
       "\n",
       "            <div style=\"display: inline-block;\">\n",
       "                <div class=\"jupyter-widgets widget-label\" style=\"text-align: center;\">\n",
       "                    Figure\n",
       "                </div>\n",
       "                <img src='data:image/png;base64,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' width=1300.0/>\n",
       "            </div>\n",
       "        "
      ],
      "text/plain": [
       "Canvas(toolbar=Toolbar(toolitems=[('Home', 'Reset original view', 'home', 'home'), ('Back', 'Back to previous …"
      ]
     },
     "metadata": {},
     "output_type": "display_data"
    }
   ],
   "source": [
    "if sim_on == True:\n",
    "    %matplotlib ipympl\n",
    "    fig, (ax1, ax2) = plt.subplots(1, 2, figsize=(13,5))\n",
    "    #fig.suptitle('Power Losses Breakdown (w/o Losses in Magnetics)'+'\\n'+'(Minimum Input Voltage)',fontsize=18)\n",
    "    #ax1.pie(data_Ploss, labels=labels_Ploss, autopct=autopct_format(data_Ploss))\n",
    "    ax1.plot(wfrm[\"Time\"], wfrm[\"V(OUT)\"])\n",
    "    ax1.grid(True, linestyle='-.')\n",
    "    ax1.set(xlabel='Time (s)', ylabel='Output Voltage (V)')\n",
    "    ax2.plot(wfrm[\"Time\"], wfrm[\"I(L1)\"])\n",
    "    ax2.grid(True, linestyle='-.')\n",
    "    ax2.set(xlabel='Time (s)', ylabel='Inductor Current (A)')\n",
    "    plt.show()\n",
    "else:\n",
    "    display(Markdown('<font size=\"6\"> <span style=\"color:red\"> Warning: Available only when simulated.</span></font>'))"
   ]
  },
  {
   "cell_type": "markdown",
   "id": "7900358c-40a0-4c6c-b4c9-1c68440fddc1",
   "metadata": {},
   "source": [
    "# PFC Inductor Design"
   ]
  },
  {
   "cell_type": "markdown",
   "id": "07ee8e67-f773-4704-a4d9-87f85d2482fd",
   "metadata": {},
   "source": [
    "Based on M. Pieniz, J. R. Pinheiro and H. L. Hey, \"An investigation of the boost inductor volume applied to PFC converters,\" 2006 37th IEEE Power Electronics Specialists Conference, Jeju, Korea (South), 2006, pp. 1-7, doi: 10.1109/pesc.2006.1712248.\n",
    "\n",
    "It utilized low cost powder core material with a single layer coil\n"
   ]
  },
  {
   "cell_type": "code",
   "execution_count": 50,
   "id": "99e643de-ea62-46a8-bf10-7d2d6fd4f8f2",
   "metadata": {
    "jupyter": {
     "source_hidden": true
    }
   },
   "outputs": [],
   "source": [
    "#Maximum wire current density in A/cm^2\n",
    "j_max = 600\n",
    "\n",
    "# Minimum wire cross-section in cm^2\n",
    "S_min = IL_RMS / 600\n",
    "\n",
    "#Minimum wire diameter in cm\n",
    "dw_min = math.sqrt(4*S_min/math.pi)\n",
    "\n",
    "#Minimum wire size in AWG\n",
    "AWG_min = round(-39*math.log(dw_min*10/0.127,92)+36)\n",
    "#Core Outside Diameter\n",
    "OD = 50"
   ]
  },
  {
   "cell_type": "markdown",
   "id": "58a2a769-1a62-4b50-8d83-05c02ab19912",
   "metadata": {},
   "source": [
    "## Minimum Wire Diameter"
   ]
  },
  {
   "cell_type": "code",
   "execution_count": 51,
   "id": "cecde6ea-0e06-4ea9-b029-0c3afc5051cd",
   "metadata": {
    "jupyter": {
     "source_hidden": true
    }
   },
   "outputs": [
    {
     "name": "stdout",
     "output_type": "stream",
     "text": [
      "0.8581466666666667\n",
      "0.10452876499713676\n"
     ]
    },
    {
     "ename": "NameError",
     "evalue": "name 'AWG' is not defined",
     "output_type": "error",
     "traceback": [
      "\u001b[1;31m---------------------------------------------------------------------------\u001b[0m",
      "\u001b[1;31mNameError\u001b[0m                                 Traceback (most recent call last)",
      "Cell \u001b[1;32mIn[51], line 3\u001b[0m\n\u001b[0;32m      1\u001b[0m \u001b[38;5;28mprint\u001b[39m(S_min\u001b[38;5;241m*\u001b[39m\u001b[38;5;241m100\u001b[39m)\n\u001b[0;32m      2\u001b[0m \u001b[38;5;28mprint\u001b[39m(dw_min)\n\u001b[1;32m----> 3\u001b[0m \u001b[38;5;28mprint\u001b[39m(\u001b[43mAWG\u001b[49m)\n",
      "\u001b[1;31mNameError\u001b[0m: name 'AWG' is not defined"
     ]
    }
   ],
   "source": [
    "print(S_min*100)\n",
    "print(dw_min)\n",
    "print(AWG)"
   ]
  },
  {
   "cell_type": "code",
   "execution_count": null,
   "id": "26f04c08-03c5-4ea0-bfaa-590e71d07fc6",
   "metadata": {},
   "outputs": [],
   "source": [
    "N_max = 0.95*math.pi*((OD/(dw*kd))-1)"
   ]
  },
  {
   "cell_type": "code",
   "execution_count": null,
   "id": "d85f23d3-df6b-4b68-bfe4-594ef60a2fb3",
   "metadata": {},
   "outputs": [],
   "source": []
  }
 ],
 "metadata": {
  "kernelspec": {
   "display_name": "Python 3 (ipykernel)",
   "language": "python",
   "name": "python3"
  },
  "language_info": {
   "codemirror_mode": {
    "name": "ipython",
    "version": 3
   },
   "file_extension": ".py",
   "mimetype": "text/x-python",
   "name": "python",
   "nbconvert_exporter": "python",
   "pygments_lexer": "ipython3",
   "version": "3.8.17"
  }
 },
 "nbformat": 4,
 "nbformat_minor": 5
}
