{
 "cells": [
  {
   "cell_type": "markdown",
   "id": "4eb06477",
   "metadata": {},
   "source": [
    "# QSPICE Python Files Initialization"
   ]
  },
  {
   "cell_type": "code",
   "execution_count": 97,
   "id": "86c72c16",
   "metadata": {},
   "outputs": [
    {
     "data": {
      "text/plain": [
       "'c:\\\\Users\\\\Stani\\\\OneDrive\\\\JupyterLab\\\\GitHub\\\\PowerElectronics_JupyterLab_QSPICE\\\\CCM_Boost_PFC\\\\QSPICE\\\\QSPICE_parser.py'"
      ]
     },
     "execution_count": 97,
     "metadata": {},
     "output_type": "execute_result"
    }
   ],
   "source": [
    "import os\n",
    "import shutil\n",
    "\n",
    "# Get the current working directory (where your script is running)\n",
    "current_dir = os.getcwd()\n",
    "\n",
    "# Define the source folder (QSPICE_Parser is located above the project directory)\n",
    "source_folder = os.path.join(os.path.dirname(current_dir), 'QSPICE_Parser')\n",
    "\n",
    "# Define the source file path\n",
    "source_file = os.path.join(source_folder, 'QSPICE_parser.py')\n",
    "\n",
    "# Define the destination folder within the project (subfolder called QSPICE)\n",
    "destination_folder = os.path.join(current_dir, 'QSPICE')\n",
    "\n",
    "# Define the destination file path (within the QSPICE subfolder)\n",
    "destination_file = os.path.join(destination_folder, 'QSPICE_parser.py')\n",
    "\n",
    "# Copy the file from source to destination\n",
    "shutil.copy(source_file, destination_file)"
   ]
  },
  {
   "cell_type": "code",
   "execution_count": 98,
   "id": "72650c85",
   "metadata": {},
   "outputs": [],
   "source": [
    "from QSPICE import QSPICE_parser\n",
    "import importlib\n",
    "import sys\n",
    "\n",
    "# reload QSPICE/Python parser without kernel restart\n",
    "importlib.reload(QSPICE_parser)\n",
    "\n",
    "#Create PyQSPICE file for input rectifier\n",
    "QSPICE_parser.parse_and_generate_script('CCM_Boost_PFC_AMC.qsch','QSPICE_CCM_Boost_PFC_AMC.py')\n",
    "\n",
    "# Delete parser script file from QSPICE folder\n",
    "os.remove(destination_file)"
   ]
  },
  {
   "cell_type": "code",
   "execution_count": 99,
   "id": "8fb90f23",
   "metadata": {},
   "outputs": [],
   "source": [
    "import math\n",
    "import pandas as pd\n",
    "import numpy as np\n",
    "\n",
    "%matplotlib ipympl\n",
    "#load all QSPICE autogenerating scripts here\n",
    "from QSPICE import QSPICE_CCM_Boost_PFC_AMC as QSPICE\n",
    "\n",
    "from IPython.display import display, Markdown, Latex\n",
    "from matplotlib import pyplot as plt\n",
    "from matplotlib.ticker import (MultipleLocator, AutoMinorLocator)\n",
    "from scipy.interpolate import RegularGridInterpolator\n",
    "from scipy.interpolate import interp1d\n",
    "\n",
    "plt.close('all')\n",
    "pd.options.display.float_format = '{:.5e}'.format\n",
    "\n",
    "# Reload QSPICE autogenerating circuit script without kernel restart\n",
    "importlib.reload(QSPICE)\n",
    "\n",
    "# 2D interpolation \n",
    "# path - path to data folder\n",
    "# file_name - filename of csv file with EON/EFF data\n",
    "# VDS - MOSFET VDS value\n",
    "# ID - drain current\n",
    "# note: current vector has to start from 0 up to value larger than maximum peak current\n",
    "# note: voltage vector should start from 0 up to VDS_max\n",
    "def ESW_Interp(path,file_name,VDS,ID):\n",
    "    \n",
    "    ESW=0\n",
    "    if (VDS >= 0) and (file_name != ''):\n",
    "        df = pd.read_csv(path+file_name, header=None)\n",
    "\n",
    "        Y=df.iloc[1:len(df.index),0].to_numpy()\n",
    "\n",
    "        X=df.iloc[0,1:].to_numpy()\n",
    "\n",
    "        data=df.iloc[1:,1:].to_numpy()\n",
    "   \n",
    "        interp = RegularGridInterpolator((Y,X),data)\n",
    "        ESW=interp((ID,VDS))\n",
    "       \n",
    "    else:\n",
    "        ESW=0\n",
    "    \n",
    "    \n",
    "    return ESW\n",
    "\n",
    "# Switching Losses Calculation\n",
    "# data - Pandas dataframe\n",
    "# VDS - VDS value. In Boost PFC, VDS is equal to Vout\n",
    "\n",
    "#return: Total energy in J over current waveform period\n",
    "def ESW_Calc(data,VDS):\n",
    "    \n",
    "    #df = pd.read_csv(path+file_name)\n",
    "    df = data\n",
    "    # Modify the data so small numerical deviation from 0 and 1 will not interfere with TurnON/OFF detection\n",
    "    # Tolerance range for modification. E.g. Value within range of 1 +/- tolerance is still concidered as 1\n",
    "    tolerance=1e-4\n",
    "    df['v(pwm)']=df['v(pwm)'].apply(lambda x: 1 if (1-tolerance) <= x <= (1+tolerance) else x)\n",
    "    df['v(pwm)']=df['v(pwm)'].apply(lambda x: 0 if (0-tolerance) <= x <= (0+tolerance) else x)\n",
    "\n",
    "    #Detect Turn-OFF (1->0)\n",
    "    mask_OFF = (df['v(pwm)'] == 1) & (df['v(pwm)'].shift(-1) < 1)\n",
    "    \n",
    "    #Detect Turn-ON (0->1)\n",
    "    mask_ON = (df['v(pwm)'] == 1) & (df['v(pwm)'].shift(1) < 1)\n",
    "\n",
    "    # DataFrame of currents for Turn-OFF energy calculation\n",
    "    I_OFF = df.loc[mask_OFF,['time','i(s1)']]\n",
    "    # Replace all negative current values by 0\n",
    "    I_OFF['i(s1)'] = I_OFF['i(s1)'].apply(lambda x: max(0,x))\n",
    "    \n",
    "    # DataFrame of currents for Turn-ON energy calculation\n",
    "    I_ON = df.loc[mask_ON,['time','i(s1)']]\n",
    "    # Replace all negative current values by 0\n",
    "    I_ON['i(s1)'] = I_ON['i(s1)'].apply(lambda x: max(0,x))\n",
    "\n",
    "    # Calculate and add EOFF column\n",
    "    I_OFF['EOFF'] = ESW_Interp(MOS_DATA_FLD,EOFF_file_name,VDS,I_OFF['i(s1)'])\n",
    "\n",
    "    # Calculate and add EON column\n",
    "    I_ON['EON'] = ESW_Interp(MOS_DATA_FLD,EON_file_name,VDS,I_ON['i(s1)'])\n",
    "\n",
    "    sum_EOFF = I_OFF['EOFF'].sum()\n",
    "    sum_EON = I_ON['EON'].sum()\n",
    "    E_tot = sum_EOFF + sum_EON\n",
    "\n",
    "    #   print(I_OFF.to_string())\n",
    "    #   print(I_ON.to_string())\n",
    "\n",
    "    #   print('Total Eoff = ', sum_EOFF)\n",
    "    #   print('Total Eon = ', sum_EON)\n",
    "    #   print('Total ESW = ', E_tot)\n",
    "\n",
    "    return [E_tot, I_OFF, I_ON]\n",
    "\n",
    "def Loop_Compensation(V__g, V__out, Pout, eff, f__sw, C, r__C, L, f__AC):\n",
    "    V__se = 5 #modulator amplitude\n",
    "    R__l = 1000 #I_E/A input resistor (pre-selected)\n",
    "    f__z = f__sw/15\n",
    "    f__c = f__sw/10 #I-loop cross-over freq.\n",
    "    f__p = f__sw/1.5\n",
    "    R__i = 1 / (math.sqrt(2) * Pout * (1 + (-math.sqrt(2) * V__g ** 3 + V__g ** 2 * V__out) / L / Pout / V__out / f__sw / 2) / eff / V__g) #V/A ratio\n",
    "\n",
    "    R__L = V__out ** 2 / Pout * eff\n",
    "    D = -V__g / V__out + 1\n",
    "    gain_Iloop = (\n",
    "        abs(-1 + D) ** 2\n",
    "        / abs(\n",
    "            V__out\n",
    "            * (1 + complex(0, 2) * math.pi * f__c * C * (R__L / 2 + r__C))\n",
    "            * R__i\n",
    "            / V__se\n",
    "            / R__L\n",
    "            / (\n",
    "                -4 * math.pi**2 * f__c**2 * L * C * (R__L + r__C) / R__L / (1 - D) ** 2\n",
    "                + complex(0, 2)\n",
    "                * (L + C * (1 - D) ** 2 * R__L * r__C)\n",
    "                * math.pi\n",
    "                * f__c\n",
    "                * (L * C * (R__L + r__C) * R__L * (1 - D) ** 2) ** (-0.1e1 / 0.2e1)\n",
    "                * (R__L * (1 - D) ** 2 / L / C / (R__L + r__C)) ** (-0.1e1 / 0.2e1)\n",
    "                + 1\n",
    "            )\n",
    "        )\n",
    "        / 2\n",
    "    )\n",
    "    # E/A current loop compensator component values\n",
    "    R__f = R__l*gain_Iloop\n",
    "    C__fz = 0.1e1 / R__l / gain_Iloop / math.pi / f__z / 2\n",
    "    C__fp = C__fz / (2 * C__fz * R__f * math.pi * f__p - 1)\n",
    "\n",
    "    #Saving E/A current loop compensator component values\n",
    "    Rf_I = R__f\n",
    "    Cfp_I = C__fp\n",
    "    Cfz_I = C__fz\n",
    "\n",
    "    R__l = 10000 #V_E/A input resistor (manually selected)\n",
    "    f__z = 0.1e1 / C / R__L / math.pi\n",
    "    f__c = f__AC/2 #Outer-loop cross-over freq.\n",
    "    f__p = f__AC\n",
    "    beta = 2.5/V__out\n",
    "    K__BO = 1.5/(math.sqrt(2)*V__g)\n",
    "\n",
    "    gain_outer_loop = math.pi / abs(\n",
    "        beta\n",
    "        * (1 + complex(0, 0.15e2 / 0.2e1) * f__AC / f__sw)\n",
    "        * V__out\n",
    "        * (complex(0, 1) * math.pi * f__AC * C * r__C + 1)\n",
    "        * (1 + complex(0, -1) * math.pi * f__AC * L / (1 - D) ** 2 / R__L)\n",
    "        * V__g\n",
    "        * K__BO\n",
    "        / R__l\n",
    "        / (\n",
    "            0.5305164770e0\n",
    "            * abs(\n",
    "                V__out\n",
    "                * (\n",
    "                    1\n",
    "                    + complex(0, 0.1e1 / 0.5e1)\n",
    "                    * math.pi\n",
    "                    * f__sw\n",
    "                    * C\n",
    "                    * (R__L / 2 + r__C)\n",
    "                )\n",
    "                * R__i\n",
    "                / V__se\n",
    "                / R__L\n",
    "                / (\n",
    "                    -(math.pi**2)\n",
    "                    * f__sw**2\n",
    "                    * L\n",
    "                    * C\n",
    "                    * (R__L + r__C)\n",
    "                    / (1 - D) ** 2\n",
    "                    / R__L\n",
    "                    / 25\n",
    "                    + complex(0, 0.1e1 / 0.5e1)\n",
    "                    * (L + C * (1 - D) ** 2 * R__L * r__C)\n",
    "                    * math.pi\n",
    "                    * f__sw\n",
    "                    * (L * C * (R__L + r__C) * R__L * (1 - D) ** 2) ** (-0.1e1 / 0.2e1)\n",
    "                    * (R__L * (1 - D) ** 2 / L / C / (R__L + r__C)) ** (-0.1e1 / 0.2e1)\n",
    "                    + 1\n",
    "                )\n",
    "            )\n",
    "            / R__l\n",
    "            / abs(-1 + D) ** 2\n",
    "            / f__sw\n",
    "            + 15\n",
    "            * abs(\n",
    "                V__out\n",
    "                * (\n",
    "                    1\n",
    "                    + complex(0, 0.1e1 / 0.5e1)\n",
    "                    * math.pi\n",
    "                    * f__sw\n",
    "                    * C\n",
    "                    * (R__L / 2 + r__C)\n",
    "                )\n",
    "                * R__i\n",
    "                / V__se\n",
    "                / R__L\n",
    "                / (\n",
    "                    -(math.pi**2)\n",
    "                    * f__sw**2\n",
    "                    * L\n",
    "                    * C\n",
    "                    * (R__L + r__C)\n",
    "                    / (1 - D) ** 2\n",
    "                    / R__L\n",
    "                    / 25\n",
    "                    + complex(0, 0.1e1 / 0.5e1)\n",
    "                    * (L + C * (1 - D) ** 2 * R__L * r__C)\n",
    "                    * math.pi\n",
    "                    * f__sw\n",
    "                    * (L * C * (R__L + r__C) * R__L * (1 - D) ** 2) ** (-0.1e1 / 0.2e1)\n",
    "                    * (R__L * (1 - D) ** 2 / L / C / (R__L + r__C)) ** (-0.1e1 / 0.2e1)\n",
    "                    + 1\n",
    "                )\n",
    "            )\n",
    "            / R__l\n",
    "            / abs(-1 + D) ** 2\n",
    "            / math.pi\n",
    "            / f__sw\n",
    "        )\n",
    "        / f__AC\n",
    "        / (\n",
    "            1\n",
    "            + complex(0, 0.3978873579e1)\n",
    "            * f__AC\n",
    "            * abs(\n",
    "                V__out\n",
    "                * (\n",
    "                    1\n",
    "                    + complex(0, 0.1e1 / 0.5e1)\n",
    "                    * math.pi\n",
    "                    * f__sw\n",
    "                    * C\n",
    "                    * (R__L / 2 + r__C)\n",
    "                )\n",
    "                * R__i\n",
    "                / V__se\n",
    "                / R__L\n",
    "                / (\n",
    "                    -(math.pi**2)\n",
    "                    * f__sw**2\n",
    "                    * L\n",
    "                    * C\n",
    "                    * (R__L + r__C)\n",
    "                    / (1 - D) ** 2\n",
    "                    / R__L\n",
    "                    / 25\n",
    "                    + complex(0, 0.1e1 / 0.5e1)\n",
    "                    * (L + C * (1 - D) ** 2 * R__L * r__C)\n",
    "                    * math.pi\n",
    "                    * f__sw\n",
    "                    * (L * C * (R__L + r__C) * R__L * (1 - D) ** 2) ** (-0.1e1 / 0.2e1)\n",
    "                    * (R__L * (1 - D) ** 2 / L / C / (R__L + r__C)) ** (-0.1e1 / 0.2e1)\n",
    "                    + 1\n",
    "                )\n",
    "            )\n",
    "            / (\n",
    "                0.5305164770e0\n",
    "                * abs(\n",
    "                    V__out\n",
    "                    * (\n",
    "                        1\n",
    "                        + complex(0, 0.1e1 / 0.5e1)\n",
    "                        * math.pi\n",
    "                        * f__sw\n",
    "                        * C\n",
    "                        * (R__L / 2 + r__C)\n",
    "                    )\n",
    "                    * R__i\n",
    "                    / V__se\n",
    "                    / R__L\n",
    "                    / (\n",
    "                        -(math.pi**2)\n",
    "                        * f__sw**2\n",
    "                        * L\n",
    "                        * C\n",
    "                        * (R__L + r__C)\n",
    "                        / (1 - D) ** 2\n",
    "                        / R__L\n",
    "                        / 25\n",
    "                        + complex(0, 0.1e1 / 0.5e1)\n",
    "                        * (L + C * (1 - D) ** 2 * R__L * r__C)\n",
    "                        * math.pi\n",
    "                        * f__sw\n",
    "                        * (L * C * (R__L + r__C) * R__L * (1 - D) ** 2)\n",
    "                        ** (-0.1e1 / 0.2e1)\n",
    "                        * (R__L * (1 - D) ** 2 / L / C / (R__L + r__C))\n",
    "                        ** (-0.1e1 / 0.2e1)\n",
    "                        + 1\n",
    "                    )\n",
    "                )\n",
    "                / R__l\n",
    "                / abs(-1 + D) ** 2\n",
    "                / f__sw\n",
    "                + 15\n",
    "                * abs(\n",
    "                    V__out\n",
    "                    * (\n",
    "                        1\n",
    "                        + complex(0, 0.1e1 / 0.5e1)\n",
    "                        * math.pi\n",
    "                        * f__sw\n",
    "                        * C\n",
    "                        * (R__L / 2 + r__C)\n",
    "                    )\n",
    "                    * R__i\n",
    "                    / V__se\n",
    "                    / R__L\n",
    "                    / (\n",
    "                        -(math.pi**2)\n",
    "                        * f__sw**2\n",
    "                        * L\n",
    "                        * C\n",
    "                        * (R__L + r__C)\n",
    "                        / (1 - D) ** 2\n",
    "                        / R__L\n",
    "                        / 25\n",
    "                        + complex(0, 0.1e1 / 0.5e1)\n",
    "                        * (L + C * (1 - D) ** 2 * R__L * r__C)\n",
    "                        * math.pi\n",
    "                        * f__sw\n",
    "                        * (L * C * (R__L + r__C) * R__L * (1 - D) ** 2)\n",
    "                        ** (-0.1e1 / 0.2e1)\n",
    "                        * (R__L * (1 - D) ** 2 / L / C / (R__L + r__C))\n",
    "                        ** (-0.1e1 / 0.2e1)\n",
    "                        + 1\n",
    "                    )\n",
    "                )\n",
    "                / R__l\n",
    "                / abs(-1 + D) ** 2\n",
    "                / math.pi\n",
    "                / f__sw\n",
    "            )\n",
    "            / R__l\n",
    "            / abs(-1 + D) ** 2\n",
    "            / f__sw**2\n",
    "        )\n",
    "        / V__se\n",
    "        / (-1 + D)\n",
    "        / (\n",
    "            -(math.pi**2) * f__AC**2 * L * C * (R__L + r__C) / (1 - D) ** 2 / R__L\n",
    "            + complex(0, 1)\n",
    "            * (L + C * (1 - D) ** 2 * R__L * r__C)\n",
    "            * math.pi\n",
    "            * f__AC\n",
    "            * (L * C * (R__L + r__C) * R__L * (1 - D) ** 2) ** (-0.1e1 / 0.2e1)\n",
    "            * (R__L * (1 - D) ** 2 / L / C / (R__L + r__C)) ** (-0.1e1 / 0.2e1)\n",
    "            + 1\n",
    "        )\n",
    "        / (\n",
    "            1\n",
    "            + complex(0, -2)\n",
    "            * V__out\n",
    "            * (1 + complex(0, 1) * math.pi * f__AC * C * (R__L / 2 + r__C))\n",
    "            * R__i\n",
    "            * (1 + complex(0, 0.15e2 / 0.2e1) * f__AC / f__sw)\n",
    "            / V__se\n",
    "            / (1 - D) ** 2\n",
    "            / R__L\n",
    "            / (\n",
    "                -(math.pi**2) * f__AC**2 * L * C * (R__L + r__C) / (1 - D) ** 2 / R__L\n",
    "                + complex(0, 1)\n",
    "                * (L + C * (1 - D) ** 2 * R__L * r__C)\n",
    "                * math.pi\n",
    "                * f__AC\n",
    "                * (L * C * (R__L + r__C) * R__L * (1 - D) ** 2) ** (-0.1e1 / 0.2e1)\n",
    "                * (R__L * (1 - D) ** 2 / L / C / (R__L + r__C)) ** (-0.1e1 / 0.2e1)\n",
    "                + 1\n",
    "            )\n",
    "            / R__l\n",
    "            / (\n",
    "                0.5305164770e0\n",
    "                * abs(\n",
    "                    V__out\n",
    "                    * (\n",
    "                        1\n",
    "                        + complex(0, 0.1e1 / 0.5e1)\n",
    "                        * math.pi\n",
    "                        * f__sw\n",
    "                        * C\n",
    "                        * (R__L / 2 + r__C)\n",
    "                    )\n",
    "                    * R__i\n",
    "                    / V__se\n",
    "                    / R__L\n",
    "                    / (\n",
    "                        -(math.pi**2)\n",
    "                        * f__sw**2\n",
    "                        * L\n",
    "                        * C\n",
    "                        * (R__L + r__C)\n",
    "                        / (1 - D) ** 2\n",
    "                        / R__L\n",
    "                        / 25\n",
    "                        + complex(0, 0.1e1 / 0.5e1)\n",
    "                        * (L + C * (1 - D) ** 2 * R__L * r__C)\n",
    "                        * math.pi\n",
    "                        * f__sw\n",
    "                        * (L * C * (R__L + r__C) * R__L * (1 - D) ** 2)\n",
    "                        ** (-0.1e1 / 0.2e1)\n",
    "                        * (R__L * (1 - D) ** 2 / L / C / (R__L + r__C))\n",
    "                        ** (-0.1e1 / 0.2e1)\n",
    "                        + 1\n",
    "                    )\n",
    "                )\n",
    "                / R__l\n",
    "                / abs(-1 + D) ** 2\n",
    "                / f__sw\n",
    "                + 15\n",
    "                * abs(\n",
    "                    V__out\n",
    "                    * (\n",
    "                        1\n",
    "                        + complex(0, 0.1e1 / 0.5e1)\n",
    "                        * math.pi\n",
    "                        * f__sw\n",
    "                        * C\n",
    "                        * (R__L / 2 + r__C)\n",
    "                    )\n",
    "                    * R__i\n",
    "                    / V__se\n",
    "                    / R__L\n",
    "                    / (\n",
    "                        -(math.pi**2)\n",
    "                        * f__sw**2\n",
    "                        * L\n",
    "                        * C\n",
    "                        * (R__L + r__C)\n",
    "                        / (1 - D) ** 2\n",
    "                        / R__L\n",
    "                        / 25\n",
    "                        + complex(0, 0.1e1 / 0.5e1)\n",
    "                        * (L + C * (1 - D) ** 2 * R__L * r__C)\n",
    "                        * math.pi\n",
    "                        * f__sw\n",
    "                        * (L * C * (R__L + r__C) * R__L * (1 - D) ** 2)\n",
    "                        ** (-0.1e1 / 0.2e1)\n",
    "                        * (R__L * (1 - D) ** 2 / L / C / (R__L + r__C))\n",
    "                        ** (-0.1e1 / 0.2e1)\n",
    "                        + 1\n",
    "                    )\n",
    "                )\n",
    "                / R__l\n",
    "                / abs(-1 + D) ** 2\n",
    "                / math.pi\n",
    "                / f__sw\n",
    "            )\n",
    "            / math.pi\n",
    "            / f__AC\n",
    "            / (\n",
    "                1\n",
    "                + complex(0, 0.3978873579e1)\n",
    "                * f__AC\n",
    "                * abs(\n",
    "                    V__out\n",
    "                    * (\n",
    "                        1\n",
    "                        + complex(0, 0.1e1 / 0.5e1)\n",
    "                        * math.pi\n",
    "                        * f__sw\n",
    "                        * C\n",
    "                        * (R__L / 2 + r__C)\n",
    "                    )\n",
    "                    * R__i\n",
    "                    / V__se\n",
    "                    / R__L\n",
    "                    / (\n",
    "                        -(math.pi**2)\n",
    "                        * f__sw**2\n",
    "                        * L\n",
    "                        * C\n",
    "                        * (R__L + r__C)\n",
    "                        / (1 - D) ** 2\n",
    "                        / R__L\n",
    "                        / 25\n",
    "                        + complex(0, 0.1e1 / 0.5e1)\n",
    "                        * (L + C * (1 - D) ** 2 * R__L * r__C)\n",
    "                        * math.pi\n",
    "                        * f__sw\n",
    "                        * (L * C * (R__L + r__C) * R__L * (1 - D) ** 2)\n",
    "                        ** (-0.1e1 / 0.2e1)\n",
    "                        * (R__L * (1 - D) ** 2 / L / C / (R__L + r__C))\n",
    "                        ** (-0.1e1 / 0.2e1)\n",
    "                        + 1\n",
    "                    )\n",
    "                )\n",
    "                / (\n",
    "                    0.5305164770e0\n",
    "                    * abs(\n",
    "                        V__out\n",
    "                        * (\n",
    "                            1\n",
    "                            + complex(0, 0.1e1 / 0.5e1)\n",
    "                            * math.pi\n",
    "                            * f__sw\n",
    "                            * C\n",
    "                            * (R__L / 2 + r__C)\n",
    "                        )\n",
    "                        * R__i\n",
    "                        / V__se\n",
    "                        / R__L\n",
    "                        / (\n",
    "                            -(math.pi**2)\n",
    "                            * f__sw**2\n",
    "                            * L\n",
    "                            * C\n",
    "                            * (R__L + r__C)\n",
    "                            / (1 - D) ** 2\n",
    "                            / R__L\n",
    "                            / 25\n",
    "                            + complex(0, 0.1e1 / 0.5e1)\n",
    "                            * (L + C * (1 - D) ** 2 * R__L * r__C)\n",
    "                            * math.pi\n",
    "                            * f__sw\n",
    "                            * (L * C * (R__L + r__C) * R__L * (1 - D) ** 2)\n",
    "                            ** (-0.1e1 / 0.2e1)\n",
    "                            * (R__L * (1 - D) ** 2 / L / C / (R__L + r__C))\n",
    "                            ** (-0.1e1 / 0.2e1)\n",
    "                            + 1\n",
    "                        )\n",
    "                    )\n",
    "                    / R__l\n",
    "                    / abs(-1 + D) ** 2\n",
    "                    / f__sw\n",
    "                    + 15\n",
    "                    * abs(\n",
    "                        V__out\n",
    "                        * (\n",
    "                            1\n",
    "                            + complex(0, 0.1e1 / 0.5e1)\n",
    "                            * math.pi\n",
    "                            * f__sw\n",
    "                            * C\n",
    "                            * (R__L / 2 + r__C)\n",
    "                        )\n",
    "                        * R__i\n",
    "                        / V__se\n",
    "                        / R__L\n",
    "                        / (\n",
    "                            -(math.pi**2)\n",
    "                            * f__sw**2\n",
    "                            * L\n",
    "                            * C\n",
    "                            * (R__L + r__C)\n",
    "                            / (1 - D) ** 2\n",
    "                            / R__L\n",
    "                            / 25\n",
    "                            + complex(0, 0.1e1 / 0.5e1)\n",
    "                            * (L + C * (1 - D) ** 2 * R__L * r__C)\n",
    "                            * math.pi\n",
    "                            * f__sw\n",
    "                            * (L * C * (R__L + r__C) * R__L * (1 - D) ** 2)\n",
    "                            ** (-0.1e1 / 0.2e1)\n",
    "                            * (R__L * (1 - D) ** 2 / L / C / (R__L + r__C))\n",
    "                            ** (-0.1e1 / 0.2e1)\n",
    "                            + 1\n",
    "                        )\n",
    "                    )\n",
    "                    / R__l\n",
    "                    / abs(-1 + D) ** 2\n",
    "                    / math.pi\n",
    "                    / f__sw\n",
    "                )\n",
    "                / R__l\n",
    "                / abs(-1 + D) ** 2\n",
    "                / f__sw**2\n",
    "            )\n",
    "        )\n",
    "    )\n",
    "    \n",
    "    R__f = R__l*gain_outer_loop\n",
    "    C__fz = 0.1e1 / R__l / gain_outer_loop / math.pi / f__z / 2\n",
    "    C__fp = C__fz / (2 * C__fz * R__f * math.pi * f__p - 1)\n",
    "\n",
    "    Rf_V = R__f\n",
    "    Cfp_V = C__fp\n",
    "    Cfz_V = C__fz\n",
    "\n",
    "    #return [R__f, C__fz, C__fp]\n",
    "    return [Rf_V, Cfz_V, Cfp_V, Rf_I, Cfz_I, Cfp_I]\n"
   ]
  },
  {
   "cell_type": "markdown",
   "id": "f1d48b82-a5c1-4e85-a4db-681e7d4207fd",
   "metadata": {},
   "source": [
    "# Input Data"
   ]
  },
  {
   "cell_type": "code",
   "execution_count": 100,
   "id": "f4dbefb7-5d03-4906-b57c-2be9b8f42ca6",
   "metadata": {},
   "outputs": [],
   "source": [
    "# Use simulation (True/False)\n",
    "sim_on = True\n",
    "\n",
    "#AC line RMS voltage (in V)\n",
    "VAC_min = 195\n",
    "VAC_max = 265\n",
    "VAC_nom = 230\n",
    "\n",
    "#AC line freq. (in Hz)\n",
    "AC_freq=50\n",
    "\n",
    "#Output Voltage (in V)\n",
    "Vout=400\n",
    "Vout_pp=20\n",
    "\n",
    "#Output power (in W) \n",
    "#note: Concider that output power is DC/DC comverter Pout thus (DC/DC / eff_dc_dc)\n",
    "Pout=940\n",
    "#Estimated efficiency (in -)\n",
    "eff=0.96\n",
    "#switching frequency (in Hz)\n",
    "fsw=133e3\n",
    "\n",
    "#Percentage of Inductor ripple current (e.g. for 25% put 0.25) (in -)\n",
    "IL_ripple=0.5\n",
    "\n",
    "### Input REC Bridge Diode@75degC ####\n",
    "REC_fwd = 1 # Build-in potential (in V)\n",
    "REC_rdiff = 30e-3 # Differential resistance (in Ohm)\n",
    "\n",
    "### Input EMI Filter ###\n",
    "#Additional total resistance formed by EMI components (in Ohm)\n",
    "#CM_Choke+Relay\n",
    "R_EMI = 8e-3+0.1\n",
    "\n",
    "### MOSFET ###\n",
    "# Set MOSFET Data Folder and EOFF and EON file names. If empty string is provided, EOFF and EON energy estimation is skipped and return 0 J\n",
    "MOS_DATA_FLD = \"Data/MOSFET/IPP60R120P7/\"\n",
    "\n",
    "# Note. EOFF and EON data should be obtained using a standard double-pulse test method using the actual boost diode to involve diode Qc and Qrr (if present) in MOSFET Eon.\n",
    "EOFF_file_name = \"EOFF_15V_100degC_5600mOhm_25ns_IDH08G65C6.csv\"\n",
    "EON_file_name = \"EON_15V_100degC_5600mOhm_25ns_IDH08G65C6.csv\"\n",
    "\n",
    "#WC RDSon@100degC (in Ohm)\n",
    "rdson=0.204\n",
    "\n",
    "### Output Diode@75degC ###\n",
    "# Infineon IDH08G65C6\n",
    "BOOST_fwd=0.69 # Build-in potential (in V)\n",
    "BOOST_rdiff=76e-3 # Differential resistance (in Ohm)\n",
    "\n",
    "### PFC Inductor ###\n",
    "Res_L = 70e-3 # Inductance in H\n",
    "\n",
    "### Output Capacitor ###\n",
    "Cout_ESR = 25e-3 # Capacitor ESR in Ohms\n",
    "\n",
    "### Current sense resistor\n",
    "Rsense = 10e-3 # Current sense resistance in Ohm"
   ]
  },
  {
   "cell_type": "markdown",
   "id": "28453081-1d28-411a-8b78-4fd054700bc2",
   "metadata": {},
   "source": [
    "# Minimum Inductor Value Estimation (in uH)\n",
    "Note: Valid at minimum Vin and full load. To maintain the same ripple at maximum Vin, inductance must be higher"
   ]
  },
  {
   "cell_type": "code",
   "execution_count": 101,
   "id": "215ec0cf-9f06-412b-9750-d0ba309672df",
   "metadata": {},
   "outputs": [
    {
     "name": "stdout",
     "output_type": "stream",
     "text": [
      "189\n"
     ]
    }
   ],
   "source": [
    "L=1/IL_ripple*(VAC_min**2/Pout)*(1-math.sqrt(2)*VAC_min/Vout)*1/fsw\n",
    "print(round(L*1e6))"
   ]
  },
  {
   "cell_type": "markdown",
   "id": "411156e2-54fa-4712-8159-ffa29f223357",
   "metadata": {},
   "source": [
    "# Maximum Allowed Pk-Pk Output Voltage Ripple (in V)\n",
    "To ensure proper boost functionality, output voltage must be alwasy higher than input voltage"
   ]
  },
  {
   "cell_type": "code",
   "execution_count": 102,
   "id": "39ae679f-30b7-4b2e-9b79-6f1629d87745",
   "metadata": {
    "jupyter": {
     "source_hidden": true
    }
   },
   "outputs": [
    {
     "name": "stdout",
     "output_type": "stream",
     "text": [
      "25.23\n"
     ]
    }
   ],
   "source": [
    "Vout_pp_max=Vout-VAC_max*math.sqrt(2)\n",
    "print(round(Vout_pp_max,2))\n",
    "if Vout_pp > Vout_pp_max:\n",
    "    display(Markdown('<font size=\"6\"> <span style=\"color:red\"> Warning: Defined output pk-pk voltage ripple does not ensure proper boost functionality </span></font>'))"
   ]
  },
  {
   "cell_type": "markdown",
   "id": "70452a25-fd9c-4ce2-bf8f-00e81b429f02",
   "metadata": {},
   "source": [
    "# Output Capacitor Requirements"
   ]
  },
  {
   "cell_type": "markdown",
   "id": "e3db024d-9162-4324-80bb-98be2dabb01f",
   "metadata": {},
   "source": [
    "## Minimum Capacitance (in uF)"
   ]
  },
  {
   "cell_type": "code",
   "execution_count": 103,
   "id": "01ac6b52-ce95-4d24-bca3-2b8d0f362cd3",
   "metadata": {},
   "outputs": [
    {
     "data": {
      "text/plain": [
       "374.01"
      ]
     },
     "execution_count": 103,
     "metadata": {},
     "output_type": "execute_result"
    }
   ],
   "source": [
    "Cout=Pout/(2*math.pi*AC_freq*Vout_pp*Vout)\n",
    "round(Cout*1e6,2)"
   ]
  },
  {
   "cell_type": "markdown",
   "id": "90a8bc70-48b1-4aff-8a4f-3c8d4dcfda77",
   "metadata": {},
   "source": [
    "# Stress Analysis (Worst-Case Calculation)"
   ]
  },
  {
   "cell_type": "markdown",
   "id": "57d0ce0b-ea67-4d42-87cb-6e8618b4bf82",
   "metadata": {},
   "source": [
    "## Input RMS Current (in A)"
   ]
  },
  {
   "cell_type": "code",
   "execution_count": 104,
   "id": "e703e20c-ee62-44d8-93d8-d8550b7840ac",
   "metadata": {},
   "outputs": [
    {
     "data": {
      "text/plain": [
       "5.0"
      ]
     },
     "execution_count": 104,
     "metadata": {},
     "output_type": "execute_result"
    }
   ],
   "source": [
    "I_IN_RMS = Pout/(VAC_min*eff)\n",
    "round(I_IN_RMS,1)"
   ]
  },
  {
   "cell_type": "markdown",
   "id": "7cf06720-eee2-43cb-884c-f82f5b292925",
   "metadata": {},
   "source": [
    "## Current Sense Resistor RMS Current (in A)"
   ]
  },
  {
   "cell_type": "code",
   "execution_count": 105,
   "id": "e28a6840-cb1c-4805-98b1-802e5abbb852",
   "metadata": {},
   "outputs": [
    {
     "data": {
      "text/plain": [
       "5.0"
      ]
     },
     "execution_count": 105,
     "metadata": {},
     "output_type": "execute_result"
    }
   ],
   "source": [
    "I_RSENSE_RMS = I_IN_RMS\n",
    "round(I_RSENSE_RMS,1)"
   ]
  },
  {
   "cell_type": "markdown",
   "id": "6ed5ba8d-9f98-414a-8f6a-5d0fb7c8be57",
   "metadata": {},
   "source": [
    "## Inductor Peak Current (in A)"
   ]
  },
  {
   "cell_type": "code",
   "execution_count": 106,
   "id": "4ebb91ac-24d0-4c9b-ac88-7f9a11ce75e2",
   "metadata": {},
   "outputs": [
    {
     "data": {
      "text/plain": [
       "8.9"
      ]
     },
     "execution_count": 106,
     "metadata": {},
     "output_type": "execute_result"
    }
   ],
   "source": [
    "IL_peak=math.sqrt(2)*(Pout/eff)/VAC_min*(1+IL_ripple/2)\n",
    "round(IL_peak,1)"
   ]
  },
  {
   "cell_type": "markdown",
   "id": "c3617a61-9770-4da8-9301-8c51985460a0",
   "metadata": {},
   "source": [
    "## Inductor RMS Current (in A)"
   ]
  },
  {
   "cell_type": "code",
   "execution_count": 107,
   "id": "e1e6718d-674c-44d2-84f7-f5f3f2a1afc4",
   "metadata": {},
   "outputs": [
    {
     "data": {
      "text/plain": [
       "5.02"
      ]
     },
     "execution_count": 107,
     "metadata": {},
     "output_type": "execute_result"
    }
   ],
   "source": [
    "IL_RMS=(Pout/eff)/VAC_min\n",
    "round(IL_RMS,2)"
   ]
  },
  {
   "cell_type": "markdown",
   "id": "0149083d-0c18-4c15-9240-475a45eeafca",
   "metadata": {},
   "source": [
    "## MOSFET RMS Current (in A)"
   ]
  },
  {
   "cell_type": "code",
   "execution_count": 108,
   "id": "ea7d445c-5712-487d-88cc-ad8c052388c4",
   "metadata": {},
   "outputs": [
    {
     "data": {
      "text/plain": [
       "3.23"
      ]
     },
     "execution_count": 108,
     "metadata": {},
     "output_type": "execute_result"
    }
   ],
   "source": [
    "I_FET_RMS=(Pout/eff)/VAC_min*math.sqrt(1-(8*math.sqrt(2)*VAC_min/(3*math.pi*Vout)))\n",
    "round(I_FET_RMS,2)"
   ]
  },
  {
   "cell_type": "markdown",
   "id": "d1c77cf6-3035-4c5e-a9a3-9d2f43f775b6",
   "metadata": {},
   "source": [
    "## BOOST Diode AVG Current (in A)"
   ]
  },
  {
   "cell_type": "code",
   "execution_count": 109,
   "id": "716d8231-d7fd-4c95-9327-b673036e3c1e",
   "metadata": {},
   "outputs": [
    {
     "data": {
      "text/plain": [
       "2.35"
      ]
     },
     "execution_count": 109,
     "metadata": {},
     "output_type": "execute_result"
    }
   ],
   "source": [
    "I_BOOST_AVG = Pout/Vout\n",
    "round(I_BOOST_AVG,2)"
   ]
  },
  {
   "cell_type": "markdown",
   "id": "3190b8c0-00ce-4c58-9776-7abc729644ae",
   "metadata": {},
   "source": [
    "## BOOST Diode RMS Current (in A)"
   ]
  },
  {
   "cell_type": "code",
   "execution_count": 110,
   "id": "db1b12a0-1df0-45d2-abe5-f085ed670879",
   "metadata": {},
   "outputs": [
    {
     "data": {
      "text/plain": [
       "3.84"
      ]
     },
     "execution_count": 110,
     "metadata": {},
     "output_type": "execute_result"
    }
   ],
   "source": [
    "I_BOOST_RMS = Pout/(VAC_min*eff)*math.sqrt((8*math.sqrt(2)*VAC_min)/(3*math.pi*Vout))\n",
    "round(I_BOOST_RMS,2)"
   ]
  },
  {
   "cell_type": "markdown",
   "id": "61d79f0a-4823-4733-89b6-d96cac0b08c5",
   "metadata": {},
   "source": [
    "## Output Capacitor RMS Current (in A)"
   ]
  },
  {
   "cell_type": "code",
   "execution_count": 111,
   "id": "fdebb3f5-279e-404a-b84f-f469aa0b075a",
   "metadata": {},
   "outputs": [
    {
     "data": {
      "text/plain": [
       "2.84"
      ]
     },
     "execution_count": 111,
     "metadata": {},
     "output_type": "execute_result"
    }
   ],
   "source": [
    "I_Cout_RMS=math.sqrt((8*math.sqrt(2)*Pout**2/(3*math.pi*VAC_min*Vout))-Pout**2/Vout**2)\n",
    "round(I_Cout_RMS,2)"
   ]
  },
  {
   "cell_type": "markdown",
   "id": "aa70d26c-93ca-47af-aca0-49f3012e74d0",
   "metadata": {},
   "source": [
    "## Output Capacitor Peak Voltage (in V)"
   ]
  },
  {
   "cell_type": "code",
   "execution_count": 112,
   "id": "3d003d71-6c75-49f5-9e59-a91dd089ba6a",
   "metadata": {},
   "outputs": [
    {
     "data": {
      "text/plain": [
       "410.0"
      ]
     },
     "execution_count": 112,
     "metadata": {},
     "output_type": "execute_result"
    }
   ],
   "source": [
    "V_Cout_MAX = Vout+Vout_pp/2\n",
    "round(V_Cout_MAX,2)"
   ]
  },
  {
   "cell_type": "markdown",
   "id": "dd47629a-bb36-44dc-974f-293e90897400",
   "metadata": {},
   "source": [
    "## REC Diode AVG Current / per diode (in A)"
   ]
  },
  {
   "cell_type": "code",
   "execution_count": 113,
   "id": "4e203a12-2302-4698-8204-2e321f1f43eb",
   "metadata": {},
   "outputs": [
    {
     "data": {
      "text/plain": [
       "2.26"
      ]
     },
     "execution_count": 113,
     "metadata": {},
     "output_type": "execute_result"
    }
   ],
   "source": [
    "I_REC_AVG=1/math.pi*math.sqrt(2)*(Pout/eff)/VAC_min\n",
    "round(I_REC_AVG,2)"
   ]
  },
  {
   "cell_type": "markdown",
   "id": "f198d0a0-d1f4-49f4-a090-4ecfbed5848d",
   "metadata": {},
   "source": [
    "## REC Diode RMS Current / per diode (in A)"
   ]
  },
  {
   "cell_type": "code",
   "execution_count": 114,
   "id": "50df3e62-9d5b-49a2-a34a-a7930898df7b",
   "metadata": {},
   "outputs": [
    {
     "data": {
      "text/plain": [
       "3.55"
      ]
     },
     "execution_count": 114,
     "metadata": {},
     "output_type": "execute_result"
    }
   ],
   "source": [
    "I_REC_RMS = math.sqrt(2)*(Pout/(eff*VAC_min))/2\n",
    "round(I_REC_RMS,2)"
   ]
  },
  {
   "cell_type": "markdown",
   "id": "2b437ca4-a119-4823-a818-c3cfd29e3de5",
   "metadata": {},
   "source": [
    "# Stress Analysis (Worst-Case Simulation)"
   ]
  },
  {
   "cell_type": "code",
   "execution_count": 115,
   "id": "071b36a2-ecad-4b2e-b50b-d6504ff1e224",
   "metadata": {},
   "outputs": [],
   "source": [
    "E_SW_FET = 0\n",
    "#Loop_Compensation(V__g, V__out, Pout, eff, f__sw, C, r__C, L, f__AC):\n",
    "loop_comp = (Loop_Compensation(VAC_min, Vout, Pout, eff, fsw, Cout, Cout_ESR, L, AC_freq))\n",
    "#return [Rf_V, Cfz_V, Cfp_V, Rf_I, Cfz_I, Cfp_I]\n",
    "Rf_V = loop_comp[0]\n",
    "Cfz_V = loop_comp[1]\n",
    "Cfp_V = loop_comp[2]\n",
    "Rf_I = loop_comp[3]\n",
    "Cfz_I = loop_comp[4]\n",
    "Cfp_I = loop_comp[5]\n",
    "\n",
    "#print(loop_comp[0],Rf_I, Cfz_I, Cfp_I, Rf_V, Cfz_V, Cfp_V )\n",
    "if sim_on == True:  \n",
    "    # QSPICE_CCM_Boost_PFC_AMC(Cfp_I, Cfp_V, Cfz_I, Cfz_V, Cout, eff, ESR, freq, fsw, L, Pout, Rf_I, Rf_V, Vin_rms, Vout, export_traces = None):\n",
    "    results_sim=QSPICE.QSPICE_CCM_Boost_PFC_AMC(Cfp_I,Cfp_V,Cfz_I,Cfz_V,Cout,eff,Cout_ESR,AC_freq,fsw,L,Pout,Rf_I,Rf_V, VAC_min, Vout, \"V(pwm),V(out),I(L1),I(S1)\")\n",
    "    IL_RMS       = results_sim[1][0]\n",
    "    I_BOOST_RMS  = results_sim[1][1]\n",
    "    IL_peak      = results_sim[1][2]\n",
    "    I_FET_RMS    = results_sim[1][3]\n",
    "    I_BOOST_AVG  = results_sim[1][4]\n",
    "    \n",
    "    I_Cout_RMS   = results_sim[1][5]\n",
    "    I_REC_RMS    = results_sim[1][6]\n",
    "    I_REC_AVG    = results_sim[1][7]\n",
    "    \n",
    "    V_Cout_MAX   = results_sim[1][8]\n",
    "    I_IN_RMS     = results_sim[1][9]\n",
    "    I_RSENSE_RMS = results_sim[1][10]\n",
    "    \n",
    "    E_SW_FET = ESW_Calc(results_sim[0],Vout)[0]\n",
    "    I_OFF_SW_FET = ESW_Calc(results_sim[0],Vout)[1] #save SW_I_Off data used for Eoff calc.\n",
    "    I_ON_SW_FET = ESW_Calc(results_sim[0],Vout)[2] #save SW_I_On data used for Eon calc.\n",
    "\n",
    "    wfrm = results_sim[0]"
   ]
  },
  {
   "cell_type": "markdown",
   "id": "4d2829ab-2fc3-4ada-84f7-9104136e0796",
   "metadata": {},
   "source": [
    "## Input RMS Current (in A)"
   ]
  },
  {
   "cell_type": "code",
   "execution_count": 116,
   "id": "c1eadf1a-b0c7-4759-8abb-8a23944d3c5c",
   "metadata": {},
   "outputs": [
    {
     "data": {
      "text/plain": [
       "5.1"
      ]
     },
     "execution_count": 116,
     "metadata": {},
     "output_type": "execute_result"
    }
   ],
   "source": [
    "round(I_IN_RMS,1)"
   ]
  },
  {
   "cell_type": "markdown",
   "id": "d362c32c-bf85-4a0d-afb4-808e02aca9bb",
   "metadata": {},
   "source": [
    "## Current Sense Resistor RMS Current (in A)"
   ]
  },
  {
   "cell_type": "code",
   "execution_count": 117,
   "id": "8f41258c-4ab6-4e8d-981f-eb3d60742dbb",
   "metadata": {},
   "outputs": [
    {
     "data": {
      "text/plain": [
       "5.1"
      ]
     },
     "execution_count": 117,
     "metadata": {},
     "output_type": "execute_result"
    }
   ],
   "source": [
    "round(I_RSENSE_RMS,1)"
   ]
  },
  {
   "cell_type": "markdown",
   "id": "b9de7524-d2e2-49bc-9903-08568882829f",
   "metadata": {},
   "source": [
    "## Inductor Peak Current (in A)"
   ]
  },
  {
   "cell_type": "code",
   "execution_count": 118,
   "id": "4382f883-5d6d-4356-a0fb-ee8682ab1c4c",
   "metadata": {},
   "outputs": [
    {
     "data": {
      "text/plain": [
       "9.2"
      ]
     },
     "execution_count": 118,
     "metadata": {},
     "output_type": "execute_result"
    }
   ],
   "source": [
    "round(IL_peak,1)"
   ]
  },
  {
   "cell_type": "markdown",
   "id": "c37debc3-4aa1-42ea-bda3-7834adfcdf5c",
   "metadata": {},
   "source": [
    "## Inductor RMS Current (in A)"
   ]
  },
  {
   "cell_type": "code",
   "execution_count": 119,
   "id": "701e97ee-68bb-479d-afe1-a2143f405479",
   "metadata": {},
   "outputs": [
    {
     "data": {
      "text/plain": [
       "5.13"
      ]
     },
     "execution_count": 119,
     "metadata": {},
     "output_type": "execute_result"
    }
   ],
   "source": [
    "round(IL_RMS,2)"
   ]
  },
  {
   "cell_type": "markdown",
   "id": "73e374c3-801d-47cc-a7ef-074ffa7b0339",
   "metadata": {},
   "source": [
    "## MOSFET RMS Current (in A)"
   ]
  },
  {
   "cell_type": "code",
   "execution_count": 120,
   "id": "d5e70429-adf1-47d9-aea9-23fce1902ec1",
   "metadata": {},
   "outputs": [
    {
     "data": {
      "text/plain": [
       "3.28"
      ]
     },
     "execution_count": 120,
     "metadata": {},
     "output_type": "execute_result"
    }
   ],
   "source": [
    "round(I_FET_RMS,2)"
   ]
  },
  {
   "cell_type": "markdown",
   "id": "f0e85aa1-319d-445f-8f7e-5d06f10fa789",
   "metadata": {},
   "source": [
    "## BOOST Diode AVG Current (in A)"
   ]
  },
  {
   "cell_type": "code",
   "execution_count": 121,
   "id": "1d7472f7-7779-4e46-b2d2-aba12fdce03c",
   "metadata": {},
   "outputs": [
    {
     "data": {
      "text/plain": [
       "2.45"
      ]
     },
     "execution_count": 121,
     "metadata": {},
     "output_type": "execute_result"
    }
   ],
   "source": [
    "round(I_BOOST_AVG,2)"
   ]
  },
  {
   "cell_type": "markdown",
   "id": "6b4442d2-f5b2-47f7-8764-ed5832b979d2",
   "metadata": {},
   "source": [
    "## BOOST Diode RMS Current (in A)"
   ]
  },
  {
   "cell_type": "code",
   "execution_count": 122,
   "id": "b6dda864-d2bc-4949-ba33-2161abde22e6",
   "metadata": {},
   "outputs": [
    {
     "data": {
      "text/plain": [
       "3.95"
      ]
     },
     "execution_count": 122,
     "metadata": {},
     "output_type": "execute_result"
    }
   ],
   "source": [
    "round(I_BOOST_RMS,2)"
   ]
  },
  {
   "cell_type": "markdown",
   "id": "199645a2-80c4-4763-80d6-056a599c0a9e",
   "metadata": {},
   "source": [
    "## Output Capacitor RMS Current (in A)"
   ]
  },
  {
   "cell_type": "code",
   "execution_count": 123,
   "id": "80c9e206-3b78-4a43-b501-a2e7736125bd",
   "metadata": {},
   "outputs": [
    {
     "data": {
      "text/plain": [
       "3.1"
      ]
     },
     "execution_count": 123,
     "metadata": {},
     "output_type": "execute_result"
    }
   ],
   "source": [
    "round(I_Cout_RMS,2)"
   ]
  },
  {
   "cell_type": "markdown",
   "id": "33e95a18-7310-4323-a2d1-03b61d8e0cd8",
   "metadata": {},
   "source": [
    "## Output Capacitor Peak Voltage (in V)"
   ]
  },
  {
   "cell_type": "code",
   "execution_count": 124,
   "id": "b8e3ab1d-fb12-409a-9aea-f8a861fc11ec",
   "metadata": {},
   "outputs": [
    {
     "data": {
      "text/plain": [
       "410.86"
      ]
     },
     "execution_count": 124,
     "metadata": {},
     "output_type": "execute_result"
    }
   ],
   "source": [
    "round(V_Cout_MAX,2)"
   ]
  },
  {
   "cell_type": "markdown",
   "id": "c8307b1d-d07b-421e-89fd-2e6fda208791",
   "metadata": {},
   "source": [
    "## REC Diode AVG Current / per diode (in A)"
   ]
  },
  {
   "cell_type": "code",
   "execution_count": 125,
   "id": "2aa0007f-eeac-4950-9dd3-d7109a85919d",
   "metadata": {},
   "outputs": [
    {
     "data": {
      "text/plain": [
       "2.23"
      ]
     },
     "execution_count": 125,
     "metadata": {},
     "output_type": "execute_result"
    }
   ],
   "source": [
    "round(I_REC_AVG,2)"
   ]
  },
  {
   "cell_type": "markdown",
   "id": "2ff47ea6-3341-42b9-97a4-18cdb8f9925c",
   "metadata": {},
   "source": [
    "## REC Diode RMS Current / per diode (in A)"
   ]
  },
  {
   "cell_type": "code",
   "execution_count": 126,
   "id": "17e91547-cff2-49ce-bbc3-4c7b77dcb3b0",
   "metadata": {},
   "outputs": [
    {
     "data": {
      "text/plain": [
       "3.63"
      ]
     },
     "execution_count": 126,
     "metadata": {},
     "output_type": "execute_result"
    }
   ],
   "source": [
    "round(I_REC_RMS,2)"
   ]
  },
  {
   "cell_type": "markdown",
   "id": "7ed11a5e-927d-4907-a2a1-f9072d067038",
   "metadata": {},
   "source": [
    "# Losses Estimation"
   ]
  },
  {
   "cell_type": "markdown",
   "id": "e1eeb8d7-91d8-4ac3-bab6-0075eee0a396",
   "metadata": {},
   "source": [
    "## Bridge Rectifier (in W)"
   ]
  },
  {
   "cell_type": "code",
   "execution_count": 127,
   "id": "68c09188-551c-4151-beb1-fb978c3c3a9d",
   "metadata": {},
   "outputs": [],
   "source": [
    "P_REC=4*(I_REC_AVG*REC_fwd+REC_rdiff*I_REC_RMS**2)"
   ]
  },
  {
   "cell_type": "code",
   "execution_count": 128,
   "id": "1276c438-075a-4890-8487-571935f0b005",
   "metadata": {},
   "outputs": [
    {
     "data": {
      "text/plain": [
       "10.5"
      ]
     },
     "execution_count": 128,
     "metadata": {},
     "output_type": "execute_result"
    }
   ],
   "source": [
    "round(P_REC,2)"
   ]
  },
  {
   "cell_type": "markdown",
   "id": "2761792b-02f9-4410-b6b1-614cc8680944",
   "metadata": {},
   "source": [
    "## EMI Filter (in W)"
   ]
  },
  {
   "cell_type": "code",
   "execution_count": 129,
   "id": "92e9d833-f7d4-414d-94cd-0a433ce47d6f",
   "metadata": {},
   "outputs": [
    {
     "data": {
      "text/plain": [
       "2.85"
      ]
     },
     "execution_count": 129,
     "metadata": {},
     "output_type": "execute_result"
    }
   ],
   "source": [
    "P_EMI = R_EMI * I_IN_RMS**2\n",
    "round(P_EMI,2)"
   ]
  },
  {
   "cell_type": "markdown",
   "id": "59f9ac19-d2a5-402c-a598-63ef0c51ab63",
   "metadata": {},
   "source": [
    "## Boost Diode"
   ]
  },
  {
   "cell_type": "markdown",
   "id": "ef481796-08b9-4444-9355-3023b85a5cbc",
   "metadata": {},
   "source": [
    "### Conduction Losses (in W)"
   ]
  },
  {
   "cell_type": "code",
   "execution_count": 130,
   "id": "dce7ff32-e02f-4d95-b640-01e22100bb01",
   "metadata": {},
   "outputs": [
    {
     "data": {
      "text/plain": [
       "2.88"
      ]
     },
     "execution_count": 130,
     "metadata": {},
     "output_type": "execute_result"
    }
   ],
   "source": [
    "P_diode_cond=I_BOOST_AVG*BOOST_fwd + BOOST_rdiff * I_BOOST_RMS**2 \n",
    "round(P_diode_cond,2)"
   ]
  },
  {
   "cell_type": "markdown",
   "id": "3405191a-6c31-46a8-a130-8926673a58ea",
   "metadata": {},
   "source": [
    "### Switching Losses (in W)"
   ]
  },
  {
   "cell_type": "code",
   "execution_count": 131,
   "id": "8a648519-cb28-4bb8-a990-5d7d524d05f8",
   "metadata": {},
   "outputs": [
    {
     "data": {
      "text/plain": [
       "0"
      ]
     },
     "execution_count": 131,
     "metadata": {},
     "output_type": "execute_result"
    }
   ],
   "source": [
    "#P_diode_SW=Vout*BOOST_Qc*fsw\n",
    "P_diode_SW = 0\n",
    "round(P_diode_SW,2)"
   ]
  },
  {
   "cell_type": "markdown",
   "id": "f49d8d20-e407-4e97-b3e8-7d7194741d38",
   "metadata": {},
   "source": [
    "This is not losses on diode but on FET which is already included due to DP test performed with actual diode. D_SW has been deleted from graph below. It still remains in total losses calculation but it set to 0. This is true due to the capacitive character of QRR in SiC diode."
   ]
  },
  {
   "cell_type": "markdown",
   "id": "a3828e46-13a3-44bf-bafc-1c5a060979db",
   "metadata": {},
   "source": [
    "## MOSFET"
   ]
  },
  {
   "cell_type": "markdown",
   "id": "57b81257-0eb2-4a56-bc28-17e2d155a16b",
   "metadata": {},
   "source": [
    "### Conduction Losses (in W)"
   ]
  },
  {
   "cell_type": "code",
   "execution_count": 132,
   "id": "d1be8590-e25d-454a-b690-30ea760e6981",
   "metadata": {},
   "outputs": [
    {
     "data": {
      "text/plain": [
       "2.19"
      ]
     },
     "execution_count": 132,
     "metadata": {},
     "output_type": "execute_result"
    }
   ],
   "source": [
    "P_FET_Cond = rdson * I_FET_RMS**2\n",
    "round(P_FET_Cond,2)"
   ]
  },
  {
   "cell_type": "markdown",
   "id": "0d117ffb-aec7-4a9a-a36a-85a8dec676a0",
   "metadata": {},
   "source": [
    "### Switching Losses (in W)"
   ]
  },
  {
   "cell_type": "code",
   "execution_count": 133,
   "id": "533bc88b-63f2-435d-b2c2-4a57f24c6f53",
   "metadata": {},
   "outputs": [
    {
     "data": {
      "text/plain": [
       "2.65"
      ]
     },
     "execution_count": 133,
     "metadata": {},
     "output_type": "execute_result"
    }
   ],
   "source": [
    "P_FET_SW = E_SW_FET*AC_freq\n",
    "float(round(P_FET_SW,2))"
   ]
  },
  {
   "cell_type": "markdown",
   "id": "d3e2e990-627e-4bda-acb7-52fee4fbcd21",
   "metadata": {},
   "source": [
    "## Output Capacitor (in W)"
   ]
  },
  {
   "cell_type": "code",
   "execution_count": 134,
   "id": "eb58b0d9-541f-47a1-9973-1d44debdb65a",
   "metadata": {},
   "outputs": [
    {
     "data": {
      "text/plain": [
       "0.24"
      ]
     },
     "execution_count": 134,
     "metadata": {},
     "output_type": "execute_result"
    }
   ],
   "source": [
    "P_Cout = Cout_ESR * I_Cout_RMS**2\n",
    "round(P_Cout,2)"
   ]
  },
  {
   "cell_type": "markdown",
   "id": "d5b658c5-e1db-4857-a6c5-e305a95c0bed",
   "metadata": {},
   "source": [
    "## Current Sense Resistor (in W)"
   ]
  },
  {
   "cell_type": "code",
   "execution_count": 135,
   "id": "4b6fad90-0bcd-49d9-879a-25cbd7bd58d0",
   "metadata": {},
   "outputs": [
    {
     "data": {
      "text/plain": [
       "0.26"
      ]
     },
     "execution_count": 135,
     "metadata": {},
     "output_type": "execute_result"
    }
   ],
   "source": [
    "P_Rsense = Rsense*I_RSENSE_RMS**2\n",
    "round(P_Rsense,2)"
   ]
  },
  {
   "cell_type": "markdown",
   "id": "91a1785c-5d5c-4c91-be8e-49190b8914f2",
   "metadata": {},
   "source": [
    "# Estimated Total Converter Losses Without Magnetic Losses"
   ]
  },
  {
   "cell_type": "code",
   "execution_count": 1,
   "id": "d0dec598-0910-4d18-97a1-e45028f8ea83",
   "metadata": {},
   "outputs": [
    {
     "ename": "NameError",
     "evalue": "name 'P_REC' is not defined",
     "output_type": "error",
     "traceback": [
      "\u001b[1;31m---------------------------------------------------------------------------\u001b[0m",
      "\u001b[1;31mNameError\u001b[0m                                 Traceback (most recent call last)",
      "Cell \u001b[1;32mIn[1], line 2\u001b[0m\n\u001b[0;32m      1\u001b[0m labels_Ploss\u001b[38;5;241m=\u001b[39m \u001b[38;5;124m'\u001b[39m\u001b[38;5;124mInput_REC+EMI\u001b[39m\u001b[38;5;124m'\u001b[39m, \u001b[38;5;124m'\u001b[39m\u001b[38;5;124mPrimary_FET\u001b[39m\u001b[38;5;124m'\u001b[39m, \u001b[38;5;124m'\u001b[39m\u001b[38;5;124mBoost_Diode\u001b[39m\u001b[38;5;124m'\u001b[39m, \u001b[38;5;124m'\u001b[39m\u001b[38;5;124mR_sense+Output_Cap\u001b[39m\u001b[38;5;124m'\u001b[39m\n\u001b[1;32m----> 2\u001b[0m data_Ploss \u001b[38;5;241m=\u001b[39m [\u001b[43mP_REC\u001b[49m\u001b[38;5;241m+\u001b[39mP_EMI, P_FET_Cond\u001b[38;5;241m+\u001b[39mP_FET_SW, P_diode_cond, P_Rsense\u001b[38;5;241m+\u001b[39mP_Cout]\n\u001b[0;32m      4\u001b[0m labels_Ploss_Bar\u001b[38;5;241m=\u001b[39m \u001b[38;5;124m'\u001b[39m\u001b[38;5;124mREC\u001b[39m\u001b[38;5;124m'\u001b[39m, \u001b[38;5;124m'\u001b[39m\u001b[38;5;124mEMI\u001b[39m\u001b[38;5;124m'\u001b[39m, \u001b[38;5;124m'\u001b[39m\u001b[38;5;124mP_Cond\u001b[39m\u001b[38;5;124m'\u001b[39m, \u001b[38;5;124m'\u001b[39m\u001b[38;5;124mP_SW\u001b[39m\u001b[38;5;124m'\u001b[39m, \u001b[38;5;124m'\u001b[39m\u001b[38;5;124mD_Cond\u001b[39m\u001b[38;5;124m'\u001b[39m, \u001b[38;5;124m'\u001b[39m\u001b[38;5;124mR_sen\u001b[39m\u001b[38;5;124m'\u001b[39m, \u001b[38;5;124m'\u001b[39m\u001b[38;5;124mCout\u001b[39m\u001b[38;5;124m'\u001b[39m\n\u001b[0;32m      5\u001b[0m data_Ploss_Bar \u001b[38;5;241m=\u001b[39m [P_REC, P_EMI, P_FET_Cond, P_FET_SW, P_diode_cond, P_Rsense, P_Cout]\n",
      "\u001b[1;31mNameError\u001b[0m: name 'P_REC' is not defined"
     ]
    }
   ],
   "source": [
    "labels_Ploss= 'Input_REC+EMI', 'Primary_FET', 'Boost_Diode', 'R_sense+Output_Cap'\n",
    "data_Ploss = [P_REC+P_EMI, P_FET_Cond+P_FET_SW, P_diode_cond, P_Rsense+P_Cout]\n",
    "\n",
    "labels_Ploss_Bar= 'REC', 'EMI', 'P_Cond', 'P_SW', 'D_Cond', 'R_sen', 'Cout'\n",
    "data_Ploss_Bar = [P_REC, P_EMI, P_FET_Cond, P_FET_SW, P_diode_cond, P_Rsense, P_Cout]\n",
    "\n",
    "#bar_labels = ['red', 'blue', '_red', 'orange','green']\n",
    "bar_colors = ['tab:blue', 'tab:blue', 'tab:orange', 'tab:orange', 'tab:green', 'tab:green','tab:red', 'tab:red']\n",
    "\n",
    "def autopct_format(values):\n",
    "        def my_format(pct):\n",
    "            total = sum(values)\n",
    "            val = round(pct*total/100,3)\n",
    "            return '{:.1f}%\\n({v:.2f} W)'.format(pct, v=val)\n",
    "        return my_format\n",
    "\n",
    "def addlabels(x,y):\n",
    "    for i in range(len(x)):\n",
    "        ax2.text(i, y[i]+0.05, round(y[i],2), ha = 'center')\n",
    "        \n",
    "fig, (ax1, ax2) = plt.subplots(1, 2, figsize=(14,6))\n",
    "#fig, (ax1, ax2) = plt.subplots(1, 2)\n",
    "#fig, ax1 = plt.subplots()\n",
    "\n",
    "if sim_on == True:\n",
    "    fig.suptitle('Power Losses Breakdown (w/o Losses in Magnetics)'+'\\n'+'(Minimum Input Voltage)',fontsize=18)\n",
    "else:\n",
    "    fig.suptitle('Power Losses Breakdown (w/o MOSFET SW Losses and Losses in Magnetics)'+'\\n'+'(Minimum Input Voltage)',fontsize=18)\n",
    "ax1.pie(data_Ploss, labels=labels_Ploss, autopct=autopct_format(data_Ploss))\n",
    "\n",
    "ax2.bar(labels_Ploss_Bar, data_Ploss_Bar,color=bar_colors)\n",
    "ax2.grid(True, linestyle='-.',axis='y')\n",
    "ax2.yaxis.set_minor_locator(AutoMinorLocator(5))\n",
    "ax2.set_ylabel('Power (W)')\n",
    "addlabels(labels_Ploss_Bar,data_Ploss_Bar)\n",
    "\n",
    "fig.subplots_adjust(left = 0, top=0.86, wspace = 0.3)\n",
    "#fig.subplots_adjust(left=0.05, right=0.95, wspace=0.2)\n",
    "\n",
    "plt.show()\n",
    "if sim_on == False:\n",
    "    display(Markdown('<font size=\"6\"> <span style=\"color:red\"> Warning: Primary MOSFET switching losses are available only when simulated.</span></font>'))"
   ]
  },
  {
   "cell_type": "markdown",
   "id": "09b95188-0c7f-4918-b8f7-cf10fd7cb08c",
   "metadata": {},
   "source": [
    "# Estimated Total Efficiency Without Magnetics (in %)"
   ]
  },
  {
   "cell_type": "code",
   "execution_count": 137,
   "id": "90c3fcdc-0577-49f8-8217-51450f2a5db6",
   "metadata": {},
   "outputs": [
    {
     "data": {
      "text/plain": [
       "97.8"
      ]
     },
     "execution_count": 137,
     "metadata": {},
     "output_type": "execute_result"
    }
   ],
   "source": [
    "P_total = P_REC+P_EMI+P_FET_Cond+P_FET_SW+P_diode_cond+P_diode_SW+P_Rsense+P_Cout\n",
    "eff_Vin_min = Pout / (Pout+P_total)\n",
    "float(round(eff_Vin_min*100,1))"
   ]
  },
  {
   "cell_type": "code",
   "execution_count": 138,
   "id": "8c593c93-1e88-4677-809d-ebe57237002b",
   "metadata": {
    "jupyter": {
     "source_hidden": true
    }
   },
   "outputs": [],
   "source": [
    "if eff > eff_Vin_min:\n",
    "    display(Markdown('<font size=\"6\"> <span style=\"color:red\"> Warning: User estimated efficiency is bigger than calculated. The results are underestimated.</span></font>'))"
   ]
  },
  {
   "cell_type": "markdown",
   "id": "8b68861d-5b9a-4da7-bec7-9dd9f8ceb135",
   "metadata": {},
   "source": [
    "# Selected Waveforms"
   ]
  },
  {
   "cell_type": "code",
   "execution_count": 139,
   "id": "bc831fc2-fe3d-420d-9a25-75166c12b9cf",
   "metadata": {},
   "outputs": [
    {
     "data": {
      "application/vnd.jupyter.widget-view+json": {
       "model_id": "78f30bb534074619a592f1474808d6db",
       "version_major": 2,
       "version_minor": 0
      },
      "image/png": "[encoded data removed]",
      "text/html": [
       "\n",
       "            <div style=\"display: inline-block;\">\n",
       "                <div class=\"jupyter-widgets widget-label\" style=\"text-align: center;\">\n",
       "                    Figure\n",
       "                </div>\n",
       "                <img src='data:image/png;base64,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' width=1300.0/>\n",
       "            </div>\n",
       "        "
      ],
      "text/plain": [
       "Canvas(toolbar=Toolbar(toolitems=[('Home', 'Reset original view', 'home', 'home'), ('Back', 'Back to previous …"
      ]
     },
     "metadata": {},
     "output_type": "display_data"
    },
    {
     "data": {
      "application/vnd.jupyter.widget-view+json": {
       "model_id": "68ecaab51bd24044b8adf8ceac297387",
       "version_major": 2,
       "version_minor": 0
      },
      "image/png": "[encoded data removed]",
      "text/html": [
       "\n",
       "            <div style=\"display: inline-block;\">\n",
       "                <div class=\"jupyter-widgets widget-label\" style=\"text-align: center;\">\n",
       "                    Figure\n",
       "                </div>\n",
       "                <img src='data:image/png;base64,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' width=1300.0/>\n",
       "            </div>\n",
       "        "
      ],
      "text/plain": [
       "Canvas(toolbar=Toolbar(toolitems=[('Home', 'Reset original view', 'home', 'home'), ('Back', 'Back to previous …"
      ]
     },
     "metadata": {},
     "output_type": "display_data"
    }
   ],
   "source": [
    "if sim_on == True:\n",
    "    fig, (ax1, ax2) = plt.subplots(1, 2, figsize=(13,4.5))\n",
    "    \n",
    "    #fig.suptitle('Power Losses Breakdown (w/o Losses in Magnetics)'+'\\n'+'(Minimum Input Voltage)',fontsize=18)\n",
    "    #ax1.pie(data_Ploss, labels=labels_Ploss, autopct=autopct_format(data_Ploss))\n",
    "    ax1.plot(wfrm[\"time\"], wfrm[\"v(out)\"])\n",
    "    ax1.grid(True, linestyle='-.')\n",
    "    ax1.set(xlabel='Time (s)', ylabel='Output Voltage (V)')\n",
    "    ax2.plot(wfrm[\"time\"], wfrm[\"i(l1)\"])\n",
    "    ax2.grid(True, linestyle='-.')\n",
    "    ax2.set(xlabel='Time (s)', ylabel='Inductor Current (A)')\n",
    "    plt.show()\n",
    "\n",
    "    fig, ax1 = plt.subplots(figsize=(13,5))\n",
    "    #fig.suptitle('Power Losses Breakdown (w/o Losses in Magnetics)'+'\\n'+'(Minimum Input Voltage)',fontsize=18)\n",
    "    #ax1.pie(data_Ploss, labels=labels_Ploss, autopct=autopct_format(data_Ploss))\n",
    "    ax1.plot(wfrm[\"time\"], wfrm[\"i(s1)\"])\n",
    "    ax1.plot(I_OFF_SW_FET[\"time\"],I_OFF_SW_FET[\"i(s1)\"], 'o', markersize=5, label='I_OFF for E_SW calc.')\n",
    "    ax1.plot(I_ON_SW_FET[\"time\"],I_ON_SW_FET[\"i(s1)\"], 'o', markersize=5, label='I_ON for E_SW calc.')\n",
    "    ax1.grid(True, linestyle='-.')\n",
    "    ax1.set(xlabel='Time (s)', ylabel='MOSFET Current (A)')\n",
    "    ax1.legend(loc='upper left', bbox_to_anchor=(0.8, 1))\n",
    "\n",
    "    \n",
    "    plt.show()\n",
    "    #plt.close()\n",
    "else:\n",
    "    display(Markdown('<font size=\"6\"> <span style=\"color:red\"> Warning: Available only when simulated.</span></font>'))"
   ]
  },
  {
   "cell_type": "markdown",
   "id": "7900358c-40a0-4c6c-b4c9-1c68440fddc1",
   "metadata": {},
   "source": [
    "# PFC Inductor Design"
   ]
  },
  {
   "cell_type": "markdown",
   "id": "07ee8e67-f773-4704-a4d9-87f85d2482fd",
   "metadata": {},
   "source": [
    "Based on M. Pieniz, J. R. Pinheiro and H. L. Hey, \"An investigation of the boost inductor volume applied to PFC converters,\" 2006 37th IEEE Power Electronics Specialists Conference, Jeju, Korea (South), 2006, pp. 1-7, doi: 10.1109/pesc.2006.1712248.\n",
    "\n",
    "It utilized low cost powder core material with a single layer coil\n"
   ]
  },
  {
   "cell_type": "code",
   "execution_count": 140,
   "id": "99e643de-ea62-46a8-bf10-7d2d6fd4f8f2",
   "metadata": {
    "jupyter": {
     "source_hidden": true
    }
   },
   "outputs": [],
   "source": [
    "#Maximum wire current density in A/cm^2\n",
    "j_max = 600\n",
    "\n",
    "# Minimum wire cross-section in cm^2\n",
    "S_min = IL_RMS / 600\n",
    "\n",
    "#Minimum wire diameter in cm\n",
    "dw_min = math.sqrt(4*S_min/math.pi)\n",
    "\n",
    "#Minimum wire size in AWG\n",
    "AWG_min = round(-39*math.log(dw_min*10/0.127,92)+36)\n",
    "#Core Outside Diameter\n",
    "OD = 50"
   ]
  },
  {
   "cell_type": "markdown",
   "id": "58a2a769-1a62-4b50-8d83-05c02ab19912",
   "metadata": {},
   "source": [
    "## Minimum Wire Diameter"
   ]
  },
  {
   "cell_type": "code",
   "execution_count": 141,
   "id": "cecde6ea-0e06-4ea9-b029-0c3afc5051cd",
   "metadata": {
    "jupyter": {
     "source_hidden": true
    }
   },
   "outputs": [
    {
     "name": "stdout",
     "output_type": "stream",
     "text": [
      "0.8557133333333334\n",
      "0.10438046057366973\n"
     ]
    }
   ],
   "source": [
    "print(S_min*100)\n",
    "print(dw_min)\n",
    "#print(AWG)"
   ]
  },
  {
   "cell_type": "code",
   "execution_count": 142,
   "id": "26f04c08-03c5-4ea0-bfaa-590e71d07fc6",
   "metadata": {},
   "outputs": [],
   "source": [
    "#N_max = 0.95*math.pi*((OD/(dw*kd))-1)"
   ]
  },
  {
   "cell_type": "code",
   "execution_count": null,
   "id": "d85f23d3-df6b-4b68-bfe4-594ef60a2fb3",
   "metadata": {},
   "outputs": [],
   "source": []
  }
 ],
 "metadata": {
  "kernelspec": {
   "display_name": "Python 3",
   "language": "python",
   "name": "python3"
  },
  "language_info": {
   "codemirror_mode": {
    "name": "ipython",
    "version": 3
   },
   "file_extension": ".py",
   "mimetype": "text/x-python",
   "name": "python",
   "nbconvert_exporter": "python",
   "pygments_lexer": "ipython3",
   "version": "3.11.6"
  }
 },
 "nbformat": 4,
 "nbformat_minor": 5
}
