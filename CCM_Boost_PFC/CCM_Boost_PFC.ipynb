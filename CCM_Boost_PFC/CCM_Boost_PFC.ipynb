{
 "cells": [
  {
   "cell_type": "code",
   "execution_count": 1,
   "id": "7bbddfbd-3a67-472b-929f-734b99250dce",
   "metadata": {
    "jupyter": {
     "source_hidden": true
    }
   },
   "outputs": [],
   "source": [
    "import math\n",
    "import pandas as pd\n",
    "import numpy as np\n",
    "\n",
    "import CCM_Boost_PFC_QSPICE_circs\n",
    "\n",
    "from IPython.display import display, Markdown, Latex\n",
    "from matplotlib import pyplot as plt\n",
    "from matplotlib.ticker import (MultipleLocator, AutoMinorLocator)\n",
    "from scipy.interpolate import RegularGridInterpolator\n",
    "from scipy.interpolate import interp1d\n",
    "\n",
    "pd.options.display.float_format = '{:.5e}'.format\n",
    "\n",
    "\n",
    "# 2D interpolation \n",
    "# path - path to data folder\n",
    "# file_name - filename of csv file with EON/EFF data\n",
    "# VDS - MOSFET VDS value\n",
    "# ID - drain current\n",
    "# note: current vector has to start from 0 up to value larger than maximum peak current\n",
    "# note: voltage vector should start from 0 up to VDS_max\n",
    "def ESW_Interp(path,file_name,VDS,ID):\n",
    "    \n",
    "    ESW=0\n",
    "    if (VDS >= 0) and (file_name != ''):\n",
    "        df = pd.read_csv(path+file_name, header=None)\n",
    "\n",
    "        Y=df.iloc[1:len(df.index),0].to_numpy()\n",
    "\n",
    "        X=df.iloc[0,1:].to_numpy()\n",
    "\n",
    "        data=df.iloc[1:,1:].to_numpy()\n",
    "   \n",
    "        interp = RegularGridInterpolator((Y,X),data)\n",
    "        ESW=interp((ID,VDS))\n",
    "       \n",
    "    else:\n",
    "        ESW=0\n",
    "    \n",
    "    \n",
    "    return ESW\n",
    "\n",
    "# Switching Losses Calculation\n",
    "# data - Pandas dataframe\n",
    "# VDS - VDS value. In Boost PFC, VDS is equal to Vout\n",
    "\n",
    "#return: Total energy in J over current waveform period\n",
    "def ESW_Calc(data,VDS):\n",
    "    \n",
    "    #df = pd.read_csv(path+file_name)\n",
    "    df = data\n",
    "    # Modify the data so small numerical deviation from 0 and 1 will not interfere with TurnON/OFF detection\n",
    "    # Tolerance range for modification. E.g. Value within range of 1 +/- tolerance is still concidered as 1\n",
    "    tolerance=1e-4\n",
    "    df['V(pwm)']=df['V(pwm)'].apply(lambda x: 1 if (1-tolerance) <= x <= (1+tolerance) else x)\n",
    "    df['V(pwm)']=df['V(pwm)'].apply(lambda x: 0 if (0-tolerance) <= x <= (0+tolerance) else x)\n",
    "\n",
    "    #Detect Turn-OFF (1->0)\n",
    "    mask_OFF = (df['V(pwm)'] == 1) & (df['V(pwm)'].shift(-1) < 1)\n",
    "    \n",
    "    #Detect Turn-ON (0->1)\n",
    "    mask_ON = (df['V(pwm)'] == 1) & (df['V(pwm)'].shift(1) < 1)\n",
    "\n",
    "    # DataFrame of currents for Turn-OFF energy calculation\n",
    "    I_OFF = df.loc[mask_OFF,['Time','I(S1)']]\n",
    "    # Replace all negative current values by 0\n",
    "    I_OFF['I(S1)'] = I_OFF['I(S1)'].apply(lambda x: max(0,x))\n",
    "    \n",
    "    # DataFrame of currents for Turn-ON energy calculation\n",
    "    I_ON = df.loc[mask_ON,['Time','I(S1)']]\n",
    "    # Replace all negative current values by 0\n",
    "    I_ON['I(S1)'] = I_ON['I(S1)'].apply(lambda x: max(0,x))\n",
    "\n",
    "    # Calculate and add EOFF column\n",
    "    I_OFF['EOFF'] = ESW_Interp(MOS_DATA_FLD,EOFF_file_name,VDS,I_OFF['I(S1)'])\n",
    "\n",
    "    # Calculate and add EON column\n",
    "    I_ON['EON'] = ESW_Interp(MOS_DATA_FLD,EON_file_name,VDS,I_ON['I(S1)'])\n",
    "\n",
    "    sum_EOFF = I_OFF['EOFF'].sum()\n",
    "    sum_EON = I_ON['EON'].sum()\n",
    "    E_tot = sum_EOFF + sum_EON\n",
    "\n",
    " #   print(I_OFF.to_string())\n",
    " #   print(I_ON.to_string())\n",
    "\n",
    " #   print('Total Eoff = ', sum_EOFF)\n",
    " #   print('Total Eon = ', sum_EON)\n",
    " #   print('Total ESW = ', E_tot)\n",
    "       \n",
    "    return E_tot\n"
   ]
  },
  {
   "cell_type": "markdown",
   "id": "f1d48b82-a5c1-4e85-a4db-681e7d4207fd",
   "metadata": {},
   "source": [
    "# Input Data"
   ]
  },
  {
   "cell_type": "code",
   "execution_count": 2,
   "id": "f4dbefb7-5d03-4906-b57c-2be9b8f42ca6",
   "metadata": {},
   "outputs": [],
   "source": [
    "# Use simulation (True/False)\n",
    "sim_on = True\n",
    "\n",
    "#Input AC values in RMS\n",
    "VAC_min = 195\n",
    "VAC_max = 265\n",
    "VAC_nom = 230\n",
    "\n",
    "AC_freq=50\n",
    "\n",
    "#Output Voltage\n",
    "Vout=400\n",
    "Vout_pp=20\n",
    "\n",
    "#Output power \n",
    "#note: Concider that output power is Pout of DC/DC / eff_dc_dc\n",
    "Pout=940\n",
    "#Estimated efficiency\n",
    "eff=0.96\n",
    "#switching frequency\n",
    "fsw=133e3\n",
    "\n",
    "#Inductor ripple current (e.g. for 25% put 0.25)\n",
    "IL_ripple=0.5\n",
    "\n",
    "### Input REC Bridge Diode ####\n",
    "REC_fwd = 1\n",
    "REC_rdiff = 30e-3\n",
    "\n",
    "### Input EMI Filter ###\n",
    "#Additional total resistance formed by EMI components\n",
    "#CM_Choke+Relay\n",
    "R_EMI = 8e-3+0.1\n",
    "\n",
    "### MOSFET ###\n",
    "# Set MOSFET Data Folder and EOFF and EON file names. If empty string is provided, EOFF and EON energy estimation is skipped and return 0 J\n",
    "# Note. EOFF and EON data should be obtained using a standard double-pulse test method using the actual boost diode.\n",
    "MOS_DATA_FLD = \"Data/MOSFET/IPP60R120P7/\"\n",
    "EOFF_file_name = \"EOFF_15V_100degC_5600mOhm_25ns_IDH08G65C6.csv\"\n",
    "EON_file_name = \"EON_15V_100degC_5600mOhm_25ns_IDH08G65C6.csv\"\n",
    "\n",
    "#WC RDSon@100degC\n",
    "rdson=0.204\n",
    "\n",
    "### Output Diode@75degC ###\n",
    "# Infineon IDH08G65C6\n",
    "BOOST_fwd=0.69\n",
    "BOOST_rdiff=76e-3\n",
    "BOOST_Qc = 12.2e-9\n",
    "\n",
    "### Output Capacitor ###\n",
    "Cout_ESR = 150e-3\n",
    "\n",
    "### Current sense resistor\n",
    "Rsense = 10e-3\n",
    "\n",
    "################### TESTING ########################\n",
    "\n",
    "\n",
    "#print('EOFF Energy:',ESW_Interp(MOS_DATA_FLD,EOFF_file_name,400,[0.01, 11]))\n",
    "#print('EON Energy:',ESW_Interp(MOS_DATA_FLD,EON_file_name,400,0.1))\n",
    "\n",
    "# QSPICE_PFC_CCM_ACMC(VAC_rms, Cout, ESR, eff, fsw, freq, L, Pout, Vout)\n",
    "#ret=CCM_Boost_PFC_QSPICE_circs.QSPICE_PFC_CCM_ACMC(250, 500e-6, 150e-3, 0.96, 65e3, 50, 295e-6, 900, 400)\n",
    "#print(ret[1][0])\n",
    "\n",
    "#E_results = ESW_Calc(ret[0],400)\n",
    "#print(E_results)\n",
    "\n",
    "#wfrm = ret[0]\n",
    "#plt.plot(wfrm[\"Time\"], wfrm[\"V(OUT)\"])\n",
    "#plt.show()"
   ]
  },
  {
   "cell_type": "markdown",
   "id": "28453081-1d28-411a-8b78-4fd054700bc2",
   "metadata": {},
   "source": [
    "# Minimum Inductor Value Estimation (in uH)\n",
    "Note: Valid at minimum Vin and full load. To maintain the same ripple at maximum Vin, inductance must be higher"
   ]
  },
  {
   "cell_type": "code",
   "execution_count": 3,
   "id": "215ec0cf-9f06-412b-9750-d0ba309672df",
   "metadata": {},
   "outputs": [],
   "source": [
    "L=1/IL_ripple*(VAC_min**2/Pout)*(1-math.sqrt(2)*VAC_min/Vout)*1/fsw"
   ]
  },
  {
   "cell_type": "code",
   "execution_count": 4,
   "id": "529094a1-021c-4305-8c48-6bcfc25b6cf4",
   "metadata": {},
   "outputs": [
    {
     "name": "stdout",
     "output_type": "stream",
     "text": [
      "189\n"
     ]
    }
   ],
   "source": [
    "print(round(L*1e6))"
   ]
  },
  {
   "cell_type": "markdown",
   "id": "411156e2-54fa-4712-8159-ffa29f223357",
   "metadata": {},
   "source": [
    "# Maximum Allowed Pk-Pk Output Voltage Ripple (in V)\n",
    "To ensure proper boost functionality, output voltage must be alwasy higher than input voltage"
   ]
  },
  {
   "cell_type": "code",
   "execution_count": 5,
   "id": "39ae679f-30b7-4b2e-9b79-6f1629d87745",
   "metadata": {
    "jupyter": {
     "source_hidden": true
    }
   },
   "outputs": [
    {
     "name": "stdout",
     "output_type": "stream",
     "text": [
      "25.23\n"
     ]
    }
   ],
   "source": [
    "Vout_pp_max=Vout-VAC_max*math.sqrt(2)\n",
    "print(round(Vout_pp_max,2))\n",
    "if Vout_pp > Vout_pp_max:\n",
    "    display(Markdown('<font size=\"6\"> <span style=\"color:red\"> Warning: Defined output pk-pk voltage ripple does not ensure proper boost functionality </span></font>'))"
   ]
  },
  {
   "cell_type": "markdown",
   "id": "70452a25-fd9c-4ce2-bf8f-00e81b429f02",
   "metadata": {},
   "source": [
    "# Output Capacitor Requirements"
   ]
  },
  {
   "cell_type": "markdown",
   "id": "e3db024d-9162-4324-80bb-98be2dabb01f",
   "metadata": {},
   "source": [
    "## Minimum Capacitance (in uF)"
   ]
  },
  {
   "cell_type": "code",
   "execution_count": 6,
   "id": "01ac6b52-ce95-4d24-bca3-2b8d0f362cd3",
   "metadata": {},
   "outputs": [],
   "source": [
    "Cout=Pout/(2*math.pi*AC_freq*Vout_pp*Vout)"
   ]
  },
  {
   "cell_type": "code",
   "execution_count": 7,
   "id": "42dbb125-19c1-486e-8caa-beaaabe78786",
   "metadata": {},
   "outputs": [
    {
     "data": {
      "text/plain": [
       "374.01"
      ]
     },
     "execution_count": 7,
     "metadata": {},
     "output_type": "execute_result"
    }
   ],
   "source": [
    "round(Cout*1e6,2)"
   ]
  },
  {
   "cell_type": "markdown",
   "id": "90a8bc70-48b1-4aff-8a4f-3c8d4dcfda77",
   "metadata": {},
   "source": [
    "# Stress Analysis (Worst-Case Calculation)"
   ]
  },
  {
   "cell_type": "markdown",
   "id": "57d0ce0b-ea67-4d42-87cb-6e8618b4bf82",
   "metadata": {},
   "source": [
    "## Input RMS Current (in A)"
   ]
  },
  {
   "cell_type": "code",
   "execution_count": 8,
   "id": "e703e20c-ee62-44d8-93d8-d8550b7840ac",
   "metadata": {},
   "outputs": [
    {
     "data": {
      "text/plain": [
       "4.8"
      ]
     },
     "execution_count": 8,
     "metadata": {},
     "output_type": "execute_result"
    }
   ],
   "source": [
    "I_IN_RMS = Pout/VAC_min\n",
    "round(I_IN_RMS,1)"
   ]
  },
  {
   "cell_type": "markdown",
   "id": "7cf06720-eee2-43cb-884c-f82f5b292925",
   "metadata": {},
   "source": [
    "## Current Sense Resistor RMS Current (in A)"
   ]
  },
  {
   "cell_type": "code",
   "execution_count": 9,
   "id": "e28a6840-cb1c-4805-98b1-802e5abbb852",
   "metadata": {},
   "outputs": [
    {
     "data": {
      "text/plain": [
       "4.8"
      ]
     },
     "execution_count": 9,
     "metadata": {},
     "output_type": "execute_result"
    }
   ],
   "source": [
    "I_RSENSE_RMS = I_IN_RMS\n",
    "round(I_RSENSE_RMS,1)"
   ]
  },
  {
   "cell_type": "markdown",
   "id": "6ed5ba8d-9f98-414a-8f6a-5d0fb7c8be57",
   "metadata": {},
   "source": [
    "## Inductor Peak Current (in A)"
   ]
  },
  {
   "cell_type": "code",
   "execution_count": 10,
   "id": "4ebb91ac-24d0-4c9b-ac88-7f9a11ce75e2",
   "metadata": {},
   "outputs": [],
   "source": [
    "IL_peak=math.sqrt(2)*(Pout/eff)/VAC_min*(1+IL_ripple/2)"
   ]
  },
  {
   "cell_type": "code",
   "execution_count": 11,
   "id": "980a0505-448f-4151-bf3e-33b41e0df06d",
   "metadata": {},
   "outputs": [
    {
     "data": {
      "text/plain": [
       "8.9"
      ]
     },
     "execution_count": 11,
     "metadata": {},
     "output_type": "execute_result"
    }
   ],
   "source": [
    "round(IL_peak,1)"
   ]
  },
  {
   "cell_type": "markdown",
   "id": "c3617a61-9770-4da8-9301-8c51985460a0",
   "metadata": {},
   "source": [
    "## Inductor RMS Current (in A)"
   ]
  },
  {
   "cell_type": "code",
   "execution_count": 12,
   "id": "e1e6718d-674c-44d2-84f7-f5f3f2a1afc4",
   "metadata": {},
   "outputs": [],
   "source": [
    "IL_RMS=(Pout/eff)/VAC_min"
   ]
  },
  {
   "cell_type": "code",
   "execution_count": 13,
   "id": "a82ee8ca-1ce6-402c-bdc8-a204d63cc4d5",
   "metadata": {},
   "outputs": [
    {
     "data": {
      "text/plain": [
       "5.02"
      ]
     },
     "execution_count": 13,
     "metadata": {},
     "output_type": "execute_result"
    }
   ],
   "source": [
    "round(IL_RMS,2)"
   ]
  },
  {
   "cell_type": "markdown",
   "id": "0149083d-0c18-4c15-9240-475a45eeafca",
   "metadata": {},
   "source": [
    "## MOSFET RMS Current (in A)"
   ]
  },
  {
   "cell_type": "code",
   "execution_count": 14,
   "id": "ea7d445c-5712-487d-88cc-ad8c052388c4",
   "metadata": {},
   "outputs": [],
   "source": [
    "I_FET_RMS=(Pout/eff)/VAC_min*math.sqrt(1-(8*math.sqrt(2)*VAC_min/(3*math.pi*Vout)))"
   ]
  },
  {
   "cell_type": "code",
   "execution_count": 15,
   "id": "6f62bce2-ae3a-48b3-a6d6-820d28e1565a",
   "metadata": {},
   "outputs": [
    {
     "data": {
      "text/plain": [
       "3.23"
      ]
     },
     "execution_count": 15,
     "metadata": {},
     "output_type": "execute_result"
    }
   ],
   "source": [
    "round(I_FET_RMS,2)"
   ]
  },
  {
   "cell_type": "markdown",
   "id": "d1c77cf6-3035-4c5e-a9a3-9d2f43f775b6",
   "metadata": {},
   "source": [
    "## BOOST Diode AVG Current (in A)"
   ]
  },
  {
   "cell_type": "code",
   "execution_count": 16,
   "id": "716d8231-d7fd-4c95-9327-b673036e3c1e",
   "metadata": {},
   "outputs": [],
   "source": [
    "I_BOOST_AVG = Pout/Vout"
   ]
  },
  {
   "cell_type": "code",
   "execution_count": 17,
   "id": "e691b845-29a2-4f78-bf11-7106bc9069f3",
   "metadata": {},
   "outputs": [
    {
     "data": {
      "text/plain": [
       "2.35"
      ]
     },
     "execution_count": 17,
     "metadata": {},
     "output_type": "execute_result"
    }
   ],
   "source": [
    "round(I_BOOST_AVG,2)"
   ]
  },
  {
   "cell_type": "markdown",
   "id": "3190b8c0-00ce-4c58-9776-7abc729644ae",
   "metadata": {},
   "source": [
    "## BOOST Diode RMS Current (in A)"
   ]
  },
  {
   "cell_type": "code",
   "execution_count": 18,
   "id": "db1b12a0-1df0-45d2-abe5-f085ed670879",
   "metadata": {},
   "outputs": [
    {
     "data": {
      "text/plain": [
       "3.84"
      ]
     },
     "execution_count": 18,
     "metadata": {},
     "output_type": "execute_result"
    }
   ],
   "source": [
    "I_BOOST_RMS = Pout/(VAC_min*eff)*math.sqrt((8*math.sqrt(2)*VAC_min)/(3*math.pi*Vout))\n",
    "round(I_BOOST_RMS,2)"
   ]
  },
  {
   "cell_type": "markdown",
   "id": "61d79f0a-4823-4733-89b6-d96cac0b08c5",
   "metadata": {},
   "source": [
    "## Output Capacitor RMS Current (in A)"
   ]
  },
  {
   "cell_type": "code",
   "execution_count": 19,
   "id": "fdebb3f5-279e-404a-b84f-f469aa0b075a",
   "metadata": {},
   "outputs": [],
   "source": [
    "I_Cout_RMS=math.sqrt((8*math.sqrt(2)*Pout**2/(3*math.pi*VAC_min*Vout))-Pout**2/Vout**2)"
   ]
  },
  {
   "cell_type": "code",
   "execution_count": 20,
   "id": "8587f779-4360-4947-8ee3-f691ba83ac8e",
   "metadata": {},
   "outputs": [
    {
     "data": {
      "text/plain": [
       "2.84"
      ]
     },
     "execution_count": 20,
     "metadata": {},
     "output_type": "execute_result"
    }
   ],
   "source": [
    "round(I_Cout_RMS,2)"
   ]
  },
  {
   "cell_type": "markdown",
   "id": "aa70d26c-93ca-47af-aca0-49f3012e74d0",
   "metadata": {},
   "source": [
    "## Output Capacitor Peak Voltage (in V)"
   ]
  },
  {
   "cell_type": "code",
   "execution_count": 21,
   "id": "3d003d71-6c75-49f5-9e59-a91dd089ba6a",
   "metadata": {},
   "outputs": [
    {
     "data": {
      "text/plain": [
       "410.0"
      ]
     },
     "execution_count": 21,
     "metadata": {},
     "output_type": "execute_result"
    }
   ],
   "source": [
    "V_Cout_MAX = Vout+Vout_pp/2\n",
    "round(V_Cout_MAX,2)"
   ]
  },
  {
   "cell_type": "markdown",
   "id": "dd47629a-bb36-44dc-974f-293e90897400",
   "metadata": {},
   "source": [
    "## REC Diode AVG Current / per diode (in A)"
   ]
  },
  {
   "cell_type": "code",
   "execution_count": 22,
   "id": "4e203a12-2302-4698-8204-2e321f1f43eb",
   "metadata": {},
   "outputs": [
    {
     "data": {
      "text/plain": [
       "2.26"
      ]
     },
     "execution_count": 22,
     "metadata": {},
     "output_type": "execute_result"
    }
   ],
   "source": [
    "I_REC_AVG=1/math.pi*math.sqrt(2)*(Pout/eff)/VAC_min\n",
    "round(I_REC_AVG,2)"
   ]
  },
  {
   "cell_type": "markdown",
   "id": "f198d0a0-d1f4-49f4-a090-4ecfbed5848d",
   "metadata": {},
   "source": [
    "## REC Diode RMS Current / per diode (in A)"
   ]
  },
  {
   "cell_type": "code",
   "execution_count": 23,
   "id": "50df3e62-9d5b-49a2-a34a-a7930898df7b",
   "metadata": {},
   "outputs": [
    {
     "data": {
      "text/plain": [
       "3.55"
      ]
     },
     "execution_count": 23,
     "metadata": {},
     "output_type": "execute_result"
    }
   ],
   "source": [
    "I_REC_RMS = math.sqrt(2)*(Pout/(eff*VAC_min))/2\n",
    "round(I_REC_RMS,2)"
   ]
  },
  {
   "cell_type": "markdown",
   "id": "2b437ca4-a119-4823-a818-c3cfd29e3de5",
   "metadata": {},
   "source": [
    "# Stress Analysis (Worst-Case Simulation)"
   ]
  },
  {
   "cell_type": "code",
   "execution_count": 24,
   "id": "071b36a2-ecad-4b2e-b50b-d6504ff1e224",
   "metadata": {
    "jupyter": {
     "source_hidden": true
    }
   },
   "outputs": [],
   "source": [
    "E_SW_FET = 0\n",
    "if sim_on == True:\n",
    "    # QSPICE_PFC_CCM_ACMC(VAC_rms, Cout, ESR, eff, fsw, freq, L, Pout, Vout)\n",
    "    results_sim=CCM_Boost_PFC_QSPICE_circs.QSPICE_PFC_CCM_ACMC(VAC_min, Cout, Cout_ESR, eff, fsw, AC_freq, L, Pout, Vout)\n",
    "  #  print(results_sim[1])\n",
    "    IL_RMS       = results_sim[1][0]\n",
    "    IL_peak      = results_sim[1][1]\n",
    "    I_FET_RMS    = results_sim[1][2]\n",
    "    I_BOOST_AVG  = results_sim[1][3]\n",
    "    I_BOOST_RMS  = results_sim[1][4]\n",
    "    I_Cout_RMS   = results_sim[1][5]\n",
    "    I_REC_AVG    = results_sim[1][6]\n",
    "    I_REC_RMS    = results_sim[1][7]\n",
    "    V_Cout_MAX   = results_sim[1][8]+results_sim[1][9]/2\n",
    "    I_IN_RMS     = results_sim[1][10]\n",
    "    I_RSENSE_RMS = results_sim[1][11]\n",
    "    \n",
    "    E_SW_FET = ESW_Calc(results_sim[0],Vout)\n",
    "\n",
    "    wfrm = results_sim[0]"
   ]
  },
  {
   "cell_type": "markdown",
   "id": "4d2829ab-2fc3-4ada-84f7-9104136e0796",
   "metadata": {},
   "source": [
    "## Input RMS Current (in A)"
   ]
  },
  {
   "cell_type": "code",
   "execution_count": 25,
   "id": "c1eadf1a-b0c7-4759-8abb-8a23944d3c5c",
   "metadata": {},
   "outputs": [
    {
     "data": {
      "text/plain": [
       "5.2"
      ]
     },
     "execution_count": 25,
     "metadata": {},
     "output_type": "execute_result"
    }
   ],
   "source": [
    "round(I_IN_RMS,1)"
   ]
  },
  {
   "cell_type": "markdown",
   "id": "d362c32c-bf85-4a0d-afb4-808e02aca9bb",
   "metadata": {},
   "source": [
    "## Current Sense Resistor RMS Current (in A)"
   ]
  },
  {
   "cell_type": "code",
   "execution_count": 26,
   "id": "8f41258c-4ab6-4e8d-981f-eb3d60742dbb",
   "metadata": {},
   "outputs": [
    {
     "data": {
      "text/plain": [
       "5.1"
      ]
     },
     "execution_count": 26,
     "metadata": {},
     "output_type": "execute_result"
    }
   ],
   "source": [
    "round(I_RSENSE_RMS,1)"
   ]
  },
  {
   "cell_type": "markdown",
   "id": "b9de7524-d2e2-49bc-9903-08568882829f",
   "metadata": {},
   "source": [
    "## Inductor Peak Current (in A)"
   ]
  },
  {
   "cell_type": "code",
   "execution_count": 27,
   "id": "4382f883-5d6d-4356-a0fb-ee8682ab1c4c",
   "metadata": {},
   "outputs": [
    {
     "data": {
      "text/plain": [
       "8.9"
      ]
     },
     "execution_count": 27,
     "metadata": {},
     "output_type": "execute_result"
    }
   ],
   "source": [
    "round(IL_peak,1)"
   ]
  },
  {
   "cell_type": "markdown",
   "id": "c37debc3-4aa1-42ea-bda3-7834adfcdf5c",
   "metadata": {},
   "source": [
    "## Inductor RMS Current (in A)"
   ]
  },
  {
   "cell_type": "code",
   "execution_count": 28,
   "id": "701e97ee-68bb-479d-afe1-a2143f405479",
   "metadata": {},
   "outputs": [
    {
     "data": {
      "text/plain": [
       "5.15"
      ]
     },
     "execution_count": 28,
     "metadata": {},
     "output_type": "execute_result"
    }
   ],
   "source": [
    "round(IL_RMS,2)"
   ]
  },
  {
   "cell_type": "markdown",
   "id": "73e374c3-801d-47cc-a7ef-074ffa7b0339",
   "metadata": {},
   "source": [
    "## MOSFET RMS Current (in A)"
   ]
  },
  {
   "cell_type": "code",
   "execution_count": 29,
   "id": "d5e70429-adf1-47d9-aea9-23fce1902ec1",
   "metadata": {},
   "outputs": [
    {
     "data": {
      "text/plain": [
       "3.34"
      ]
     },
     "execution_count": 29,
     "metadata": {},
     "output_type": "execute_result"
    }
   ],
   "source": [
    "round(I_FET_RMS,2)"
   ]
  },
  {
   "cell_type": "markdown",
   "id": "f0e85aa1-319d-445f-8f7e-5d06f10fa789",
   "metadata": {},
   "source": [
    "## BOOST Diode AVG Current (in A)"
   ]
  },
  {
   "cell_type": "code",
   "execution_count": 30,
   "id": "1d7472f7-7779-4e46-b2d2-aba12fdce03c",
   "metadata": {},
   "outputs": [
    {
     "data": {
      "text/plain": [
       "2.46"
      ]
     },
     "execution_count": 30,
     "metadata": {},
     "output_type": "execute_result"
    }
   ],
   "source": [
    "round(I_BOOST_AVG,2)"
   ]
  },
  {
   "cell_type": "markdown",
   "id": "6b4442d2-f5b2-47f7-8764-ed5832b979d2",
   "metadata": {},
   "source": [
    "## BOOST Diode RMS Current (in A)"
   ]
  },
  {
   "cell_type": "code",
   "execution_count": 31,
   "id": "b6dda864-d2bc-4949-ba33-2161abde22e6",
   "metadata": {},
   "outputs": [
    {
     "data": {
      "text/plain": [
       "3.92"
      ]
     },
     "execution_count": 31,
     "metadata": {},
     "output_type": "execute_result"
    }
   ],
   "source": [
    "round(I_BOOST_RMS,2)"
   ]
  },
  {
   "cell_type": "markdown",
   "id": "199645a2-80c4-4763-80d6-056a599c0a9e",
   "metadata": {},
   "source": [
    "## Output Capacitor RMS Current (in A)"
   ]
  },
  {
   "cell_type": "code",
   "execution_count": 32,
   "id": "80c9e206-3b78-4a43-b501-a2e7736125bd",
   "metadata": {},
   "outputs": [
    {
     "data": {
      "text/plain": [
       "3.06"
      ]
     },
     "execution_count": 32,
     "metadata": {},
     "output_type": "execute_result"
    }
   ],
   "source": [
    "round(I_Cout_RMS,2)"
   ]
  },
  {
   "cell_type": "markdown",
   "id": "33e95a18-7310-4323-a2d1-03b61d8e0cd8",
   "metadata": {},
   "source": [
    "## Output Capacitor Peak Voltage (in V)"
   ]
  },
  {
   "cell_type": "code",
   "execution_count": 33,
   "id": "b8e3ab1d-fb12-409a-9aea-f8a861fc11ec",
   "metadata": {},
   "outputs": [
    {
     "data": {
      "text/plain": [
       "410.98"
      ]
     },
     "execution_count": 33,
     "metadata": {},
     "output_type": "execute_result"
    }
   ],
   "source": [
    "round(V_Cout_MAX,2)"
   ]
  },
  {
   "cell_type": "markdown",
   "id": "c8307b1d-d07b-421e-89fd-2e6fda208791",
   "metadata": {},
   "source": [
    "## REC Diode AVG Current / per diode (in A)"
   ]
  },
  {
   "cell_type": "code",
   "execution_count": 34,
   "id": "2aa0007f-eeac-4950-9dd3-d7109a85919d",
   "metadata": {},
   "outputs": [
    {
     "data": {
      "text/plain": [
       "2.28"
      ]
     },
     "execution_count": 34,
     "metadata": {},
     "output_type": "execute_result"
    }
   ],
   "source": [
    "round(I_REC_AVG,2)"
   ]
  },
  {
   "cell_type": "markdown",
   "id": "2ff47ea6-3341-42b9-97a4-18cdb8f9925c",
   "metadata": {},
   "source": [
    "## REC Diode RMS Current / per diode (in A)"
   ]
  },
  {
   "cell_type": "code",
   "execution_count": 35,
   "id": "17e91547-cff2-49ce-bbc3-4c7b77dcb3b0",
   "metadata": {},
   "outputs": [
    {
     "data": {
      "text/plain": [
       "3.64"
      ]
     },
     "execution_count": 35,
     "metadata": {},
     "output_type": "execute_result"
    }
   ],
   "source": [
    "round(I_REC_RMS,2)"
   ]
  },
  {
   "cell_type": "markdown",
   "id": "7ed11a5e-927d-4907-a2a1-f9072d067038",
   "metadata": {},
   "source": [
    "# Losses Estimation"
   ]
  },
  {
   "cell_type": "markdown",
   "id": "e1eeb8d7-91d8-4ac3-bab6-0075eee0a396",
   "metadata": {},
   "source": [
    "## Bridge Rectifier (in W)"
   ]
  },
  {
   "cell_type": "code",
   "execution_count": 36,
   "id": "68c09188-551c-4151-beb1-fb978c3c3a9d",
   "metadata": {},
   "outputs": [],
   "source": [
    "P_REC=4*(I_REC_AVG*REC_fwd+REC_rdiff*I_REC_RMS**2)"
   ]
  },
  {
   "cell_type": "code",
   "execution_count": 37,
   "id": "1276c438-075a-4890-8487-571935f0b005",
   "metadata": {},
   "outputs": [
    {
     "data": {
      "text/plain": [
       "10.69"
      ]
     },
     "execution_count": 37,
     "metadata": {},
     "output_type": "execute_result"
    }
   ],
   "source": [
    "round(P_REC,2)"
   ]
  },
  {
   "cell_type": "markdown",
   "id": "2761792b-02f9-4410-b6b1-614cc8680944",
   "metadata": {},
   "source": [
    "## EMI Filter (in W)"
   ]
  },
  {
   "cell_type": "code",
   "execution_count": 38,
   "id": "92e9d833-f7d4-414d-94cd-0a433ce47d6f",
   "metadata": {},
   "outputs": [
    {
     "data": {
      "text/plain": [
       "2.87"
      ]
     },
     "execution_count": 38,
     "metadata": {},
     "output_type": "execute_result"
    }
   ],
   "source": [
    "P_EMI = R_EMI * I_IN_RMS**2\n",
    "round(P_EMI,2)"
   ]
  },
  {
   "cell_type": "markdown",
   "id": "59f9ac19-d2a5-402c-a598-63ef0c51ab63",
   "metadata": {},
   "source": [
    "## Boost Diode"
   ]
  },
  {
   "cell_type": "markdown",
   "id": "ef481796-08b9-4444-9355-3023b85a5cbc",
   "metadata": {},
   "source": [
    "### Conduction Losses (in W)"
   ]
  },
  {
   "cell_type": "code",
   "execution_count": 39,
   "id": "dce7ff32-e02f-4d95-b640-01e22100bb01",
   "metadata": {},
   "outputs": [
    {
     "data": {
      "text/plain": [
       "2.86"
      ]
     },
     "execution_count": 39,
     "metadata": {},
     "output_type": "execute_result"
    }
   ],
   "source": [
    "P_diode_cond=I_BOOST_AVG*BOOST_fwd + BOOST_rdiff * I_BOOST_RMS**2 \n",
    "round(P_diode_cond,2)"
   ]
  },
  {
   "cell_type": "markdown",
   "id": "3405191a-6c31-46a8-a130-8926673a58ea",
   "metadata": {},
   "source": [
    "### Switching Losses (in W)"
   ]
  },
  {
   "cell_type": "code",
   "execution_count": 40,
   "id": "8a648519-cb28-4bb8-a990-5d7d524d05f8",
   "metadata": {},
   "outputs": [],
   "source": [
    "P_diode_SW=Vout*BOOST_Qc*fsw"
   ]
  },
  {
   "cell_type": "code",
   "execution_count": 41,
   "id": "63bbd4c0-3fe9-41ca-af89-b4164780822d",
   "metadata": {},
   "outputs": [
    {
     "data": {
      "text/plain": [
       "0.65"
      ]
     },
     "execution_count": 41,
     "metadata": {},
     "output_type": "execute_result"
    }
   ],
   "source": [
    "round(P_diode_SW,2)"
   ]
  },
  {
   "cell_type": "markdown",
   "id": "f49d8d20-e407-4e97-b3e8-7d7194741d38",
   "metadata": {},
   "source": [
    "This is not losses on diode but on FET which is already included due to DP test performed with actual diode. D_SW has been deleted from graph below. It still remains in total losses calculation. It requires verification. This should be true due to the capacitive character of QRR in SiC diode."
   ]
  },
  {
   "cell_type": "markdown",
   "id": "a3828e46-13a3-44bf-bafc-1c5a060979db",
   "metadata": {},
   "source": [
    "## MOSFET"
   ]
  },
  {
   "cell_type": "markdown",
   "id": "57b81257-0eb2-4a56-bc28-17e2d155a16b",
   "metadata": {},
   "source": [
    "### Conduction Losses (in W)"
   ]
  },
  {
   "cell_type": "code",
   "execution_count": 42,
   "id": "d1be8590-e25d-454a-b690-30ea760e6981",
   "metadata": {},
   "outputs": [
    {
     "data": {
      "text/plain": [
       "2.27"
      ]
     },
     "execution_count": 42,
     "metadata": {},
     "output_type": "execute_result"
    }
   ],
   "source": [
    "P_FET_Cond = rdson * I_FET_RMS**2\n",
    "round(P_FET_Cond,2)"
   ]
  },
  {
   "cell_type": "markdown",
   "id": "0d117ffb-aec7-4a9a-a36a-85a8dec676a0",
   "metadata": {},
   "source": [
    "### Switching Losses (in W)"
   ]
  },
  {
   "cell_type": "code",
   "execution_count": 43,
   "id": "533bc88b-63f2-435d-b2c2-4a57f24c6f53",
   "metadata": {},
   "outputs": [
    {
     "data": {
      "text/plain": [
       "2.66"
      ]
     },
     "execution_count": 43,
     "metadata": {},
     "output_type": "execute_result"
    }
   ],
   "source": [
    "P_FET_SW = E_SW_FET*AC_freq\n",
    "round(P_FET_SW,2)"
   ]
  },
  {
   "cell_type": "markdown",
   "id": "d3e2e990-627e-4bda-acb7-52fee4fbcd21",
   "metadata": {},
   "source": [
    "## Output Capacitor (in W)"
   ]
  },
  {
   "cell_type": "code",
   "execution_count": 44,
   "id": "eb58b0d9-541f-47a1-9973-1d44debdb65a",
   "metadata": {},
   "outputs": [
    {
     "data": {
      "text/plain": [
       "1.4"
      ]
     },
     "execution_count": 44,
     "metadata": {},
     "output_type": "execute_result"
    }
   ],
   "source": [
    "P_Cout = Cout_ESR * I_Cout_RMS**2\n",
    "round(P_Cout,2)"
   ]
  },
  {
   "cell_type": "markdown",
   "id": "d5b658c5-e1db-4857-a6c5-e305a95c0bed",
   "metadata": {},
   "source": [
    "## Current Sense Resistor (in W)"
   ]
  },
  {
   "cell_type": "code",
   "execution_count": 45,
   "id": "4b6fad90-0bcd-49d9-879a-25cbd7bd58d0",
   "metadata": {},
   "outputs": [
    {
     "data": {
      "text/plain": [
       "0.27"
      ]
     },
     "execution_count": 45,
     "metadata": {},
     "output_type": "execute_result"
    }
   ],
   "source": [
    "P_Rsense = Rsense*I_RSENSE_RMS**2\n",
    "round(P_Rsense,2)"
   ]
  },
  {
   "cell_type": "markdown",
   "id": "91a1785c-5d5c-4c91-be8e-49190b8914f2",
   "metadata": {},
   "source": [
    "# Estimated Total Converter Losses Without Magnetic Losses"
   ]
  },
  {
   "cell_type": "code",
   "execution_count": 46,
   "id": "d0dec598-0910-4d18-97a1-e45028f8ea83",
   "metadata": {},
   "outputs": [
    {
     "data": {
      "image/png": "[encoded data removed]",
      "text/plain": [
       "<Figure size 1700x600 with 2 Axes>"
      ]
     },
     "metadata": {},
     "output_type": "display_data"
    }
   ],
   "source": [
    "%matplotlib inline\n",
    "labels_Ploss= 'Input_REC+EMI', 'Primary_FET', 'Boost_Diode', 'R_sense+Output_Cap'\n",
    "data_Ploss = [P_REC+P_EMI, P_FET_Cond+P_FET_SW, P_diode_cond, P_Rsense+P_Cout]\n",
    "\n",
    "labels_Ploss_Bar= 'REC', 'EMI', 'P_Cond', 'P_SW', 'D_Cond', 'R_sen', 'Cout'\n",
    "data_Ploss_Bar = [P_REC, P_EMI, P_FET_Cond, P_FET_SW, P_diode_cond, P_Rsense, P_Cout]\n",
    "\n",
    "#bar_labels = ['red', 'blue', '_red', 'orange','green']\n",
    "bar_colors = ['tab:blue', 'tab:blue', 'tab:orange', 'tab:orange', 'tab:green', 'tab:green','tab:red', 'tab:red']\n",
    "\n",
    "def autopct_format(values):\n",
    "        def my_format(pct):\n",
    "            total = sum(values)\n",
    "            val = round(pct*total/100,3)\n",
    "            return '{:.1f}%\\n({v:.2f} W)'.format(pct, v=val)\n",
    "        return my_format\n",
    "\n",
    "def addlabels(x,y):\n",
    "    for i in range(len(x)):\n",
    "        ax2.text(i, y[i]+0.05, round(y[i],2), ha = 'center')\n",
    "        \n",
    "\n",
    "fig, (ax1, ax2) = plt.subplots(1, 2, figsize=(17,6))\n",
    "#fig, ax1 = plt.subplots()\n",
    "\n",
    "if sim_on == True:\n",
    "    fig.suptitle('Power Losses Breakdown (w/o Losses in Magnetics)'+'\\n'+'(Minimum Input Voltage)',fontsize=18)\n",
    "else:\n",
    "    fig.suptitle('Power Losses Breakdown (w/o MOSFET SW Losses and Losses in Magnetics)'+'\\n'+'(Minimum Input Voltage)',fontsize=18)\n",
    "ax1.pie(data_Ploss, labels=labels_Ploss, autopct=autopct_format(data_Ploss))\n",
    "\n",
    "ax2.bar(labels_Ploss_Bar, data_Ploss_Bar,color=bar_colors)\n",
    "ax2.grid(True, linestyle='-.',axis='y')\n",
    "ax2.yaxis.set_minor_locator(AutoMinorLocator(5))\n",
    "ax2.set_ylabel('Power (W)')\n",
    "addlabels(labels_Ploss_Bar,data_Ploss_Bar)\n",
    "\n",
    "fig.subplots_adjust(top=0.86)\n",
    "\n",
    "plt.show()\n",
    "if sim_on == False:\n",
    "    display(Markdown('<font size=\"6\"> <span style=\"color:red\"> Warning: Primary MOSFET switching losses are available only when simulated.</span></font>'))"
   ]
  },
  {
   "cell_type": "markdown",
   "id": "09b95188-0c7f-4918-b8f7-cf10fd7cb08c",
   "metadata": {},
   "source": [
    "# Estimated Total Efficiency Without Magnetics (in %)"
   ]
  },
  {
   "cell_type": "code",
   "execution_count": 47,
   "id": "90c3fcdc-0577-49f8-8217-51450f2a5db6",
   "metadata": {},
   "outputs": [
    {
     "data": {
      "text/plain": [
       "97.5"
      ]
     },
     "execution_count": 47,
     "metadata": {},
     "output_type": "execute_result"
    }
   ],
   "source": [
    "P_total = P_REC+P_EMI+P_FET_Cond+P_FET_SW+P_diode_cond+P_diode_SW+P_Rsense+P_Cout\n",
    "eff_Vin_min = Pout / (Pout+P_total)\n",
    "round(eff_Vin_min*100,1)"
   ]
  },
  {
   "cell_type": "code",
   "execution_count": 48,
   "id": "8c593c93-1e88-4677-809d-ebe57237002b",
   "metadata": {
    "jupyter": {
     "source_hidden": true
    }
   },
   "outputs": [],
   "source": [
    "if eff > eff_Vin_min:\n",
    "    display(Markdown('<font size=\"6\"> <span style=\"color:red\"> Warning: User estimated efficiency is bigger than calculated. The results are underestimated.</span></font>'))"
   ]
  },
  {
   "cell_type": "markdown",
   "id": "8b68861d-5b9a-4da7-bec7-9dd9f8ceb135",
   "metadata": {},
   "source": [
    "# Selected Waveforms"
   ]
  },
  {
   "cell_type": "code",
   "execution_count": 49,
   "id": "bc831fc2-fe3d-420d-9a25-75166c12b9cf",
   "metadata": {
    "jupyter": {
     "source_hidden": true
    }
   },
   "outputs": [
    {
     "data": {
      "application/vnd.jupyter.widget-view+json": {
       "model_id": "ded0525d782a4190980a13579bd8d6a0",
       "version_major": 2,
       "version_minor": 0
      },
      "image/png": "[encoded data removed]",
      "text/html": [
       "\n",
       "            <div style=\"display: inline-block;\">\n",
       "                <div class=\"jupyter-widgets widget-label\" style=\"text-align: center;\">\n",
       "                    Figure\n",
       "                </div>\n",
       "                <img src='data:image/png;base64,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' width=1300.0/>\n",
       "            </div>\n",
       "        "
      ],
      "text/plain": [
       "Canvas(toolbar=Toolbar(toolitems=[('Home', 'Reset original view', 'home', 'home'), ('Back', 'Back to previous …"
      ]
     },
     "metadata": {},
     "output_type": "display_data"
    }
   ],
   "source": [
    "if sim_on == True:\n",
    "    %matplotlib ipympl\n",
    "    fig, (ax1, ax2) = plt.subplots(1, 2, figsize=(13,5))\n",
    "    #fig.suptitle('Power Losses Breakdown (w/o Losses in Magnetics)'+'\\n'+'(Minimum Input Voltage)',fontsize=18)\n",
    "    #ax1.pie(data_Ploss, labels=labels_Ploss, autopct=autopct_format(data_Ploss))\n",
    "    ax1.plot(wfrm[\"Time\"], wfrm[\"V(OUT)\"])\n",
    "    ax1.grid(True, linestyle='-.')\n",
    "    ax1.set(xlabel='Time (s)', ylabel='Output Voltage (V)')\n",
    "    ax2.plot(wfrm[\"Time\"], wfrm[\"I(L1)\"])\n",
    "    ax2.grid(True, linestyle='-.')\n",
    "    ax2.set(xlabel='Time (s)', ylabel='Inductor Current (A)')\n",
    "    plt.show()\n",
    "else:\n",
    "    display(Markdown('<font size=\"6\"> <span style=\"color:red\"> Warning: Available only when simulated.</span></font>'))"
   ]
  },
  {
   "cell_type": "markdown",
   "id": "7900358c-40a0-4c6c-b4c9-1c68440fddc1",
   "metadata": {},
   "source": [
    "# PFC Inductor Design"
   ]
  },
  {
   "cell_type": "markdown",
   "id": "07ee8e67-f773-4704-a4d9-87f85d2482fd",
   "metadata": {},
   "source": [
    "Based on M. Pieniz, J. R. Pinheiro and H. L. Hey, \"An investigation of the boost inductor volume applied to PFC converters,\" 2006 37th IEEE Power Electronics Specialists Conference, Jeju, Korea (South), 2006, pp. 1-7, doi: 10.1109/pesc.2006.1712248.\n",
    "\n",
    "It utilized low cost powder core material with a single layer coil\n"
   ]
  },
  {
   "cell_type": "code",
   "execution_count": 50,
   "id": "99e643de-ea62-46a8-bf10-7d2d6fd4f8f2",
   "metadata": {
    "jupyter": {
     "source_hidden": true
    }
   },
   "outputs": [],
   "source": [
    "#Maximum wire current density in A/cm^2\n",
    "j_max = 600\n",
    "\n",
    "# Minimum wire cross-section in cm^2\n",
    "S_min = IL_RMS / 600\n",
    "\n",
    "#Minimum wire diameter in cm\n",
    "dw_min = math.sqrt(4*S_min/math.pi)\n",
    "\n",
    "#Minimum wire size in AWG\n",
    "AWG_min = round(-39*math.log(dw_min*10/0.127,92)+36)\n",
    "#Core Outside Diameter\n",
    "OD = 50"
   ]
  },
  {
   "cell_type": "markdown",
   "id": "58a2a769-1a62-4b50-8d83-05c02ab19912",
   "metadata": {},
   "source": [
    "## Minimum Wire Diameter"
   ]
  },
  {
   "cell_type": "code",
   "execution_count": 51,
   "id": "cecde6ea-0e06-4ea9-b029-0c3afc5051cd",
   "metadata": {
    "jupyter": {
     "source_hidden": true
    }
   },
   "outputs": [
    {
     "name": "stdout",
     "output_type": "stream",
     "text": [
      "0.8582316666666667\n",
      "0.10453394169091525\n"
     ]
    },
    {
     "ename": "NameError",
     "evalue": "name 'AWG' is not defined",
     "output_type": "error",
     "traceback": [
      "\u001b[1;31m---------------------------------------------------------------------------\u001b[0m",
      "\u001b[1;31mNameError\u001b[0m                                 Traceback (most recent call last)",
      "Cell \u001b[1;32mIn[51], line 3\u001b[0m\n\u001b[0;32m      1\u001b[0m \u001b[38;5;28mprint\u001b[39m(S_min\u001b[38;5;241m*\u001b[39m\u001b[38;5;241m100\u001b[39m)\n\u001b[0;32m      2\u001b[0m \u001b[38;5;28mprint\u001b[39m(dw_min)\n\u001b[1;32m----> 3\u001b[0m \u001b[38;5;28mprint\u001b[39m(\u001b[43mAWG\u001b[49m)\n",
      "\u001b[1;31mNameError\u001b[0m: name 'AWG' is not defined"
     ]
    }
   ],
   "source": [
    "print(S_min*100)\n",
    "print(dw_min)\n",
    "print(AWG)"
   ]
  },
  {
   "cell_type": "code",
   "execution_count": null,
   "id": "26f04c08-03c5-4ea0-bfaa-590e71d07fc6",
   "metadata": {},
   "outputs": [],
   "source": [
    "N_max = 0.95*math.pi*((OD/(dw*kd))-1)"
   ]
  },
  {
   "cell_type": "code",
   "execution_count": null,
   "id": "d85f23d3-df6b-4b68-bfe4-594ef60a2fb3",
   "metadata": {},
   "outputs": [],
   "source": []
  }
 ],
 "metadata": {
  "kernelspec": {
   "display_name": "Python 3 (ipykernel)",
   "language": "python",
   "name": "python3"
  },
  "language_info": {
   "codemirror_mode": {
    "name": "ipython",
    "version": 3
   },
   "file_extension": ".py",
   "mimetype": "text/x-python",
   "name": "python",
   "nbconvert_exporter": "python",
   "pygments_lexer": "ipython3",
   "version": "3.8.17"
  }
 },
 "nbformat": 4,
 "nbformat_minor": 5
}
