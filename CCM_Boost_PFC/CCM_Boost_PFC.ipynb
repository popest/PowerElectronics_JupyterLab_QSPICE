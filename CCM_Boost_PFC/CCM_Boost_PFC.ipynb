{
 "cells": [
  {
   "cell_type": "markdown",
   "id": "4eb06477",
   "metadata": {},
   "source": [
    "# QSPICE Python Files Initialization"
   ]
  },
  {
   "cell_type": "code",
   "execution_count": 1,
   "id": "86c72c16",
   "metadata": {},
   "outputs": [
    {
     "data": {
      "text/plain": [
       "'c:\\\\Users\\\\Stani\\\\OneDrive\\\\JupyterLab\\\\GitHub\\\\PowerElectronics_JupyterLab_QSPICE\\\\CCM_Boost_PFC\\\\QSPICE\\\\QSPICE_parser.py'"
      ]
     },
     "execution_count": 1,
     "metadata": {},
     "output_type": "execute_result"
    }
   ],
   "source": [
    "import os\n",
    "import shutil\n",
    "\n",
    "# Get the current working directory (where your script is running)\n",
    "current_dir = os.getcwd()\n",
    "\n",
    "# Define the source folder (QSPICE_Parser is located above the project directory)\n",
    "source_folder = os.path.join(os.path.dirname(current_dir), 'QSPICE_Parser')\n",
    "\n",
    "# Define the source file path\n",
    "source_file = os.path.join(source_folder, 'QSPICE_parser.py')\n",
    "\n",
    "# Define the destination folder within the project (subfolder called QSPICE)\n",
    "destination_folder = os.path.join(current_dir, 'QSPICE')\n",
    "\n",
    "# Define the destination file path (within the QSPICE subfolder)\n",
    "destination_file = os.path.join(destination_folder, 'QSPICE_parser.py')\n",
    "\n",
    "# Copy the file from source to destination\n",
    "shutil.copy(source_file, destination_file)"
   ]
  },
  {
   "cell_type": "code",
   "execution_count": 2,
   "id": "72650c85",
   "metadata": {},
   "outputs": [],
   "source": [
    "from QSPICE import QSPICE_parser\n",
    "import importlib\n",
    "import sys\n",
    "\n",
    "# reload QSPICE/Python parser without kernel restart\n",
    "importlib.reload(QSPICE_parser)\n",
    "\n",
    "#Create PyQSPICE file for input rectifier\n",
    "QSPICE_parser.parse_and_generate_script('CCM_Boost_PFC_AMC.qsch','QSPICE_CCM_Boost_PFC_AMC.py')\n",
    "\n",
    "# Delete parser script file from QSPICE folder\n",
    "os.remove(destination_file)"
   ]
  },
  {
   "cell_type": "code",
   "execution_count": 3,
   "id": "8fb90f23",
   "metadata": {},
   "outputs": [],
   "source": [
    "import math\n",
    "import pandas as pd\n",
    "import numpy as np\n",
    "\n",
    "#load all QSPICE autogenerating scripts here\n",
    "from QSPICE import QSPICE_CCM_Boost_PFC_AMC as QSPICE\n",
    "\n",
    "from IPython.display import display, Markdown, Latex\n",
    "from matplotlib import pyplot as plt\n",
    "from matplotlib.ticker import (MultipleLocator, AutoMinorLocator)\n",
    "from scipy.interpolate import RegularGridInterpolator\n",
    "from scipy.interpolate import interp1d\n",
    "\n",
    "pd.options.display.float_format = '{:.5e}'.format\n",
    "\n",
    "# Reload QSPICE autogenerating circuit script without kernel restart\n",
    "importlib.reload(QSPICE)\n",
    "\n",
    "# 2D interpolation \n",
    "# path - path to data folder\n",
    "# file_name - filename of csv file with EON/EFF data\n",
    "# VDS - MOSFET VDS value\n",
    "# ID - drain current\n",
    "# note: current vector has to start from 0 up to value larger than maximum peak current\n",
    "# note: voltage vector should start from 0 up to VDS_max\n",
    "def ESW_Interp(path,file_name,VDS,ID):\n",
    "    \n",
    "    ESW=0\n",
    "    if (VDS >= 0) and (file_name != ''):\n",
    "        df = pd.read_csv(path+file_name, header=None)\n",
    "\n",
    "        Y=df.iloc[1:len(df.index),0].to_numpy()\n",
    "\n",
    "        X=df.iloc[0,1:].to_numpy()\n",
    "\n",
    "        data=df.iloc[1:,1:].to_numpy()\n",
    "   \n",
    "        interp = RegularGridInterpolator((Y,X),data)\n",
    "        ESW=interp((ID,VDS))\n",
    "       \n",
    "    else:\n",
    "        ESW=0\n",
    "    \n",
    "    \n",
    "    return ESW\n",
    "\n",
    "# Switching Losses Calculation\n",
    "# data - Pandas dataframe\n",
    "# VDS - VDS value. In Boost PFC, VDS is equal to Vout\n",
    "\n",
    "#return: Total energy in J over current waveform period\n",
    "def ESW_Calc(data,VDS):\n",
    "    \n",
    "    #df = pd.read_csv(path+file_name)\n",
    "    df = data\n",
    "    # Modify the data so small numerical deviation from 0 and 1 will not interfere with TurnON/OFF detection\n",
    "    # Tolerance range for modification. E.g. Value within range of 1 +/- tolerance is still concidered as 1\n",
    "    tolerance=1e-4\n",
    "    df['V(pwm)']=df['V(pwm)'].apply(lambda x: 1 if (1-tolerance) <= x <= (1+tolerance) else x)\n",
    "    df['V(pwm)']=df['V(pwm)'].apply(lambda x: 0 if (0-tolerance) <= x <= (0+tolerance) else x)\n",
    "\n",
    "    #Detect Turn-OFF (1->0)\n",
    "    mask_OFF = (df['V(pwm)'] == 1) & (df['V(pwm)'].shift(-1) < 1)\n",
    "    \n",
    "    #Detect Turn-ON (0->1)\n",
    "    mask_ON = (df['V(pwm)'] == 1) & (df['V(pwm)'].shift(1) < 1)\n",
    "\n",
    "    # DataFrame of currents for Turn-OFF energy calculation\n",
    "    I_OFF = df.loc[mask_OFF,['Time','I(S1)']]\n",
    "    # Replace all negative current values by 0\n",
    "    I_OFF['I(S1)'] = I_OFF['I(S1)'].apply(lambda x: max(0,x))\n",
    "    \n",
    "    # DataFrame of currents for Turn-ON energy calculation\n",
    "    I_ON = df.loc[mask_ON,['Time','I(S1)']]\n",
    "    # Replace all negative current values by 0\n",
    "    I_ON['I(S1)'] = I_ON['I(S1)'].apply(lambda x: max(0,x))\n",
    "\n",
    "    # Calculate and add EOFF column\n",
    "    I_OFF['EOFF'] = ESW_Interp(MOS_DATA_FLD,EOFF_file_name,VDS,I_OFF['I(S1)'])\n",
    "\n",
    "    # Calculate and add EON column\n",
    "    I_ON['EON'] = ESW_Interp(MOS_DATA_FLD,EON_file_name,VDS,I_ON['I(S1)'])\n",
    "\n",
    "    sum_EOFF = I_OFF['EOFF'].sum()\n",
    "    sum_EON = I_ON['EON'].sum()\n",
    "    E_tot = sum_EOFF + sum_EON\n",
    "\n",
    "    #   print(I_OFF.to_string())\n",
    "    #   print(I_ON.to_string())\n",
    "\n",
    "    #   print('Total Eoff = ', sum_EOFF)\n",
    "    #   print('Total Eon = ', sum_EON)\n",
    "    #   print('Total ESW = ', E_tot)\n",
    "\n",
    "    return E_tot\n",
    "\n",
    "def Loop_Compensation(V__g, V__out, Pout, eff, f__sw, C, r__C, L, f__AC):\n",
    "    V__se = 5 #modulator amplitude\n",
    "    R__l = 1000 #I_E/A input resistor (pre-selected)\n",
    "    f__z = f__sw/15\n",
    "    f__c = f__sw/10 #I-loop cross-over freq.\n",
    "    f__p = f__sw/1.5\n",
    "    R__i = 1 / (math.sqrt(2) * Pout * (1 + (-math.sqrt(2) * V__g ** 3 + V__g ** 2 * V__out) / L / Pout / V__out / f__sw / 2) / eff / V__g) #V/A ratio\n",
    "\n",
    "    R__L = V__out ** 2 / Pout * eff\n",
    "    D = -V__g / V__out + 1\n",
    "    gain_Iloop = (\n",
    "        abs(-1 + D) ** 2\n",
    "        / abs(\n",
    "            V__out\n",
    "            * (1 + complex(0, 2) * math.pi * f__c * C * (R__L / 2 + r__C))\n",
    "            * R__i\n",
    "            / V__se\n",
    "            / R__L\n",
    "            / (\n",
    "                -4 * math.pi**2 * f__c**2 * L * C * (R__L + r__C) / R__L / (1 - D) ** 2\n",
    "                + complex(0, 2)\n",
    "                * (L + C * (1 - D) ** 2 * R__L * r__C)\n",
    "                * math.pi\n",
    "                * f__c\n",
    "                * (L * C * (R__L + r__C) * R__L * (1 - D) ** 2) ** (-0.1e1 / 0.2e1)\n",
    "                * (R__L * (1 - D) ** 2 / L / C / (R__L + r__C)) ** (-0.1e1 / 0.2e1)\n",
    "                + 1\n",
    "            )\n",
    "        )\n",
    "        / 2\n",
    "    )\n",
    "    # E/A current loop compensator component values\n",
    "    R__f = R__l*gain_Iloop\n",
    "    C__fz = 0.1e1 / R__l / gain_Iloop / math.pi / f__z / 2\n",
    "    C__fp = C__fz / (2 * C__fz * R__f * math.pi * f__p - 1)\n",
    "\n",
    "    #Saving E/A current loop compensator component values\n",
    "    Rf_I = R__f\n",
    "    Cfp_I = C__fp\n",
    "    Cfz_I = C__fz\n",
    "\n",
    "    R__l = 10000 #V_E/A input resistor (manually selected)\n",
    "    f__z = 0.1e1 / C / R__L / math.pi\n",
    "    f__c = f__AC/2 #Outer-loop cross-over freq.\n",
    "    f__p = f__AC\n",
    "    beta = 2.5/V__out\n",
    "    K__BO = 1.5/(math.sqrt(2)*V__g)\n",
    "\n",
    "    gain_outer_loop = math.pi / abs(\n",
    "        beta\n",
    "        * (1 + complex(0, 0.15e2 / 0.2e1) * f__AC / f__sw)\n",
    "        * V__out\n",
    "        * (complex(0, 1) * math.pi * f__AC * C * r__C + 1)\n",
    "        * (1 + complex(0, -1) * math.pi * f__AC * L / (1 - D) ** 2 / R__L)\n",
    "        * V__g\n",
    "        * K__BO\n",
    "        / R__l\n",
    "        / (\n",
    "            0.5305164770e0\n",
    "            * abs(\n",
    "                V__out\n",
    "                * (\n",
    "                    1\n",
    "                    + complex(0, 0.1e1 / 0.5e1)\n",
    "                    * math.pi\n",
    "                    * f__sw\n",
    "                    * C\n",
    "                    * (R__L / 2 + r__C)\n",
    "                )\n",
    "                * R__i\n",
    "                / V__se\n",
    "                / R__L\n",
    "                / (\n",
    "                    -(math.pi**2)\n",
    "                    * f__sw**2\n",
    "                    * L\n",
    "                    * C\n",
    "                    * (R__L + r__C)\n",
    "                    / (1 - D) ** 2\n",
    "                    / R__L\n",
    "                    / 25\n",
    "                    + complex(0, 0.1e1 / 0.5e1)\n",
    "                    * (L + C * (1 - D) ** 2 * R__L * r__C)\n",
    "                    * math.pi\n",
    "                    * f__sw\n",
    "                    * (L * C * (R__L + r__C) * R__L * (1 - D) ** 2) ** (-0.1e1 / 0.2e1)\n",
    "                    * (R__L * (1 - D) ** 2 / L / C / (R__L + r__C)) ** (-0.1e1 / 0.2e1)\n",
    "                    + 1\n",
    "                )\n",
    "            )\n",
    "            / R__l\n",
    "            / abs(-1 + D) ** 2\n",
    "            / f__sw\n",
    "            + 15\n",
    "            * abs(\n",
    "                V__out\n",
    "                * (\n",
    "                    1\n",
    "                    + complex(0, 0.1e1 / 0.5e1)\n",
    "                    * math.pi\n",
    "                    * f__sw\n",
    "                    * C\n",
    "                    * (R__L / 2 + r__C)\n",
    "                )\n",
    "                * R__i\n",
    "                / V__se\n",
    "                / R__L\n",
    "                / (\n",
    "                    -(math.pi**2)\n",
    "                    * f__sw**2\n",
    "                    * L\n",
    "                    * C\n",
    "                    * (R__L + r__C)\n",
    "                    / (1 - D) ** 2\n",
    "                    / R__L\n",
    "                    / 25\n",
    "                    + complex(0, 0.1e1 / 0.5e1)\n",
    "                    * (L + C * (1 - D) ** 2 * R__L * r__C)\n",
    "                    * math.pi\n",
    "                    * f__sw\n",
    "                    * (L * C * (R__L + r__C) * R__L * (1 - D) ** 2) ** (-0.1e1 / 0.2e1)\n",
    "                    * (R__L * (1 - D) ** 2 / L / C / (R__L + r__C)) ** (-0.1e1 / 0.2e1)\n",
    "                    + 1\n",
    "                )\n",
    "            )\n",
    "            / R__l\n",
    "            / abs(-1 + D) ** 2\n",
    "            / math.pi\n",
    "            / f__sw\n",
    "        )\n",
    "        / f__AC\n",
    "        / (\n",
    "            1\n",
    "            + complex(0, 0.3978873579e1)\n",
    "            * f__AC\n",
    "            * abs(\n",
    "                V__out\n",
    "                * (\n",
    "                    1\n",
    "                    + complex(0, 0.1e1 / 0.5e1)\n",
    "                    * math.pi\n",
    "                    * f__sw\n",
    "                    * C\n",
    "                    * (R__L / 2 + r__C)\n",
    "                )\n",
    "                * R__i\n",
    "                / V__se\n",
    "                / R__L\n",
    "                / (\n",
    "                    -(math.pi**2)\n",
    "                    * f__sw**2\n",
    "                    * L\n",
    "                    * C\n",
    "                    * (R__L + r__C)\n",
    "                    / (1 - D) ** 2\n",
    "                    / R__L\n",
    "                    / 25\n",
    "                    + complex(0, 0.1e1 / 0.5e1)\n",
    "                    * (L + C * (1 - D) ** 2 * R__L * r__C)\n",
    "                    * math.pi\n",
    "                    * f__sw\n",
    "                    * (L * C * (R__L + r__C) * R__L * (1 - D) ** 2) ** (-0.1e1 / 0.2e1)\n",
    "                    * (R__L * (1 - D) ** 2 / L / C / (R__L + r__C)) ** (-0.1e1 / 0.2e1)\n",
    "                    + 1\n",
    "                )\n",
    "            )\n",
    "            / (\n",
    "                0.5305164770e0\n",
    "                * abs(\n",
    "                    V__out\n",
    "                    * (\n",
    "                        1\n",
    "                        + complex(0, 0.1e1 / 0.5e1)\n",
    "                        * math.pi\n",
    "                        * f__sw\n",
    "                        * C\n",
    "                        * (R__L / 2 + r__C)\n",
    "                    )\n",
    "                    * R__i\n",
    "                    / V__se\n",
    "                    / R__L\n",
    "                    / (\n",
    "                        -(math.pi**2)\n",
    "                        * f__sw**2\n",
    "                        * L\n",
    "                        * C\n",
    "                        * (R__L + r__C)\n",
    "                        / (1 - D) ** 2\n",
    "                        / R__L\n",
    "                        / 25\n",
    "                        + complex(0, 0.1e1 / 0.5e1)\n",
    "                        * (L + C * (1 - D) ** 2 * R__L * r__C)\n",
    "                        * math.pi\n",
    "                        * f__sw\n",
    "                        * (L * C * (R__L + r__C) * R__L * (1 - D) ** 2)\n",
    "                        ** (-0.1e1 / 0.2e1)\n",
    "                        * (R__L * (1 - D) ** 2 / L / C / (R__L + r__C))\n",
    "                        ** (-0.1e1 / 0.2e1)\n",
    "                        + 1\n",
    "                    )\n",
    "                )\n",
    "                / R__l\n",
    "                / abs(-1 + D) ** 2\n",
    "                / f__sw\n",
    "                + 15\n",
    "                * abs(\n",
    "                    V__out\n",
    "                    * (\n",
    "                        1\n",
    "                        + complex(0, 0.1e1 / 0.5e1)\n",
    "                        * math.pi\n",
    "                        * f__sw\n",
    "                        * C\n",
    "                        * (R__L / 2 + r__C)\n",
    "                    )\n",
    "                    * R__i\n",
    "                    / V__se\n",
    "                    / R__L\n",
    "                    / (\n",
    "                        -(math.pi**2)\n",
    "                        * f__sw**2\n",
    "                        * L\n",
    "                        * C\n",
    "                        * (R__L + r__C)\n",
    "                        / (1 - D) ** 2\n",
    "                        / R__L\n",
    "                        / 25\n",
    "                        + complex(0, 0.1e1 / 0.5e1)\n",
    "                        * (L + C * (1 - D) ** 2 * R__L * r__C)\n",
    "                        * math.pi\n",
    "                        * f__sw\n",
    "                        * (L * C * (R__L + r__C) * R__L * (1 - D) ** 2)\n",
    "                        ** (-0.1e1 / 0.2e1)\n",
    "                        * (R__L * (1 - D) ** 2 / L / C / (R__L + r__C))\n",
    "                        ** (-0.1e1 / 0.2e1)\n",
    "                        + 1\n",
    "                    )\n",
    "                )\n",
    "                / R__l\n",
    "                / abs(-1 + D) ** 2\n",
    "                / math.pi\n",
    "                / f__sw\n",
    "            )\n",
    "            / R__l\n",
    "            / abs(-1 + D) ** 2\n",
    "            / f__sw**2\n",
    "        )\n",
    "        / V__se\n",
    "        / (-1 + D)\n",
    "        / (\n",
    "            -(math.pi**2) * f__AC**2 * L * C * (R__L + r__C) / (1 - D) ** 2 / R__L\n",
    "            + complex(0, 1)\n",
    "            * (L + C * (1 - D) ** 2 * R__L * r__C)\n",
    "            * math.pi\n",
    "            * f__AC\n",
    "            * (L * C * (R__L + r__C) * R__L * (1 - D) ** 2) ** (-0.1e1 / 0.2e1)\n",
    "            * (R__L * (1 - D) ** 2 / L / C / (R__L + r__C)) ** (-0.1e1 / 0.2e1)\n",
    "            + 1\n",
    "        )\n",
    "        / (\n",
    "            1\n",
    "            + complex(0, -2)\n",
    "            * V__out\n",
    "            * (1 + complex(0, 1) * math.pi * f__AC * C * (R__L / 2 + r__C))\n",
    "            * R__i\n",
    "            * (1 + complex(0, 0.15e2 / 0.2e1) * f__AC / f__sw)\n",
    "            / V__se\n",
    "            / (1 - D) ** 2\n",
    "            / R__L\n",
    "            / (\n",
    "                -(math.pi**2) * f__AC**2 * L * C * (R__L + r__C) / (1 - D) ** 2 / R__L\n",
    "                + complex(0, 1)\n",
    "                * (L + C * (1 - D) ** 2 * R__L * r__C)\n",
    "                * math.pi\n",
    "                * f__AC\n",
    "                * (L * C * (R__L + r__C) * R__L * (1 - D) ** 2) ** (-0.1e1 / 0.2e1)\n",
    "                * (R__L * (1 - D) ** 2 / L / C / (R__L + r__C)) ** (-0.1e1 / 0.2e1)\n",
    "                + 1\n",
    "            )\n",
    "            / R__l\n",
    "            / (\n",
    "                0.5305164770e0\n",
    "                * abs(\n",
    "                    V__out\n",
    "                    * (\n",
    "                        1\n",
    "                        + complex(0, 0.1e1 / 0.5e1)\n",
    "                        * math.pi\n",
    "                        * f__sw\n",
    "                        * C\n",
    "                        * (R__L / 2 + r__C)\n",
    "                    )\n",
    "                    * R__i\n",
    "                    / V__se\n",
    "                    / R__L\n",
    "                    / (\n",
    "                        -(math.pi**2)\n",
    "                        * f__sw**2\n",
    "                        * L\n",
    "                        * C\n",
    "                        * (R__L + r__C)\n",
    "                        / (1 - D) ** 2\n",
    "                        / R__L\n",
    "                        / 25\n",
    "                        + complex(0, 0.1e1 / 0.5e1)\n",
    "                        * (L + C * (1 - D) ** 2 * R__L * r__C)\n",
    "                        * math.pi\n",
    "                        * f__sw\n",
    "                        * (L * C * (R__L + r__C) * R__L * (1 - D) ** 2)\n",
    "                        ** (-0.1e1 / 0.2e1)\n",
    "                        * (R__L * (1 - D) ** 2 / L / C / (R__L + r__C))\n",
    "                        ** (-0.1e1 / 0.2e1)\n",
    "                        + 1\n",
    "                    )\n",
    "                )\n",
    "                / R__l\n",
    "                / abs(-1 + D) ** 2\n",
    "                / f__sw\n",
    "                + 15\n",
    "                * abs(\n",
    "                    V__out\n",
    "                    * (\n",
    "                        1\n",
    "                        + complex(0, 0.1e1 / 0.5e1)\n",
    "                        * math.pi\n",
    "                        * f__sw\n",
    "                        * C\n",
    "                        * (R__L / 2 + r__C)\n",
    "                    )\n",
    "                    * R__i\n",
    "                    / V__se\n",
    "                    / R__L\n",
    "                    / (\n",
    "                        -(math.pi**2)\n",
    "                        * f__sw**2\n",
    "                        * L\n",
    "                        * C\n",
    "                        * (R__L + r__C)\n",
    "                        / (1 - D) ** 2\n",
    "                        / R__L\n",
    "                        / 25\n",
    "                        + complex(0, 0.1e1 / 0.5e1)\n",
    "                        * (L + C * (1 - D) ** 2 * R__L * r__C)\n",
    "                        * math.pi\n",
    "                        * f__sw\n",
    "                        * (L * C * (R__L + r__C) * R__L * (1 - D) ** 2)\n",
    "                        ** (-0.1e1 / 0.2e1)\n",
    "                        * (R__L * (1 - D) ** 2 / L / C / (R__L + r__C))\n",
    "                        ** (-0.1e1 / 0.2e1)\n",
    "                        + 1\n",
    "                    )\n",
    "                )\n",
    "                / R__l\n",
    "                / abs(-1 + D) ** 2\n",
    "                / math.pi\n",
    "                / f__sw\n",
    "            )\n",
    "            / math.pi\n",
    "            / f__AC\n",
    "            / (\n",
    "                1\n",
    "                + complex(0, 0.3978873579e1)\n",
    "                * f__AC\n",
    "                * abs(\n",
    "                    V__out\n",
    "                    * (\n",
    "                        1\n",
    "                        + complex(0, 0.1e1 / 0.5e1)\n",
    "                        * math.pi\n",
    "                        * f__sw\n",
    "                        * C\n",
    "                        * (R__L / 2 + r__C)\n",
    "                    )\n",
    "                    * R__i\n",
    "                    / V__se\n",
    "                    / R__L\n",
    "                    / (\n",
    "                        -(math.pi**2)\n",
    "                        * f__sw**2\n",
    "                        * L\n",
    "                        * C\n",
    "                        * (R__L + r__C)\n",
    "                        / (1 - D) ** 2\n",
    "                        / R__L\n",
    "                        / 25\n",
    "                        + complex(0, 0.1e1 / 0.5e1)\n",
    "                        * (L + C * (1 - D) ** 2 * R__L * r__C)\n",
    "                        * math.pi\n",
    "                        * f__sw\n",
    "                        * (L * C * (R__L + r__C) * R__L * (1 - D) ** 2)\n",
    "                        ** (-0.1e1 / 0.2e1)\n",
    "                        * (R__L * (1 - D) ** 2 / L / C / (R__L + r__C))\n",
    "                        ** (-0.1e1 / 0.2e1)\n",
    "                        + 1\n",
    "                    )\n",
    "                )\n",
    "                / (\n",
    "                    0.5305164770e0\n",
    "                    * abs(\n",
    "                        V__out\n",
    "                        * (\n",
    "                            1\n",
    "                            + complex(0, 0.1e1 / 0.5e1)\n",
    "                            * math.pi\n",
    "                            * f__sw\n",
    "                            * C\n",
    "                            * (R__L / 2 + r__C)\n",
    "                        )\n",
    "                        * R__i\n",
    "                        / V__se\n",
    "                        / R__L\n",
    "                        / (\n",
    "                            -(math.pi**2)\n",
    "                            * f__sw**2\n",
    "                            * L\n",
    "                            * C\n",
    "                            * (R__L + r__C)\n",
    "                            / (1 - D) ** 2\n",
    "                            / R__L\n",
    "                            / 25\n",
    "                            + complex(0, 0.1e1 / 0.5e1)\n",
    "                            * (L + C * (1 - D) ** 2 * R__L * r__C)\n",
    "                            * math.pi\n",
    "                            * f__sw\n",
    "                            * (L * C * (R__L + r__C) * R__L * (1 - D) ** 2)\n",
    "                            ** (-0.1e1 / 0.2e1)\n",
    "                            * (R__L * (1 - D) ** 2 / L / C / (R__L + r__C))\n",
    "                            ** (-0.1e1 / 0.2e1)\n",
    "                            + 1\n",
    "                        )\n",
    "                    )\n",
    "                    / R__l\n",
    "                    / abs(-1 + D) ** 2\n",
    "                    / f__sw\n",
    "                    + 15\n",
    "                    * abs(\n",
    "                        V__out\n",
    "                        * (\n",
    "                            1\n",
    "                            + complex(0, 0.1e1 / 0.5e1)\n",
    "                            * math.pi\n",
    "                            * f__sw\n",
    "                            * C\n",
    "                            * (R__L / 2 + r__C)\n",
    "                        )\n",
    "                        * R__i\n",
    "                        / V__se\n",
    "                        / R__L\n",
    "                        / (\n",
    "                            -(math.pi**2)\n",
    "                            * f__sw**2\n",
    "                            * L\n",
    "                            * C\n",
    "                            * (R__L + r__C)\n",
    "                            / (1 - D) ** 2\n",
    "                            / R__L\n",
    "                            / 25\n",
    "                            + complex(0, 0.1e1 / 0.5e1)\n",
    "                            * (L + C * (1 - D) ** 2 * R__L * r__C)\n",
    "                            * math.pi\n",
    "                            * f__sw\n",
    "                            * (L * C * (R__L + r__C) * R__L * (1 - D) ** 2)\n",
    "                            ** (-0.1e1 / 0.2e1)\n",
    "                            * (R__L * (1 - D) ** 2 / L / C / (R__L + r__C))\n",
    "                            ** (-0.1e1 / 0.2e1)\n",
    "                            + 1\n",
    "                        )\n",
    "                    )\n",
    "                    / R__l\n",
    "                    / abs(-1 + D) ** 2\n",
    "                    / math.pi\n",
    "                    / f__sw\n",
    "                )\n",
    "                / R__l\n",
    "                / abs(-1 + D) ** 2\n",
    "                / f__sw**2\n",
    "            )\n",
    "        )\n",
    "    )\n",
    "    \n",
    "    R__f = R__l*gain_outer_loop\n",
    "    C__fz = 0.1e1 / R__l / gain_outer_loop / math.pi / f__z / 2\n",
    "    C__fp = C__fz / (2 * C__fz * R__f * math.pi * f__p - 1)\n",
    "\n",
    "    Rf_V = R__f\n",
    "    Cfp_V = C__fp\n",
    "    Cfz_V = C__fz\n",
    "\n",
    "    #return [R__f, C__fz, C__fp]\n",
    "    return [Rf_V, Cfz_V, Cfp_V, Rf_I, Cfz_I, Cfp_I]\n"
   ]
  },
  {
   "cell_type": "markdown",
   "id": "f1d48b82-a5c1-4e85-a4db-681e7d4207fd",
   "metadata": {},
   "source": [
    "# Input Data"
   ]
  },
  {
   "cell_type": "code",
   "execution_count": 4,
   "id": "f4dbefb7-5d03-4906-b57c-2be9b8f42ca6",
   "metadata": {},
   "outputs": [],
   "source": [
    "# Use simulation (True/False)\n",
    "sim_on = True\n",
    "\n",
    "#AC line RMS voltage (in V)\n",
    "VAC_min = 195\n",
    "VAC_max = 265\n",
    "VAC_nom = 230\n",
    "\n",
    "#AC line freq. (in Hz)\n",
    "AC_freq=50\n",
    "\n",
    "#Output Voltage (in V)\n",
    "Vout=400\n",
    "Vout_pp=20\n",
    "\n",
    "#Output power (in W) \n",
    "#note: Concider that output power is Pout of DC/DC / eff_dc_dc\n",
    "Pout=940\n",
    "#Estimated efficiency (in -)\n",
    "eff=0.96\n",
    "#switching frequency (in Hz)\n",
    "fsw=133e3\n",
    "\n",
    "#Percentage of Inductor ripple current (e.g. for 25% put 0.25) (in -)\n",
    "IL_ripple=0.25\n",
    "\n",
    "### Input REC Bridge Diode ####\n",
    "REC_fwd = 1 # Build-in potential (in V)\n",
    "REC_rdiff = 30e-3 # Differential resistance (in Ohm)\n",
    "\n",
    "### Input EMI Filter ###\n",
    "#Additional total resistance formed by EMI components (in Ohm)\n",
    "#CM_Choke+Relay\n",
    "R_EMI = 8e-3+0.1\n",
    "\n",
    "### MOSFET ###\n",
    "# Set MOSFET Data Folder and EOFF and EON file names. If empty string is provided, EOFF and EON energy estimation is skipped and return 0 J\n",
    "# Note. EOFF and EON data should be obtained using a standard double-pulse test method using the actual boost diode.\n",
    "MOS_DATA_FLD = \"Data/MOSFET/IPP60R120P7/\"\n",
    "EOFF_file_name = \"EOFF_15V_100degC_5600mOhm_25ns_IDH08G65C6.csv\"\n",
    "EON_file_name = \"EON_15V_100degC_5600mOhm_25ns_IDH08G65C6.csv\"\n",
    "\n",
    "#WC RDSon@100degC (in Ohm)\n",
    "rdson=0.204\n",
    "\n",
    "### Output Diode@75degC ###\n",
    "# Infineon IDH08G65C6\n",
    "BOOST_fwd=0.69\n",
    "BOOST_rdiff=76e-3\n",
    "BOOST_Qc = 12.2e-9\n",
    "\n",
    "### PFC Inductor ###\n",
    "Res_L = 70e-3\n",
    "\n",
    "### Output Capacitor ###\n",
    "Cout_ESR = 25e-3\n",
    "\n",
    "### Current sense resistor\n",
    "Rsense = 10e-3\n",
    "\n",
    "################## Circuit Calculation for the purpose of QSPICE Simulation only\n",
    "\n",
    "\n",
    "################### TESTING ########################\n",
    "\n",
    "\n",
    "#print('EOFF Energy:',ESW_Interp(MOS_DATA_FLD,EOFF_file_name,400,[0.01, 11]))\n",
    "#print('EON Energy:',ESW_Interp(MOS_DATA_FLD,EON_file_name,400,0.1))\n",
    "\n",
    "# QSPICE_PFC_CCM_ACMC(VAC_rms, Cout, ESR, eff, fsw, freq, L, Pout, Vout)\n",
    "#ret=CCM_Boost_PFC_QSPICE_circs.QSPICE_PFC_CCM_ACMC(250, 500e-6, 150e-3, 0.96, 65e3, 50, 295e-6, 900, 400)\n",
    "#print(ret[1][0])\n",
    "\n",
    "#E_results = ESW_Calc(ret[0],400)\n",
    "#print(E_results)\n",
    "\n",
    "#wfrm = ret[0]\n",
    "#plt.plot(wfrm[\"Time\"], wfrm[\"V(OUT)\"])\n",
    "#plt.show()"
   ]
  },
  {
   "cell_type": "markdown",
   "id": "28453081-1d28-411a-8b78-4fd054700bc2",
   "metadata": {},
   "source": [
    "# Minimum Inductor Value Estimation (in uH)\n",
    "Note: Valid at minimum Vin and full load. To maintain the same ripple at maximum Vin, inductance must be higher"
   ]
  },
  {
   "cell_type": "code",
   "execution_count": 5,
   "id": "215ec0cf-9f06-412b-9750-d0ba309672df",
   "metadata": {},
   "outputs": [
    {
     "name": "stdout",
     "output_type": "stream",
     "text": [
      "378\n"
     ]
    }
   ],
   "source": [
    "L=1/IL_ripple*(VAC_min**2/Pout)*(1-math.sqrt(2)*VAC_min/Vout)*1/fsw\n",
    "print(round(L*1e6))"
   ]
  },
  {
   "cell_type": "markdown",
   "id": "411156e2-54fa-4712-8159-ffa29f223357",
   "metadata": {},
   "source": [
    "# Maximum Allowed Pk-Pk Output Voltage Ripple (in V)\n",
    "To ensure proper boost functionality, output voltage must be alwasy higher than input voltage"
   ]
  },
  {
   "cell_type": "code",
   "execution_count": 6,
   "id": "39ae679f-30b7-4b2e-9b79-6f1629d87745",
   "metadata": {
    "jupyter": {
     "source_hidden": true
    }
   },
   "outputs": [
    {
     "name": "stdout",
     "output_type": "stream",
     "text": [
      "25.23\n"
     ]
    }
   ],
   "source": [
    "Vout_pp_max=Vout-VAC_max*math.sqrt(2)\n",
    "print(round(Vout_pp_max,2))\n",
    "if Vout_pp > Vout_pp_max:\n",
    "    display(Markdown('<font size=\"6\"> <span style=\"color:red\"> Warning: Defined output pk-pk voltage ripple does not ensure proper boost functionality </span></font>'))"
   ]
  },
  {
   "cell_type": "markdown",
   "id": "70452a25-fd9c-4ce2-bf8f-00e81b429f02",
   "metadata": {},
   "source": [
    "# Output Capacitor Requirements"
   ]
  },
  {
   "cell_type": "markdown",
   "id": "e3db024d-9162-4324-80bb-98be2dabb01f",
   "metadata": {},
   "source": [
    "## Minimum Capacitance (in uF)"
   ]
  },
  {
   "cell_type": "code",
   "execution_count": 7,
   "id": "01ac6b52-ce95-4d24-bca3-2b8d0f362cd3",
   "metadata": {},
   "outputs": [
    {
     "data": {
      "text/plain": [
       "374.01"
      ]
     },
     "execution_count": 7,
     "metadata": {},
     "output_type": "execute_result"
    }
   ],
   "source": [
    "Cout=Pout/(2*math.pi*AC_freq*Vout_pp*Vout)\n",
    "round(Cout*1e6,2)"
   ]
  },
  {
   "cell_type": "markdown",
   "id": "90a8bc70-48b1-4aff-8a4f-3c8d4dcfda77",
   "metadata": {},
   "source": [
    "# Stress Analysis (Worst-Case Calculation)"
   ]
  },
  {
   "cell_type": "markdown",
   "id": "57d0ce0b-ea67-4d42-87cb-6e8618b4bf82",
   "metadata": {},
   "source": [
    "## Input RMS Current (in A)"
   ]
  },
  {
   "cell_type": "code",
   "execution_count": 8,
   "id": "e703e20c-ee62-44d8-93d8-d8550b7840ac",
   "metadata": {},
   "outputs": [
    {
     "data": {
      "text/plain": [
       "5.0"
      ]
     },
     "execution_count": 8,
     "metadata": {},
     "output_type": "execute_result"
    }
   ],
   "source": [
    "I_IN_RMS = Pout/(VAC_min*eff)\n",
    "round(I_IN_RMS,1)"
   ]
  },
  {
   "cell_type": "markdown",
   "id": "7cf06720-eee2-43cb-884c-f82f5b292925",
   "metadata": {},
   "source": [
    "## Current Sense Resistor RMS Current (in A)"
   ]
  },
  {
   "cell_type": "code",
   "execution_count": 9,
   "id": "e28a6840-cb1c-4805-98b1-802e5abbb852",
   "metadata": {},
   "outputs": [
    {
     "data": {
      "text/plain": [
       "5.0"
      ]
     },
     "execution_count": 9,
     "metadata": {},
     "output_type": "execute_result"
    }
   ],
   "source": [
    "I_RSENSE_RMS = I_IN_RMS\n",
    "round(I_RSENSE_RMS,1)"
   ]
  },
  {
   "cell_type": "markdown",
   "id": "6ed5ba8d-9f98-414a-8f6a-5d0fb7c8be57",
   "metadata": {},
   "source": [
    "## Inductor Peak Current (in A)"
   ]
  },
  {
   "cell_type": "code",
   "execution_count": 10,
   "id": "4ebb91ac-24d0-4c9b-ac88-7f9a11ce75e2",
   "metadata": {},
   "outputs": [
    {
     "data": {
      "text/plain": [
       "8.0"
      ]
     },
     "execution_count": 10,
     "metadata": {},
     "output_type": "execute_result"
    }
   ],
   "source": [
    "IL_peak=math.sqrt(2)*(Pout/eff)/VAC_min*(1+IL_ripple/2)\n",
    "round(IL_peak,1)"
   ]
  },
  {
   "cell_type": "markdown",
   "id": "c3617a61-9770-4da8-9301-8c51985460a0",
   "metadata": {},
   "source": [
    "## Inductor RMS Current (in A)"
   ]
  },
  {
   "cell_type": "code",
   "execution_count": 11,
   "id": "e1e6718d-674c-44d2-84f7-f5f3f2a1afc4",
   "metadata": {},
   "outputs": [
    {
     "data": {
      "text/plain": [
       "5.02"
      ]
     },
     "execution_count": 11,
     "metadata": {},
     "output_type": "execute_result"
    }
   ],
   "source": [
    "IL_RMS=(Pout/eff)/VAC_min\n",
    "round(IL_RMS,2)"
   ]
  },
  {
   "cell_type": "markdown",
   "id": "0149083d-0c18-4c15-9240-475a45eeafca",
   "metadata": {},
   "source": [
    "## MOSFET RMS Current (in A)"
   ]
  },
  {
   "cell_type": "code",
   "execution_count": 12,
   "id": "ea7d445c-5712-487d-88cc-ad8c052388c4",
   "metadata": {},
   "outputs": [
    {
     "data": {
      "text/plain": [
       "3.23"
      ]
     },
     "execution_count": 12,
     "metadata": {},
     "output_type": "execute_result"
    }
   ],
   "source": [
    "I_FET_RMS=(Pout/eff)/VAC_min*math.sqrt(1-(8*math.sqrt(2)*VAC_min/(3*math.pi*Vout)))\n",
    "round(I_FET_RMS,2)"
   ]
  },
  {
   "cell_type": "markdown",
   "id": "d1c77cf6-3035-4c5e-a9a3-9d2f43f775b6",
   "metadata": {},
   "source": [
    "## BOOST Diode AVG Current (in A)"
   ]
  },
  {
   "cell_type": "code",
   "execution_count": 13,
   "id": "716d8231-d7fd-4c95-9327-b673036e3c1e",
   "metadata": {},
   "outputs": [
    {
     "data": {
      "text/plain": [
       "2.35"
      ]
     },
     "execution_count": 13,
     "metadata": {},
     "output_type": "execute_result"
    }
   ],
   "source": [
    "I_BOOST_AVG = Pout/Vout\n",
    "round(I_BOOST_AVG,2)"
   ]
  },
  {
   "cell_type": "markdown",
   "id": "3190b8c0-00ce-4c58-9776-7abc729644ae",
   "metadata": {},
   "source": [
    "## BOOST Diode RMS Current (in A)"
   ]
  },
  {
   "cell_type": "code",
   "execution_count": 14,
   "id": "db1b12a0-1df0-45d2-abe5-f085ed670879",
   "metadata": {},
   "outputs": [
    {
     "data": {
      "text/plain": [
       "3.84"
      ]
     },
     "execution_count": 14,
     "metadata": {},
     "output_type": "execute_result"
    }
   ],
   "source": [
    "I_BOOST_RMS = Pout/(VAC_min*eff)*math.sqrt((8*math.sqrt(2)*VAC_min)/(3*math.pi*Vout))\n",
    "round(I_BOOST_RMS,2)"
   ]
  },
  {
   "cell_type": "markdown",
   "id": "61d79f0a-4823-4733-89b6-d96cac0b08c5",
   "metadata": {},
   "source": [
    "## Output Capacitor RMS Current (in A)"
   ]
  },
  {
   "cell_type": "code",
   "execution_count": 15,
   "id": "fdebb3f5-279e-404a-b84f-f469aa0b075a",
   "metadata": {},
   "outputs": [
    {
     "data": {
      "text/plain": [
       "2.84"
      ]
     },
     "execution_count": 15,
     "metadata": {},
     "output_type": "execute_result"
    }
   ],
   "source": [
    "I_Cout_RMS=math.sqrt((8*math.sqrt(2)*Pout**2/(3*math.pi*VAC_min*Vout))-Pout**2/Vout**2)\n",
    "round(I_Cout_RMS,2)"
   ]
  },
  {
   "cell_type": "markdown",
   "id": "aa70d26c-93ca-47af-aca0-49f3012e74d0",
   "metadata": {},
   "source": [
    "## Output Capacitor Peak Voltage (in V)"
   ]
  },
  {
   "cell_type": "code",
   "execution_count": 16,
   "id": "3d003d71-6c75-49f5-9e59-a91dd089ba6a",
   "metadata": {},
   "outputs": [
    {
     "data": {
      "text/plain": [
       "410.0"
      ]
     },
     "execution_count": 16,
     "metadata": {},
     "output_type": "execute_result"
    }
   ],
   "source": [
    "V_Cout_MAX = Vout+Vout_pp/2\n",
    "round(V_Cout_MAX,2)"
   ]
  },
  {
   "cell_type": "markdown",
   "id": "dd47629a-bb36-44dc-974f-293e90897400",
   "metadata": {},
   "source": [
    "## REC Diode AVG Current / per diode (in A)"
   ]
  },
  {
   "cell_type": "code",
   "execution_count": 17,
   "id": "4e203a12-2302-4698-8204-2e321f1f43eb",
   "metadata": {},
   "outputs": [
    {
     "data": {
      "text/plain": [
       "2.26"
      ]
     },
     "execution_count": 17,
     "metadata": {},
     "output_type": "execute_result"
    }
   ],
   "source": [
    "I_REC_AVG=1/math.pi*math.sqrt(2)*(Pout/eff)/VAC_min\n",
    "round(I_REC_AVG,2)"
   ]
  },
  {
   "cell_type": "markdown",
   "id": "f198d0a0-d1f4-49f4-a090-4ecfbed5848d",
   "metadata": {},
   "source": [
    "## REC Diode RMS Current / per diode (in A)"
   ]
  },
  {
   "cell_type": "code",
   "execution_count": 18,
   "id": "50df3e62-9d5b-49a2-a34a-a7930898df7b",
   "metadata": {},
   "outputs": [
    {
     "data": {
      "text/plain": [
       "3.55"
      ]
     },
     "execution_count": 18,
     "metadata": {},
     "output_type": "execute_result"
    }
   ],
   "source": [
    "I_REC_RMS = math.sqrt(2)*(Pout/(eff*VAC_min))/2\n",
    "round(I_REC_RMS,2)"
   ]
  },
  {
   "cell_type": "markdown",
   "id": "2b437ca4-a119-4823-a818-c3cfd29e3de5",
   "metadata": {},
   "source": [
    "# Stress Analysis (Worst-Case Simulation)"
   ]
  },
  {
   "cell_type": "code",
   "execution_count": 19,
   "id": "071b36a2-ecad-4b2e-b50b-d6504ff1e224",
   "metadata": {},
   "outputs": [],
   "source": [
    "E_SW_FET = 0\n",
    "#Loop_Compensation(V__g, V__out, Pout, eff, f__sw, C, r__C, L, f__AC):\n",
    "loop_comp = (Loop_Compensation(VAC_min, Vout, Pout, eff, fsw, Cout, Cout_ESR, L, AC_freq))\n",
    "#return [Rf_V, Cfz_V, Cfp_V, Rf_I, Cfz_I, Cfp_I]\n",
    "Rf_V = loop_comp[0]\n",
    "Cfz_V = loop_comp[1]\n",
    "Cfp_V = loop_comp[2]\n",
    "Rf_I = loop_comp[3]\n",
    "Cfz_I = loop_comp[4]\n",
    "Cfp_I = loop_comp[5]\n",
    "\n",
    "#print(loop_comp[0],Rf_I, Cfz_I, Cfp_I, Rf_V, Cfz_V, Cfp_V )\n",
    "if sim_on == True:  \n",
    "    # QSPICE_CCM_Boost_PFC_AMC(Cfp_I, Cfp_V, Cfz_I, Cfz_V, Cout, eff, ESR, freq, fsw, L, Pout, Rf_I, Rf_V, Vin_rms, Vout, export_traces = None):\n",
    "    results_sim=QSPICE.QSPICE_CCM_Boost_PFC_AMC(Cfp_I,Cfp_V,Cfz_I,Cfz_V,Cout,eff,Cout_ESR,AC_freq,fsw,L,Pout,Rf_I,Rf_V, VAC_min, Vout, \"V(pwm),V(out),I(L1),I(S1)\")\n",
    "    IL_RMS       = results_sim[1][0]\n",
    "    I_BOOST_RMS  = results_sim[1][1]\n",
    "    IL_peak      = results_sim[1][2]\n",
    "    I_FET_RMS    = results_sim[1][3]\n",
    "    I_BOOST_AVG  = results_sim[1][4]\n",
    "    \n",
    "    I_Cout_RMS   = results_sim[1][5]\n",
    "    I_REC_RMS    = results_sim[1][6]\n",
    "    I_REC_AVG    = results_sim[1][7]\n",
    "    \n",
    "    V_Cout_MAX   = results_sim[1][8]\n",
    "    I_IN_RMS     = results_sim[1][9]\n",
    "    I_RSENSE_RMS = results_sim[1][10]\n",
    "    \n",
    "    #E_SW_FET = ESW_Calc(results_sim[0],Vout)\n",
    "\n",
    "    wfrm = results_sim[0]"
   ]
  },
  {
   "cell_type": "markdown",
   "id": "4d2829ab-2fc3-4ada-84f7-9104136e0796",
   "metadata": {},
   "source": [
    "## Input RMS Current (in A)"
   ]
  },
  {
   "cell_type": "code",
   "execution_count": 20,
   "id": "c1eadf1a-b0c7-4759-8abb-8a23944d3c5c",
   "metadata": {},
   "outputs": [
    {
     "data": {
      "text/plain": [
       "5.1"
      ]
     },
     "execution_count": 20,
     "metadata": {},
     "output_type": "execute_result"
    }
   ],
   "source": [
    "round(I_IN_RMS,1)"
   ]
  },
  {
   "cell_type": "markdown",
   "id": "d362c32c-bf85-4a0d-afb4-808e02aca9bb",
   "metadata": {},
   "source": [
    "## Current Sense Resistor RMS Current (in A)"
   ]
  },
  {
   "cell_type": "code",
   "execution_count": 21,
   "id": "8f41258c-4ab6-4e8d-981f-eb3d60742dbb",
   "metadata": {},
   "outputs": [
    {
     "data": {
      "text/plain": [
       "5.1"
      ]
     },
     "execution_count": 21,
     "metadata": {},
     "output_type": "execute_result"
    }
   ],
   "source": [
    "round(I_RSENSE_RMS,1)"
   ]
  },
  {
   "cell_type": "markdown",
   "id": "b9de7524-d2e2-49bc-9903-08568882829f",
   "metadata": {},
   "source": [
    "## Inductor Peak Current (in A)"
   ]
  },
  {
   "cell_type": "code",
   "execution_count": 22,
   "id": "4382f883-5d6d-4356-a0fb-ee8682ab1c4c",
   "metadata": {},
   "outputs": [
    {
     "data": {
      "text/plain": [
       "8.3"
      ]
     },
     "execution_count": 22,
     "metadata": {},
     "output_type": "execute_result"
    }
   ],
   "source": [
    "round(IL_peak,1)"
   ]
  },
  {
   "cell_type": "markdown",
   "id": "c37debc3-4aa1-42ea-bda3-7834adfcdf5c",
   "metadata": {},
   "source": [
    "## Inductor RMS Current (in A)"
   ]
  },
  {
   "cell_type": "code",
   "execution_count": 23,
   "id": "701e97ee-68bb-479d-afe1-a2143f405479",
   "metadata": {},
   "outputs": [
    {
     "data": {
      "text/plain": [
       "5.06"
      ]
     },
     "execution_count": 23,
     "metadata": {},
     "output_type": "execute_result"
    }
   ],
   "source": [
    "round(IL_RMS,2)"
   ]
  },
  {
   "cell_type": "markdown",
   "id": "73e374c3-801d-47cc-a7ef-074ffa7b0339",
   "metadata": {},
   "source": [
    "## MOSFET RMS Current (in A)"
   ]
  },
  {
   "cell_type": "code",
   "execution_count": 24,
   "id": "d5e70429-adf1-47d9-aea9-23fce1902ec1",
   "metadata": {},
   "outputs": [
    {
     "data": {
      "text/plain": [
       "3.22"
      ]
     },
     "execution_count": 24,
     "metadata": {},
     "output_type": "execute_result"
    }
   ],
   "source": [
    "round(I_FET_RMS,2)"
   ]
  },
  {
   "cell_type": "markdown",
   "id": "f0e85aa1-319d-445f-8f7e-5d06f10fa789",
   "metadata": {},
   "source": [
    "## BOOST Diode AVG Current (in A)"
   ]
  },
  {
   "cell_type": "code",
   "execution_count": 25,
   "id": "1d7472f7-7779-4e46-b2d2-aba12fdce03c",
   "metadata": {},
   "outputs": [
    {
     "data": {
      "text/plain": [
       "2.45"
      ]
     },
     "execution_count": 25,
     "metadata": {},
     "output_type": "execute_result"
    }
   ],
   "source": [
    "round(I_BOOST_AVG,2)"
   ]
  },
  {
   "cell_type": "markdown",
   "id": "6b4442d2-f5b2-47f7-8764-ed5832b979d2",
   "metadata": {},
   "source": [
    "## BOOST Diode RMS Current (in A)"
   ]
  },
  {
   "cell_type": "code",
   "execution_count": 26,
   "id": "b6dda864-d2bc-4949-ba33-2161abde22e6",
   "metadata": {},
   "outputs": [
    {
     "data": {
      "text/plain": [
       "3.9"
      ]
     },
     "execution_count": 26,
     "metadata": {},
     "output_type": "execute_result"
    }
   ],
   "source": [
    "round(I_BOOST_RMS,2)"
   ]
  },
  {
   "cell_type": "markdown",
   "id": "199645a2-80c4-4763-80d6-056a599c0a9e",
   "metadata": {},
   "source": [
    "## Output Capacitor RMS Current (in A)"
   ]
  },
  {
   "cell_type": "code",
   "execution_count": 27,
   "id": "80c9e206-3b78-4a43-b501-a2e7736125bd",
   "metadata": {},
   "outputs": [
    {
     "data": {
      "text/plain": [
       "3.04"
      ]
     },
     "execution_count": 27,
     "metadata": {},
     "output_type": "execute_result"
    }
   ],
   "source": [
    "round(I_Cout_RMS,2)"
   ]
  },
  {
   "cell_type": "markdown",
   "id": "33e95a18-7310-4323-a2d1-03b61d8e0cd8",
   "metadata": {},
   "source": [
    "## Output Capacitor Peak Voltage (in V)"
   ]
  },
  {
   "cell_type": "code",
   "execution_count": 28,
   "id": "b8e3ab1d-fb12-409a-9aea-f8a861fc11ec",
   "metadata": {},
   "outputs": [
    {
     "data": {
      "text/plain": [
       "410.83"
      ]
     },
     "execution_count": 28,
     "metadata": {},
     "output_type": "execute_result"
    }
   ],
   "source": [
    "round(V_Cout_MAX,2)"
   ]
  },
  {
   "cell_type": "markdown",
   "id": "c8307b1d-d07b-421e-89fd-2e6fda208791",
   "metadata": {},
   "source": [
    "## REC Diode AVG Current / per diode (in A)"
   ]
  },
  {
   "cell_type": "code",
   "execution_count": 29,
   "id": "2aa0007f-eeac-4950-9dd3-d7109a85919d",
   "metadata": {},
   "outputs": [
    {
     "data": {
      "text/plain": [
       "2.23"
      ]
     },
     "execution_count": 29,
     "metadata": {},
     "output_type": "execute_result"
    }
   ],
   "source": [
    "round(I_REC_AVG,2)"
   ]
  },
  {
   "cell_type": "markdown",
   "id": "2ff47ea6-3341-42b9-97a4-18cdb8f9925c",
   "metadata": {},
   "source": [
    "## REC Diode RMS Current / per diode (in A)"
   ]
  },
  {
   "cell_type": "code",
   "execution_count": 30,
   "id": "17e91547-cff2-49ce-bbc3-4c7b77dcb3b0",
   "metadata": {},
   "outputs": [
    {
     "data": {
      "text/plain": [
       "3.58"
      ]
     },
     "execution_count": 30,
     "metadata": {},
     "output_type": "execute_result"
    }
   ],
   "source": [
    "round(I_REC_RMS,2)"
   ]
  },
  {
   "cell_type": "markdown",
   "id": "7ed11a5e-927d-4907-a2a1-f9072d067038",
   "metadata": {},
   "source": [
    "# Losses Estimation"
   ]
  },
  {
   "cell_type": "markdown",
   "id": "e1eeb8d7-91d8-4ac3-bab6-0075eee0a396",
   "metadata": {},
   "source": [
    "## Bridge Rectifier (in W)"
   ]
  },
  {
   "cell_type": "code",
   "execution_count": 31,
   "id": "68c09188-551c-4151-beb1-fb978c3c3a9d",
   "metadata": {},
   "outputs": [],
   "source": [
    "P_REC=4*(I_REC_AVG*REC_fwd+REC_rdiff*I_REC_RMS**2)"
   ]
  },
  {
   "cell_type": "code",
   "execution_count": 32,
   "id": "1276c438-075a-4890-8487-571935f0b005",
   "metadata": {},
   "outputs": [
    {
     "data": {
      "text/plain": [
       "10.45"
      ]
     },
     "execution_count": 32,
     "metadata": {},
     "output_type": "execute_result"
    }
   ],
   "source": [
    "round(P_REC,2)"
   ]
  },
  {
   "cell_type": "markdown",
   "id": "2761792b-02f9-4410-b6b1-614cc8680944",
   "metadata": {},
   "source": [
    "## EMI Filter (in W)"
   ]
  },
  {
   "cell_type": "code",
   "execution_count": 33,
   "id": "92e9d833-f7d4-414d-94cd-0a433ce47d6f",
   "metadata": {},
   "outputs": [
    {
     "data": {
      "text/plain": [
       "2.77"
      ]
     },
     "execution_count": 33,
     "metadata": {},
     "output_type": "execute_result"
    }
   ],
   "source": [
    "P_EMI = R_EMI * I_IN_RMS**2\n",
    "round(P_EMI,2)"
   ]
  },
  {
   "cell_type": "markdown",
   "id": "59f9ac19-d2a5-402c-a598-63ef0c51ab63",
   "metadata": {},
   "source": [
    "## Boost Diode"
   ]
  },
  {
   "cell_type": "markdown",
   "id": "ef481796-08b9-4444-9355-3023b85a5cbc",
   "metadata": {},
   "source": [
    "### Conduction Losses (in W)"
   ]
  },
  {
   "cell_type": "code",
   "execution_count": 34,
   "id": "dce7ff32-e02f-4d95-b640-01e22100bb01",
   "metadata": {},
   "outputs": [
    {
     "data": {
      "text/plain": [
       "2.85"
      ]
     },
     "execution_count": 34,
     "metadata": {},
     "output_type": "execute_result"
    }
   ],
   "source": [
    "P_diode_cond=I_BOOST_AVG*BOOST_fwd + BOOST_rdiff * I_BOOST_RMS**2 \n",
    "round(P_diode_cond,2)"
   ]
  },
  {
   "cell_type": "markdown",
   "id": "3405191a-6c31-46a8-a130-8926673a58ea",
   "metadata": {},
   "source": [
    "### Switching Losses (in W)"
   ]
  },
  {
   "cell_type": "code",
   "execution_count": 35,
   "id": "8a648519-cb28-4bb8-a990-5d7d524d05f8",
   "metadata": {},
   "outputs": [],
   "source": [
    "P_diode_SW=Vout*BOOST_Qc*fsw"
   ]
  },
  {
   "cell_type": "code",
   "execution_count": 36,
   "id": "63bbd4c0-3fe9-41ca-af89-b4164780822d",
   "metadata": {},
   "outputs": [
    {
     "data": {
      "text/plain": [
       "0.65"
      ]
     },
     "execution_count": 36,
     "metadata": {},
     "output_type": "execute_result"
    }
   ],
   "source": [
    "round(P_diode_SW,2)"
   ]
  },
  {
   "cell_type": "markdown",
   "id": "f49d8d20-e407-4e97-b3e8-7d7194741d38",
   "metadata": {},
   "source": [
    "This is not losses on diode but on FET which is already included due to DP test performed with actual diode. D_SW has been deleted from graph below. It still remains in total losses calculation. It requires verification. This should be true due to the capacitive character of QRR in SiC diode."
   ]
  },
  {
   "cell_type": "markdown",
   "id": "a3828e46-13a3-44bf-bafc-1c5a060979db",
   "metadata": {},
   "source": [
    "## MOSFET"
   ]
  },
  {
   "cell_type": "markdown",
   "id": "57b81257-0eb2-4a56-bc28-17e2d155a16b",
   "metadata": {},
   "source": [
    "### Conduction Losses (in W)"
   ]
  },
  {
   "cell_type": "code",
   "execution_count": 37,
   "id": "d1be8590-e25d-454a-b690-30ea760e6981",
   "metadata": {},
   "outputs": [
    {
     "data": {
      "text/plain": [
       "2.12"
      ]
     },
     "execution_count": 37,
     "metadata": {},
     "output_type": "execute_result"
    }
   ],
   "source": [
    "P_FET_Cond = rdson * I_FET_RMS**2\n",
    "round(P_FET_Cond,2)"
   ]
  },
  {
   "cell_type": "markdown",
   "id": "0d117ffb-aec7-4a9a-a36a-85a8dec676a0",
   "metadata": {},
   "source": [
    "### Switching Losses (in W)"
   ]
  },
  {
   "cell_type": "code",
   "execution_count": 38,
   "id": "533bc88b-63f2-435d-b2c2-4a57f24c6f53",
   "metadata": {},
   "outputs": [
    {
     "data": {
      "text/plain": [
       "0"
      ]
     },
     "execution_count": 38,
     "metadata": {},
     "output_type": "execute_result"
    }
   ],
   "source": [
    "P_FET_SW = E_SW_FET*AC_freq\n",
    "round(P_FET_SW,2)"
   ]
  },
  {
   "cell_type": "markdown",
   "id": "d3e2e990-627e-4bda-acb7-52fee4fbcd21",
   "metadata": {},
   "source": [
    "## Output Capacitor (in W)"
   ]
  },
  {
   "cell_type": "code",
   "execution_count": 39,
   "id": "eb58b0d9-541f-47a1-9973-1d44debdb65a",
   "metadata": {},
   "outputs": [
    {
     "data": {
      "text/plain": [
       "0.23"
      ]
     },
     "execution_count": 39,
     "metadata": {},
     "output_type": "execute_result"
    }
   ],
   "source": [
    "P_Cout = Cout_ESR * I_Cout_RMS**2\n",
    "round(P_Cout,2)"
   ]
  },
  {
   "cell_type": "markdown",
   "id": "d5b658c5-e1db-4857-a6c5-e305a95c0bed",
   "metadata": {},
   "source": [
    "## Current Sense Resistor (in W)"
   ]
  },
  {
   "cell_type": "code",
   "execution_count": 40,
   "id": "4b6fad90-0bcd-49d9-879a-25cbd7bd58d0",
   "metadata": {},
   "outputs": [
    {
     "data": {
      "text/plain": [
       "0.26"
      ]
     },
     "execution_count": 40,
     "metadata": {},
     "output_type": "execute_result"
    }
   ],
   "source": [
    "P_Rsense = Rsense*I_RSENSE_RMS**2\n",
    "round(P_Rsense,2)"
   ]
  },
  {
   "cell_type": "markdown",
   "id": "91a1785c-5d5c-4c91-be8e-49190b8914f2",
   "metadata": {},
   "source": [
    "# Estimated Total Converter Losses Without Magnetic Losses"
   ]
  },
  {
   "cell_type": "code",
   "execution_count": 41,
   "id": "d0dec598-0910-4d18-97a1-e45028f8ea83",
   "metadata": {},
   "outputs": [
    {
     "data": {
      "image/png": "[encoded data removed]",
      "text/plain": [
       "<Figure size 1700x600 with 2 Axes>"
      ]
     },
     "metadata": {},
     "output_type": "display_data"
    }
   ],
   "source": [
    "%matplotlib inline\n",
    "labels_Ploss= 'Input_REC+EMI', 'Primary_FET', 'Boost_Diode', 'R_sense+Output_Cap'\n",
    "data_Ploss = [P_REC+P_EMI, P_FET_Cond+P_FET_SW, P_diode_cond, P_Rsense+P_Cout]\n",
    "\n",
    "labels_Ploss_Bar= 'REC', 'EMI', 'P_Cond', 'P_SW', 'D_Cond', 'R_sen', 'Cout'\n",
    "data_Ploss_Bar = [P_REC, P_EMI, P_FET_Cond, P_FET_SW, P_diode_cond, P_Rsense, P_Cout]\n",
    "\n",
    "#bar_labels = ['red', 'blue', '_red', 'orange','green']\n",
    "bar_colors = ['tab:blue', 'tab:blue', 'tab:orange', 'tab:orange', 'tab:green', 'tab:green','tab:red', 'tab:red']\n",
    "\n",
    "def autopct_format(values):\n",
    "        def my_format(pct):\n",
    "            total = sum(values)\n",
    "            val = round(pct*total/100,3)\n",
    "            return '{:.1f}%\\n({v:.2f} W)'.format(pct, v=val)\n",
    "        return my_format\n",
    "\n",
    "def addlabels(x,y):\n",
    "    for i in range(len(x)):\n",
    "        ax2.text(i, y[i]+0.05, round(y[i],2), ha = 'center')\n",
    "        \n",
    "\n",
    "fig, (ax1, ax2) = plt.subplots(1, 2, figsize=(17,6))\n",
    "#fig, ax1 = plt.subplots()\n",
    "\n",
    "if sim_on == True:\n",
    "    fig.suptitle('Power Losses Breakdown (w/o Losses in Magnetics)'+'\\n'+'(Minimum Input Voltage)',fontsize=18)\n",
    "else:\n",
    "    fig.suptitle('Power Losses Breakdown (w/o MOSFET SW Losses and Losses in Magnetics)'+'\\n'+'(Minimum Input Voltage)',fontsize=18)\n",
    "ax1.pie(data_Ploss, labels=labels_Ploss, autopct=autopct_format(data_Ploss))\n",
    "\n",
    "ax2.bar(labels_Ploss_Bar, data_Ploss_Bar,color=bar_colors)\n",
    "ax2.grid(True, linestyle='-.',axis='y')\n",
    "ax2.yaxis.set_minor_locator(AutoMinorLocator(5))\n",
    "ax2.set_ylabel('Power (W)')\n",
    "addlabels(labels_Ploss_Bar,data_Ploss_Bar)\n",
    "\n",
    "fig.subplots_adjust(top=0.86)\n",
    "\n",
    "plt.show()\n",
    "if sim_on == False:\n",
    "    display(Markdown('<font size=\"6\"> <span style=\"color:red\"> Warning: Primary MOSFET switching losses are available only when simulated.</span></font>'))"
   ]
  },
  {
   "cell_type": "markdown",
   "id": "09b95188-0c7f-4918-b8f7-cf10fd7cb08c",
   "metadata": {},
   "source": [
    "# Estimated Total Efficiency Without Magnetics (in %)"
   ]
  },
  {
   "cell_type": "code",
   "execution_count": 42,
   "id": "90c3fcdc-0577-49f8-8217-51450f2a5db6",
   "metadata": {},
   "outputs": [
    {
     "data": {
      "text/plain": [
       "98.0"
      ]
     },
     "execution_count": 42,
     "metadata": {},
     "output_type": "execute_result"
    }
   ],
   "source": [
    "P_total = P_REC+P_EMI+P_FET_Cond+P_FET_SW+P_diode_cond+P_diode_SW+P_Rsense+P_Cout\n",
    "eff_Vin_min = Pout / (Pout+P_total)\n",
    "round(eff_Vin_min*100,1)"
   ]
  },
  {
   "cell_type": "code",
   "execution_count": 43,
   "id": "8c593c93-1e88-4677-809d-ebe57237002b",
   "metadata": {
    "jupyter": {
     "source_hidden": true
    }
   },
   "outputs": [],
   "source": [
    "if eff > eff_Vin_min:\n",
    "    display(Markdown('<font size=\"6\"> <span style=\"color:red\"> Warning: User estimated efficiency is bigger than calculated. The results are underestimated.</span></font>'))"
   ]
  },
  {
   "cell_type": "markdown",
   "id": "8b68861d-5b9a-4da7-bec7-9dd9f8ceb135",
   "metadata": {},
   "source": [
    "# Selected Waveforms"
   ]
  },
  {
   "cell_type": "code",
   "execution_count": 44,
   "id": "bc831fc2-fe3d-420d-9a25-75166c12b9cf",
   "metadata": {},
   "outputs": [
    {
     "data": {
      "application/vnd.jupyter.widget-view+json": {
       "model_id": "ae909e83601c4f939bb6498f3fb910ec",
       "version_major": 2,
       "version_minor": 0
      },
      "image/png": "[encoded data removed]",
      "text/html": [
       "\n",
       "            <div style=\"display: inline-block;\">\n",
       "                <div class=\"jupyter-widgets widget-label\" style=\"text-align: center;\">\n",
       "                    Figure\n",
       "                </div>\n",
       "                <img src='data:image/png;base64,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' width=1300.0/>\n",
       "            </div>\n",
       "        "
      ],
      "text/plain": [
       "Canvas(toolbar=Toolbar(toolitems=[('Home', 'Reset original view', 'home', 'home'), ('Back', 'Back to previous …"
      ]
     },
     "metadata": {},
     "output_type": "display_data"
    }
   ],
   "source": [
    "if sim_on == True:\n",
    "    %matplotlib ipympl\n",
    "    fig, (ax1, ax2) = plt.subplots(1, 2, figsize=(13,5))\n",
    "    #fig.suptitle('Power Losses Breakdown (w/o Losses in Magnetics)'+'\\n'+'(Minimum Input Voltage)',fontsize=18)\n",
    "    #ax1.pie(data_Ploss, labels=labels_Ploss, autopct=autopct_format(data_Ploss))\n",
    "    ax1.plot(wfrm[\"time\"], wfrm[\"v(out)\"])\n",
    "    ax1.grid(True, linestyle='-.')\n",
    "    ax1.set(xlabel='Time (s)', ylabel='Output Voltage (V)')\n",
    "    ax2.plot(wfrm[\"time\"], wfrm[\"i(l1)\"])\n",
    "    ax2.grid(True, linestyle='-.')\n",
    "    ax2.set(xlabel='Time (s)', ylabel='Inductor Current (A)')\n",
    "    plt.show()\n",
    "else:\n",
    "    display(Markdown('<font size=\"6\"> <span style=\"color:red\"> Warning: Available only when simulated.</span></font>'))"
   ]
  },
  {
   "cell_type": "markdown",
   "id": "7900358c-40a0-4c6c-b4c9-1c68440fddc1",
   "metadata": {},
   "source": [
    "# PFC Inductor Design"
   ]
  },
  {
   "cell_type": "markdown",
   "id": "07ee8e67-f773-4704-a4d9-87f85d2482fd",
   "metadata": {},
   "source": [
    "Based on M. Pieniz, J. R. Pinheiro and H. L. Hey, \"An investigation of the boost inductor volume applied to PFC converters,\" 2006 37th IEEE Power Electronics Specialists Conference, Jeju, Korea (South), 2006, pp. 1-7, doi: 10.1109/pesc.2006.1712248.\n",
    "\n",
    "It utilized low cost powder core material with a single layer coil\n"
   ]
  },
  {
   "cell_type": "code",
   "execution_count": 45,
   "id": "99e643de-ea62-46a8-bf10-7d2d6fd4f8f2",
   "metadata": {
    "jupyter": {
     "source_hidden": true
    }
   },
   "outputs": [],
   "source": [
    "#Maximum wire current density in A/cm^2\n",
    "j_max = 600\n",
    "\n",
    "# Minimum wire cross-section in cm^2\n",
    "S_min = IL_RMS / 600\n",
    "\n",
    "#Minimum wire diameter in cm\n",
    "dw_min = math.sqrt(4*S_min/math.pi)\n",
    "\n",
    "#Minimum wire size in AWG\n",
    "AWG_min = round(-39*math.log(dw_min*10/0.127,92)+36)\n",
    "#Core Outside Diameter\n",
    "OD = 50"
   ]
  },
  {
   "cell_type": "markdown",
   "id": "58a2a769-1a62-4b50-8d83-05c02ab19912",
   "metadata": {},
   "source": [
    "## Minimum Wire Diameter"
   ]
  },
  {
   "cell_type": "code",
   "execution_count": 46,
   "id": "cecde6ea-0e06-4ea9-b029-0c3afc5051cd",
   "metadata": {
    "jupyter": {
     "source_hidden": true
    }
   },
   "outputs": [
    {
     "name": "stdout",
     "output_type": "stream",
     "text": [
      "0.8434683333333334\n",
      "0.10363094309769934\n"
     ]
    },
    {
     "ename": "NameError",
     "evalue": "name 'AWG' is not defined",
     "output_type": "error",
     "traceback": [
      "\u001b[1;31m---------------------------------------------------------------------------\u001b[0m",
      "\u001b[1;31mNameError\u001b[0m                                 Traceback (most recent call last)",
      "Cell \u001b[1;32mIn[46], line 3\u001b[0m\n\u001b[0;32m      1\u001b[0m \u001b[38;5;28mprint\u001b[39m(S_min\u001b[38;5;241m*\u001b[39m\u001b[38;5;241m100\u001b[39m)\n\u001b[0;32m      2\u001b[0m \u001b[38;5;28mprint\u001b[39m(dw_min)\n\u001b[1;32m----> 3\u001b[0m \u001b[38;5;28mprint\u001b[39m(\u001b[43mAWG\u001b[49m)\n",
      "\u001b[1;31mNameError\u001b[0m: name 'AWG' is not defined"
     ]
    }
   ],
   "source": [
    "print(S_min*100)\n",
    "print(dw_min)\n",
    "print(AWG)"
   ]
  },
  {
   "cell_type": "code",
   "execution_count": null,
   "id": "26f04c08-03c5-4ea0-bfaa-590e71d07fc6",
   "metadata": {},
   "outputs": [],
   "source": [
    "N_max = 0.95*math.pi*((OD/(dw*kd))-1)"
   ]
  },
  {
   "cell_type": "code",
   "execution_count": null,
   "id": "d85f23d3-df6b-4b68-bfe4-594ef60a2fb3",
   "metadata": {},
   "outputs": [],
   "source": []
  }
 ],
 "metadata": {
  "kernelspec": {
   "display_name": "Python 3",
   "language": "python",
   "name": "python3"
  },
  "language_info": {
   "codemirror_mode": {
    "name": "ipython",
    "version": 3
   },
   "file_extension": ".py",
   "mimetype": "text/x-python",
   "name": "python",
   "nbconvert_exporter": "python",
   "pygments_lexer": "ipython3",
   "version": "3.11.6"
  }
 },
 "nbformat": 4,
 "nbformat_minor": 5
}
