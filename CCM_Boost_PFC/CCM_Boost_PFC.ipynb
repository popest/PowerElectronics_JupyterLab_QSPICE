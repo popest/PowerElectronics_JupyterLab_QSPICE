{
 "cells": [
  {
   "cell_type": "code",
   "execution_count": 1,
   "id": "7bbddfbd-3a67-472b-929f-734b99250dce",
   "metadata": {},
   "outputs": [],
   "source": [
    "import math\n",
    "import pandas as pd\n",
    "import numpy as np\n",
    "\n",
    "import CCM_Boost_PFC_QSPICE_circs\n",
    "\n",
    "from IPython.display import display, Markdown, Latex\n",
    "from matplotlib import pyplot as plt\n",
    "from matplotlib.ticker import (MultipleLocator, AutoMinorLocator)\n",
    "from scipy.interpolate import RegularGridInterpolator\n",
    "from scipy.interpolate import interp1d\n",
    "\n",
    "pd.options.display.float_format = '{:.5e}'.format\n",
    "\n",
    "\n",
    "# 2D interpolation \n",
    "# path - path to data folder\n",
    "# file_name - filename of csv file with EON/EFF data\n",
    "# VDS - MOSFET VDS value\n",
    "# ID - drain current\n",
    "# note: current vector has to start from 0 up to value larger than maximum peak current\n",
    "# note: voltage vector should start from 0 up to VDS_max\n",
    "def ESW_Interp(path,file_name,VDS,ID):\n",
    "    \n",
    "    ESW=0\n",
    "    if (VDS >= 0) and (file_name != ''):\n",
    "        df = pd.read_csv(path+file_name, header=None)\n",
    "\n",
    "        Y=df.iloc[1:len(df.index),0].to_numpy()\n",
    "\n",
    "        X=df.iloc[0,1:].to_numpy()\n",
    "\n",
    "        data=df.iloc[1:,1:].to_numpy()\n",
    "   \n",
    "        interp = RegularGridInterpolator((Y,X),data)\n",
    "        ESW=interp((ID,VDS))\n",
    "       \n",
    "    else:\n",
    "        ESW=0\n",
    "    \n",
    "    \n",
    "    return ESW\n",
    "\n",
    "# Switching Losses Calculation\n",
    "# data - Pandas dataframe\n",
    "# VDS - VDS value. In Boost PFC, VDS is equal to Vout\n",
    "\n",
    "#return: Total energy in J over current waveform period\n",
    "def ESW_Calc(data,VDS):\n",
    "    \n",
    "    #df = pd.read_csv(path+file_name)\n",
    "    df = data\n",
    "    # Modify the data so small numerical deviation from 0 and 1 will not interfere with TurnON/OFF detection\n",
    "    # Tolerance range for modification. E.g. Value within range of 1 +/- tolerance is still concidered as 1\n",
    "    tolerance=1e-4\n",
    "    df['V(pwm)']=df['V(pwm)'].apply(lambda x: 1 if (1-tolerance) <= x <= (1+tolerance) else x)\n",
    "    df['V(pwm)']=df['V(pwm)'].apply(lambda x: 0 if (0-tolerance) <= x <= (0+tolerance) else x)\n",
    "\n",
    "    #Detect Turn-OFF (1->0)\n",
    "    mask_OFF = (df['V(pwm)'] == 1) & (df['V(pwm)'].shift(-1) < 1)\n",
    "    \n",
    "    #Detect Turn-ON (0->1)\n",
    "    mask_ON = (df['V(pwm)'] == 1) & (df['V(pwm)'].shift(1) < 1)\n",
    "\n",
    "    # DataFrame of currents for Turn-OFF energy calculation\n",
    "    I_OFF = df.loc[mask_OFF,['Time','I(S1)']]\n",
    "    # Replace all negative current values by 0\n",
    "    I_OFF['I(S1)'] = I_OFF['I(S1)'].apply(lambda x: max(0,x))\n",
    "    \n",
    "    # DataFrame of currents for Turn-ON energy calculation\n",
    "    I_ON = df.loc[mask_ON,['Time','I(S1)']]\n",
    "    # Replace all negative current values by 0\n",
    "    I_ON['I(S1)'] = I_ON['I(S1)'].apply(lambda x: max(0,x))\n",
    "\n",
    "    # Calculate and add EOFF column\n",
    "    I_OFF['EOFF'] = ESW_Interp(MOS_DATA_FLD,EOFF_file_name,VDS,I_OFF['I(S1)'])\n",
    "\n",
    "    # Calculate and add EON column\n",
    "    I_ON['EON'] = ESW_Interp(MOS_DATA_FLD,EON_file_name,VDS,I_ON['I(S1)'])\n",
    "\n",
    "    sum_EOFF = I_OFF['EOFF'].sum()\n",
    "    sum_EON = I_ON['EON'].sum()\n",
    "    E_tot = sum_EOFF + sum_EON\n",
    "\n",
    " #   print(I_OFF.to_string())\n",
    " #   print(I_ON.to_string())\n",
    "\n",
    " #   print('Total Eoff = ', sum_EOFF)\n",
    " #   print('Total Eon = ', sum_EON)\n",
    " #   print('Total ESW = ', E_tot)\n",
    "       \n",
    "    return E_tot\n"
   ]
  },
  {
   "cell_type": "markdown",
   "id": "f1d48b82-a5c1-4e85-a4db-681e7d4207fd",
   "metadata": {},
   "source": [
    "# Input Data"
   ]
  },
  {
   "cell_type": "code",
   "execution_count": 2,
   "id": "f4dbefb7-5d03-4906-b57c-2be9b8f42ca6",
   "metadata": {},
   "outputs": [],
   "source": [
    "# Use simulation (True/False)\n",
    "sim_on = True\n",
    "\n",
    "#Input AC values in RMS\n",
    "VAC_min = 195\n",
    "VAC_max = 265\n",
    "VAC_nom = 230\n",
    "\n",
    "AC_freq=50\n",
    "\n",
    "#Output Voltage\n",
    "Vout=400\n",
    "Vout_pp=20\n",
    "\n",
    "#Output power \n",
    "#note: Concider that output power is Pout of DC/DC / eff_dc_dc\n",
    "Pout=940\n",
    "#Estimated efficiency\n",
    "eff=0.96\n",
    "#switching frequency\n",
    "fsw=133e3\n",
    "\n",
    "#Inductor ripple current (e.g. for 25% put 0.25)\n",
    "IL_ripple=0.5\n",
    "\n",
    "### Input REC Bridge Diode ####\n",
    "REC_fwd = 1\n",
    "REC_rdiff = 30e-3\n",
    "\n",
    "### Input EMI Filter ###\n",
    "#Additional total resistance formed by EMI components\n",
    "#CM_Choke+Relay\n",
    "R_EMI = 8e-3+0.1\n",
    "\n",
    "### MOSFET ###\n",
    "# Set MOSFET Data Folder and EOFF and EON file names. If empty string is provided, EOFF and EON energy estimation is skipped and return 0 J\n",
    "# Note. EOFF and EON data should be obtained using a standard double-pulse test method using the actual boost diode.\n",
    "MOS_DATA_FLD = \"Data/MOSFET/IPP60R120P7/\"\n",
    "EOFF_file_name = \"EOFF_15V_100degC_5600mOhm_25ns_IDH08G65C6.csv\"\n",
    "EON_file_name = \"EON_15V_100degC_5600mOhm_25ns_IDH08G65C6.csv\"\n",
    "\n",
    "#WC RDSon@100degC\n",
    "rdson=0.204\n",
    "\n",
    "### Output Diode@75degC ###\n",
    "# Infineon IDH08G65C6\n",
    "BOOST_fwd=0.69\n",
    "BOOST_rdiff=76e-3\n",
    "BOOST_Qc = 12.2e-9\n",
    "\n",
    "### Output Capacitor ###\n",
    "Cout_ESR = 150e-3\n",
    "\n",
    "### Current sense resistor\n",
    "Rsense = 10e-3\n",
    "\n",
    "################### TESTING ########################\n",
    "\n",
    "\n",
    "#print('EOFF Energy:',ESW_Interp(MOS_DATA_FLD,EOFF_file_name,400,[0.01, 11]))\n",
    "#print('EON Energy:',ESW_Interp(MOS_DATA_FLD,EON_file_name,400,0.1))\n",
    "\n",
    "# QSPICE_PFC_CCM_ACMC(VAC_rms, Cout, ESR, eff, fsw, freq, L, Pout, Vout)\n",
    "#ret=CCM_Boost_PFC_QSPICE_circs.QSPICE_PFC_CCM_ACMC(250, 500e-6, 150e-3, 0.96, 65e3, 50, 295e-6, 900, 400)\n",
    "#print(ret[1][0])\n",
    "\n",
    "#E_results = ESW_Calc(ret[0],400)\n",
    "#print(E_results)\n",
    "\n",
    "#wfrm = ret[0]\n",
    "#plt.plot(wfrm[\"Time\"], wfrm[\"V(OUT)\"])\n",
    "#plt.show()"
   ]
  },
  {
   "cell_type": "markdown",
   "id": "28453081-1d28-411a-8b78-4fd054700bc2",
   "metadata": {},
   "source": [
    "# Minimum Inductor Value Estimation (in uH)\n",
    "Note: Valid at minimum Vin and full load. To maintain the same ripple at maximum Vin, inductance must be higher"
   ]
  },
  {
   "cell_type": "code",
   "execution_count": 3,
   "id": "215ec0cf-9f06-412b-9750-d0ba309672df",
   "metadata": {},
   "outputs": [],
   "source": [
    "L=1/IL_ripple*(VAC_min**2/Pout)*(1-math.sqrt(2)*VAC_min/Vout)*1/fsw"
   ]
  },
  {
   "cell_type": "code",
   "execution_count": 4,
   "id": "529094a1-021c-4305-8c48-6bcfc25b6cf4",
   "metadata": {},
   "outputs": [
    {
     "name": "stdout",
     "output_type": "stream",
     "text": [
      "189\n"
     ]
    }
   ],
   "source": [
    "print(round(L*1e6))"
   ]
  },
  {
   "cell_type": "markdown",
   "id": "411156e2-54fa-4712-8159-ffa29f223357",
   "metadata": {},
   "source": [
    "# Maximum Allowed Pk-Pk Output Voltage Ripple (in V)\n",
    "To ensure proper boost functionality, output voltage must be alwasy higher than input voltage"
   ]
  },
  {
   "cell_type": "code",
   "execution_count": 5,
   "id": "39ae679f-30b7-4b2e-9b79-6f1629d87745",
   "metadata": {
    "jupyter": {
     "source_hidden": true
    }
   },
   "outputs": [
    {
     "name": "stdout",
     "output_type": "stream",
     "text": [
      "25.23\n"
     ]
    }
   ],
   "source": [
    "Vout_pp_max=Vout-VAC_max*math.sqrt(2)\n",
    "print(round(Vout_pp_max,2))\n",
    "if Vout_pp > Vout_pp_max:\n",
    "    display(Markdown('<font size=\"6\"> <span style=\"color:red\"> Warning: Defined output pk-pk voltage ripple does not ensure proper boost functionality </span></font>'))"
   ]
  },
  {
   "cell_type": "markdown",
   "id": "70452a25-fd9c-4ce2-bf8f-00e81b429f02",
   "metadata": {},
   "source": [
    "# Output Capacitor Requirements"
   ]
  },
  {
   "cell_type": "markdown",
   "id": "e3db024d-9162-4324-80bb-98be2dabb01f",
   "metadata": {},
   "source": [
    "## Minimum Capacitance (in uF)"
   ]
  },
  {
   "cell_type": "code",
   "execution_count": 6,
   "id": "01ac6b52-ce95-4d24-bca3-2b8d0f362cd3",
   "metadata": {},
   "outputs": [],
   "source": [
    "Cout=Pout/(2*math.pi*AC_freq*Vout_pp*Vout)"
   ]
  },
  {
   "cell_type": "code",
   "execution_count": 7,
   "id": "42dbb125-19c1-486e-8caa-beaaabe78786",
   "metadata": {},
   "outputs": [
    {
     "data": {
      "text/plain": [
       "374.01"
      ]
     },
     "execution_count": 7,
     "metadata": {},
     "output_type": "execute_result"
    }
   ],
   "source": [
    "round(Cout*1e6,2)"
   ]
  },
  {
   "cell_type": "markdown",
   "id": "90a8bc70-48b1-4aff-8a4f-3c8d4dcfda77",
   "metadata": {},
   "source": [
    "# Stress Analysis (Worst-Case Calculation)"
   ]
  },
  {
   "cell_type": "markdown",
   "id": "57d0ce0b-ea67-4d42-87cb-6e8618b4bf82",
   "metadata": {},
   "source": [
    "## Input RMS Current (in A)"
   ]
  },
  {
   "cell_type": "code",
   "execution_count": 8,
   "id": "e703e20c-ee62-44d8-93d8-d8550b7840ac",
   "metadata": {},
   "outputs": [
    {
     "data": {
      "text/plain": [
       "4.8"
      ]
     },
     "execution_count": 8,
     "metadata": {},
     "output_type": "execute_result"
    }
   ],
   "source": [
    "I_IN_RMS = Pout/VAC_min\n",
    "round(I_IN_RMS,1)"
   ]
  },
  {
   "cell_type": "markdown",
   "id": "7cf06720-eee2-43cb-884c-f82f5b292925",
   "metadata": {},
   "source": [
    "## Current Sense Resistor RMS Current (in A)"
   ]
  },
  {
   "cell_type": "code",
   "execution_count": 9,
   "id": "e28a6840-cb1c-4805-98b1-802e5abbb852",
   "metadata": {},
   "outputs": [
    {
     "data": {
      "text/plain": [
       "4.8"
      ]
     },
     "execution_count": 9,
     "metadata": {},
     "output_type": "execute_result"
    }
   ],
   "source": [
    "I_RSENSE_RMS = I_IN_RMS\n",
    "round(I_RSENSE_RMS,1)"
   ]
  },
  {
   "cell_type": "markdown",
   "id": "6ed5ba8d-9f98-414a-8f6a-5d0fb7c8be57",
   "metadata": {},
   "source": [
    "## Inductor Peak Current (in A)"
   ]
  },
  {
   "cell_type": "code",
   "execution_count": 10,
   "id": "4ebb91ac-24d0-4c9b-ac88-7f9a11ce75e2",
   "metadata": {},
   "outputs": [],
   "source": [
    "IL_peak=math.sqrt(2)*(Pout/eff)/VAC_min*(1+IL_ripple/2)"
   ]
  },
  {
   "cell_type": "code",
   "execution_count": 11,
   "id": "980a0505-448f-4151-bf3e-33b41e0df06d",
   "metadata": {},
   "outputs": [
    {
     "data": {
      "text/plain": [
       "8.9"
      ]
     },
     "execution_count": 11,
     "metadata": {},
     "output_type": "execute_result"
    }
   ],
   "source": [
    "round(IL_peak,1)"
   ]
  },
  {
   "cell_type": "markdown",
   "id": "c3617a61-9770-4da8-9301-8c51985460a0",
   "metadata": {},
   "source": [
    "## Inductor RMS Current (in A)"
   ]
  },
  {
   "cell_type": "code",
   "execution_count": 12,
   "id": "e1e6718d-674c-44d2-84f7-f5f3f2a1afc4",
   "metadata": {},
   "outputs": [],
   "source": [
    "IL_RMS=(Pout/eff)/VAC_min"
   ]
  },
  {
   "cell_type": "code",
   "execution_count": 13,
   "id": "a82ee8ca-1ce6-402c-bdc8-a204d63cc4d5",
   "metadata": {},
   "outputs": [
    {
     "data": {
      "text/plain": [
       "5.02"
      ]
     },
     "execution_count": 13,
     "metadata": {},
     "output_type": "execute_result"
    }
   ],
   "source": [
    "round(IL_RMS,2)"
   ]
  },
  {
   "cell_type": "markdown",
   "id": "0149083d-0c18-4c15-9240-475a45eeafca",
   "metadata": {},
   "source": [
    "## MOSFET RMS Current (in A)"
   ]
  },
  {
   "cell_type": "code",
   "execution_count": 14,
   "id": "ea7d445c-5712-487d-88cc-ad8c052388c4",
   "metadata": {},
   "outputs": [],
   "source": [
    "I_FET_RMS=(Pout/eff)/VAC_min*math.sqrt(1-(8*math.sqrt(2)*VAC_min/(3*math.pi*Vout)))"
   ]
  },
  {
   "cell_type": "code",
   "execution_count": 15,
   "id": "6f62bce2-ae3a-48b3-a6d6-820d28e1565a",
   "metadata": {},
   "outputs": [
    {
     "data": {
      "text/plain": [
       "3.23"
      ]
     },
     "execution_count": 15,
     "metadata": {},
     "output_type": "execute_result"
    }
   ],
   "source": [
    "round(I_FET_RMS,2)"
   ]
  },
  {
   "cell_type": "markdown",
   "id": "d1c77cf6-3035-4c5e-a9a3-9d2f43f775b6",
   "metadata": {},
   "source": [
    "## BOOST Diode AVG Current (in A)"
   ]
  },
  {
   "cell_type": "code",
   "execution_count": 16,
   "id": "716d8231-d7fd-4c95-9327-b673036e3c1e",
   "metadata": {},
   "outputs": [],
   "source": [
    "I_BOOST_AVG = Pout/Vout"
   ]
  },
  {
   "cell_type": "code",
   "execution_count": 17,
   "id": "e691b845-29a2-4f78-bf11-7106bc9069f3",
   "metadata": {},
   "outputs": [
    {
     "data": {
      "text/plain": [
       "2.35"
      ]
     },
     "execution_count": 17,
     "metadata": {},
     "output_type": "execute_result"
    }
   ],
   "source": [
    "round(I_BOOST_AVG,2)"
   ]
  },
  {
   "cell_type": "markdown",
   "id": "3190b8c0-00ce-4c58-9776-7abc729644ae",
   "metadata": {},
   "source": [
    "## BOOST Diode RMS Current (in A)"
   ]
  },
  {
   "cell_type": "code",
   "execution_count": 18,
   "id": "db1b12a0-1df0-45d2-abe5-f085ed670879",
   "metadata": {},
   "outputs": [
    {
     "data": {
      "text/plain": [
       "3.84"
      ]
     },
     "execution_count": 18,
     "metadata": {},
     "output_type": "execute_result"
    }
   ],
   "source": [
    "I_BOOST_RMS = Pout/(VAC_min*eff)*math.sqrt((8*math.sqrt(2)*VAC_min)/(3*math.pi*Vout))\n",
    "round(I_BOOST_RMS,2)"
   ]
  },
  {
   "cell_type": "markdown",
   "id": "61d79f0a-4823-4733-89b6-d96cac0b08c5",
   "metadata": {},
   "source": [
    "## Output Capacitor RMS Current (in A)"
   ]
  },
  {
   "cell_type": "code",
   "execution_count": 19,
   "id": "fdebb3f5-279e-404a-b84f-f469aa0b075a",
   "metadata": {},
   "outputs": [],
   "source": [
    "I_Cout_RMS=math.sqrt((8*math.sqrt(2)*Pout**2/(3*math.pi*VAC_min*Vout))-Pout**2/Vout**2)"
   ]
  },
  {
   "cell_type": "code",
   "execution_count": 20,
   "id": "8587f779-4360-4947-8ee3-f691ba83ac8e",
   "metadata": {},
   "outputs": [
    {
     "data": {
      "text/plain": [
       "2.84"
      ]
     },
     "execution_count": 20,
     "metadata": {},
     "output_type": "execute_result"
    }
   ],
   "source": [
    "round(I_Cout_RMS,2)"
   ]
  },
  {
   "cell_type": "markdown",
   "id": "aa70d26c-93ca-47af-aca0-49f3012e74d0",
   "metadata": {},
   "source": [
    "## Output Capacitor Peak Voltage (in V)"
   ]
  },
  {
   "cell_type": "code",
   "execution_count": 21,
   "id": "3d003d71-6c75-49f5-9e59-a91dd089ba6a",
   "metadata": {},
   "outputs": [
    {
     "data": {
      "text/plain": [
       "410.0"
      ]
     },
     "execution_count": 21,
     "metadata": {},
     "output_type": "execute_result"
    }
   ],
   "source": [
    "V_Cout_MAX = Vout+Vout_pp/2\n",
    "round(V_Cout_MAX,2)"
   ]
  },
  {
   "cell_type": "markdown",
   "id": "dd47629a-bb36-44dc-974f-293e90897400",
   "metadata": {},
   "source": [
    "## REC Diode AVG Current / per diode (in A)"
   ]
  },
  {
   "cell_type": "code",
   "execution_count": 22,
   "id": "4e203a12-2302-4698-8204-2e321f1f43eb",
   "metadata": {},
   "outputs": [
    {
     "data": {
      "text/plain": [
       "2.26"
      ]
     },
     "execution_count": 22,
     "metadata": {},
     "output_type": "execute_result"
    }
   ],
   "source": [
    "I_REC_AVG=1/math.pi*math.sqrt(2)*(Pout/eff)/VAC_min\n",
    "round(I_REC_AVG,2)"
   ]
  },
  {
   "cell_type": "markdown",
   "id": "f198d0a0-d1f4-49f4-a090-4ecfbed5848d",
   "metadata": {},
   "source": [
    "## REC Diode RMS Current / per diode (in A)"
   ]
  },
  {
   "cell_type": "code",
   "execution_count": 23,
   "id": "50df3e62-9d5b-49a2-a34a-a7930898df7b",
   "metadata": {},
   "outputs": [
    {
     "data": {
      "text/plain": [
       "3.55"
      ]
     },
     "execution_count": 23,
     "metadata": {},
     "output_type": "execute_result"
    }
   ],
   "source": [
    "I_REC_RMS = math.sqrt(2)*(Pout/(eff*VAC_min))/2\n",
    "round(I_REC_RMS,2)"
   ]
  },
  {
   "cell_type": "markdown",
   "id": "2b437ca4-a119-4823-a818-c3cfd29e3de5",
   "metadata": {},
   "source": [
    "# Stress Analysis (Worst-Case Simulation)"
   ]
  },
  {
   "cell_type": "code",
   "execution_count": 24,
   "id": "071b36a2-ecad-4b2e-b50b-d6504ff1e224",
   "metadata": {
    "jupyter": {
     "source_hidden": true
    }
   },
   "outputs": [],
   "source": [
    "E_SW_FET = 0\n",
    "if sim_on == True:\n",
    "    # QSPICE_PFC_CCM_ACMC(VAC_rms, Cout, ESR, eff, fsw, freq, L, Pout, Vout)\n",
    "    results_sim=CCM_Boost_PFC_QSPICE_circs.QSPICE_PFC_CCM_ACMC(VAC_min, Cout, Cout_ESR, eff, fsw, AC_freq, L, Pout, Vout)\n",
    "  #  print(results_sim[1])\n",
    "    IL_RMS       = results_sim[1][0]\n",
    "    IL_peak      = results_sim[1][1]\n",
    "    I_FET_RMS    = results_sim[1][2]\n",
    "    I_BOOST_AVG  = results_sim[1][3]\n",
    "    I_BOOST_RMS  = results_sim[1][4]\n",
    "    I_Cout_RMS   = results_sim[1][5]\n",
    "    I_REC_AVG    = results_sim[1][6]\n",
    "    I_REC_RMS    = results_sim[1][7]\n",
    "    V_Cout_MAX   = results_sim[1][8]+results_sim[1][9]/2\n",
    "    I_IN_RMS     = results_sim[1][10]\n",
    "    I_RSENSE_RMS = results_sim[1][11]\n",
    "    \n",
    "    E_SW_FET = ESW_Calc(results_sim[0],Vout)\n",
    "\n",
    "    wfrm = results_sim[0]"
   ]
  },
  {
   "cell_type": "markdown",
   "id": "4d2829ab-2fc3-4ada-84f7-9104136e0796",
   "metadata": {},
   "source": [
    "## Input RMS Current (in A)"
   ]
  },
  {
   "cell_type": "code",
   "execution_count": 25,
   "id": "c1eadf1a-b0c7-4759-8abb-8a23944d3c5c",
   "metadata": {},
   "outputs": [
    {
     "data": {
      "text/plain": [
       "5.2"
      ]
     },
     "execution_count": 25,
     "metadata": {},
     "output_type": "execute_result"
    }
   ],
   "source": [
    "round(I_IN_RMS,1)"
   ]
  },
  {
   "cell_type": "markdown",
   "id": "d362c32c-bf85-4a0d-afb4-808e02aca9bb",
   "metadata": {},
   "source": [
    "## Current Sense Resistor RMS Current (in A)"
   ]
  },
  {
   "cell_type": "code",
   "execution_count": 26,
   "id": "8f41258c-4ab6-4e8d-981f-eb3d60742dbb",
   "metadata": {},
   "outputs": [
    {
     "data": {
      "text/plain": [
       "5.1"
      ]
     },
     "execution_count": 26,
     "metadata": {},
     "output_type": "execute_result"
    }
   ],
   "source": [
    "round(I_RSENSE_RMS,1)"
   ]
  },
  {
   "cell_type": "markdown",
   "id": "b9de7524-d2e2-49bc-9903-08568882829f",
   "metadata": {},
   "source": [
    "## Inductor Peak Current (in A)"
   ]
  },
  {
   "cell_type": "code",
   "execution_count": 27,
   "id": "4382f883-5d6d-4356-a0fb-ee8682ab1c4c",
   "metadata": {},
   "outputs": [
    {
     "data": {
      "text/plain": [
       "8.9"
      ]
     },
     "execution_count": 27,
     "metadata": {},
     "output_type": "execute_result"
    }
   ],
   "source": [
    "round(IL_peak,1)"
   ]
  },
  {
   "cell_type": "markdown",
   "id": "c37debc3-4aa1-42ea-bda3-7834adfcdf5c",
   "metadata": {},
   "source": [
    "## Inductor RMS Current (in A)"
   ]
  },
  {
   "cell_type": "code",
   "execution_count": 28,
   "id": "701e97ee-68bb-479d-afe1-a2143f405479",
   "metadata": {},
   "outputs": [
    {
     "data": {
      "text/plain": [
       "5.15"
      ]
     },
     "execution_count": 28,
     "metadata": {},
     "output_type": "execute_result"
    }
   ],
   "source": [
    "round(IL_RMS,2)"
   ]
  },
  {
   "cell_type": "markdown",
   "id": "73e374c3-801d-47cc-a7ef-074ffa7b0339",
   "metadata": {},
   "source": [
    "## MOSFET RMS Current (in A)"
   ]
  },
  {
   "cell_type": "code",
   "execution_count": 29,
   "id": "d5e70429-adf1-47d9-aea9-23fce1902ec1",
   "metadata": {},
   "outputs": [
    {
     "data": {
      "text/plain": [
       "3.34"
      ]
     },
     "execution_count": 29,
     "metadata": {},
     "output_type": "execute_result"
    }
   ],
   "source": [
    "round(I_FET_RMS,2)"
   ]
  },
  {
   "cell_type": "markdown",
   "id": "f0e85aa1-319d-445f-8f7e-5d06f10fa789",
   "metadata": {},
   "source": [
    "## BOOST Diode AVG Current (in A)"
   ]
  },
  {
   "cell_type": "code",
   "execution_count": 30,
   "id": "1d7472f7-7779-4e46-b2d2-aba12fdce03c",
   "metadata": {},
   "outputs": [
    {
     "data": {
      "text/plain": [
       "2.46"
      ]
     },
     "execution_count": 30,
     "metadata": {},
     "output_type": "execute_result"
    }
   ],
   "source": [
    "round(I_BOOST_AVG,2)"
   ]
  },
  {
   "cell_type": "markdown",
   "id": "6b4442d2-f5b2-47f7-8764-ed5832b979d2",
   "metadata": {},
   "source": [
    "## BOOST Diode RMS Current (in A)"
   ]
  },
  {
   "cell_type": "code",
   "execution_count": 31,
   "id": "b6dda864-d2bc-4949-ba33-2161abde22e6",
   "metadata": {},
   "outputs": [
    {
     "data": {
      "text/plain": [
       "3.92"
      ]
     },
     "execution_count": 31,
     "metadata": {},
     "output_type": "execute_result"
    }
   ],
   "source": [
    "round(I_BOOST_RMS,2)"
   ]
  },
  {
   "cell_type": "markdown",
   "id": "199645a2-80c4-4763-80d6-056a599c0a9e",
   "metadata": {},
   "source": [
    "## Output Capacitor RMS Current (in A)"
   ]
  },
  {
   "cell_type": "code",
   "execution_count": 32,
   "id": "80c9e206-3b78-4a43-b501-a2e7736125bd",
   "metadata": {},
   "outputs": [
    {
     "data": {
      "text/plain": [
       "3.06"
      ]
     },
     "execution_count": 32,
     "metadata": {},
     "output_type": "execute_result"
    }
   ],
   "source": [
    "round(I_Cout_RMS,2)"
   ]
  },
  {
   "cell_type": "markdown",
   "id": "33e95a18-7310-4323-a2d1-03b61d8e0cd8",
   "metadata": {},
   "source": [
    "## Output Capacitor Peak Voltage (in V)"
   ]
  },
  {
   "cell_type": "code",
   "execution_count": 33,
   "id": "b8e3ab1d-fb12-409a-9aea-f8a861fc11ec",
   "metadata": {},
   "outputs": [
    {
     "data": {
      "text/plain": [
       "410.98"
      ]
     },
     "execution_count": 33,
     "metadata": {},
     "output_type": "execute_result"
    }
   ],
   "source": [
    "round(V_Cout_MAX,2)"
   ]
  },
  {
   "cell_type": "markdown",
   "id": "c8307b1d-d07b-421e-89fd-2e6fda208791",
   "metadata": {},
   "source": [
    "## REC Diode AVG Current / per diode (in A)"
   ]
  },
  {
   "cell_type": "code",
   "execution_count": 34,
   "id": "2aa0007f-eeac-4950-9dd3-d7109a85919d",
   "metadata": {},
   "outputs": [
    {
     "data": {
      "text/plain": [
       "2.28"
      ]
     },
     "execution_count": 34,
     "metadata": {},
     "output_type": "execute_result"
    }
   ],
   "source": [
    "round(I_REC_AVG,2)"
   ]
  },
  {
   "cell_type": "markdown",
   "id": "2ff47ea6-3341-42b9-97a4-18cdb8f9925c",
   "metadata": {},
   "source": [
    "## REC Diode RMS Current / per diode (in A)"
   ]
  },
  {
   "cell_type": "code",
   "execution_count": 35,
   "id": "17e91547-cff2-49ce-bbc3-4c7b77dcb3b0",
   "metadata": {},
   "outputs": [
    {
     "data": {
      "text/plain": [
       "3.64"
      ]
     },
     "execution_count": 35,
     "metadata": {},
     "output_type": "execute_result"
    }
   ],
   "source": [
    "round(I_REC_RMS,2)"
   ]
  },
  {
   "cell_type": "markdown",
   "id": "7ed11a5e-927d-4907-a2a1-f9072d067038",
   "metadata": {},
   "source": [
    "# Losses Estimation"
   ]
  },
  {
   "cell_type": "markdown",
   "id": "e1eeb8d7-91d8-4ac3-bab6-0075eee0a396",
   "metadata": {},
   "source": [
    "## Bridge Rectifier (in W)"
   ]
  },
  {
   "cell_type": "code",
   "execution_count": 36,
   "id": "68c09188-551c-4151-beb1-fb978c3c3a9d",
   "metadata": {},
   "outputs": [],
   "source": [
    "P_REC=4*(I_REC_AVG*REC_fwd+REC_rdiff*I_REC_RMS**2)"
   ]
  },
  {
   "cell_type": "code",
   "execution_count": 37,
   "id": "1276c438-075a-4890-8487-571935f0b005",
   "metadata": {},
   "outputs": [
    {
     "data": {
      "text/plain": [
       "10.69"
      ]
     },
     "execution_count": 37,
     "metadata": {},
     "output_type": "execute_result"
    }
   ],
   "source": [
    "round(P_REC,2)"
   ]
  },
  {
   "cell_type": "markdown",
   "id": "2761792b-02f9-4410-b6b1-614cc8680944",
   "metadata": {},
   "source": [
    "## EMI Filter (in W)"
   ]
  },
  {
   "cell_type": "code",
   "execution_count": 38,
   "id": "92e9d833-f7d4-414d-94cd-0a433ce47d6f",
   "metadata": {},
   "outputs": [
    {
     "data": {
      "text/plain": [
       "2.87"
      ]
     },
     "execution_count": 38,
     "metadata": {},
     "output_type": "execute_result"
    }
   ],
   "source": [
    "P_EMI = R_EMI * I_IN_RMS**2\n",
    "round(P_EMI,2)"
   ]
  },
  {
   "cell_type": "markdown",
   "id": "59f9ac19-d2a5-402c-a598-63ef0c51ab63",
   "metadata": {},
   "source": [
    "## Boost Diode"
   ]
  },
  {
   "cell_type": "markdown",
   "id": "ef481796-08b9-4444-9355-3023b85a5cbc",
   "metadata": {},
   "source": [
    "### Conduction Losses (in W)"
   ]
  },
  {
   "cell_type": "code",
   "execution_count": 39,
   "id": "dce7ff32-e02f-4d95-b640-01e22100bb01",
   "metadata": {},
   "outputs": [
    {
     "data": {
      "text/plain": [
       "2.86"
      ]
     },
     "execution_count": 39,
     "metadata": {},
     "output_type": "execute_result"
    }
   ],
   "source": [
    "P_diode_cond=I_BOOST_AVG*BOOST_fwd + BOOST_rdiff * I_BOOST_RMS**2 \n",
    "round(P_diode_cond,2)"
   ]
  },
  {
   "cell_type": "markdown",
   "id": "3405191a-6c31-46a8-a130-8926673a58ea",
   "metadata": {},
   "source": [
    "### Switching Losses (in W)"
   ]
  },
  {
   "cell_type": "code",
   "execution_count": 40,
   "id": "8a648519-cb28-4bb8-a990-5d7d524d05f8",
   "metadata": {},
   "outputs": [],
   "source": [
    "P_diode_SW=Vout*BOOST_Qc*fsw"
   ]
  },
  {
   "cell_type": "code",
   "execution_count": 41,
   "id": "63bbd4c0-3fe9-41ca-af89-b4164780822d",
   "metadata": {},
   "outputs": [
    {
     "data": {
      "text/plain": [
       "0.65"
      ]
     },
     "execution_count": 41,
     "metadata": {},
     "output_type": "execute_result"
    }
   ],
   "source": [
    "round(P_diode_SW,2)"
   ]
  },
  {
   "cell_type": "markdown",
   "id": "f49d8d20-e407-4e97-b3e8-7d7194741d38",
   "metadata": {},
   "source": [
    "This is not losses on diode but on FET which is already included due to DP test performed with actual diode. D_SW has been deleted from graph below. It still remains in total losses calculation. It requires verification. This should be true due to the capacitive character of QRR in SiC diode."
   ]
  },
  {
   "cell_type": "markdown",
   "id": "a3828e46-13a3-44bf-bafc-1c5a060979db",
   "metadata": {},
   "source": [
    "## MOSFET"
   ]
  },
  {
   "cell_type": "markdown",
   "id": "57b81257-0eb2-4a56-bc28-17e2d155a16b",
   "metadata": {},
   "source": [
    "### Conduction Losses (in W)"
   ]
  },
  {
   "cell_type": "code",
   "execution_count": 42,
   "id": "d1be8590-e25d-454a-b690-30ea760e6981",
   "metadata": {},
   "outputs": [
    {
     "data": {
      "text/plain": [
       "2.27"
      ]
     },
     "execution_count": 42,
     "metadata": {},
     "output_type": "execute_result"
    }
   ],
   "source": [
    "P_FET_Cond = rdson * I_FET_RMS**2\n",
    "round(P_FET_Cond,2)"
   ]
  },
  {
   "cell_type": "markdown",
   "id": "0d117ffb-aec7-4a9a-a36a-85a8dec676a0",
   "metadata": {},
   "source": [
    "### Switching Losses (in W)"
   ]
  },
  {
   "cell_type": "code",
   "execution_count": 43,
   "id": "533bc88b-63f2-435d-b2c2-4a57f24c6f53",
   "metadata": {},
   "outputs": [
    {
     "data": {
      "text/plain": [
       "2.66"
      ]
     },
     "execution_count": 43,
     "metadata": {},
     "output_type": "execute_result"
    }
   ],
   "source": [
    "P_FET_SW = E_SW_FET*AC_freq\n",
    "round(P_FET_SW,2)"
   ]
  },
  {
   "cell_type": "markdown",
   "id": "d3e2e990-627e-4bda-acb7-52fee4fbcd21",
   "metadata": {},
   "source": [
    "## Output Capacitor (in W)"
   ]
  },
  {
   "cell_type": "code",
   "execution_count": 44,
   "id": "eb58b0d9-541f-47a1-9973-1d44debdb65a",
   "metadata": {},
   "outputs": [
    {
     "data": {
      "text/plain": [
       "1.4"
      ]
     },
     "execution_count": 44,
     "metadata": {},
     "output_type": "execute_result"
    }
   ],
   "source": [
    "P_Cout = Cout_ESR * I_Cout_RMS**2\n",
    "round(P_Cout,2)"
   ]
  },
  {
   "cell_type": "markdown",
   "id": "d5b658c5-e1db-4857-a6c5-e305a95c0bed",
   "metadata": {},
   "source": [
    "## Current Sense Resistor (in W)"
   ]
  },
  {
   "cell_type": "code",
   "execution_count": 45,
   "id": "4b6fad90-0bcd-49d9-879a-25cbd7bd58d0",
   "metadata": {},
   "outputs": [
    {
     "data": {
      "text/plain": [
       "0.27"
      ]
     },
     "execution_count": 45,
     "metadata": {},
     "output_type": "execute_result"
    }
   ],
   "source": [
    "P_Rsense = Rsense*I_RSENSE_RMS**2\n",
    "round(P_Rsense,2)"
   ]
  },
  {
   "cell_type": "markdown",
   "id": "91a1785c-5d5c-4c91-be8e-49190b8914f2",
   "metadata": {},
   "source": [
    "# Estimated Total Converter Losses Without Magnetic Losses"
   ]
  },
  {
   "cell_type": "code",
   "execution_count": 46,
   "id": "d0dec598-0910-4d18-97a1-e45028f8ea83",
   "metadata": {},
   "outputs": [
    {
     "data": {
      "image/png": "[encoded data removed]",
      "text/plain": [
       "<Figure size 1700x600 with 2 Axes>"
      ]
     },
     "metadata": {},
     "output_type": "display_data"
    }
   ],
   "source": [
    "%matplotlib inline\n",
    "labels_Ploss= 'Input_REC+EMI', 'Primary_FET', 'Boost_Diode', 'R_sense+Output_Cap'\n",
    "data_Ploss = [P_REC+P_EMI, P_FET_Cond+P_FET_SW, P_diode_cond, P_Rsense+P_Cout]\n",
    "\n",
    "labels_Ploss_Bar= 'REC', 'EMI', 'P_Cond', 'P_SW', 'D_Cond', 'R_sen', 'Cout'\n",
    "data_Ploss_Bar = [P_REC, P_EMI, P_FET_Cond, P_FET_SW, P_diode_cond, P_Rsense, P_Cout]\n",
    "\n",
    "#bar_labels = ['red', 'blue', '_red', 'orange','green']\n",
    "bar_colors = ['tab:blue', 'tab:blue', 'tab:orange', 'tab:orange', 'tab:green', 'tab:green','tab:red', 'tab:red']\n",
    "\n",
    "def autopct_format(values):\n",
    "        def my_format(pct):\n",
    "            total = sum(values)\n",
    "            val = round(pct*total/100,3)\n",
    "            return '{:.1f}%\\n({v:.2f} W)'.format(pct, v=val)\n",
    "        return my_format\n",
    "\n",
    "def addlabels(x,y):\n",
    "    for i in range(len(x)):\n",
    "        ax2.text(i, y[i]+0.05, round(y[i],2), ha = 'center')\n",
    "        \n",
    "\n",
    "fig, (ax1, ax2) = plt.subplots(1, 2, figsize=(17,6))\n",
    "#fig, ax1 = plt.subplots()\n",
    "\n",
    "if sim_on == True:\n",
    "    fig.suptitle('Power Losses Breakdown (w/o Losses in Magnetics)'+'\\n'+'(Minimum Input Voltage)',fontsize=18)\n",
    "else:\n",
    "    fig.suptitle('Power Losses Breakdown (w/o MOSFET SW Losses and Losses in Magnetics)'+'\\n'+'(Minimum Input Voltage)',fontsize=18)\n",
    "ax1.pie(data_Ploss, labels=labels_Ploss, autopct=autopct_format(data_Ploss))\n",
    "\n",
    "ax2.bar(labels_Ploss_Bar, data_Ploss_Bar,color=bar_colors)\n",
    "ax2.grid(True, linestyle='-.',axis='y')\n",
    "ax2.yaxis.set_minor_locator(AutoMinorLocator(5))\n",
    "ax2.set_ylabel('Power (W)')\n",
    "addlabels(labels_Ploss_Bar,data_Ploss_Bar)\n",
    "\n",
    "fig.subplots_adjust(top=0.86)\n",
    "\n",
    "plt.show()\n",
    "if sim_on == False:\n",
    "    display(Markdown('<font size=\"6\"> <span style=\"color:red\"> Warning: Primary MOSFET switching losses are available only when simulated.</span></font>'))"
   ]
  },
  {
   "cell_type": "markdown",
   "id": "09b95188-0c7f-4918-b8f7-cf10fd7cb08c",
   "metadata": {},
   "source": [
    "# Estimated Total Efficiency Without Magnetics (in %)"
   ]
  },
  {
   "cell_type": "code",
   "execution_count": 47,
   "id": "90c3fcdc-0577-49f8-8217-51450f2a5db6",
   "metadata": {},
   "outputs": [
    {
     "data": {
      "text/plain": [
       "97.5"
      ]
     },
     "execution_count": 47,
     "metadata": {},
     "output_type": "execute_result"
    }
   ],
   "source": [
    "P_total = P_REC+P_EMI+P_FET_Cond+P_FET_SW+P_diode_cond+P_diode_SW+P_Rsense+P_Cout\n",
    "eff_Vin_min = Pout / (Pout+P_total)\n",
    "round(eff_Vin_min*100,1)"
   ]
  },
  {
   "cell_type": "code",
   "execution_count": 48,
   "id": "8c593c93-1e88-4677-809d-ebe57237002b",
   "metadata": {
    "jupyter": {
     "source_hidden": true
    }
   },
   "outputs": [],
   "source": [
    "if eff > eff_Vin_min:\n",
    "    display(Markdown('<font size=\"6\"> <span style=\"color:red\"> Warning: User estimated efficiency is bigger than calculated. The results are underestimated.</span></font>'))"
   ]
  },
  {
   "cell_type": "markdown",
   "id": "8b68861d-5b9a-4da7-bec7-9dd9f8ceb135",
   "metadata": {},
   "source": [
    "# Selected Waveforms"
   ]
  },
  {
   "cell_type": "code",
   "execution_count": 49,
   "id": "bc831fc2-fe3d-420d-9a25-75166c12b9cf",
   "metadata": {},
   "outputs": [
    {
     "data": {
      "application/vnd.jupyter.widget-view+json": {
       "model_id": "20334fb1b3e9431f9c7cc35110d3a0e9",
       "version_major": 2,
       "version_minor": 0
      },
      "image/png": "[encoded data removed]",
      "text/html": [
       "\n",
       "            <div style=\"display: inline-block;\">\n",
       "                <div class=\"jupyter-widgets widget-label\" style=\"text-align: center;\">\n",
       "                    Figure\n",
       "                </div>\n",
       "                <img src='data:image/png;base64,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' width=1300.0/>\n",
       "            </div>\n",
       "        "
      ],
      "text/plain": [
       "Canvas(toolbar=Toolbar(toolitems=[('Home', 'Reset original view', 'home', 'home'), ('Back', 'Back to previous …"
      ]
     },
     "metadata": {},
     "output_type": "display_data"
    }
   ],
   "source": [
    "if sim_on == True:\n",
    "    %matplotlib ipympl\n",
    "    fig, (ax1, ax2) = plt.subplots(1, 2, figsize=(13,5))\n",
    "    #fig.suptitle('Power Losses Breakdown (w/o Losses in Magnetics)'+'\\n'+'(Minimum Input Voltage)',fontsize=18)\n",
    "    #ax1.pie(data_Ploss, labels=labels_Ploss, autopct=autopct_format(data_Ploss))\n",
    "    ax1.plot(wfrm[\"Time\"], wfrm[\"V(OUT)\"])\n",
    "    ax1.grid(True, linestyle='-.')\n",
    "    ax1.set(xlabel='Time (s)', ylabel='Output Voltage (V)')\n",
    "    ax2.plot(wfrm[\"Time\"], wfrm[\"I(L1)\"])\n",
    "    ax2.grid(True, linestyle='-.')\n",
    "    ax2.set(xlabel='Time (s)', ylabel='Inductor Current (A)')\n",
    "    plt.show()\n",
    "else:\n",
    "    display(Markdown('<font size=\"6\"> <span style=\"color:red\"> Warning: Available only when simulated.</span></font>'))"
   ]
  },
  {
   "cell_type": "markdown",
   "id": "7900358c-40a0-4c6c-b4c9-1c68440fddc1",
   "metadata": {},
   "source": [
    "# PFC Inductor Design"
   ]
  },
  {
   "cell_type": "markdown",
   "id": "07ee8e67-f773-4704-a4d9-87f85d2482fd",
   "metadata": {},
   "source": [
    "Based on M. Pieniz, J. R. Pinheiro and H. L. Hey, \"An investigation of the boost inductor volume applied to PFC converters,\" 2006 37th IEEE Power Electronics Specialists Conference, Jeju, Korea (South), 2006, pp. 1-7, doi: 10.1109/pesc.2006.1712248.\n",
    "\n",
    "It utilized low cost powder core material with a single layer coil\n"
   ]
  },
  {
   "cell_type": "code",
   "execution_count": 50,
   "id": "99e643de-ea62-46a8-bf10-7d2d6fd4f8f2",
   "metadata": {
    "jupyter": {
     "source_hidden": true
    }
   },
   "outputs": [],
   "source": [
    "#Maximum wire current density in A/cm^2\n",
    "j_max = 600\n",
    "\n",
    "# Minimum wire cross-section in cm^2\n",
    "S_min = IL_RMS / 600\n",
    "\n",
    "#Minimum wire diameter in cm\n",
    "dw_min = math.sqrt(4*S_min/math.pi)\n",
    "\n",
    "#Minimum wire size in AWG\n",
    "AWG_min = round(-39*math.log(dw_min*10/0.127,92)+36)\n",
    "#Core Outside Diameter\n",
    "OD = 50"
   ]
  },
  {
   "cell_type": "markdown",
   "id": "58a2a769-1a62-4b50-8d83-05c02ab19912",
   "metadata": {},
   "source": [
    "## Minimum Wire Diameter"
   ]
  },
  {
   "cell_type": "code",
   "execution_count": 51,
   "id": "cecde6ea-0e06-4ea9-b029-0c3afc5051cd",
   "metadata": {
    "jupyter": {
     "source_hidden": true
    }
   },
   "outputs": [
    {
     "name": "stdout",
     "output_type": "stream",
     "text": [
      "0.8582333333333333\n",
      "0.1045340431921522\n"
     ]
    },
    {
     "ename": "NameError",
     "evalue": "name 'AWG' is not defined",
     "output_type": "error",
     "traceback": [
      "\u001b[1;31m---------------------------------------------------------------------------\u001b[0m",
      "\u001b[1;31mNameError\u001b[0m                                 Traceback (most recent call last)",
      "Cell \u001b[1;32mIn[51], line 3\u001b[0m\n\u001b[0;32m      1\u001b[0m \u001b[38;5;28mprint\u001b[39m(S_min\u001b[38;5;241m*\u001b[39m\u001b[38;5;241m100\u001b[39m)\n\u001b[0;32m      2\u001b[0m \u001b[38;5;28mprint\u001b[39m(dw_min)\n\u001b[1;32m----> 3\u001b[0m \u001b[38;5;28mprint\u001b[39m(\u001b[43mAWG\u001b[49m)\n",
      "\u001b[1;31mNameError\u001b[0m: name 'AWG' is not defined"
     ]
    }
   ],
   "source": [
    "print(S_min*100)\n",
    "print(dw_min)\n",
    "print(AWG)"
   ]
  },
  {
   "cell_type": "code",
   "execution_count": null,
   "id": "26f04c08-03c5-4ea0-bfaa-590e71d07fc6",
   "metadata": {},
   "outputs": [],
   "source": [
    "N_max = 0.95*math.pi*((OD/(dw*kd))-1)"
   ]
  },
  {
   "cell_type": "code",
   "execution_count": null,
   "id": "d85f23d3-df6b-4b68-bfe4-594ef60a2fb3",
   "metadata": {},
   "outputs": [],
   "source": []
  }
 ],
 "metadata": {
  "kernelspec": {
   "display_name": "Python 3 (ipykernel)",
   "language": "python",
   "name": "python3"
  },
  "language_info": {
   "codemirror_mode": {
    "name": "ipython",
    "version": 3
   },
   "file_extension": ".py",
   "mimetype": "text/x-python",
   "name": "python",
   "nbconvert_exporter": "python",
   "pygments_lexer": "ipython3",
   "version": "3.12.2"
  }
 },
 "nbformat": 4,
 "nbformat_minor": 5
}
