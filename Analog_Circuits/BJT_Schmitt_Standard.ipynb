{
 "cells": [
  {
   "cell_type": "markdown",
   "id": "d1f7443a-db52-4518-a77a-1a4e1760f9b8",
   "metadata": {},
   "source": [
    "# BJT Schmitt Trigger Circuit Design Tool "
   ]
  },
  {
   "cell_type": "code",
   "execution_count": 2,
   "id": "0f135f39-8c0f-433a-ad39-df169f16027a",
   "metadata": {},
   "outputs": [],
   "source": [
    "VCC=3.3\n",
    "VTH=2\n",
    "VTL=1"
   ]
  },
  {
   "cell_type": "code",
   "execution_count": null,
   "id": "95743f26-7993-445b-9148-ea83bd77a0e5",
   "metadata": {},
   "outputs": [],
   "source": []
  }
 ],
 "metadata": {
  "kernelspec": {
   "display_name": "Python 3 (ipykernel)",
   "language": "python",
   "name": "python3"
  },
  "language_info": {
   "codemirror_mode": {
    "name": "ipython",
    "version": 3
   },
   "file_extension": ".py",
   "mimetype": "text/x-python",
   "name": "python",
   "nbconvert_exporter": "python",
   "pygments_lexer": "ipython3",
   "version": "3.8.18"
  }
 },
 "nbformat": 4,
 "nbformat_minor": 5
}
