{
 "cells": [
  {
   "cell_type": "code",
   "execution_count": 1,
   "id": "d3b3c573-08eb-410a-a120-52dc89695b35",
   "metadata": {
    "editable": true,
    "slideshow": {
     "slide_type": ""
    },
    "tags": []
   },
   "outputs": [],
   "source": [
    "import math\n",
    "\n",
    "Vin_min=390\n",
    "Vin_max=410\n",
    "Vout=260\n",
    "Vout_ripple=150e-3\n",
    "Iout=3.4\n",
    "fsw=150e3\n",
    "eff=0.94\n",
    "DC_max=0.45\n",
    "\n",
    "#### regulation ####\n",
    "#required cross over frequency\n",
    "fc=5e3\n",
    "#maximum Vout drop in step load\n",
    "Vdrop=0.5\n",
    "#step current\n",
    "dIload=2\n",
    "\n",
    "#### Output Inductor ####\n",
    "#inductor AC ripple ratio\n",
    "dIL=0.4\n",
    "\n",
    "#### Transformer ####\n",
    "#ratio of peak magnetizing current to Ip_pk(rule of thumb is 10%)\n",
    "dImag=0.1\n",
    "\n",
    "#### MOSFET Parameters ####\n",
    "# VDS derating\n",
    "kM=0.85\n",
    "# WC rdson at 110degC\n",
    "M_rdson=0.25\n",
    "\n",
    "#### Output Diodes Parameters ####\n",
    "# Vbr derating\n",
    "kD=0.6\n",
    "#selected MPN Ixys DSEI 120-06A\n",
    "\n",
    "#### Output Buck freewheel Diode Parameters ####\n",
    "# Estimated diode Vdrop\n",
    "Vf_diode1=0.9\n",
    "\n",
    "#### Output Series Diode Parameters ####\n",
    "# Estimated diode Vdrop\n",
    "Vf_diode2=0.9"
   ]
  },
  {
   "cell_type": "markdown",
   "id": "a3d1e481-5d29-4c08-97f1-91bae43d2d4d",
   "metadata": {},
   "source": [
    "### Transformer Turns Ratio"
   ]
  },
  {
   "cell_type": "code",
   "execution_count": 2,
   "id": "2f4812f2-5449-4211-889e-6383d979fc52",
   "metadata": {},
   "outputs": [],
   "source": [
    "N=Vout/(eff*Vin_min*DC_max)"
   ]
  },
  {
   "cell_type": "code",
   "execution_count": 3,
   "id": "1342535d-083d-449e-9be9-30700714ac1b",
   "metadata": {},
   "outputs": [
    {
     "data": {
      "text/plain": [
       "1.5760441292356187"
      ]
     },
     "execution_count": 3,
     "metadata": {},
     "output_type": "execute_result"
    }
   ],
   "source": [
    "N"
   ]
  },
  {
   "cell_type": "markdown",
   "id": "4c7d20d9-48d4-4892-aee0-5ced607c1081",
   "metadata": {},
   "source": [
    "### Minimum Duty Cycle (DC_min)"
   ]
  },
  {
   "cell_type": "code",
   "execution_count": 4,
   "id": "a59f7e78-0449-4e52-8891-655a92c00569",
   "metadata": {},
   "outputs": [],
   "source": [
    "DC_min=Vout/(eff*Vin_max*N)"
   ]
  },
  {
   "cell_type": "code",
   "execution_count": 5,
   "id": "b8a39dba-7710-45dd-8f5d-31d1e7606b16",
   "metadata": {},
   "outputs": [
    {
     "data": {
      "text/plain": [
       "0.42804878048780487"
      ]
     },
     "execution_count": 5,
     "metadata": {},
     "output_type": "execute_result"
    }
   ],
   "source": [
    "DC_min"
   ]
  },
  {
   "cell_type": "markdown",
   "id": "87ee4509-6aa7-4642-ad6f-cad59d7012d6",
   "metadata": {},
   "source": [
    "### Cout > (in uF)"
   ]
  },
  {
   "cell_type": "code",
   "execution_count": 6,
   "id": "8b3a6d5f-7fd8-4c46-aa85-a882f28a5f76",
   "metadata": {},
   "outputs": [],
   "source": [
    "Cout=dIload/(2*math.pi*fc*Vdrop)"
   ]
  },
  {
   "cell_type": "code",
   "execution_count": 7,
   "id": "35a4ccab-931d-4781-a4a3-90295b35f263",
   "metadata": {},
   "outputs": [
    {
     "data": {
      "text/plain": [
       "127.32395447351627"
      ]
     },
     "execution_count": 7,
     "metadata": {},
     "output_type": "execute_result"
    }
   ],
   "source": [
    "Cout*1e6"
   ]
  },
  {
   "cell_type": "markdown",
   "id": "31cefcde-a078-4b4d-b512-fd5393951e9b",
   "metadata": {},
   "source": [
    "### Cout ESR < (in mOhm)"
   ]
  },
  {
   "cell_type": "code",
   "execution_count": 8,
   "id": "2d060477-924d-4060-8079-61ed2cce9c8e",
   "metadata": {},
   "outputs": [],
   "source": [
    "ESR=1/(2*math.pi*fc*Cout)"
   ]
  },
  {
   "cell_type": "code",
   "execution_count": 9,
   "id": "3508e8a8-fc48-466d-8a4b-2a777ec48e0f",
   "metadata": {},
   "outputs": [
    {
     "data": {
      "text/plain": [
       "250.0"
      ]
     },
     "execution_count": 9,
     "metadata": {},
     "output_type": "execute_result"
    }
   ],
   "source": [
    "ESR*1e3"
   ]
  },
  {
   "cell_type": "markdown",
   "id": "e1159a85-13ab-4dce-a10e-9bf96a8a0cdb",
   "metadata": {},
   "source": [
    "Rule of thumb is to choose capacitor with ESR/2 at fc "
   ]
  },
  {
   "cell_type": "markdown",
   "id": "b4867b22-eae2-42c3-b6e0-a2f2d7bdce69",
   "metadata": {},
   "source": [
    "### Output Inductor Value (in uH)"
   ]
  },
  {
   "cell_type": "code",
   "execution_count": 10,
   "id": "58535ccf-969e-4efa-871a-9ccbbe5cbe4a",
   "metadata": {},
   "outputs": [],
   "source": [
    "L=(Vout/(dIL*Iout))*(1-DC_min)*(1/fsw)"
   ]
  },
  {
   "cell_type": "code",
   "execution_count": 11,
   "id": "e8882f49-a00d-48ab-bf1b-e0c6fdc09dff",
   "metadata": {},
   "outputs": [
    {
     "data": {
      "text/plain": [
       "801.8531802965089"
      ]
     },
     "execution_count": 11,
     "metadata": {},
     "output_type": "execute_result"
    }
   ],
   "source": [
    "(L+L*0.1)*1e6"
   ]
  },
  {
   "cell_type": "markdown",
   "id": "d5d508a8-c5e9-4e7b-ba68-d2eb7e780208",
   "metadata": {},
   "source": [
    "Considering 10% drop in inductance due to temperature and saturation"
   ]
  },
  {
   "cell_type": "markdown",
   "id": "5e6ce363-d5fd-4d3f-84c3-9d51b28044c8",
   "metadata": {},
   "source": [
    "### Output Capacitor RMS Current (A)"
   ]
  },
  {
   "cell_type": "code",
   "execution_count": 12,
   "id": "df201e96-0968-48ee-9184-5a7afbde5142",
   "metadata": {},
   "outputs": [],
   "source": [
    "tau_L=L/((Vout/Iout)*(1/fsw))\n",
    "ICout_RMS=Iout*(1-DC_min)/math.sqrt(12*tau_L)"
   ]
  },
  {
   "cell_type": "code",
   "execution_count": 13,
   "id": "ad1d4f0c-08ea-483e-a551-33b801811bd7",
   "metadata": {},
   "outputs": [
    {
     "data": {
      "text/plain": [
       "0.4694591248646672"
      ]
     },
     "execution_count": 13,
     "metadata": {},
     "output_type": "execute_result"
    }
   ],
   "source": [
    "ICout_RMS"
   ]
  },
  {
   "cell_type": "markdown",
   "id": "8967aa5a-dd65-419a-8264-6b557ae4314e",
   "metadata": {},
   "source": [
    "### Secondary Side Peak Current (A)"
   ]
  },
  {
   "cell_type": "code",
   "execution_count": 14,
   "id": "10ca859f-fed5-4999-9df3-70e89204a1ad",
   "metadata": {},
   "outputs": [],
   "source": [
    "Is_pk=Iout+dIL*Iout/2"
   ]
  },
  {
   "cell_type": "code",
   "execution_count": 15,
   "id": "9f7284e3-4d2f-4a1d-bb61-76c0bbee7f1d",
   "metadata": {},
   "outputs": [
    {
     "data": {
      "text/plain": [
       "4.08"
      ]
     },
     "execution_count": 15,
     "metadata": {},
     "output_type": "execute_result"
    }
   ],
   "source": [
    "Is_pk"
   ]
  },
  {
   "cell_type": "markdown",
   "id": "7a924525-fd63-4bbb-9f5a-7ffba6a8b9d0",
   "metadata": {},
   "source": [
    "### Primary Side Peak Current (A)"
   ]
  },
  {
   "cell_type": "code",
   "execution_count": 16,
   "id": "483b05d7-43f8-4b6a-8c8a-3d9eda73a6ac",
   "metadata": {},
   "outputs": [],
   "source": [
    "Ip_pk=Is_pk*N"
   ]
  },
  {
   "cell_type": "code",
   "execution_count": 17,
   "id": "c19383e0-2e4c-45c5-93f7-6d5ef335300d",
   "metadata": {},
   "outputs": [
    {
     "data": {
      "text/plain": [
       "6.430260047281324"
      ]
     },
     "execution_count": 17,
     "metadata": {},
     "output_type": "execute_result"
    }
   ],
   "source": [
    "Ip_pk"
   ]
  },
  {
   "cell_type": "markdown",
   "id": "5e35b240-83d4-4077-a667-9cac2d5e32dd",
   "metadata": {},
   "source": [
    "### Primary Side Valley Current (A)"
   ]
  },
  {
   "cell_type": "code",
   "execution_count": 18,
   "id": "20f77036-908a-4742-8d8a-24dbf01b7e98",
   "metadata": {},
   "outputs": [],
   "source": [
    "Ip_valley=(Iout-dIL*Iout/2)*N"
   ]
  },
  {
   "cell_type": "code",
   "execution_count": 19,
   "id": "1c3226ac-838d-44bb-8a6c-c088975b3dc3",
   "metadata": {},
   "outputs": [
    {
     "data": {
      "text/plain": [
       "4.2868400315208826"
      ]
     },
     "execution_count": 19,
     "metadata": {},
     "output_type": "execute_result"
    }
   ],
   "source": [
    "Ip_valley"
   ]
  },
  {
   "cell_type": "markdown",
   "id": "840be86a-1726-4b57-adb0-21dadab14372",
   "metadata": {},
   "source": [
    "### Transformer - Magnetizing Inductance (in mH)"
   ]
  },
  {
   "cell_type": "code",
   "execution_count": 20,
   "id": "736bb991-f5c4-4bee-bae5-2048e0384d47",
   "metadata": {},
   "outputs": [],
   "source": [
    "Lmag=Vin_min/((dImag*Ip_pk)/(DC_max/fsw))"
   ]
  },
  {
   "cell_type": "code",
   "execution_count": 21,
   "id": "9ca6566c-e5a6-40d5-ac24-408cb61d8b31",
   "metadata": {},
   "outputs": [
    {
     "data": {
      "text/plain": [
       "1.8195220588235295"
      ]
     },
     "execution_count": 21,
     "metadata": {},
     "output_type": "execute_result"
    }
   ],
   "source": [
    "Lmag*1e3"
   ]
  },
  {
   "cell_type": "markdown",
   "id": "5ac9de27-34d9-49ac-8ad4-5aeefff65174",
   "metadata": {},
   "source": [
    "### Primary Side RMS Current (valid only when Imag_pk is 10% of Ip_pk )"
   ]
  },
  {
   "cell_type": "code",
   "execution_count": 22,
   "id": "254ad783-0214-4306-bd1d-4bcc4b7a4108",
   "metadata": {},
   "outputs": [],
   "source": [
    "Ip_RMS=math.sqrt(DC_max*((1.1*Ip_pk)**2)-1.1*Ip_pk*Iout*dIL*N+((Iout*dIL*N)**2)/3)"
   ]
  },
  {
   "cell_type": "code",
   "execution_count": 23,
   "id": "7177e373-f9da-4925-8131-09193c4ac79e",
   "metadata": {},
   "outputs": [
    {
     "data": {
      "text/plain": [
       "2.9806899472565296"
      ]
     },
     "execution_count": 23,
     "metadata": {},
     "output_type": "execute_result"
    }
   ],
   "source": [
    "Ip_RMS"
   ]
  },
  {
   "cell_type": "markdown",
   "id": "4482b66a-9a55-4885-add3-2a21aec4b86a",
   "metadata": {},
   "source": [
    "### MOSFET VDS > (in V)"
   ]
  },
  {
   "cell_type": "code",
   "execution_count": 24,
   "id": "581a1c57-d5d0-4e4f-b1cd-b1ebb271ab97",
   "metadata": {},
   "outputs": [],
   "source": [
    "BVDSS=Vin_max/kM"
   ]
  },
  {
   "cell_type": "code",
   "execution_count": 25,
   "id": "c1ecb0b3-50d7-4122-b798-86e226da2e72",
   "metadata": {},
   "outputs": [
    {
     "data": {
      "text/plain": [
       "482.3529411764706"
      ]
     },
     "execution_count": 25,
     "metadata": {},
     "output_type": "execute_result"
    }
   ],
   "source": [
    "BVDSS"
   ]
  },
  {
   "cell_type": "markdown",
   "id": "f4988ede-4403-406d-b4ea-a11bfa236f50",
   "metadata": {},
   "source": [
    "### MOSFET Conduction Losses"
   ]
  },
  {
   "cell_type": "code",
   "execution_count": 26,
   "id": "2db0cac9-3e4f-4d43-838e-fb96cbaf3c36",
   "metadata": {},
   "outputs": [],
   "source": [
    "Pcond=Ip_RMS**2*M_rdson"
   ]
  },
  {
   "cell_type": "code",
   "execution_count": 27,
   "id": "bf0d942d-7b4c-4d16-b4ac-9c3ba033e830",
   "metadata": {},
   "outputs": [
    {
     "data": {
      "text/plain": [
       "2.221128140419033"
      ]
     },
     "execution_count": 27,
     "metadata": {},
     "output_type": "execute_result"
    }
   ],
   "source": [
    "Pcond"
   ]
  },
  {
   "cell_type": "markdown",
   "id": "98f412d8-7791-480a-925d-6729ff00bfba",
   "metadata": {},
   "source": [
    "### Primary Freewheel Diodes AVG Current (A)"
   ]
  },
  {
   "cell_type": "code",
   "execution_count": 28,
   "id": "c06f2bb8-46ab-44e2-bea5-9415e7743a09",
   "metadata": {},
   "outputs": [],
   "source": [
    "treset=Ip_pk*dImag*(Lmag/Vin_min)"
   ]
  },
  {
   "cell_type": "code",
   "execution_count": 29,
   "id": "fbb0e5a4-a567-42a6-bdbd-df9a406f61be",
   "metadata": {},
   "outputs": [],
   "source": [
    "Imag_AVG=(((DC_max/fsw)+treset)*Ip_pk*dImag)/(2/fsw)"
   ]
  },
  {
   "cell_type": "code",
   "execution_count": 30,
   "id": "360d8153-d8cb-42e8-a715-ebccb78b1806",
   "metadata": {},
   "outputs": [
    {
     "data": {
      "text/plain": [
       "0.2893617021276596"
      ]
     },
     "execution_count": 30,
     "metadata": {},
     "output_type": "execute_result"
    }
   ],
   "source": [
    "Imag_AVG"
   ]
  },
  {
   "cell_type": "markdown",
   "id": "29bb6933-bf05-4b9e-9fad-0bc51da6cf58",
   "metadata": {},
   "source": [
    "### Secondary Diodes VBR > (in V)"
   ]
  },
  {
   "cell_type": "code",
   "execution_count": 31,
   "id": "7058b4ab-2e13-4251-b6c3-c751d28be526",
   "metadata": {},
   "outputs": [],
   "source": [
    "VBR_diode=N*Vin_max/kD"
   ]
  },
  {
   "cell_type": "code",
   "execution_count": 32,
   "id": "f4495f63-1802-41dc-a405-375af34c2781",
   "metadata": {},
   "outputs": [
    {
     "data": {
      "text/plain": [
       "1076.9634883110061"
      ]
     },
     "execution_count": 32,
     "metadata": {},
     "output_type": "execute_result"
    }
   ],
   "source": [
    "VBR_diode"
   ]
  },
  {
   "cell_type": "markdown",
   "id": "a90009ae-c218-425c-ab63-5aaefd700ee7",
   "metadata": {},
   "source": [
    "### Secondary Series Diode Conduction Losses (W)"
   ]
  },
  {
   "cell_type": "code",
   "execution_count": 33,
   "id": "6e270454-4f8a-488a-a101-cdbd3c79c47d",
   "metadata": {},
   "outputs": [],
   "source": [
    "Pd_diode1=Vf_diode1*Iout*DC_max"
   ]
  },
  {
   "cell_type": "code",
   "execution_count": 34,
   "id": "976b6478-a038-4d98-b26e-502077bda3bf",
   "metadata": {},
   "outputs": [
    {
     "data": {
      "text/plain": [
       "1.377"
      ]
     },
     "execution_count": 34,
     "metadata": {},
     "output_type": "execute_result"
    }
   ],
   "source": [
    "Pd_diode1"
   ]
  },
  {
   "cell_type": "markdown",
   "id": "6f916495-0685-46cb-b009-146fdaca4c6f",
   "metadata": {},
   "source": [
    "### Buck Freewheeling Diode Conduction Losses (W)"
   ]
  },
  {
   "cell_type": "code",
   "execution_count": 35,
   "id": "7b6ed0e1-d398-4d6a-9012-2914acfb046b",
   "metadata": {},
   "outputs": [],
   "source": [
    "Pd_diode2=Vf_diode2*Iout*(1-DC_min)"
   ]
  },
  {
   "cell_type": "code",
   "execution_count": 36,
   "id": "14204c92-7e03-4e30-91e8-2decb567d164",
   "metadata": {},
   "outputs": [
    {
     "data": {
      "text/plain": [
       "1.7501707317073174"
      ]
     },
     "execution_count": 36,
     "metadata": {},
     "output_type": "execute_result"
    }
   ],
   "source": [
    "Pd_diode2"
   ]
  },
  {
   "cell_type": "code",
   "execution_count": null,
   "id": "babe6abf-a05f-40ab-a7e9-30d1933cc244",
   "metadata": {},
   "outputs": [],
   "source": []
  }
 ],
 "metadata": {
  "kernelspec": {
   "display_name": "Python 3 (ipykernel)",
   "language": "python",
   "name": "python3"
  },
  "language_info": {
   "codemirror_mode": {
    "name": "ipython",
    "version": 3
   },
   "file_extension": ".py",
   "mimetype": "text/x-python",
   "name": "python",
   "nbconvert_exporter": "python",
   "pygments_lexer": "ipython3",
   "version": "3.8.17"
  }
 },
 "nbformat": 4,
 "nbformat_minor": 5
}
