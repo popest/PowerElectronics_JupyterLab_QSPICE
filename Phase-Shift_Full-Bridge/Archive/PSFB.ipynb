{
 "cells": [
  {
   "cell_type": "markdown",
   "id": "d4ddd126-ff05-4fb7-82d8-dfacfb7d2f2c",
   "metadata": {},
   "source": [
    "# Info\n",
    "Phase Shift Full Bridge Converter Design tool for battery charger.\n",
    "Design for variable output voltage with limited maximum output current and power."
   ]
  },
  {
   "cell_type": "markdown",
   "id": "b36c0093-9904-40be-a174-1f858dd75ed1",
   "metadata": {},
   "source": [
    "# Input Data"
   ]
  },
  {
   "cell_type": "code",
   "execution_count": 1,
   "id": "6776b8b1-ee5b-491b-b4b3-2c3339802e9b",
   "metadata": {},
   "outputs": [],
   "source": [
    "import math\n",
    "import numpy as np\n",
    "\n",
    "#Input DC range\n",
    "Vin_min=390\n",
    "Vin_max=410\n",
    "Vin_nom=400\n",
    "\n",
    "#Output voltage range\n",
    "Vout_min=172 \n",
    "#Vout_nom=264.7\n",
    "Vout_max=300\n",
    "#Vout_ripple=150e-3\n",
    "\n",
    "#Output power\n",
    "Pout_max=900\n",
    "\n",
    "#Output current limit\n",
    "Iout_max=3.4\n",
    "\n",
    "#Estimated efficiency\n",
    "#eff=0.96\n",
    "\n",
    "#switching frequency (on the secondary side, seen by the output inductor)\n",
    "#note the transformer is switched in fsw/2\n",
    "fsw=300e3\n",
    "\n",
    "#maximum duty cycle\n",
    "#Note: Provide the limit lower than PWM IC max limit to have some margin. COncider that DC_max limit is also affected by value of resonant inductance + transfomrer primary leakage inductance\n",
    "DC_max=0.8\n",
    "\n",
    "#### Output Inductor ####\n",
    "#inductor peak to peak ripple current (in A)\n",
    "dIL_pp=1.02\n",
    "\n",
    "#### Resonant Inductor ####\n",
    "Lr = 15e-6\n",
    "\n",
    "#### Transformer ####\n",
    "#Estimation of transformer parasitic parameters\n",
    "#Primary winding capacitance\n",
    "Cp = 100e-12\n",
    "#Primary leakage inductance\n",
    "L_leak = 4e-6\n",
    "\n",
    "Vsec_k=1.24\n",
    "\n",
    "#### MOSFET Parameters ####\n",
    "# VDS derating\n",
    "kM=0.85\n",
    "# WC rdson at 110degC\n",
    "M_rdson=0.14\n",
    "# Energy related Coss in F at Vin_max\n",
    "Coss_ef = 85e-12\n",
    "\n",
    "#### Output Diodes Parameters ####\n",
    "# Vbr derating\n",
    "kD=0.6"
   ]
  },
  {
   "cell_type": "markdown",
   "id": "e0eb53a3-30cb-4c6f-a04a-8baca979209e",
   "metadata": {},
   "source": [
    "# Transformer Requirements"
   ]
  },
  {
   "cell_type": "markdown",
   "id": "4636d230-9828-41b0-bcfd-ed3adeaf38d9",
   "metadata": {},
   "source": [
    "## Turns Ratio (1:Ns)"
   ]
  },
  {
   "cell_type": "code",
   "execution_count": 2,
   "id": "fcf640d7-8853-4bfc-9258-775485cd2e08",
   "metadata": {},
   "outputs": [
    {
     "data": {
      "text/plain": [
       "1.19"
      ]
     },
     "execution_count": 2,
     "metadata": {},
     "output_type": "execute_result"
    }
   ],
   "source": [
    "Vsec=Vsec_k*Vout_max/DC_max\n",
    "N=Vsec/Vin_min\n",
    "round(N,2)"
   ]
  },
  {
   "cell_type": "markdown",
   "id": "86ad50d2-540c-4a1f-8c70-8f66b539fb8d",
   "metadata": {},
   "source": [
    "# Worst-Case Effective Duty Cycle (-)"
   ]
  },
  {
   "cell_type": "markdown",
   "id": "7ca823db-3861-4116-9d5e-07dbea818a55",
   "metadata": {},
   "source": [
    "Note: The effective duty cycle is the duty cycle of the secondary voltage."
   ]
  },
  {
   "cell_type": "code",
   "execution_count": 3,
   "id": "e4221872-9758-4586-afc6-b7485a06ec2a",
   "metadata": {},
   "outputs": [
    {
     "data": {
      "text/plain": [
       "0.65"
      ]
     },
     "execution_count": 3,
     "metadata": {},
     "output_type": "execute_result"
    }
   ],
   "source": [
    "D_eff_max = (Vout_max/Vin_min)/N\n",
    "round(D_eff_max,2)"
   ]
  },
  {
   "cell_type": "markdown",
   "id": "21d1fbec-e0db-4d7c-a184-7e261333ffd7",
   "metadata": {},
   "source": [
    "# Output Inductor Requirements"
   ]
  },
  {
   "cell_type": "markdown",
   "id": "7a46c64f-7d89-48e9-b2c9-299682ddf6ac",
   "metadata": {},
   "source": [
    "## Required Inductance (in uH)"
   ]
  },
  {
   "cell_type": "code",
   "execution_count": 4,
   "id": "52558b3a-7f45-4b65-b1ee-94677d61a731",
   "metadata": {},
   "outputs": [
    {
     "name": "stdout",
     "output_type": "stream",
     "text": [
      "399.38\n"
     ]
    }
   ],
   "source": [
    "#inductor ripple current is the highest when D_eff=0.5, Vin_max. It analyze WC condition which leads to the highest inductor ripple current.\n",
    "#For that condition, minimum required inductance is calculated.\n",
    "Vout_test = Vin_max*0.5*N \n",
    "if Vout_test >= Vout_min and Vout_test <= Vout_max: #It tests if D_eff=0.5 is possible\n",
    "    D_IL_calc = 0.5\n",
    "    Vout_IL_calc = Vin_max*D_IL_calc*N\n",
    "    \n",
    "#When D_eff=0.5 leads to Vout out of the specified range it find D_eff closest to 0.5.    \n",
    "elif Vout_test <= Vout_min: \n",
    "    D_IL_calc = (Vout_min/Vin_max)/N\n",
    "    Vout_IL_calc = Vin_max*D_IL_calc*N\n",
    "elif Vout_test >= Vout_max:\n",
    "    D_IL_calc = (Vout_max/Vin_max)/N\n",
    "    Vout_IL_calc = Vin_max*D_IL_calc*N\n",
    "\n",
    "Vsec_IL_calc = Vin_max*N\n",
    "#L_out = ((Vsec_IL_calc-Vout_IL_calc)*D_IL_calc*1/fsw+Vout_IL_calc*(1-D_IL_calc)*1/fsw)/(2*dIL*np.clip(Pout_max/Vout_IL_calc,0,Iout_max))\n",
    "L_out = ((Vsec_IL_calc-Vout_IL_calc)*D_IL_calc*1/fsw+Vout_IL_calc*(1-D_IL_calc)*1/fsw)/(2*dIL_pp)\n",
    "print(round(L_out*1e6,2))\n"
   ]
  },
  {
   "cell_type": "markdown",
   "id": "59f750c7-f69f-4ff6-97e4-0dbe1e0c824e",
   "metadata": {},
   "source": [
    "# Resonant Inductor"
   ]
  },
  {
   "cell_type": "markdown",
   "id": "014b928e-a392-4388-8000-7a1a0326f5f0",
   "metadata": {},
   "source": [
    "## Maximum Duty-Cycle loss"
   ]
  },
  {
   "cell_type": "code",
   "execution_count": 14,
   "id": "aa8d326a-913b-4a5c-884c-255b9dd608b3",
   "metadata": {},
   "outputs": [
    {
     "name": "stdout",
     "output_type": "stream",
     "text": [
      "0.15\n"
     ]
    }
   ],
   "source": [
    "dDC_max=DC_max-D_eff_max\n",
    "print(round(dDC_max,2))"
   ]
  },
  {
   "cell_type": "markdown",
   "id": "2abb76e5-8a61-4425-a531-86ea041ff0a8",
   "metadata": {},
   "source": [
    "## Estimated Maximum Inductance of Resonant Inductor (in uH)"
   ]
  },
  {
   "cell_type": "code",
   "execution_count": 15,
   "id": "a4e705aa-5f53-4b60-875c-47fade19ace8",
   "metadata": {},
   "outputs": [
    {
     "name": "stdout",
     "output_type": "stream",
     "text": [
      "20.83\n"
     ]
    }
   ],
   "source": [
    "Lr_max = dDC_max*Vin_min/(N*Iout_max*2*fsw)-L_leak\n",
    "print(round(Lr_max*1e6,2))"
   ]
  },
  {
   "cell_type": "markdown",
   "id": "c8e1e262-f2f1-48e0-928a-9a1878e0830e",
   "metadata": {},
   "source": [
    "# ZVS Range"
   ]
  },
  {
   "cell_type": "markdown",
   "id": "822b430c-0b55-4a53-bdc6-0d4f1d39cf4d",
   "metadata": {},
   "source": [
    "## Required energy to achieve ZVS (in uJ)"
   ]
  },
  {
   "cell_type": "code",
   "execution_count": 6,
   "id": "ea96f20c-f787-421a-89bb-47d43f9ee067",
   "metadata": {},
   "outputs": [
    {
     "name": "stdout",
     "output_type": "stream",
     "text": [
      "22.69\n"
     ]
    }
   ],
   "source": [
    "E_TR = 0.5* Cp*Vin_max*Vin_max\n",
    "E_Coss = (0.5*Coss_ef*Vin_max*Vin_max)*2\n",
    "E_ZVS=E_TR+E_Coss\n",
    "print(round(E_ZVS*1e6,2))"
   ]
  },
  {
   "cell_type": "code",
   "execution_count": null,
   "id": "bd0e52ce-2a56-4fa4-86f0-27fa24377d74",
   "metadata": {},
   "outputs": [],
   "source": []
  },
  {
   "cell_type": "code",
   "execution_count": null,
   "id": "8a1ce9af-c48d-419b-9df6-34de325a5d8a",
   "metadata": {},
   "outputs": [],
   "source": []
  },
  {
   "cell_type": "code",
   "execution_count": null,
   "id": "c2963eb3-3483-4316-a88b-40fa67dea341",
   "metadata": {},
   "outputs": [],
   "source": []
  }
 ],
 "metadata": {
  "kernelspec": {
   "display_name": "Python 3 (ipykernel)",
   "language": "python",
   "name": "python3"
  },
  "language_info": {
   "codemirror_mode": {
    "name": "ipython",
    "version": 3
   },
   "file_extension": ".py",
   "mimetype": "text/x-python",
   "name": "python",
   "nbconvert_exporter": "python",
   "pygments_lexer": "ipython3",
   "version": "3.12.2"
  }
 },
 "nbformat": 4,
 "nbformat_minor": 5
}
