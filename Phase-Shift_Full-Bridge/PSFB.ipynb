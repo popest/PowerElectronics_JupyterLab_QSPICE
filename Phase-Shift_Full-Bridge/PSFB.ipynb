{
 "cells": [
  {
   "cell_type": "markdown",
   "id": "64896983-760c-45e9-8b81-4b978ede2995",
   "metadata": {},
   "source": [
    "# Input Data"
   ]
  },
  {
   "cell_type": "code",
   "execution_count": 1,
   "id": "6776b8b1-ee5b-491b-b4b3-2c3339802e9b",
   "metadata": {},
   "outputs": [],
   "source": [
    "import math\n",
    "\n",
    "#Input DC range\n",
    "Vin_min=390\n",
    "Vin_max=410\n",
    "\n",
    "#Output voltage range\n",
    "Vout_nom=264.7\n",
    "Vout_max=300\n",
    "Vout_ripple=150e-3\n",
    "\n",
    "#Output power\n",
    "Pout=900\n",
    "\n",
    "#Output current limit\n",
    "Iout_max=3.4\n",
    "\n",
    "#Estimated efficiency\n",
    "eff=0.96\n",
    "\n",
    "#switching frequency\n",
    "fsw=350e3\n",
    "\n",
    "#maximum duty cycle\n",
    "DC_max=0.45\n",
    "\n",
    "#### Output Inductor ####\n",
    "#inductor ripple current (e.g. for 25% put 0.25)\n",
    "dIL=0.3\n",
    "\n",
    "#### Transformer ####\n",
    "#Estimation of transformer parasitic capacitance\n",
    "Cp = 10pF\n",
    "\n",
    "#### MOSFET Parameters ####\n",
    "# VDS derating\n",
    "kM=0.85\n",
    "# WC rdson at 110degC\n",
    "M_rdson=0.14\n",
    "# Coss in F\n",
    "Coss = 120e-12\n",
    "\n",
    "#### Output Diodes Parameters ####\n",
    "# Vbr derating\n",
    "kD=0.6"
   ]
  },
  {
   "cell_type": "code",
   "execution_count": null,
   "id": "35e9c103-5b0c-4e6b-b3b1-1aa030dea966",
   "metadata": {},
   "outputs": [],
   "source": []
  }
 ],
 "metadata": {
  "kernelspec": {
   "display_name": "Python 3 (ipykernel)",
   "language": "python",
   "name": "python3"
  },
  "language_info": {
   "codemirror_mode": {
    "name": "ipython",
    "version": 3
   },
   "file_extension": ".py",
   "mimetype": "text/x-python",
   "name": "python",
   "nbconvert_exporter": "python",
   "pygments_lexer": "ipython3",
   "version": "3.8.17"
  }
 },
 "nbformat": 4,
 "nbformat_minor": 5
}
