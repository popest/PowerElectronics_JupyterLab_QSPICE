{
 "cells": [
  {
   "cell_type": "markdown",
   "id": "d4ddd126-ff05-4fb7-82d8-dfacfb7d2f2c",
   "metadata": {},
   "source": [
    "# Info\n",
    "Phase Shift Full Bridge Converter Design tool for battery charger.\n",
    "Design for variable output voltage with limited maximum output current and power."
   ]
  },
  {
   "cell_type": "markdown",
   "id": "93f02da3",
   "metadata": {},
   "source": [
    "# QSPICE Python Files Initialization"
   ]
  },
  {
   "cell_type": "code",
   "execution_count": 40,
   "id": "c9bfa7be",
   "metadata": {},
   "outputs": [
    {
     "data": {
      "text/plain": [
       "'c:\\\\Users\\\\Stani\\\\OneDrive\\\\JupyterLab\\\\GitHub\\\\PowerElectronics_JupyterLab_QSPICE\\\\Phase-Shift_Full-Bridge\\\\QSPICE\\\\QSPICE_parser.py'"
      ]
     },
     "execution_count": 40,
     "metadata": {},
     "output_type": "execute_result"
    }
   ],
   "source": [
    "import os\n",
    "import shutil\n",
    "\n",
    "# Get the current working directory (where your script is running)\n",
    "current_dir = os.getcwd()\n",
    "\n",
    "# Define the source folder (QSPICE_Parser is located above the project directory)\n",
    "source_folder = os.path.join(os.path.dirname(current_dir), 'QSPICE_Parser')\n",
    "\n",
    "# Define the source file path\n",
    "source_file = os.path.join(source_folder, 'QSPICE_parser.py')\n",
    "\n",
    "# Define the destination folder within the project (subfolder called QSPICE)\n",
    "destination_folder = os.path.join(current_dir, 'QSPICE')\n",
    "\n",
    "# Define the destination file path (within the QSPICE subfolder)\n",
    "destination_file = os.path.join(destination_folder, 'QSPICE_parser.py')\n",
    "\n",
    "# Copy the file from source to destination\n",
    "shutil.copy(source_file, destination_file)"
   ]
  },
  {
   "cell_type": "code",
   "execution_count": 41,
   "id": "0be860a1",
   "metadata": {},
   "outputs": [],
   "source": [
    "from QSPICE import QSPICE_parser\n",
    "import importlib\n",
    "import sys\n",
    "\n",
    "# reload QSPICE/Python parser without kernel restart\n",
    "importlib.reload(QSPICE_parser)\n",
    "\n",
    "#Create PyQSPICE file\n",
    "QSPICE_parser.parse_and_generate_script('PSFB_center_tap.qsch','QSPICE_PSFB_center_tap.py')\n",
    "\n",
    "# Delete parser script file from QSPICE folder\n",
    "os.remove(destination_file)"
   ]
  },
  {
   "cell_type": "code",
   "execution_count": 42,
   "id": "58e2b6c2",
   "metadata": {},
   "outputs": [],
   "source": [
    "import math\n",
    "import numpy as np\n",
    "import pandas as pd\n",
    "import sympy as sp\n",
    "import math\n",
    "\n",
    "#from IPython.display import display, clear_output\n",
    "#from IPython import display\n",
    "from IPython.display import display, update_display\n",
    "import time\n",
    "\n",
    "%matplotlib ipympl\n",
    "#load all QSPICE autogenerating scripts here\n",
    "from QSPICE import QSPICE_PSFB_center_tap as QSPICE\n",
    "\n",
    "from IPython.display import display, Markdown, Latex\n",
    "from matplotlib import pyplot as plt\n",
    "from matplotlib.ticker import (MultipleLocator, AutoMinorLocator)\n",
    "from scipy.interpolate import RegularGridInterpolator\n",
    "from scipy.interpolate import interp1d\n",
    "\n",
    "plt.close('all')\n",
    "pd.options.display.float_format = '{:.5e}'.format\n",
    "\n",
    "def get_Lout(N, f__s,V__d, I__L_pp,V__input,Vout__min,Vout__max):\n",
    "\n",
    "    \"\"\"\n",
    "    Calculates minimum output inductor value which will ensure that I_Lout_pp < dIL_pp in whole Vout range\n",
    "\n",
    "    Parameters:\n",
    "        N (float): Transformer turn ratio (Np/Ns).\n",
    "        f__s (float): Primary switching frequency.\n",
    "        V__d (float): Output diode voltage drop.\n",
    "        I__L_pp (float): Output inductor peak-to-peak ripple current.\n",
    "        V__input (float): Input voltage.\n",
    "        Vout__min (float): Minimum output voltage.\n",
    "        Vout__max (float): Maximum output voltage.\n",
    "\n",
    "    Returns:\n",
    "        (Vout, Lout): Output voltage when inductor current ripple is maximal / Required minimal inductance.\n",
    "\n",
    "    \"\"\"\n",
    "    x = sp.Symbol('x')\n",
    "    equation = x / f__s / I__L_pp * (1 - x / (V__input / N - V__d)) / 2\n",
    "    derivative = sp.diff(equation,x)\n",
    "    critical_points = sp.solvers.solve(derivative, x)\n",
    "    interval = (Vout__min,Vout__max)\n",
    "    points_to_check = [p for p in critical_points if interval[0] <= p <= interval[1]]+list(interval)\n",
    "    values = [(point,equation.subs(x,point)) for point in points_to_check]\n",
    "    Vout, Lout = max(values, key=lambda item: item[1])\n",
    "    \n",
    "    return Vout, Lout\n",
    "\n",
    "\n",
    "def find_OP(Coss, Cout_ESR, D, deadtime, eff, fsw_p, Iout_max, L_leak, Lout, Lp, Lr, N, Pmax, Rdiff, REC_fwd, Ron_MOS, Vin, Vout):\n",
    "    \"\"\"\n",
    "    Uses the bisection method to find duty-cycle D such that the relative\n",
    "    difference between I_Lout_AVG and I_Rload_AVG is below 0.1%.\n",
    "\n",
    "    It returns D.\n",
    "\n",
    "    \"\"\"\n",
    "    #possible duty-cycle interval to find OP\n",
    "    D_min=0.01\n",
    "    D_max=0.99\n",
    "\n",
    "    #acceptable error tolerance\n",
    "    tolerance=0.001\n",
    "    #maximum number iterations\n",
    "    max_iterations=20\n",
    "\n",
    "    def relative_difference(I_Lout_AVG, I_Rload_AVG):\n",
    "        return abs(I_Lout_AVG - I_Rload_AVG) / ((I_Lout_AVG + I_Rload_AVG) / 2)\n",
    "    \n",
    "    display(\"Starting iterations...\", display_id='1')\n",
    "\n",
    "    for iteration in range(max_iterations):\n",
    "        # Calculate midpoint of D range\n",
    "        D_mid = (D_min + D_max) / 2\n",
    "        \n",
    "        # Simulate with the midpoint value\n",
    "        results_sim = QSPICE.QSPICE_PSFB_center_tap(Coss, Cout_ESR, D_mid, deadtime, eff, fsw_p, Iout_max, L_leak, Lout, Lp, Lr, N, Pmax, Rdiff, REC_fwd, Ron_MOS, Vin, Vout)\n",
    "        I_Lout_AVG = results_sim[1][0]\n",
    "        I_Rload_AVG = results_sim[1][1]\n",
    "        \n",
    "        # Calculate the relative difference\n",
    "        diff = relative_difference(I_Lout_AVG, I_Rload_AVG)\n",
    "\n",
    "        update_display(f\"Iteration: {iteration + 1}, D={D_mid:.4g}, Relative difference={diff:.4g}\", display_id='1')\n",
    "\n",
    "        # Check if the difference is within the tolerance\n",
    "        if diff <= tolerance:\n",
    "            print(f\"Converged after {iteration + 1} iterations.\")\n",
    "            return D_mid, results_sim\n",
    "\n",
    "        # Adjust the bounds based on the simulation result\n",
    "        if I_Lout_AVG > I_Rload_AVG:\n",
    "            D_max = D_mid  # Narrow the range to the lower half\n",
    "        else:\n",
    "            D_min = D_mid  # Narrow the range to the upper half\n",
    "\n",
    "        \n",
    "        \n",
    "    # If max_iterations is reached without convergence\n",
    "    raise RuntimeError(\n",
    "        f\"Failed to converge within {max_iterations} iterations. \"\n",
    "        f\"Last D: {D_mid}, I_Lout_AVG: {I_Lout_AVG}, I_Rload_AVG: {I_Rload_AVG}\"\n",
    "    )"
   ]
  },
  {
   "cell_type": "markdown",
   "id": "b36c0093-9904-40be-a174-1f858dd75ed1",
   "metadata": {},
   "source": [
    "# Input Data"
   ]
  },
  {
   "cell_type": "code",
   "execution_count": 43,
   "id": "6776b8b1-ee5b-491b-b4b3-2c3339802e9b",
   "metadata": {},
   "outputs": [],
   "source": [
    "#Input DC range\n",
    "Vin_min=380\n",
    "Vin_max=420\n",
    "Vin_nom=400\n",
    "\n",
    "#Output voltage range\n",
    "Vout_min=172 \n",
    "#Vout_nom=264.7\n",
    "Vout_max=300\n",
    "Vout_pp=50e-3 # Peak-to-peak Vout ripple at resistive load \n",
    "\n",
    "#Output power\n",
    "Pout_max=900\n",
    "\n",
    "#Output current limit\n",
    "Iout_max=3.4\n",
    "\n",
    "#Estimated efficiency\n",
    "eff=0.95\n",
    "\n",
    "#switching frequency (on the primary side, seen by switching transistor)\n",
    "#note: the output inductor is switched in 2*fsw\n",
    "fsw=100e3\n",
    "\n",
    "#maximum effective secondary duty-cycle\n",
    "#Note: Consider duty-cycle loss due to resonant inductor + transformer primary leakage inductance\n",
    "DC_eff_max=0.85\n",
    "\n",
    "#PWM IC duty cycle limit\n",
    "DC_PWM_lim=0.95\n",
    "\n",
    "#### Output Inductor ####\n",
    "dIL_pp=1.53 #inductor peak to peak ripple current (in A)\n",
    "L_out_rdc = 10e-3 #inductor rdc\n",
    "\n",
    "#### Resonant Inductor ####\n",
    "Lr_rdc = 10e-3 #inductor rdc\n",
    "\n",
    "#### Transformer ####\n",
    "#Estimation of transformer parasitic parameters\n",
    "#Primary winding capacitance\n",
    "Cp = 100e-12\n",
    "#Primary leakage inductance\n",
    "L_leak = 8e-6\n",
    "\n",
    "Vsec_k=1.24\n",
    "\n",
    "#### MOSFET Parameters ####\n",
    "# VDS derating\n",
    "kM=0.85\n",
    "# WC rdson at 110degC\n",
    "M_rdson=0.14\n",
    "# Energy related Coss in F at Vin_max\n",
    "Coss_ef = 85e-12\n",
    "\n",
    "#### Output Diodes Parameters@75degC ####\n",
    "# MFR / MPN\n",
    "\n",
    "kD=0.6 # Vbr derating\n",
    "D_Vfwd=0.69 # Build-in potential (in V)\n",
    "D_rdiff=76e-3 # Differential resistance (in Ohm)\n",
    "\n",
    "### Output Diode@75degC ###\n",
    "# Infineon IDH08G65C6\n"
   ]
  },
  {
   "cell_type": "markdown",
   "id": "e0eb53a3-30cb-4c6f-a04a-8baca979209e",
   "metadata": {},
   "source": [
    "# Transformer Requirements"
   ]
  },
  {
   "cell_type": "markdown",
   "id": "4636d230-9828-41b0-bcfd-ed3adeaf38d9",
   "metadata": {},
   "source": [
    "## Turns Ratio (Np:1)"
   ]
  },
  {
   "cell_type": "code",
   "execution_count": 44,
   "id": "fcf640d7-8853-4bfc-9258-775485cd2e08",
   "metadata": {},
   "outputs": [
    {
     "name": "stdout",
     "output_type": "stream",
     "text": [
      "1.07\n"
     ]
    }
   ],
   "source": [
    "Vsec_min=(Vout_max+D_Vfwd)/DC_eff_max\n",
    "N=round(Vin_min/Vsec_min,2)\n",
    "print(N)"
   ]
  },
  {
   "cell_type": "markdown",
   "id": "59f750c7-f69f-4ff6-97e4-0dbe1e0c824e",
   "metadata": {},
   "source": [
    "# Resonant Inductor"
   ]
  },
  {
   "cell_type": "markdown",
   "id": "014b928e-a392-4388-8000-7a1a0326f5f0",
   "metadata": {},
   "source": [
    "## Maximum Duty-Cycle loss (in %)"
   ]
  },
  {
   "cell_type": "code",
   "execution_count": 45,
   "id": "aa8d326a-913b-4a5c-884c-255b9dd608b3",
   "metadata": {},
   "outputs": [
    {
     "name": "stdout",
     "output_type": "stream",
     "text": [
      "10.0\n"
     ]
    }
   ],
   "source": [
    "DC_loss_max=DC_PWM_lim-DC_eff_max\n",
    "print(round(DC_loss_max*100,2))"
   ]
  },
  {
   "cell_type": "markdown",
   "id": "2abb76e5-8a61-4425-a531-86ea041ff0a8",
   "metadata": {},
   "source": [
    "## Estimated Maximum Inductance of Resonant Inductor (in uH)"
   ]
  },
  {
   "cell_type": "code",
   "execution_count": 46,
   "id": "a4e705aa-5f53-4b60-875c-47fade19ace8",
   "metadata": {},
   "outputs": [
    {
     "name": "stdout",
     "output_type": "stream",
     "text": [
      "25.88\n"
     ]
    }
   ],
   "source": [
    "Lr_max = DC_loss_max*N*Vin_min/((Pout_max/Vout_max)*4*fsw)-L_leak\n",
    "print(round(Lr_max*1e6,2))"
   ]
  },
  {
   "cell_type": "markdown",
   "id": "21d1fbec-e0db-4d7c-a184-7e261333ffd7",
   "metadata": {},
   "source": [
    "# Output Inductor Requirements\n",
    "Output inductor is calculated such as Iripple < Iripple_limit at whole Vout range. This happen when Vin is maximal"
   ]
  },
  {
   "cell_type": "markdown",
   "id": "7a46c64f-7d89-48e9-b2c9-299682ddf6ac",
   "metadata": {},
   "source": [
    "## Required Inductance (in uH)"
   ]
  },
  {
   "cell_type": "code",
   "execution_count": 47,
   "id": "52558b3a-7f45-4b65-b1ee-94677d61a731",
   "metadata": {},
   "outputs": [
    {
     "name": "stdout",
     "output_type": "stream",
     "text": [
      "319\n",
      "195.91668\n"
     ]
    }
   ],
   "source": [
    "Lout = round(get_Lout(N, fsw, D_Vfwd, dIL_pp, Vin_max, Vout_min, Vout_max)[1],5)\n",
    "Vout_WC_I_ripple = round(get_Lout(N, fsw, D_Vfwd, dIL_pp, Vin_max, Vout_min, Vout_max)[0],5)\n",
    "#Lout = (Pout_max/Iout_max) / fsw / dIL_pp * (1 - (Pout_max/Iout_max) / Vin_max * N) / 2\n",
    "print(int(Lout*1e6))\n",
    "print(Vout_WC_I_ripple)\n"
   ]
  },
  {
   "cell_type": "markdown",
   "id": "94e6e658",
   "metadata": {},
   "source": [
    "# Output Capacitor Requirements"
   ]
  },
  {
   "cell_type": "markdown",
   "id": "045029ce",
   "metadata": {},
   "source": [
    "## Minimum Capacitance Value (in uF)\n",
    "Note: This assumes that output capacitor ESR is 0 Ohm"
   ]
  },
  {
   "cell_type": "code",
   "execution_count": 48,
   "id": "5481bcc2",
   "metadata": {},
   "outputs": [
    {
     "name": "stdout",
     "output_type": "stream",
     "text": [
      "19\n"
     ]
    }
   ],
   "source": [
    "Cout = Vout_WC_I_ripple / Lout / fsw ** 2 / Vout_pp * (1 - Vout_WC_I_ripple / (Vin_max / N - D_Vfwd)) / 32\n",
    "print(round(Cout*1e6))"
   ]
  },
  {
   "cell_type": "markdown",
   "id": "98824add",
   "metadata": {},
   "source": [
    "## Maximum ESR limit (in mOhm)\n",
    "Note: This assumes that output capacitance is infinity"
   ]
  },
  {
   "cell_type": "code",
   "execution_count": 49,
   "id": "aad541da",
   "metadata": {},
   "outputs": [
    {
     "name": "stdout",
     "output_type": "stream",
     "text": [
      "33\n"
     ]
    }
   ],
   "source": [
    "Cout_ESR_max = Vout_pp/dIL_pp\n",
    "print(round(Cout_ESR_max*1000))"
   ]
  },
  {
   "cell_type": "markdown",
   "id": "7ac3d638",
   "metadata": {},
   "source": [
    "## Estimated Electrolytical Capacitor (in uF)\n",
    "Note: Based on assumption that relationship between the capacitance and ESR of an\n",
    "electrolytic capacitor is C ⋅ ESR = 60e-6"
   ]
  },
  {
   "cell_type": "code",
   "execution_count": 50,
   "id": "7ff17fd6",
   "metadata": {},
   "outputs": [
    {
     "name": "stdout",
     "output_type": "stream",
     "text": [
      "1836\n"
     ]
    }
   ],
   "source": [
    "Cout_elyt = 60e-6/Cout_ESR_max\n",
    "print(round(Cout_elyt*1e6))"
   ]
  },
  {
   "cell_type": "markdown",
   "id": "c8e1e262-f2f1-48e0-928a-9a1878e0830e",
   "metadata": {},
   "source": [
    "# ZVS Range"
   ]
  },
  {
   "cell_type": "markdown",
   "id": "822b430c-0b55-4a53-bdc6-0d4f1d39cf4d",
   "metadata": {},
   "source": [
    "## Required energy to achieve ZVS (in uJ)"
   ]
  },
  {
   "cell_type": "code",
   "execution_count": 51,
   "id": "ea96f20c-f787-421a-89bb-47d43f9ee067",
   "metadata": {},
   "outputs": [
    {
     "name": "stdout",
     "output_type": "stream",
     "text": [
      "23.81\n"
     ]
    }
   ],
   "source": [
    "E_TR = 0.5* Cp*Vin_max*Vin_max\n",
    "E_Coss = (0.5*Coss_ef*Vin_max*Vin_max)*2\n",
    "E_ZVS=E_TR+E_Coss\n",
    "print(round(E_ZVS*1e6,2))"
   ]
  },
  {
   "cell_type": "code",
   "execution_count": 52,
   "id": "bd0e52ce-2a56-4fa4-86f0-27fa24377d74",
   "metadata": {},
   "outputs": [
    {
     "data": {
      "text/plain": [
       "'Iteration: 13, D=0.576, Relative difference=0.0004207'"
      ]
     },
     "metadata": {},
     "output_type": "display_data"
    },
    {
     "name": "stdout",
     "output_type": "stream",
     "text": [
      "Converged after 13 iterations.\n",
      "0.5759643554687501\n",
      "I_Lout_AVG: 3.39857\n",
      "Rload_AVG: 3.4\n",
      "I_S1_RMS: 2.18924\n",
      "I_Lout_PP: 1.4305\n"
     ]
    }
   ],
   "source": [
    "test = find_OP(30e-12, Cout_ESR_max, 0 , 50e-9,1,fsw,Iout_max,6e-13,Lout, 4e-3,Lr_max,N,Pout_max,30e-3,0.9,180e-3,Vin_max,Vout_WC_I_ripple)\n",
    "print(test[0])\n",
    "sim_results = test[1]\n",
    "print(\"I_Lout_AVG:\",sim_results[1][0])\n",
    "print(\"Rload_AVG:\",sim_results[1][1])\n",
    "print(\"I_S1_RMS:\",sim_results[1][5])\n",
    "print(\"I_Lout_PP:\",sim_results[1][6])"
   ]
  },
  {
   "cell_type": "code",
   "execution_count": null,
   "id": "8a1ce9af-c48d-419b-9df6-34de325a5d8a",
   "metadata": {},
   "outputs": [],
   "source": []
  },
  {
   "cell_type": "code",
   "execution_count": null,
   "id": "c2963eb3-3483-4316-a88b-40fa67dea341",
   "metadata": {},
   "outputs": [],
   "source": []
  }
 ],
 "metadata": {
  "kernelspec": {
   "display_name": "Python 3",
   "language": "python",
   "name": "python3"
  },
  "language_info": {
   "codemirror_mode": {
    "name": "ipython",
    "version": 3
   },
   "file_extension": ".py",
   "mimetype": "text/x-python",
   "name": "python",
   "nbconvert_exporter": "python",
   "pygments_lexer": "ipython3",
   "version": "3.11.6"
  }
 },
 "nbformat": 4,
 "nbformat_minor": 5
}
