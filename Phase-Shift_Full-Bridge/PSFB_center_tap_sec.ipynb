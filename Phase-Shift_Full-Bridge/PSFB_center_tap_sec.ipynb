{
 "cells": [
  {
   "cell_type": "markdown",
   "id": "d4ddd126-ff05-4fb7-82d8-dfacfb7d2f2c",
   "metadata": {},
   "source": [
    "# Info\n",
    "Phase Shift Full Bridge Converter Design tool for battery charger.\n",
    "Design for variable output voltage with limited maximum output current and power."
   ]
  },
  {
   "cell_type": "markdown",
   "id": "93f02da3",
   "metadata": {},
   "source": [
    "# QSPICE Python Files Initialization"
   ]
  },
  {
   "cell_type": "code",
   "execution_count": 1,
   "id": "c9bfa7be",
   "metadata": {},
   "outputs": [
    {
     "data": {
      "text/plain": [
       "'c:\\\\Users\\\\Stani\\\\OneDrive\\\\JupyterLab\\\\GitHub\\\\PowerElectronics_JupyterLab_QSPICE\\\\Phase-Shift_Full-Bridge\\\\QSPICE\\\\QSPICE_parser.py'"
      ]
     },
     "execution_count": 1,
     "metadata": {},
     "output_type": "execute_result"
    }
   ],
   "source": [
    "import os\n",
    "import shutil\n",
    "\n",
    "# Get the current working directory (where your script is running)\n",
    "current_dir = os.getcwd()\n",
    "\n",
    "# Define the source folder (QSPICE_Parser is located above the project directory)\n",
    "source_folder = os.path.join(os.path.dirname(current_dir), 'QSPICE_Parser')\n",
    "\n",
    "# Define the source file path\n",
    "source_file = os.path.join(source_folder, 'QSPICE_parser.py')\n",
    "\n",
    "# Define the destination folder within the project (subfolder called QSPICE)\n",
    "destination_folder = os.path.join(current_dir, 'QSPICE')\n",
    "\n",
    "# Define the destination file path (within the QSPICE subfolder)\n",
    "destination_file = os.path.join(destination_folder, 'QSPICE_parser.py')\n",
    "\n",
    "# Copy the file from source to destination\n",
    "shutil.copy(source_file, destination_file)"
   ]
  },
  {
   "cell_type": "code",
   "execution_count": 2,
   "id": "0be860a1",
   "metadata": {},
   "outputs": [],
   "source": [
    "from QSPICE import QSPICE_parser\n",
    "import importlib\n",
    "import sys\n",
    "\n",
    "# reload QSPICE/Python parser without kernel restart\n",
    "importlib.reload(QSPICE_parser)\n",
    "\n",
    "#Create PyQSPICE file\n",
    "QSPICE_parser.parse_and_generate_script('PSFB_center_tap.qsch','QSPICE_PSFB_center_tap.py')\n",
    "\n",
    "# Delete parser script file from QSPICE folder\n",
    "os.remove(destination_file)"
   ]
  },
  {
   "cell_type": "code",
   "execution_count": 3,
   "id": "58e2b6c2",
   "metadata": {},
   "outputs": [],
   "source": [
    "import math\n",
    "import numpy as np\n",
    "import pandas as pd\n",
    "import sympy as sp\n",
    "import math\n",
    "\n",
    "#from IPython.display import display, clear_output\n",
    "#from IPython import display\n",
    "from IPython.display import display, update_display\n",
    "import time\n",
    "\n",
    "%matplotlib ipympl\n",
    "#load all QSPICE autogenerating scripts here\n",
    "from QSPICE import QSPICE_PSFB_center_tap as QSPICE\n",
    "\n",
    "from IPython.display import display, Markdown, Latex\n",
    "from matplotlib import pyplot as plt\n",
    "from matplotlib.ticker import (MultipleLocator, AutoMinorLocator)\n",
    "from scipy.interpolate import RegularGridInterpolator\n",
    "from scipy.interpolate import interp1d\n",
    "\n",
    "plt.close('all')\n",
    "pd.options.display.float_format = '{:.5e}'.format\n",
    "\n",
    "def get_Lout(N, f__s,V__d, I__L_pp,V__input,Vout__min,Vout__max):\n",
    "\n",
    "    \"\"\"\n",
    "    Calculates minimum output inductor value which will ensure that I_Lout_pp < dIL_pp in whole Vout range\n",
    "\n",
    "    Parameters:\n",
    "        N (float): Transformer turn ratio (Np/Ns).\n",
    "        f__s (float): Primary switching frequency.\n",
    "        V__d (float): Output diode voltage drop.\n",
    "        I__L_pp (float): Output inductor peak-to-peak ripple current.\n",
    "        V__input (float): Input voltage.\n",
    "        Vout__min (float): Minimum output voltage.\n",
    "        Vout__max (float): Maximum output voltage.\n",
    "\n",
    "    Returns:\n",
    "        (Vout, Lout): Output voltage when inductor current ripple is maximal / Required minimal inductance.\n",
    "\n",
    "    \"\"\"\n",
    "    x = sp.Symbol('x')\n",
    "    equation = x / f__s / I__L_pp * (1 - x / (V__input / N - V__d)) / 2\n",
    "    derivative = sp.diff(equation,x)\n",
    "    critical_points = sp.solvers.solve(derivative, x)\n",
    "    interval = (Vout__min,Vout__max)\n",
    "    points_to_check = [p for p in critical_points if interval[0] <= p <= interval[1]]+list(interval)\n",
    "    values = [(point,equation.subs(x,point)) for point in points_to_check]\n",
    "    Vout, Lout = max(values, key=lambda item: item[1])\n",
    "    \n",
    "    return Vout, Lout\n",
    "\n",
    "\n",
    "def find_OP(Coss, Cout_ESR, deadtime, eff, fsw_p, Iout_max, L_leak, Lout, Lp, Lr, N, Pmax, Rdiff, REC_fwd, Ron_MOS, Vin, Vout):\n",
    "    \"\"\"\n",
    "    Uses the bisection method to find duty-cycle D such that the relative\n",
    "    difference between I_Lout_AVG and I_Rload_AVG is below 0.1%.\n",
    "\n",
    "    It returns D.\n",
    "\n",
    "    \"\"\"\n",
    "    #possible duty-cycle interval to find OP\n",
    "    D_min=0.01\n",
    "    D_max=0.99\n",
    "\n",
    "    #acceptable error tolerance\n",
    "    tolerance=0.001\n",
    "    #maximum number iterations\n",
    "    max_iterations=20\n",
    "\n",
    "    def relative_difference(I_Lout_AVG, I_Rload_AVG):\n",
    "        return abs(I_Lout_AVG - I_Rload_AVG) / ((I_Lout_AVG + I_Rload_AVG) / 2)\n",
    "    \n",
    "    display(\"Starting iterations...\", display_id='1')\n",
    "\n",
    "    for iteration in range(max_iterations):\n",
    "        # Calculate midpoint of D range\n",
    "        D_mid = (D_min + D_max) / 2\n",
    "        \n",
    "        # Simulate with the midpoint value\n",
    "        results_sim = QSPICE.QSPICE_PSFB_center_tap(Coss, Cout_ESR, D_mid, deadtime, eff, fsw_p, Iout_max, L_leak, Lout, Lp, Lr, N, Pmax, Rdiff, REC_fwd, Ron_MOS, Vin, Vout)\n",
    "        I_Lout_AVG = results_sim[1][0]\n",
    "        I_Rload_AVG = results_sim[1][1]\n",
    "        \n",
    "        # Calculate the relative difference\n",
    "        diff = relative_difference(I_Lout_AVG, I_Rload_AVG)\n",
    "\n",
    "        update_display(f\"Iteration: {iteration + 1}, D={D_mid:.4g}, Relative difference={diff:.4g}\", display_id='1')\n",
    "\n",
    "        # Check if the difference is within the tolerance\n",
    "        if diff <= tolerance:\n",
    "            print(f\"Converged after {iteration + 1} iterations.\")\n",
    "            return D_mid, results_sim\n",
    "\n",
    "        # Adjust the bounds based on the simulation result\n",
    "        if I_Lout_AVG > I_Rload_AVG:\n",
    "            D_max = D_mid  # Narrow the range to the lower half\n",
    "        else:\n",
    "            D_min = D_mid  # Narrow the range to the upper half\n",
    "\n",
    "        \n",
    "        \n",
    "    # If max_iterations is reached without convergence\n",
    "    raise RuntimeError(\n",
    "        f\"Failed to converge within {max_iterations} iterations. \"\n",
    "        f\"Last D: {D_mid}, I_Lout_AVG: {I_Lout_AVG}, I_Rload_AVG: {I_Rload_AVG}\"\n",
    "    )"
   ]
  },
  {
   "cell_type": "markdown",
   "id": "b36c0093-9904-40be-a174-1f858dd75ed1",
   "metadata": {},
   "source": [
    "# Input Data"
   ]
  },
  {
   "cell_type": "code",
   "execution_count": 4,
   "id": "6776b8b1-ee5b-491b-b4b3-2c3339802e9b",
   "metadata": {},
   "outputs": [],
   "source": [
    "#Input DC range\n",
    "Vin_min=380\n",
    "Vin_max=420\n",
    "Vin_nom=400\n",
    "\n",
    "#Output voltage range\n",
    "Vout_min=172 \n",
    "#Vout_nom=264.7\n",
    "Vout_max=300\n",
    "Vout_pp=50e-3 # Peak-to-peak Vout ripple at resistive load \n",
    "\n",
    "#Output power\n",
    "Pout_max=900\n",
    "\n",
    "#Output current limit\n",
    "Iout_max=3.4\n",
    "\n",
    "#Estimated efficiency\n",
    "eff=0.95\n",
    "\n",
    "#switching frequency (on the primary side, seen by switching transistor)\n",
    "#note: the output inductor is switched in 2*fsw\n",
    "fsw=100e3\n",
    "\n",
    "#maximum effective secondary duty-cycle\n",
    "#Note: Consider duty-cycle loss due to resonant inductor + transformer primary leakage inductance\n",
    "DC_eff_max=0.85\n",
    "\n",
    "#PWM IC duty cycle limit\n",
    "DC_PWM_lim=0.95\n",
    "\n",
    "#### Output Inductor ####\n",
    "dIL_pp=1.53 #inductor peak to peak ripple current (in A)\n",
    "L_out_rdc = 10e-3 #inductor rdc\n",
    "\n",
    "#### Resonant Inductor ####\n",
    "Lr_rdc = 10e-3 #inductor rdc\n",
    "\n",
    "#### Transformer ####\n",
    "#Estimation of transformer parasitic parameters\n",
    "#Primary winding capacitance\n",
    "Cp = 100e-12\n",
    "#Primary leakage inductance\n",
    "L_leak = 8e-6\n",
    "#Primary magnetizing inductance\n",
    "L_mag = 4e-3\n",
    "\n",
    "#Vsec_k=1.24\n",
    "\n",
    "#### MOSFET Parameters ####\n",
    "# VDS derating\n",
    "kM=0.85\n",
    "# WC rdson at 110degC\n",
    "M_rdson=0.18\n",
    "# Energy related Coss in F at Vin_max\n",
    "Coss_ef = 30e-12\n",
    "\n",
    "#### Output Diodes Parameters@75degC ####\n",
    "# MFR / MPN\n",
    "\n",
    "#derating factor (diode stress is kD of diode VBR rating)\n",
    "kD = 0.75\n",
    "D_Vfwd=0.69 # Build-in potential (in V)\n",
    "D_rdiff=76e-3 # Differential resistance (in Ohm)\n",
    "\n",
    "### Output Diode@75degC ###\n",
    "# Infineon IDH08G65C6\n"
   ]
  },
  {
   "cell_type": "markdown",
   "id": "e0eb53a3-30cb-4c6f-a04a-8baca979209e",
   "metadata": {},
   "source": [
    "# Transformer Requirements"
   ]
  },
  {
   "cell_type": "markdown",
   "id": "4636d230-9828-41b0-bcfd-ed3adeaf38d9",
   "metadata": {},
   "source": [
    "## Turns Ratio (Np:1)"
   ]
  },
  {
   "cell_type": "code",
   "execution_count": 5,
   "id": "fcf640d7-8853-4bfc-9258-775485cd2e08",
   "metadata": {},
   "outputs": [
    {
     "name": "stdout",
     "output_type": "stream",
     "text": [
      "1.07\n"
     ]
    }
   ],
   "source": [
    "Vsec_min=(Vout_max+D_Vfwd)/DC_eff_max\n",
    "N=round(Vin_min/Vsec_min,2)\n",
    "print(N)"
   ]
  },
  {
   "cell_type": "markdown",
   "id": "59f750c7-f69f-4ff6-97e4-0dbe1e0c824e",
   "metadata": {},
   "source": [
    "# Resonant Inductor"
   ]
  },
  {
   "cell_type": "markdown",
   "id": "014b928e-a392-4388-8000-7a1a0326f5f0",
   "metadata": {},
   "source": [
    "## Maximum Duty-Cycle loss (in %)"
   ]
  },
  {
   "cell_type": "code",
   "execution_count": 6,
   "id": "aa8d326a-913b-4a5c-884c-255b9dd608b3",
   "metadata": {},
   "outputs": [
    {
     "name": "stdout",
     "output_type": "stream",
     "text": [
      "10.0\n"
     ]
    }
   ],
   "source": [
    "DC_loss_max=DC_PWM_lim-DC_eff_max\n",
    "print(round(DC_loss_max*100,2))"
   ]
  },
  {
   "cell_type": "markdown",
   "id": "2abb76e5-8a61-4425-a531-86ea041ff0a8",
   "metadata": {},
   "source": [
    "## Estimated Maximum Inductance of Resonant Inductor (in uH)"
   ]
  },
  {
   "cell_type": "code",
   "execution_count": 7,
   "id": "a4e705aa-5f53-4b60-875c-47fade19ace8",
   "metadata": {},
   "outputs": [
    {
     "name": "stdout",
     "output_type": "stream",
     "text": [
      "25.88\n"
     ]
    }
   ],
   "source": [
    "Lr_max = DC_loss_max*N*Vin_min/((Pout_max/Vout_max)*4*fsw)-L_leak\n",
    "print(round(Lr_max*1e6,2))"
   ]
  },
  {
   "cell_type": "markdown",
   "id": "21d1fbec-e0db-4d7c-a184-7e261333ffd7",
   "metadata": {},
   "source": [
    "# Output Inductor Requirements\n",
    "Output inductor is calculated such as Iripple < Iripple_limit at whole Vout range. This happen when Vin is maximal"
   ]
  },
  {
   "cell_type": "markdown",
   "id": "7a46c64f-7d89-48e9-b2c9-299682ddf6ac",
   "metadata": {},
   "source": [
    "## Required Inductance (in uH)"
   ]
  },
  {
   "cell_type": "code",
   "execution_count": 8,
   "id": "52558b3a-7f45-4b65-b1ee-94677d61a731",
   "metadata": {},
   "outputs": [
    {
     "name": "stdout",
     "output_type": "stream",
     "text": [
      "320.125297782664\n",
      "195.916682242990\n"
     ]
    }
   ],
   "source": [
    "Lout = get_Lout(N, fsw, D_Vfwd, dIL_pp, Vin_max, Vout_min, Vout_max)[1]\n",
    "Vout_WC_I_ripple = get_Lout(N, fsw, D_Vfwd, dIL_pp, Vin_max, Vout_min, Vout_max)[0]\n",
    "#Lout = (Pout_max/Iout_max) / fsw / dIL_pp * (1 - (Pout_max/Iout_max) / Vin_max * N) / 2\n",
    "print(Lout*1e6)\n",
    "print(Vout_WC_I_ripple)\n"
   ]
  },
  {
   "cell_type": "markdown",
   "id": "94e6e658",
   "metadata": {},
   "source": [
    "# Output Capacitor Requirements"
   ]
  },
  {
   "cell_type": "markdown",
   "id": "045029ce",
   "metadata": {},
   "source": [
    "## Minimum Capacitance Value (in uF)\n",
    "Note: This assumes that output capacitor ESR is 0 Ohm"
   ]
  },
  {
   "cell_type": "code",
   "execution_count": 9,
   "id": "5481bcc2",
   "metadata": {},
   "outputs": [
    {
     "name": "stdout",
     "output_type": "stream",
     "text": [
      "19\n"
     ]
    }
   ],
   "source": [
    "Cout = Vout_WC_I_ripple / Lout / fsw ** 2 / Vout_pp * (1 - Vout_WC_I_ripple / (Vin_max / N - D_Vfwd)) / 32\n",
    "print(round(Cout*1e6))"
   ]
  },
  {
   "cell_type": "markdown",
   "id": "98824add",
   "metadata": {},
   "source": [
    "## Maximum ESR limit (in mOhm)\n",
    "Note: This assumes that output capacitance is infinity"
   ]
  },
  {
   "cell_type": "code",
   "execution_count": 10,
   "id": "aad541da",
   "metadata": {},
   "outputs": [
    {
     "name": "stdout",
     "output_type": "stream",
     "text": [
      "33\n"
     ]
    }
   ],
   "source": [
    "Cout_ESR_max = Vout_pp/dIL_pp\n",
    "print(round(Cout_ESR_max*1000))"
   ]
  },
  {
   "cell_type": "markdown",
   "id": "7ac3d638",
   "metadata": {},
   "source": [
    "## Estimated Electrolytical Capacitor (in uF)\n",
    "Note: Based on assumption that relationship between the capacitance and ESR of an\n",
    "electrolytic capacitor is C ⋅ ESR = 60e-6"
   ]
  },
  {
   "cell_type": "code",
   "execution_count": 11,
   "id": "7ff17fd6",
   "metadata": {},
   "outputs": [
    {
     "name": "stdout",
     "output_type": "stream",
     "text": [
      "1836\n"
     ]
    }
   ],
   "source": [
    "Cout_elyt = 60e-6/Cout_ESR_max\n",
    "print(round(Cout_elyt*1e6))"
   ]
  },
  {
   "cell_type": "markdown",
   "id": "c8e1e262-f2f1-48e0-928a-9a1878e0830e",
   "metadata": {},
   "source": [
    "# ZVS Range"
   ]
  },
  {
   "cell_type": "markdown",
   "id": "822b430c-0b55-4a53-bdc6-0d4f1d39cf4d",
   "metadata": {},
   "source": [
    "## Required energy to achieve ZVS (in uJ)"
   ]
  },
  {
   "cell_type": "code",
   "execution_count": 12,
   "id": "ea96f20c-f787-421a-89bb-47d43f9ee067",
   "metadata": {},
   "outputs": [
    {
     "name": "stdout",
     "output_type": "stream",
     "text": [
      "14.11\n"
     ]
    }
   ],
   "source": [
    "E_TR = 0.5* Cp*Vin_max*Vin_max\n",
    "E_Coss = (0.5*Coss_ef*Vin_max*Vin_max)*2\n",
    "E_ZVS=E_TR+E_Coss\n",
    "print(round(E_ZVS*1e6,2))"
   ]
  },
  {
   "cell_type": "code",
   "execution_count": 13,
   "id": "bd0e52ce-2a56-4fa4-86f0-27fa24377d74",
   "metadata": {},
   "outputs": [
    {
     "data": {
      "text/plain": [
       "'Iteration: 7, D=0.5995, Relative difference=0.0005704'"
      ]
     },
     "metadata": {},
     "output_type": "display_data"
    },
    {
     "name": "stdout",
     "output_type": "stream",
     "text": [
      "Converged after 7 iterations.\n",
      "Vin_max, Vout_WC_ripple\n",
      "0.5995312500000001\n",
      "I_Lout_AVG: 3.40194\n",
      "Rload_AVG: 3.4\n",
      "I_S2_RMS: 2.23883\n",
      "I_Lout_PP: 1.40219\n",
      "I_Lout_RMS: 3.42577\n",
      "I_Lprim_AVG: 0.0224743\n",
      "I_Lprim_RMS: 3.19776\n",
      "I_Lprim_pp: 7.9083\n",
      "I_Lsec1_AVG: -1.70096\n",
      "I_Lsec1_RMS: 2.39912\n",
      "I_Lsec2_AVG: 1.70098\n",
      "I_Lsec2_RMS: 2.39914\n",
      "Lres_ZVS_Ipeak: 2.9128\n",
      "Pout: 666.117\n"
     ]
    },
    {
     "data": {
      "text/plain": [
       "'Iteration: 12, D=0.7826, Relative difference=0.0005502'"
      ]
     },
     "metadata": {},
     "output_type": "display_data"
    },
    {
     "name": "stdout",
     "output_type": "stream",
     "text": [
      "Converged after 12 iterations.\n",
      "Vin_max, Vout_nom\n",
      "0.7825634765624999\n",
      "I_Lout_AVG: 3.39813\n",
      "Rload_AVG: 3.4\n",
      "I_S2_RMS: 2.21392\n",
      "I_Lout_PP: 1.21047\n",
      "I_Lout_RMS: 3.41598\n",
      "I_Lprim_AVG: 0.0279654\n",
      "I_Lprim_RMS: 3.16972\n",
      "I_Lprim_pp: 7.81949\n",
      "I_Lsec1_AVG: -1.69905\n",
      "I_Lsec1_RMS: 2.38828\n",
      "I_Lsec2_AVG: 1.69907\n",
      "I_Lsec2_RMS: 2.3883\n",
      "Lres_ZVS_Ipeak: 3.15372\n",
      "Pout: 900.0\n"
     ]
    },
    {
     "data": {
      "text/plain": [
       "'Iteration: 10, D=0.8646, Relative difference=0.0001633'"
      ]
     },
     "metadata": {},
     "output_type": "display_data"
    },
    {
     "name": "stdout",
     "output_type": "stream",
     "text": [
      "Converged after 10 iterations.\n",
      "Vin_max, Vout_max\n",
      "0.8646289062499999\n",
      "I_Lout_AVG: 3.00049\n",
      "Rload_AVG: 3.0\n",
      "I_S2_RMS: 1.95103\n",
      "I_Lout_PP: 0.976414\n",
      "I_Lout_RMS: 3.01368\n",
      "I_Lprim_AVG: 0.0266659\n",
      "I_Lprim_RMS: 2.7962\n",
      "I_Lprim_pp: 6.91011\n",
      "I_Lsec1_AVG: -1.50023\n",
      "I_Lsec1_RMS: 2.10801\n",
      "I_Lsec2_AVG: 1.50026\n",
      "I_Lsec2_RMS: 2.10803\n",
      "Lres_ZVS_Ipeak: 2.9247\n",
      "Pout: 900.0\n"
     ]
    },
    {
     "data": {
      "text/plain": [
       "'Iteration: 11, D=0.666, Relative difference=0.0008003'"
      ]
     },
     "metadata": {},
     "output_type": "display_data"
    },
    {
     "name": "stdout",
     "output_type": "stream",
     "text": [
      "Converged after 11 iterations.\n",
      "Vin_min, Vout_WC_ripple\n",
      "0.666044921875\n",
      "I_Lout_AVG: 3.39728\n",
      "Rload_AVG: 3.4\n",
      "I_S2_RMS: 2.17163\n",
      "I_Lout_PP: 1.25127\n",
      "I_Lout_RMS: 3.4163\n",
      "I_Lprim_AVG: 0.0907624\n",
      "I_Lprim_RMS: 3.16865\n",
      "I_Lprim_pp: 7.76149\n",
      "I_Lsec1_AVG: -1.69883\n",
      "I_Lsec1_RMS: 2.38745\n",
      "I_Lsec2_AVG: 1.69845\n",
      "I_Lsec2_RMS: 2.38715\n",
      "Lres_ZVS_Ipeak: 3.08221\n",
      "Pout: 666.116\n"
     ]
    },
    {
     "data": {
      "text/plain": [
       "'Iteration: 8, D=0.8713, Relative difference=0.0009966'"
      ]
     },
     "metadata": {},
     "output_type": "display_data"
    },
    {
     "name": "stdout",
     "output_type": "stream",
     "text": [
      "Converged after 8 iterations.\n",
      "Vin_min, Vout_nom\n",
      "0.871328125\n",
      "I_Lout_AVG: 3.40339\n",
      "Rload_AVG: 3.4\n",
      "I_S2_RMS: 2.18847\n",
      "I_Lout_PP: 0.93429\n",
      "I_Lout_RMS: 3.41406\n",
      "I_Lprim_AVG: 0.0206296\n",
      "I_Lprim_RMS: 3.12884\n",
      "I_Lprim_pp: 7.57796\n",
      "I_Lsec1_AVG: -1.70169\n",
      "I_Lsec1_RMS: 2.37828\n",
      "I_Lsec2_AVG: 1.70171\n",
      "I_Lsec2_RMS: 2.3783\n",
      "Lres_ZVS_Ipeak: 3.34127\n",
      "Pout: 900.001\n"
     ]
    },
    {
     "data": {
      "text/plain": [
       "'Iteration: 11, D=0.9637, Relative difference=0.0009538'"
      ]
     },
     "metadata": {},
     "output_type": "display_data"
    },
    {
     "name": "stdout",
     "output_type": "stream",
     "text": [
      "Converged after 11 iterations.\n",
      "Vin_min, Vout_max\n",
      "0.963681640625\n",
      "I_Lout_AVG: 2.99714\n",
      "Rload_AVG: 3.0\n",
      "I_S2_RMS: 1.91069\n",
      "I_Lout_PP: 0.622101\n",
      "I_Lout_RMS: 3.00254\n",
      "I_Lprim_AVG: 0.024212\n",
      "I_Lprim_RMS: 2.7395\n",
      "I_Lprim_pp: 6.58184\n",
      "I_Lsec1_AVG: -1.49856\n",
      "I_Lsec1_RMS: 2.09101\n",
      "I_Lsec2_AVG: 1.49858\n",
      "I_Lsec2_RMS: 2.09104\n",
      "Lres_ZVS_Ipeak: 3.15528\n",
      "Pout: 899.999\n"
     ]
    }
   ],
   "source": [
    "#find_OP(Coss, Cout_ESR, deadtime, eff, fsw_p, Iout_max, L_leak, Lout, Lp, Lr, N, Pmax, Rdiff, REC_fwd, Ron_MOS, Vin, Vout):\n",
    "test = find_OP(Coss_ef, Cout_ESR_max, 50e-9,1,fsw,Iout_max, L_leak,Lout, L_mag,Lr_max,N,Pout_max,D_rdiff, D_Vfwd, M_rdson,Vin_max,Vout_WC_I_ripple)\n",
    "#Simulates at Vin_amx, Vout_WC_ripple\n",
    "print(\"Vin_max, Vout_WC_ripple\")\n",
    "print(test[0])\n",
    "sim_results = test[1]\n",
    "print(\"I_Lout_AVG:\",sim_results[1][0])\n",
    "print(\"Rload_AVG:\",sim_results[1][1])\n",
    "print(\"I_S2_RMS:\",sim_results[1][5])\n",
    "print(\"I_Lout_PP:\",sim_results[1][6])\n",
    "print(\"I_Lout_RMS:\",sim_results[1][11])\n",
    "print(\"I_Lprim_AVG:\",sim_results[1][9])\n",
    "print(\"I_Lprim_RMS:\",sim_results[1][10])\n",
    "print(\"I_Lprim_pp:\",sim_results[1][17])\n",
    "print(\"I_Lsec1_AVG:\",sim_results[1][12])\n",
    "print(\"I_Lsec1_RMS:\",sim_results[1][13])\n",
    "print(\"I_Lsec2_AVG:\",sim_results[1][14])\n",
    "print(\"I_Lsec2_RMS:\",sim_results[1][15])\n",
    "print(\"Lres_ZVS_Ipeak:\",sim_results[1][16])\n",
    "print(\"Pout:\",sim_results[1][2])\n",
    "I_Lsec2_RMS = sim_results[1][15]\n",
    "I_Lsec2_AVG = sim_results[1][14]\n",
    "I_Lprim_RMS = sim_results[1][10]\n",
    "I_Lprim_pp = sim_results[1][17]\n",
    "\n",
    "test = find_OP(Coss_ef, Cout_ESR_max, 50e-9,1,fsw,Iout_max, L_leak,Lout, L_mag,Lr_max,N,Pout_max,D_rdiff, D_Vfwd, M_rdson,Vin_max,Pout_max/Iout_max)\n",
    "print(\"Vin_max, Vout_nom\")\n",
    "print(test[0])\n",
    "sim_results = test[1]\n",
    "print(\"I_Lout_AVG:\",sim_results[1][0])\n",
    "print(\"Rload_AVG:\",sim_results[1][1])\n",
    "print(\"I_S2_RMS:\",sim_results[1][5])\n",
    "print(\"I_Lout_PP:\",sim_results[1][6])\n",
    "print(\"I_Lout_RMS:\",sim_results[1][11])\n",
    "print(\"I_Lprim_AVG:\",sim_results[1][9])\n",
    "print(\"I_Lprim_RMS:\",sim_results[1][10])\n",
    "print(\"I_Lprim_pp:\",sim_results[1][17])\n",
    "print(\"I_Lsec1_AVG:\",sim_results[1][12])\n",
    "print(\"I_Lsec1_RMS:\",sim_results[1][13])\n",
    "print(\"I_Lsec2_AVG:\",sim_results[1][14])\n",
    "print(\"I_Lsec2_RMS:\",sim_results[1][15])\n",
    "print(\"Lres_ZVS_Ipeak:\",sim_results[1][16])\n",
    "print(\"Pout:\",sim_results[1][2])\n",
    "\n",
    "test = find_OP(Coss_ef, Cout_ESR_max, 50e-9,1,fsw,Iout_max, L_leak,Lout, L_mag,Lr_max,N,Pout_max,D_rdiff, D_Vfwd, M_rdson,Vin_max,Vout_max)\n",
    "print(\"Vin_max, Vout_max\")\n",
    "print(test[0])\n",
    "sim_results = test[1]\n",
    "print(\"I_Lout_AVG:\",sim_results[1][0])\n",
    "print(\"Rload_AVG:\",sim_results[1][1])\n",
    "print(\"I_S2_RMS:\",sim_results[1][5])\n",
    "print(\"I_Lout_PP:\",sim_results[1][6])\n",
    "print(\"I_Lout_RMS:\",sim_results[1][11])\n",
    "print(\"I_Lprim_AVG:\",sim_results[1][9])\n",
    "print(\"I_Lprim_RMS:\",sim_results[1][10])\n",
    "print(\"I_Lprim_pp:\",sim_results[1][17])\n",
    "print(\"I_Lsec1_AVG:\",sim_results[1][12])\n",
    "print(\"I_Lsec1_RMS:\",sim_results[1][13])\n",
    "print(\"I_Lsec2_AVG:\",sim_results[1][14])\n",
    "print(\"I_Lsec2_RMS:\",sim_results[1][15])\n",
    "print(\"Lres_ZVS_Ipeak:\",sim_results[1][16])\n",
    "print(\"Pout:\",sim_results[1][2])\n",
    "\n",
    "test = find_OP(Coss_ef, Cout_ESR_max, 50e-9,1,fsw,Iout_max, L_leak,Lout, L_mag,Lr_max,N,Pout_max,D_rdiff, D_Vfwd, M_rdson,Vin_min,Vout_WC_I_ripple)\n",
    "print(\"Vin_min, Vout_WC_ripple\")\n",
    "print(test[0])\n",
    "sim_results = test[1]\n",
    "print(\"I_Lout_AVG:\",sim_results[1][0])\n",
    "print(\"Rload_AVG:\",sim_results[1][1])\n",
    "print(\"I_S2_RMS:\",sim_results[1][5])\n",
    "print(\"I_Lout_PP:\",sim_results[1][6])\n",
    "print(\"I_Lout_RMS:\",sim_results[1][11])\n",
    "print(\"I_Lprim_AVG:\",sim_results[1][9])\n",
    "print(\"I_Lprim_RMS:\",sim_results[1][10])\n",
    "print(\"I_Lprim_pp:\",sim_results[1][17])\n",
    "print(\"I_Lsec1_AVG:\",sim_results[1][12])\n",
    "print(\"I_Lsec1_RMS:\",sim_results[1][13])\n",
    "print(\"I_Lsec2_AVG:\",sim_results[1][14])\n",
    "print(\"I_Lsec2_RMS:\",sim_results[1][15])\n",
    "print(\"Lres_ZVS_Ipeak:\",sim_results[1][16])\n",
    "print(\"Pout:\",sim_results[1][2])\n",
    "\n",
    "test = find_OP(Coss_ef, Cout_ESR_max, 50e-9,1,fsw,Iout_max, L_leak,Lout, L_mag,Lr_max,N,Pout_max,D_rdiff, D_Vfwd, M_rdson,Vin_min,Pout_max/Iout_max)\n",
    "print(\"Vin_min, Vout_nom\")\n",
    "print(test[0])\n",
    "sim_results = test[1]\n",
    "print(\"I_Lout_AVG:\",sim_results[1][0])\n",
    "print(\"Rload_AVG:\",sim_results[1][1])\n",
    "print(\"I_S2_RMS:\",sim_results[1][5])\n",
    "print(\"I_Lout_PP:\",sim_results[1][6])\n",
    "print(\"I_Lout_RMS:\",sim_results[1][11])\n",
    "print(\"I_Lprim_AVG:\",sim_results[1][9])\n",
    "print(\"I_Lprim_RMS:\",sim_results[1][10])\n",
    "print(\"I_Lprim_pp:\",sim_results[1][17])\n",
    "print(\"I_Lsec1_AVG:\",sim_results[1][12])\n",
    "print(\"I_Lsec1_RMS:\",sim_results[1][13])\n",
    "print(\"I_Lsec2_AVG:\",sim_results[1][14])\n",
    "print(\"I_Lsec2_RMS:\",sim_results[1][15])\n",
    "print(\"Lres_ZVS_Ipeak:\",sim_results[1][16])\n",
    "print(\"Pout:\",sim_results[1][2])\n",
    "\n",
    "test = find_OP(Coss_ef, Cout_ESR_max, 50e-9,1,fsw,Iout_max, L_leak,Lout, L_mag,Lr_max,N,Pout_max,D_rdiff, D_Vfwd, M_rdson,Vin_min,Vout_max)\n",
    "print(\"Vin_min, Vout_max\")\n",
    "print(test[0])\n",
    "sim_results = test[1]\n",
    "print(\"I_Lout_AVG:\",sim_results[1][0])\n",
    "print(\"Rload_AVG:\",sim_results[1][1])\n",
    "print(\"I_S2_RMS:\",sim_results[1][5])\n",
    "print(\"I_Lout_PP:\",sim_results[1][6])\n",
    "print(\"I_Lout_RMS:\",sim_results[1][11])\n",
    "print(\"I_Lprim_AVG:\",sim_results[1][9])\n",
    "print(\"I_Lprim_RMS:\",sim_results[1][10])\n",
    "print(\"I_Lprim_pp:\",sim_results[1][17])\n",
    "print(\"I_Lsec1_AVG:\",sim_results[1][12])\n",
    "print(\"I_Lsec1_RMS:\",sim_results[1][13])\n",
    "print(\"I_Lsec2_AVG:\",sim_results[1][14])\n",
    "print(\"I_Lsec2_RMS:\",sim_results[1][15])\n",
    "print(\"Lres_ZVS_Ipeak:\",sim_results[1][16])\n",
    "print(\"Pout:\",sim_results[1][2])\n",
    "\n"
   ]
  },
  {
   "cell_type": "markdown",
   "id": "6459dd09",
   "metadata": {},
   "source": [
    "# Stress Analysis (Worst-Case Calculation)"
   ]
  },
  {
   "cell_type": "markdown",
   "id": "b5da580f",
   "metadata": {},
   "source": [
    "## Secondary Switch VBR Requirement > (in V)\n",
    "Note: Derating factor is included"
   ]
  },
  {
   "cell_type": "code",
   "execution_count": 14,
   "id": "a0e8e772",
   "metadata": {},
   "outputs": [
    {
     "name": "stdout",
     "output_type": "stream",
     "text": [
      "1047.0\n"
     ]
    }
   ],
   "source": [
    "VBR_sec = ((2*Vin_max)/N)/kD\n",
    "print(round(VBR_sec,0))"
   ]
  },
  {
   "cell_type": "markdown",
   "id": "110e5a88",
   "metadata": {},
   "source": [
    "## Secondary Winding RMS Current (in A)\n",
    "Note: The same current flow through secondary switch"
   ]
  },
  {
   "cell_type": "code",
   "execution_count": 15,
   "id": "088e3383",
   "metadata": {},
   "outputs": [
    {
     "name": "stdout",
     "output_type": "stream",
     "text": [
      "2.39914\n"
     ]
    }
   ],
   "source": [
    "print(I_Lsec2_RMS)"
   ]
  },
  {
   "cell_type": "markdown",
   "id": "f19ccfa3",
   "metadata": {},
   "source": [
    "## Secondary Winding AVG Current (in A)\n",
    "Note: The same current flow through secondary switch"
   ]
  },
  {
   "cell_type": "code",
   "execution_count": 16,
   "id": "68b2319a",
   "metadata": {},
   "outputs": [
    {
     "name": "stdout",
     "output_type": "stream",
     "text": [
      "1.70098\n"
     ]
    }
   ],
   "source": [
    "print(I_Lsec2_AVG)"
   ]
  },
  {
   "cell_type": "markdown",
   "id": "59d171b3",
   "metadata": {},
   "source": [
    "## Primary Winding RMS Current (in A)\n",
    "Note. The same current flows through resonant inductor"
   ]
  },
  {
   "cell_type": "code",
   "execution_count": 17,
   "id": "7a2256ad",
   "metadata": {},
   "outputs": [
    {
     "name": "stdout",
     "output_type": "stream",
     "text": [
      "3.19776\n"
     ]
    }
   ],
   "source": [
    "print(I_Lprim_RMS)"
   ]
  },
  {
   "cell_type": "markdown",
   "id": "a952d085",
   "metadata": {},
   "source": [
    "## Primary Winding Peak-Peak Current (in A)\n",
    "Note: The same current flows through resonant inductor. Primary winding AVG current is 0"
   ]
  },
  {
   "cell_type": "code",
   "execution_count": 18,
   "id": "df55877c",
   "metadata": {},
   "outputs": [
    {
     "name": "stdout",
     "output_type": "stream",
     "text": [
      "7.9083\n"
     ]
    },
    {
     "ename": "",
     "evalue": "",
     "output_type": "error",
     "traceback": [
      "\u001b[1;31mThe Kernel crashed while executing code in the current cell or a previous cell. \n",
      "\u001b[1;31mPlease review the code in the cell(s) to identify a possible cause of the failure. \n",
      "\u001b[1;31mClick <a href='https://aka.ms/vscodeJupyterKernelCrash'>here</a> for more info. \n",
      "\u001b[1;31mView Jupyter <a href='command:jupyter.viewOutput'>log</a> for further details."
     ]
    }
   ],
   "source": [
    "print(I_Lprim_pp)"
   ]
  }
 ],
 "metadata": {
  "kernelspec": {
   "display_name": "Python 3",
   "language": "python",
   "name": "python3"
  },
  "language_info": {
   "codemirror_mode": {
    "name": "ipython",
    "version": 3
   },
   "file_extension": ".py",
   "mimetype": "text/x-python",
   "name": "python",
   "nbconvert_exporter": "python",
   "pygments_lexer": "ipython3",
   "version": "3.11.6"
  }
 },
 "nbformat": 4,
 "nbformat_minor": 5
}
