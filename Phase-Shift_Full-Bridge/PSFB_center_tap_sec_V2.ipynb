{
 "cells": [
  {
   "cell_type": "markdown",
   "id": "d4ddd126-ff05-4fb7-82d8-dfacfb7d2f2c",
   "metadata": {},
   "source": [
    "# Info\n",
    "Phase Shift Full Bridge Converter Design tool for battery charger.\n",
    "Design for variable output voltage with limited maximum output current and power."
   ]
  },
  {
   "cell_type": "markdown",
   "id": "93f02da3",
   "metadata": {},
   "source": [
    "# QSPICE Python Files Initialization"
   ]
  },
  {
   "cell_type": "code",
   "execution_count": null,
   "id": "c9bfa7be",
   "metadata": {},
   "outputs": [],
   "source": [
    "import os\n",
    "import shutil\n",
    "\n",
    "# Get the current working directory (where your script is running)\n",
    "current_dir = os.getcwd()\n",
    "\n",
    "# Define the source folder (QSPICE_Parser is located above the project directory)\n",
    "source_folder = os.path.join(os.path.dirname(current_dir), 'QSPICE_Parser')\n",
    "\n",
    "# Define the source file path\n",
    "source_file = os.path.join(source_folder, 'QSPICE_parser.py')\n",
    "\n",
    "# Define the destination folder within the project (subfolder called QSPICE)\n",
    "destination_folder = os.path.join(current_dir, 'QSPICE')\n",
    "\n",
    "# Define the destination file path (within the QSPICE subfolder)\n",
    "destination_file = os.path.join(destination_folder, 'QSPICE_parser.py')\n",
    "\n",
    "# Copy the file from source to destination\n",
    "shutil.copy(source_file, destination_file)"
   ]
  },
  {
   "cell_type": "code",
   "execution_count": null,
   "id": "0be860a1",
   "metadata": {},
   "outputs": [],
   "source": [
    "from QSPICE import QSPICE_parser\n",
    "import importlib\n",
    "import sys\n",
    "\n",
    "# reload QSPICE/Python parser without kernel restart\n",
    "importlib.reload(QSPICE_parser)\n",
    "\n",
    "#Create PyQSPICE file\n",
    "QSPICE_parser.parse_and_generate_script('PSFB_center_tap_closed_loop.qsch','QSPICE_PSFB_center_tap_closed_loop.py')\n",
    "QSPICE_parser.parse_and_generate_script('PWM_SW_AVG_PSFB.qsch','QSPICE_PWM_SW_AVG_PSFB.py')\n",
    "\n",
    "# Delete parser script file from QSPICE folder\n",
    "os.remove(destination_file)"
   ]
  },
  {
   "cell_type": "code",
   "execution_count": null,
   "id": "58e2b6c2",
   "metadata": {},
   "outputs": [],
   "source": [
    "import math\n",
    "import numpy as np\n",
    "import pandas as pd\n",
    "import sympy as sp\n",
    "import math\n",
    "\n",
    "#from IPython.display import display, clear_output\n",
    "#from IPython import display\n",
    "from IPython.display import display, update_display\n",
    "import time\n",
    "\n",
    "%matplotlib ipympl\n",
    "#load all QSPICE autogenerating scripts here\n",
    "#from QSPICE import QSPICE_PSFB_center_tap_closed_loop as QSPICE_tr\n",
    "from QSPICE import QSPICE_PWM_SW_AVG_PSFB as QSPICE_ac\n",
    "\n",
    "from IPython.display import display, Markdown, Latex\n",
    "from matplotlib import pyplot as plt\n",
    "from matplotlib.ticker import (MultipleLocator, AutoMinorLocator)\n",
    "from scipy.interpolate import RegularGridInterpolator\n",
    "from scipy.interpolate import interp1d\n",
    "from scipy.fft import fft, rfft\n",
    "from scipy.fft import fftfreq, rfftfreq\n",
    "\n",
    "plt.close('all')\n",
    "pd.options.display.float_format = '{:.5e}'.format\n",
    "\n",
    "def resample(data_x, data_y, fsw):\n",
    "\n",
    "    \"\"\"\n",
    "    Resample data so X data are evenly distributed.\n",
    "\n",
    "    Parameters:\n",
    "        data_x (float): X data\n",
    "        data_y (float): Y data\n",
    "        fsw (float): Fundamental frequency\n",
    "        \n",
    "    Returns:\n",
    "        (x_even, waveform_resampled, sampling_rate): Returns the same resampled data and its sampling rate\n",
    "\n",
    "    \"\"\"\n",
    "    duration = data_x.max() - data_x.min() # Duration of the signal in seconds\n",
    "    f_max = 10*fsw # the first 10 harmonics are important\n",
    "    f_sample_min = 10*2*f_max #calc. minimum samplig frequency\n",
    "    Ts_max = 1/f_sample_min\n",
    "    num_samples = int(duration / Ts_max)\n",
    "    x_even = np.linspace(data_x.min(), data_x.max(), num_samples)  # Evenly spaced time samples\n",
    "\n",
    "    Ts = duration/len(x_even) #calc. sampling period\n",
    "    sampling_rate = 1/Ts  #calc. sampling rate\n",
    "        \n",
    "    # Interpolation \n",
    "    interpolator = interp1d(data_x, data_y, kind='linear')  \n",
    "    waveform_resampled = interpolator(x_even)\n",
    "\n",
    "    return x_even, waveform_resampled, sampling_rate\n",
    "    \n",
    "\n",
    "def get_Lout(N, f__s,V__d, I__L_pp,V__input,Vout__min,Vout__max):\n",
    "\n",
    "    \"\"\"\n",
    "    Calculates minimum output inductor value which will ensure that I_Lout_pp < dIL_pp in whole Vout range\n",
    "\n",
    "    Parameters:\n",
    "        N (float): Transformer turn ratio (Np/Ns).\n",
    "        f__s (float): Primary switching frequency.\n",
    "        V__d (float): Output diode voltage drop.\n",
    "        I__L_pp (float): Output inductor peak-to-peak ripple current.\n",
    "        V__input (float): Input voltage.\n",
    "        Vout__min (float): Minimum output voltage.\n",
    "        Vout__max (float): Maximum output voltage.\n",
    "\n",
    "    Returns:\n",
    "        (Vout, Lout): Output voltage when inductor current ripple is maximal / Required minimal inductance.\n",
    "\n",
    "    \"\"\"\n",
    "    x = sp.Symbol('x')\n",
    "    equation = x / f__s / I__L_pp * (1 - x / (V__input / N - V__d)) / 2\n",
    "    derivative = sp.diff(equation,x)\n",
    "    critical_points = sp.solvers.solve(derivative, x)\n",
    "    interval = (Vout__min,Vout__max)\n",
    "    points_to_check = [p for p in critical_points if interval[0] <= p <= interval[1]]+list(interval)\n",
    "    values = [(point,equation.subs(x,point)) for point in points_to_check]\n",
    "    Vout, Lout = max(values, key=lambda item: item[1])\n",
    "    \n",
    "    return Vout, Lout\n",
    "\n",
    "def get_TF(Cout, Cout_ESR_max, fsw, Lout, N, R_load, Vin, Vout, export_traces = None):\n",
    "    \"\"\"\n",
    "    Calculate transfer function to get power plan gain and phase at specific frequency\n",
    "    \"\"\"\n",
    "    if export_traces is None:\n",
    "         export_traces = []\n",
    "\n",
    "    results_sim = QSPICE_ac.QSPICE_PWM_SW_AVG_PSFB(Cout, Cout_ESR_max, fsw, Lout, N, R_load, Vin, Vout, export_traces)\n",
    "    return results_sim\n",
    "\n",
    "def find_OP(Coss, Cout_ESR, deadtime, eff, fsw_p, Iout_max, L_leak, Lout, Lp, Lr, N, Pmax, Rdiff, REC_fwd, Ron_MOS, Vin, Vout, export_traces = None):\n",
    "    \"\"\"\n",
    "    Uses the bisection method to find duty-cycle D such that the relative\n",
    "    difference between I_Lout_AVG and I_Rload_AVG is below 0.1%.\n",
    "\n",
    "    It returns D.\n",
    "\n",
    "    \"\"\"\n",
    "    if export_traces is None:\n",
    "         export_traces = []\n",
    "\n",
    "    #possible duty-cycle interval to find OP\n",
    "    D_min=0.01\n",
    "    D_max=0.99\n",
    "\n",
    "    #acceptable error tolerance\n",
    "    tolerance=0.001\n",
    "    #maximum number iterations\n",
    "    max_iterations=30\n",
    "\n",
    "    def relative_difference(I_Lout_AVG, I_Rload_AVG):\n",
    "        return abs(I_Lout_AVG - I_Rload_AVG) / ((I_Lout_AVG + I_Rload_AVG) / 2)\n",
    "    \n",
    "    display(\"Starting iterations...\", display_id='1')\n",
    "\n",
    "    for iteration in range(max_iterations):\n",
    "        # Calculate midpoint of D range\n",
    "        D_mid = (D_min + D_max) / 2\n",
    "        \n",
    "        # Simulate with the midpoint value\n",
    "        results_sim = QSPICE.QSPICE_PSFB_center_tap(Coss, Cout_ESR, D_mid, deadtime, eff, fsw_p, Iout_max, L_leak, Lout, Lp, Lr, N, Pmax, Rdiff, REC_fwd, Ron_MOS, Vin, Vout, export_traces)\n",
    "        I_Lout_AVG = results_sim[1][\"I_Lout_AVG\"]\n",
    "        I_Rload_AVG = results_sim[1][\"I_Rload_AVG\"]\n",
    "        \n",
    "        # Calculate the relative difference\n",
    "        diff = relative_difference(I_Lout_AVG, I_Rload_AVG)\n",
    "\n",
    "        update_display(f\"Iteration: {iteration + 1}, D={D_mid:.4g}, Relative difference={diff:.4g}\", display_id='1')\n",
    "\n",
    "        # Check if the difference is within the tolerance\n",
    "        if diff <= tolerance:\n",
    "            print(f\"Converged after {iteration + 1} iterations.\")\n",
    "            return D_mid, results_sim\n",
    "\n",
    "        # Adjust the bounds based on the simulation result\n",
    "        if I_Lout_AVG > I_Rload_AVG:\n",
    "            D_max = D_mid  # Narrow the range to the lower half\n",
    "        else:\n",
    "            D_min = D_mid  # Narrow the range to the upper half\n",
    "\n",
    "        \n",
    "        \n",
    "    # If max_iterations is reached without convergence\n",
    "    raise RuntimeError(\n",
    "        f\"Failed to converge within {max_iterations} iterations. \"\n",
    "        f\"Last D: {D_mid}, I_Lout_AVG: {I_Lout_AVG}, I_Rload_AVG: {I_Rload_AVG}\"\n",
    "    )"
   ]
  },
  {
   "cell_type": "markdown",
   "id": "b36c0093-9904-40be-a174-1f858dd75ed1",
   "metadata": {},
   "source": [
    "# Input Data"
   ]
  },
  {
   "cell_type": "code",
   "execution_count": null,
   "id": "6776b8b1-ee5b-491b-b4b3-2c3339802e9b",
   "metadata": {},
   "outputs": [],
   "source": [
    "#Input DC range\n",
    "Vin_min=360\n",
    "Vin_max=420\n",
    "Vin_nom=400\n",
    "\n",
    "#Output voltage range\n",
    "Vout_min=172 \n",
    "#Vout_nom=264.7\n",
    "Vout_max=275\n",
    "Vout_pp=50e-3 # Peak-to-peak Vout ripple at resistive load \n",
    "\n",
    "#Output power\n",
    "Pout_max=900\n",
    "\n",
    "#Output current limit\n",
    "Iout_max=3.4\n",
    "\n",
    "#Estimated efficiency\n",
    "eff=0.95\n",
    "\n",
    "#switching frequency (on the primary side, seen by switching transistor)\n",
    "#note: the output inductor is switched in 2*fsw\n",
    "fsw=100e3\n",
    "\n",
    "#maximum effective secondary duty-cycle\n",
    "#Note: Consider duty-cycle loss due to resonant inductor + transformer primary leakage inductance\n",
    "DC_eff_max=0.82\n",
    "\n",
    "#PWM IC duty cycle limit\n",
    "DC_PWM_lim=0.95\n",
    "\n",
    "#### Output Inductor ####\n",
    "dIL_pp=1.53 #inductor peak to peak ripple current (in A)\n",
    "L_out_rdc = 10e-3 #inductor rdc\n",
    "\n",
    "#### Resonant Inductor ####\n",
    "Lr_rdc = 10e-3 #inductor rdc\n",
    "\n",
    "#### Transformer ####\n",
    "#Estimation of transformer parasitic parameters\n",
    "#Primary winding capacitance\n",
    "Cp = 100e-12\n",
    "#Primary leakage inductance\n",
    "L_leak = 8e-6\n",
    "#Primary magnetizing inductance\n",
    "L_mag = 4e-3\n",
    "\n",
    "#Vsec_k=1.24\n",
    "\n",
    "#### MOSFET Parameters ####\n",
    "#Infineon IPD60R180CM8\n",
    "# VDS derating\n",
    "kM=0.85\n",
    "# WC rdson at 110degC\n",
    "M_rdson=0.315\n",
    "# Energy related Coss in F at Vin_max\n",
    "Coss_ef = 30e-12\n",
    "\n",
    "#Set MOSFET Data Folder and Eoff and Eoss file names. If empty string is provided, EOFF and EOSS energy estimation is skipped and return 0 J\n",
    "# Note. It assumes that EoFF energy data are obtained using standard double-pulse test method\n",
    "MOS_DATA_FLD = \"\"\n",
    "EOFF_file_name = \"\"\n",
    "EOSS_file_name = \"\"\n",
    "#EOFF_file_name = \"\"\n",
    "#EOSS_file_name = \"\"\n",
    "\n",
    "#### Output Diodes Parameters@75degC ####\n",
    "# MFR / MPN\n",
    "\n",
    "### Output Diode@75degC ###\n",
    "# Infineon IDH05G120C5@100degC\n",
    "#derating factor (diode stress is kD of diode VBR rating)\n",
    "kD = 0.75\n",
    "D_Vfwd=0.9 # Build-in potential (in V)\n",
    "D_rdiff=155e-3 # Differential resistance (in Ohm)\n",
    "\n",
    "\n"
   ]
  },
  {
   "cell_type": "markdown",
   "id": "e0eb53a3-30cb-4c6f-a04a-8baca979209e",
   "metadata": {},
   "source": [
    "# Transformer Requirements"
   ]
  },
  {
   "cell_type": "markdown",
   "id": "4636d230-9828-41b0-bcfd-ed3adeaf38d9",
   "metadata": {},
   "source": [
    "## Turns Ratio (Np:1)"
   ]
  },
  {
   "cell_type": "code",
   "execution_count": null,
   "id": "fcf640d7-8853-4bfc-9258-775485cd2e08",
   "metadata": {},
   "outputs": [],
   "source": [
    "Vsec_min=(Vout_max+D_Vfwd)/DC_eff_max\n",
    "N=round(Vin_min/Vsec_min,2)\n",
    "print(N)"
   ]
  },
  {
   "cell_type": "markdown",
   "id": "59f750c7-f69f-4ff6-97e4-0dbe1e0c824e",
   "metadata": {},
   "source": [
    "# Resonant Inductor"
   ]
  },
  {
   "cell_type": "markdown",
   "id": "014b928e-a392-4388-8000-7a1a0326f5f0",
   "metadata": {},
   "source": [
    "## Maximum Duty-Cycle loss (in %)"
   ]
  },
  {
   "cell_type": "code",
   "execution_count": null,
   "id": "aa8d326a-913b-4a5c-884c-255b9dd608b3",
   "metadata": {},
   "outputs": [],
   "source": [
    "DC_loss_max=DC_PWM_lim-DC_eff_max\n",
    "print(round(DC_loss_max*100,2))"
   ]
  },
  {
   "cell_type": "markdown",
   "id": "2abb76e5-8a61-4425-a531-86ea041ff0a8",
   "metadata": {},
   "source": [
    "## Estimated Maximum Inductance of Resonant Inductor (in uH)"
   ]
  },
  {
   "cell_type": "code",
   "execution_count": null,
   "id": "a4e705aa-5f53-4b60-875c-47fade19ace8",
   "metadata": {},
   "outputs": [],
   "source": [
    "Lr_max = DC_loss_max*N*Vin_min/((Pout_max/Vout_max)*4*fsw)-L_leak\n",
    "print(round(Lr_max*1e6,2))"
   ]
  },
  {
   "cell_type": "markdown",
   "id": "21d1fbec-e0db-4d7c-a184-7e261333ffd7",
   "metadata": {},
   "source": [
    "# Output Inductor Requirements\n",
    "Output inductor is calculated such as Iripple < Iripple_limit at whole Vout range. This happen when Vin is maximal"
   ]
  },
  {
   "cell_type": "markdown",
   "id": "7a46c64f-7d89-48e9-b2c9-299682ddf6ac",
   "metadata": {},
   "source": [
    "## Required Inductance (in uH)"
   ]
  },
  {
   "cell_type": "code",
   "execution_count": null,
   "id": "52558b3a-7f45-4b65-b1ee-94677d61a731",
   "metadata": {},
   "outputs": [],
   "source": [
    "Lout = get_Lout(N, fsw, D_Vfwd, dIL_pp, Vin_max, Vout_min, Vout_max)[1]\n",
    "#Lout = (Pout_max/Iout_max) / fsw / dIL_pp * (1 - (Pout_max/Iout_max) / Vin_max * N) / 2\n",
    "print(round(Lout*1e6,0))\n",
    "\n"
   ]
  },
  {
   "cell_type": "markdown",
   "id": "00c649ee",
   "metadata": {},
   "source": [
    "## Output Voltage Leading to the Worst-Case Current Ripple (in V)"
   ]
  },
  {
   "cell_type": "code",
   "execution_count": null,
   "id": "fa0abd51",
   "metadata": {},
   "outputs": [],
   "source": [
    "Vout_WC_I_ripple = get_Lout(N, fsw, D_Vfwd, dIL_pp, Vin_max, Vout_min, Vout_max)[0]\n",
    "print(round(Vout_WC_I_ripple,2))"
   ]
  },
  {
   "cell_type": "markdown",
   "id": "94e6e658",
   "metadata": {},
   "source": [
    "# Output Capacitor Requirements"
   ]
  },
  {
   "cell_type": "markdown",
   "id": "045029ce",
   "metadata": {},
   "source": [
    "## Minimum Capacitance Value (in uF)\n",
    "Note: This assumes that output capacitor ESR is 0 Ohm"
   ]
  },
  {
   "cell_type": "code",
   "execution_count": null,
   "id": "5481bcc2",
   "metadata": {},
   "outputs": [],
   "source": [
    "Cout = Vout_WC_I_ripple / Lout / fsw ** 2 / Vout_pp * (1 - Vout_WC_I_ripple / (Vin_max / N - D_Vfwd)) / 32\n",
    "print(round(Cout*1e6))"
   ]
  },
  {
   "cell_type": "markdown",
   "id": "98824add",
   "metadata": {},
   "source": [
    "## Maximum ESR limit (in mOhm)\n",
    "Note: This assumes that output capacitance is infinity"
   ]
  },
  {
   "cell_type": "code",
   "execution_count": null,
   "id": "aad541da",
   "metadata": {},
   "outputs": [],
   "source": [
    "Cout_ESR_max = Vout_pp/dIL_pp\n",
    "print(round(Cout_ESR_max*1000))"
   ]
  },
  {
   "cell_type": "markdown",
   "id": "7ac3d638",
   "metadata": {},
   "source": [
    "## Estimated Electrolytical Capacitor (in uF)\n",
    "Note: Based on assumption that relationship between the capacitance and ESR of an\n",
    "electrolytic capacitor is C ⋅ ESR = 60e-6"
   ]
  },
  {
   "cell_type": "code",
   "execution_count": null,
   "id": "7ff17fd6",
   "metadata": {},
   "outputs": [],
   "source": [
    "Cout_elyt = 60e-6/Cout_ESR_max\n",
    "print(round(Cout_elyt*1e6))"
   ]
  },
  {
   "cell_type": "code",
   "execution_count": null,
   "id": "bd0e52ce-2a56-4fa4-86f0-27fa24377d74",
   "metadata": {},
   "outputs": [],
   "source": [
    "Vin = Vin_nom\n",
    "Vout = Pout_max/Iout_max \n",
    "R_load = Vout**2/Pout_max\n",
    "TF = get_TF(Cout, Cout_ESR_max, fsw, Lout, N, R_load, Vin, Vout)\n",
    "\n",
    "\"\"\"\n",
    "print(\"Vin_max, Vout@Lout_WC_ripple\")\n",
    "#find_OP(Coss, Cout_ESR, deadtime, eff, fsw_p, Iout_max, L_leak, Lout, Lp, Lr, N, Pmax, Rdiff, REC_fwd, Ron_MOS, Vin, Vout):\n",
    "test = find_OP(Coss_ef, Cout_ESR_max, 50e-9,1,fsw, Iout_max, L_leak, Lout, L_mag, Lr_max, N, Pout_max, D_rdiff, D_Vfwd, M_rdson, Vin_max, Vout_WC_I_ripple, \"I(L1),I(L3)\")\n",
    "#Simulates at Vin_amx, Vout_WC_ripple\n",
    "\n",
    "#print(test[0])\n",
    "sim_results = test[1]\n",
    "#print(\"I_Lout_AVG:\",sim_results[1][0])\n",
    "#print(\"Rload_AVG:\",sim_results[1][1])\n",
    "#print(\"I_S2_RMS:\",sim_results[1][5])\n",
    "#print(\"I_Lout_PP:\",sim_results[1][6])\n",
    "#print(\"I_Lout_RMS:\",sim_results[1][11])\n",
    "#print(\"I_Lprim_AVG:\",sim_results[1][9])\n",
    "#print(\"I_Lprim_RMS:\",sim_results[1][10])\n",
    "#print(\"I_Lprim_pp:\",sim_results[1][17])\n",
    "#print(\"I_Lsec1_AVG:\",sim_results[1][12])\n",
    "#print(\"I_Lsec1_RMS:\",sim_results[1][13])\n",
    "#print(\"I_Lsec2_AVG:\",sim_results[1][14])\n",
    "#print(\"I_Lsec2_RMS:\",sim_results[1][15])\n",
    "#print(\"Lres_ZVS_Ipeak:\",sim_results[1][16])\n",
    "#print(\"Pout:\",sim_results[1][2])\n",
    "I_Lsec2_RMS = sim_results[1][\"I_Lsec2_RMS\"]\n",
    "I_Lsec2_AVG = sim_results[1][\"I_Lsec2_AVG\"]\n",
    "I_Lprim_RMS = sim_results[1][\"I_Lprim_RMS\"]\n",
    "I_Lprim_pp = sim_results[1][\"I_Lprim_pp\"]\n",
    "I_Lout_RMS = sim_results[1][\"I_Lout_RMS\"]\n",
    "I_S2_RMS = sim_results[1][\"I_S2_RMS\"]\n",
    "I_S1_RMS = sim_results[1][\"I_S1_RMS\"]\n",
    "I_Lres_ZVS_Vin_max_Lout_WC_ripple = sim_results[1][\"L_res_point\"]\n",
    "\n",
    "wfrm = sim_results[0]\n",
    "\n",
    "print(\"Vin_min, Vout_nom\")\n",
    "test = find_OP(Coss_ef, Cout_ESR_max, 50e-9,1,fsw,Iout_max, L_leak,Lout, L_mag,Lr_max,N,Pout_max,D_rdiff, D_Vfwd, M_rdson,Vin_min, Pout_max/Iout_max)\n",
    "\n",
    "#print(test[0])\n",
    "sim_results = test[1]\n",
    "#print(\"I_Lout_AVG:\",sim_results[1][0])\n",
    "#print(\"Rload_AVG:\",sim_results[1][1])\n",
    "#print(\"I_S2_RMS:\",sim_results[1][5])\n",
    "#print(\"I_Lout_PP:\",sim_results[1][6])\n",
    "#print(\"I_Lout_RMS:\",sim_results[1][11])\n",
    "#print(\"I_Lprim_AVG:\",sim_results[1][9])\n",
    "#print(\"I_Lprim_RMS:\",sim_results[1][10])\n",
    "#print(\"I_Lprim_pp:\",sim_results[1][17])\n",
    "#print(\"I_Lsec1_AVG:\",sim_results[1][12])\n",
    "#print(\"I_Lsec1_RMS:\",sim_results[1][13])\n",
    "#print(\"I_Lsec2_AVG:\",sim_results[1][14])\n",
    "#print(\"I_Lsec2_RMS:\",sim_results[1][15])\n",
    "#print(\"Lres_ZVS_Ipeak:\",sim_results[1][16])\n",
    "#print(\"Pout:\",sim_results[1][2])\n",
    "I_sense_RMS = sim_results[1][\"I_sense_RMS\"]\n",
    "I_Lres_ZVS_Vin_min_Vout_nom = sim_results[1][\"L_res_point\"]\n",
    "\n",
    "#print(\"Vin_max, Vout_nom\")\n",
    "#test = find_OP(Coss_ef, Cout_ESR_max, 50e-9,1,fsw,Iout_max, L_leak,Lout, L_mag,Lr_max,N,Pout_max,D_rdiff, D_Vfwd, M_rdson,Vin_max,Pout_max/Iout_max)\n",
    "\n",
    "#print(\"Vin_max, Vout_max\")\n",
    "#test = find_OP(Coss_ef, Cout_ESR_max, 50e-9,1,fsw,Iout_max, L_leak,Lout, L_mag,Lr_max,N,Pout_max,D_rdiff, D_Vfwd, M_rdson,Vin_max,Vout_max)\n",
    "\n",
    "#print(\"Vin_min, Vout_WC_ripple\")\n",
    "#test = find_OP(Coss_ef, Cout_ESR_max, 50e-9,1,fsw,Iout_max, L_leak,Lout, L_mag,Lr_max,N,Pout_max,D_rdiff, D_Vfwd, M_rdson,Vin_min,Vout_WC_I_ripple)\n",
    "\n",
    "#print(\"Vin_min, Vout_max\")\n",
    "#test = find_OP(Coss_ef, Cout_ESR_max, 50e-9,1,fsw,Iout_max, L_leak,Lout, L_mag,Lr_max,N,Pout_max,D_rdiff, D_Vfwd, M_rdson,Vin_min,Vout_max)\n",
    "\n",
    "\"\"\""
   ]
  },
  {
   "cell_type": "markdown",
   "id": "6459dd09",
   "metadata": {},
   "source": [
    "# Stress Analysis (Worst-Case Calculation)"
   ]
  },
  {
   "cell_type": "markdown",
   "id": "b5da580f",
   "metadata": {},
   "source": [
    "## Secondary Switch VBR Requirement > (in V)\n",
    "Note: Derating factor is included"
   ]
  },
  {
   "cell_type": "code",
   "execution_count": null,
   "id": "a0e8e772",
   "metadata": {},
   "outputs": [],
   "source": [
    "VBR_sec = ((2*Vin_max)/N)/kD\n",
    "print(round(VBR_sec,0))"
   ]
  },
  {
   "cell_type": "markdown",
   "id": "110e5a88",
   "metadata": {},
   "source": [
    "## Secondary Winding RMS Current (in A)\n",
    "Note: The same current flow through secondary switch"
   ]
  },
  {
   "cell_type": "code",
   "execution_count": null,
   "id": "088e3383",
   "metadata": {},
   "outputs": [],
   "source": [
    "print(I_Lsec2_RMS)"
   ]
  },
  {
   "cell_type": "markdown",
   "id": "f19ccfa3",
   "metadata": {},
   "source": [
    "## Secondary Winding AVG Current (in A)\n",
    "Note: The same current flow through secondary switch"
   ]
  },
  {
   "cell_type": "code",
   "execution_count": null,
   "id": "68b2319a",
   "metadata": {},
   "outputs": [],
   "source": [
    "print(I_Lsec2_AVG)"
   ]
  },
  {
   "cell_type": "markdown",
   "id": "bb30dd85",
   "metadata": {},
   "source": [
    "## Secondary Winding Current (FFT Spectrum)"
   ]
  },
  {
   "cell_type": "code",
   "execution_count": null,
   "id": "a839c6c2",
   "metadata": {},
   "outputs": [],
   "source": [
    "time_uneven = wfrm[\"time\"]  \n",
    "waveform = wfrm[\"i(l3)\"] \n",
    "\n",
    "# Resample data for FFT\n",
    "time_resampled, waveform_resampled, sampling_rate = resample(wfrm[\"time\"], wfrm[\"i(l3)\"], fsw)\n",
    "\n",
    "# Perform FFT\n",
    "fft_values = rfft(waveform_resampled)\n",
    "num_samples = len(time_resampled)\n",
    "freq = rfftfreq(num_samples, d=1/sampling_rate)\n",
    "norm_amplitude = np.abs(fft_values)/num_samples\n",
    "norm_amplitude[1:] *= 2 # DC component is not mirrored\n",
    "\n",
    "# Find index of the fundamental frequency\n",
    "fundamental_idx = np.argmin(np.abs(freq - fsw))\n",
    "\n",
    "# Extract the first 10 harmonics\n",
    "harmonic_indices = [0] + [fundamental_idx * n for n in range(1, 11)]\n",
    "harmonic_frequencies = freq[harmonic_indices]/1000\n",
    "harmonic_magnitudes_rms = np.concatenate(([norm_amplitude[0]], norm_amplitude[harmonic_indices[1:11]] / np.sqrt(2)))\n",
    "\n",
    "# Create a DataFrame for the results\n",
    "harmonics_table = pd.DataFrame({\n",
    "    \"Harmonic\": [\"DC Component\"] + [f\"{n} (Harmonic)\" for n in range(1, 11)],\n",
    "    \"Frequency (kHz)\": harmonic_frequencies,\n",
    "    \"Magnitude\": harmonic_magnitudes_rms\n",
    "})\n",
    "\n",
    "harmonics_table[\"Unit\"] = [\"AVG\"]+ [\"RMS\"] * 10\n",
    "\n",
    "fig, ax = plt.subplots(1, 2, figsize=(15, 4))\n",
    "\n",
    "# Plot the spectrum\n",
    "ax[0].stem(freq / 1000, norm_amplitude, basefmt=\" \", label=\"FFT Spectrum\")\n",
    "#axes[0].scatter(harmonic_frequencies, harmonic_magnitudes_rms, color=\"red\", label=\"Harmonics\")\n",
    "ax[0].set_title(\"FFT Spectrum (Secondary Winding Current) \")\n",
    "ax[0].set_xlabel(\"Frequency (kHz)\")\n",
    "ax[0].set_ylabel(\"Magnitude\")\n",
    "ax[0].set_xlim(0, np.max(harmonic_frequencies) + 0.1)  # Limit x-axis to harmonics range\n",
    "ax[0].grid()\n",
    "\n",
    "# Create a second plot (for example, a simple sine wave) on the second axis (ax[1])\n",
    "ax[1].plot(time_uneven, waveform)\n",
    "ax[1].set_title(\"Secondary Winding Current\")\n",
    "ax[1].set_xlabel(\"Time (s)\")\n",
    "ax[1].set_ylabel(\"Amplitude\")\n",
    "ax[1].grid()\n",
    "\n",
    "# Adjust layout\n",
    "plt.tight_layout()\n",
    "plt.show()\n",
    "\n",
    "# Display the table in Jupyter Notebook\n",
    "display(harmonics_table.style.format({\"Frequency (kHz)\": \"{:.3f}\", \"Magnitude\": \"{:.4f}\"}))"
   ]
  },
  {
   "cell_type": "markdown",
   "id": "59d171b3",
   "metadata": {},
   "source": [
    "## Primary Winding RMS Current (in A)\n",
    "Note. The same current flows through resonant inductor"
   ]
  },
  {
   "cell_type": "code",
   "execution_count": null,
   "id": "7a2256ad",
   "metadata": {},
   "outputs": [],
   "source": [
    "print(I_Lprim_RMS)"
   ]
  },
  {
   "cell_type": "markdown",
   "id": "0e74ebfc",
   "metadata": {},
   "source": [
    "## Primary Winding Current (FFT Spectrum)"
   ]
  },
  {
   "cell_type": "code",
   "execution_count": null,
   "id": "156ed8f5",
   "metadata": {},
   "outputs": [],
   "source": [
    "time_uneven = wfrm[\"time\"]  \n",
    "waveform = wfrm[\"i(l1)\"] \n",
    "\n",
    "# Resample data for FFT\n",
    "time_resampled, waveform_resampled, sampling_rate = resample(wfrm[\"time\"], wfrm[\"i(l1)\"], fsw)\n",
    "\n",
    "# Perform FFT\n",
    "fft_values = rfft(waveform_resampled)\n",
    "num_samples = len(time_resampled)\n",
    "freq = rfftfreq(num_samples, d=1/sampling_rate)\n",
    "norm_amplitude = np.abs(fft_values)/num_samples\n",
    "norm_amplitude[1:] *= 2 # DC component is not mirrored\n",
    "\n",
    "# Find index of the fundamental frequency\n",
    "fundamental_idx = np.argmin(np.abs(freq - fsw))\n",
    "\n",
    "# Extract the first 10 harmonics\n",
    "harmonic_indices = [0] + [fundamental_idx * n for n in range(1, 11)]\n",
    "harmonic_frequencies = freq[harmonic_indices]/1000\n",
    "harmonic_magnitudes_rms = np.concatenate(([norm_amplitude[0]], norm_amplitude[harmonic_indices[1:11]] / np.sqrt(2)))\n",
    "\n",
    "# Create a DataFrame for the results\n",
    "harmonics_table = pd.DataFrame({\n",
    "    \"Harmonic\": [\"DC Component\"] + [f\"{n} (Harmonic)\" for n in range(1, 11)],\n",
    "    \"Frequency (kHz)\": harmonic_frequencies,\n",
    "    \"Magnitude\": harmonic_magnitudes_rms\n",
    "})\n",
    "\n",
    "harmonics_table[\"Unit\"] = [\"AVG\"]+ [\"RMS\"] * 10\n",
    "\n",
    "fig, ax = plt.subplots(1, 2, figsize=(15, 4))\n",
    "\n",
    "# Plot the spectrum\n",
    "ax[0].stem(freq / 1000, norm_amplitude, basefmt=\" \", label=\"FFT Spectrum\")\n",
    "#axes[0].scatter(harmonic_frequencies, harmonic_magnitudes_rms, color=\"red\", label=\"Harmonics\")\n",
    "ax[0].set_title(\"FFT Spectrum (Primary Winding Current) \")\n",
    "ax[0].set_xlabel(\"Frequency (kHz)\")\n",
    "ax[0].set_ylabel(\"Magnitude\")\n",
    "ax[0].set_xlim(0, np.max(harmonic_frequencies) + 0.1)  # Limit x-axis to harmonics range\n",
    "ax[0].grid()\n",
    "\n",
    "# Create a second plot (for example, a simple sine wave) on the second axis (ax[1])\n",
    "ax[1].plot(time_uneven, waveform)\n",
    "ax[1].set_title(\"Primary Winding Current\")\n",
    "ax[1].set_xlabel(\"Time (s)\")\n",
    "ax[1].set_ylabel(\"Amplitude\")\n",
    "ax[1].grid()\n",
    "\n",
    "# Adjust layout\n",
    "plt.tight_layout()\n",
    "plt.show()\n",
    "\n",
    "# Display the table in Jupyter Notebook\n",
    "display(harmonics_table.style.format({\"Frequency (kHz)\": \"{:.3f}\", \"Magnitude\": \"{:.4f}\"}))"
   ]
  },
  {
   "cell_type": "markdown",
   "id": "a952d085",
   "metadata": {},
   "source": [
    "## Primary Winding Peak-Peak Current (in A)\n",
    "Note: The same current flows through resonant inductor. Primary winding AVG current is 0"
   ]
  },
  {
   "cell_type": "code",
   "execution_count": null,
   "id": "df55877c",
   "metadata": {},
   "outputs": [],
   "source": [
    "print(I_Lprim_pp)"
   ]
  },
  {
   "cell_type": "markdown",
   "id": "82299e32",
   "metadata": {},
   "source": [
    "## MOSFET RMS Current (Leading Leg) / per MOSFET (in A)"
   ]
  },
  {
   "cell_type": "code",
   "execution_count": null,
   "id": "8eff02d7",
   "metadata": {},
   "outputs": [],
   "source": [
    "print(round(I_S1_RMS,2))"
   ]
  },
  {
   "cell_type": "markdown",
   "id": "4d556d38",
   "metadata": {},
   "source": [
    "## MOSFET RMS Current (Lagging Leg) / per MOSFET (in A)"
   ]
  },
  {
   "cell_type": "code",
   "execution_count": null,
   "id": "c83b8fbf",
   "metadata": {},
   "outputs": [],
   "source": [
    "print(round(I_S2_RMS,2))"
   ]
  },
  {
   "cell_type": "markdown",
   "id": "c8e1e262-f2f1-48e0-928a-9a1878e0830e",
   "metadata": {},
   "source": [
    "# ZVS Range"
   ]
  },
  {
   "cell_type": "markdown",
   "id": "822b430c-0b55-4a53-bdc6-0d4f1d39cf4d",
   "metadata": {},
   "source": [
    "## Required energy to achieve ZVS (in uJ)"
   ]
  },
  {
   "cell_type": "code",
   "execution_count": null,
   "id": "ea96f20c-f787-421a-89bb-47d43f9ee067",
   "metadata": {},
   "outputs": [],
   "source": [
    "E_TR = 0.5* Cp*Vin_max*Vin_max\n",
    "E_Coss = (0.5*Coss_ef*Vin_max*Vin_max)*2\n",
    "E_ZVS=E_TR+E_Coss\n",
    "print(round(E_ZVS*1e6,2))"
   ]
  },
  {
   "cell_type": "markdown",
   "id": "e31b1981",
   "metadata": {},
   "source": [
    "## Achieved Energy for ZVS Under Various Operating Conditions"
   ]
  },
  {
   "cell_type": "code",
   "execution_count": null,
   "id": "cc576e21",
   "metadata": {},
   "outputs": [],
   "source": [
    "print(\"Estimated energy@Vin_max/Vout@Lout_WC_ripple:\",round((0.5*(Lr_max + L_leak)*I_Lres_ZVS_Vin_max_Lout_WC_ripple**2)*1e6,2))\n",
    "print(I_Lres_ZVS_Vin_max_Lout_WC_ripple)\n",
    "print(\"\\n\")\n",
    "\n",
    "\n",
    "print(\"Estimated energy@Vin_min/Vout_nom:\",round((0.5*(Lr_max + L_leak)*I_Lres_ZVS_Vin_min_Vout_nom**2)*1e6,2))\n",
    "print(I_Lres_ZVS_Vin_min_Vout_nom)\n",
    "print(\"\\n\")\n",
    "\n",
    "ZVS_operating_range = False\n",
    "if (ZVS_operating_range):\n",
    "    percentages = [0.25, 0.50, 0.75]\n",
    "    results_Vout_nom = []  # List to store the results\n",
    "    results_Vout_min = []  # List to store the results\n",
    "    results_Vout_max = []  # List to store the results\n",
    "    Vout_nom = Pout_max/Iout_max\n",
    "\n",
    "    for Pout_perc in percentages:\n",
    "        #find_OP(Coss, Cout_ESR, deadtime, eff, fsw_p, Iout_max, L_leak, Lout, Lp, Lr, N, Pmax, Rdiff, REC_fwd, Ron_MOS, Vin, Vout):\n",
    "        sim_results = find_OP(Coss_ef, Cout_ESR_max, 50e-9,1,fsw, Iout_max, L_leak, Lout, L_mag, Lr_max, N, Pout_max * Pout_perc, D_rdiff, D_Vfwd, M_rdson, Vin_nom, Vout_min)\n",
    "        result = sim_results[1]\n",
    "        results_Vout_min.append(result[1][\"L_res_point\"])\n",
    "\n",
    "    for Pout_perc in percentages:\n",
    "        #find_OP(Coss, Cout_ESR, deadtime, eff, fsw_p, Iout_max, L_leak, Lout, Lp, Lr, N, Pmax, Rdiff, REC_fwd, Ron_MOS, Vin, Vout):\n",
    "        sim_results = find_OP(Coss_ef, Cout_ESR_max, 50e-9,1,fsw, Iout_max, L_leak, Lout, L_mag, Lr_max, N, Pout_max * Pout_perc, D_rdiff, D_Vfwd, M_rdson, Vin_nom, Vout_nom)\n",
    "        result = sim_results[1]\n",
    "        results_Vout_nom.append(result[1][\"L_res_point\"])\n",
    "\n",
    "    for Pout_perc in percentages:\n",
    "        #find_OP(Coss, Cout_ESR, deadtime, eff, fsw_p, Iout_max, L_leak, Lout, Lp, Lr, N, Pmax, Rdiff, REC_fwd, Ron_MOS, Vin, Vout):\n",
    "        sim_results = find_OP(Coss_ef, Cout_ESR_max, 50e-9,1,fsw, Iout_max, L_leak, Lout, L_mag, Lr_max, N, Pout_max * Pout_perc, D_rdiff, D_Vfwd, M_rdson, Vin_nom, Vout_max)\n",
    "        result = sim_results[1]\n",
    "        results_Vout_max.append(result[1][\"L_res_point\"])    \n",
    "\n"
   ]
  },
  {
   "cell_type": "code",
   "execution_count": null,
   "id": "399a1773",
   "metadata": {},
   "outputs": [],
   "source": [
    "energy_results = [(round((0.5*(Lr_max + L_leak)*value**2)*1e6,2)) for value in results]\n",
    "print(energy_results)"
   ]
  },
  {
   "cell_type": "markdown",
   "id": "088580d1",
   "metadata": {},
   "source": [
    "# Losses Estimation"
   ]
  },
  {
   "cell_type": "markdown",
   "id": "df73ae39",
   "metadata": {},
   "source": [
    "## Output Diode / per diode (in W)\n",
    "Note: Center tap uses 2 diodes"
   ]
  },
  {
   "cell_type": "code",
   "execution_count": null,
   "id": "4acdd000",
   "metadata": {},
   "outputs": [],
   "source": [
    "P_diode1_cond=I_Lsec2_AVG*D_Vfwd + D_rdiff * I_Lsec2_RMS**2 \n",
    "round(P_diode1_cond,2)"
   ]
  },
  {
   "cell_type": "markdown",
   "id": "e11c29bc",
   "metadata": {},
   "source": [
    "## MOSFET"
   ]
  },
  {
   "cell_type": "markdown",
   "id": "e8b8f833",
   "metadata": {},
   "source": [
    "### Conduction Losses / per switch (Leading leg) (in W)"
   ]
  },
  {
   "cell_type": "code",
   "execution_count": null,
   "id": "e4a9dcf7",
   "metadata": {},
   "outputs": [],
   "source": [
    "P_FET1_Cond = M_rdson * I_S1_RMS**2\n",
    "round(P_FET1_Cond,2)"
   ]
  },
  {
   "cell_type": "markdown",
   "id": "d113f4a1",
   "metadata": {},
   "source": [
    "### Switching Losses / per switch (Leading leg) (in W)"
   ]
  },
  {
   "cell_type": "code",
   "execution_count": null,
   "id": "906a38c3",
   "metadata": {},
   "outputs": [],
   "source": [
    "P_FET1_SW = 0"
   ]
  },
  {
   "cell_type": "markdown",
   "id": "145cfaa7",
   "metadata": {},
   "source": [
    "### Conduction Losses / per switch (Lagging leg) (in W)"
   ]
  },
  {
   "cell_type": "code",
   "execution_count": null,
   "id": "78422e82",
   "metadata": {},
   "outputs": [],
   "source": [
    "P_FET2_Cond = M_rdson * I_S2_RMS**2\n",
    "round(P_FET2_Cond,2)"
   ]
  },
  {
   "cell_type": "markdown",
   "id": "c0bff0d2",
   "metadata": {},
   "source": [
    "### Switching Losses / per switch (Lagging leg) (in W)"
   ]
  },
  {
   "cell_type": "code",
   "execution_count": null,
   "id": "14d74741",
   "metadata": {},
   "outputs": [],
   "source": [
    "P_FET2_SW = 0"
   ]
  },
  {
   "cell_type": "markdown",
   "id": "9592df3b",
   "metadata": {},
   "source": [
    "# Estimated Total Converter Losses Without Magnetic Losses"
   ]
  },
  {
   "cell_type": "code",
   "execution_count": null,
   "id": "0f2513c7",
   "metadata": {},
   "outputs": [],
   "source": [
    "labels_Ploss= 'Primary_FETs', 'Output_Diodes'\n",
    "data_Ploss = [P_FET1_Cond*2+P_FET2_Cond*2+P_FET1_SW*2+P_FET2_SW*2, P_diode1_cond*2]\n",
    "\n",
    "labels_Ploss_Bar= 'FET_Cond / per device', 'P_SW', 'D_Cond'\n",
    "data_Ploss_Bar = [P_FET1_Cond, P_FET1_SW, P_diode1_cond]\n",
    "\n",
    "#bar_labels = ['red', 'blue', '_red', 'orange','green']\n",
    "bar_colors = ['tab:blue', 'tab:blue', 'tab:orange', 'tab:orange', 'tab:green', 'tab:green','tab:red', 'tab:red']\n",
    "\n",
    "def autopct_format(values):\n",
    "        def my_format(pct):\n",
    "            total = sum(values)\n",
    "            val = round(pct*total/100,3)\n",
    "            return '{:.1f}%\\n({v:.2f} W)'.format(pct, v=val)\n",
    "        return my_format\n",
    "\n",
    "def addlabels(x,y):\n",
    "    for i in range(len(x)):\n",
    "        ax2.text(i, y[i]+0.05, round(y[i],2), ha = 'center')\n",
    "        \n",
    "fig, (ax1, ax2) = plt.subplots(1, 2, figsize=(14,6))\n",
    "#fig, (ax1, ax2) = plt.subplots(1, 2)\n",
    "#fig, ax1 = plt.subplots()\n",
    "\n",
    "if MOS_DATA_FLD != \"\":\n",
    "    fig.suptitle('Power Losses Breakdown (w/o Losses in Magnetics)'+'\\n'+'(WC Condition)',fontsize=18)\n",
    "else:\n",
    "    fig.suptitle('Power Losses Breakdown (w/o MOSFET SW Losses and Losses in Magnetics)'+'\\n'+'(WC Condition)',fontsize=18)\n",
    "ax1.pie(data_Ploss, labels=labels_Ploss, autopct=autopct_format(data_Ploss))\n",
    "\n",
    "ax2.bar(labels_Ploss_Bar, data_Ploss_Bar,color=bar_colors)\n",
    "ax2.grid(True, linestyle='-.',axis='y')\n",
    "ax2.yaxis.set_minor_locator(AutoMinorLocator(5))\n",
    "ax2.set_ylabel('Power (W)')\n",
    "addlabels(labels_Ploss_Bar,data_Ploss_Bar)\n",
    "\n",
    "fig.subplots_adjust(left = 0, top=0.86, wspace = 0.3)\n",
    "#fig.subplots_adjust(left=0.05, right=0.95, wspace=0.2)\n",
    "\n",
    "plt.show()\n",
    "if MOS_DATA_FLD == \"\":\n",
    "    display(Markdown('<font size=\"6\"> <span style=\"color:red\"> Warning: Primary MOSFET switching losses are available only when DPT energy data are provided.</span></font>'))"
   ]
  },
  {
   "cell_type": "code",
   "execution_count": null,
   "id": "8e933b96",
   "metadata": {},
   "outputs": [],
   "source": [
    "import numpy as np\n",
    "import pandas as pd\n",
    "import scipy.signal as signal\n",
    "import matplotlib.pyplot as plt\n",
    "\n",
    "%matplotlib ipympl\n",
    "\n",
    "# Load data (assuming CSV with 'Frequency' and 'Gain' columns)\n",
    "def load_data(data_file):\n",
    "    return pd.read_csv(data_file)\n",
    "\n",
    "# Compute numerical derivative (slope)\n",
    "def compute_slope(frequency, gain):\n",
    "    log_freq = np.log10(frequency)\n",
    "    return np.gradient(gain, log_freq)\n",
    "\n",
    "# Find frequency range with -20 dB/decade slope\n",
    "def find_slope_range(frequency, slopes, target_slope=-20, tolerance=2):\n",
    "    valid_indices = np.where((slopes >= target_slope - tolerance) & (slopes <= target_slope + tolerance))[0]\n",
    "    if valid_indices.size > 0:\n",
    "        start_idx = valid_indices[0]\n",
    "        end_idx = start_idx\n",
    "        \n",
    "        for idx in valid_indices[1:]:\n",
    "            if idx == end_idx + 1:\n",
    "                end_idx = idx\n",
    "    \n",
    "        return frequency[start_idx], frequency[end_idx]\n",
    "    return None\n",
    "\n",
    "# Plot results\n",
    "def plot_results(frequency, gain, slopes):\n",
    "    plt.figure(figsize=(10, 5))\n",
    "    plt.subplot(2, 1, 1)\n",
    "    plt.semilogx(frequency, gain, label='Gain (dB)')\n",
    "    plt.xlabel('Frequency (Hz)')\n",
    "    plt.ylabel('Gain (dB)')\n",
    "    plt.legend()\n",
    "    \n",
    "    plt.subplot(2, 1, 2)\n",
    "    plt.semilogx(frequency, slopes, label='Slope (dB/decade)', color='r')\n",
    "    plt.axhline(-20, color='k', linestyle='--', label='-20 dB/dec')\n",
    "    plt.xlabel('Frequency (Hz)')\n",
    "    plt.ylabel('Slope (dB/decade)')\n",
    "    plt.legend()\n",
    "    \n",
    "    plt.tight_layout()\n",
    "    plt.show()\n",
    "\n",
    "# Main execution cell\n",
    "data_file = 'Vout_vs_Vc_AC-Gain2.csv'  # Replace with actual file path\n",
    "df = load_data(data_file)\n",
    "frequency = df['Frequency'].values\n",
    "gain = df['Gain'].values\n",
    "\n",
    "slopes = compute_slope(frequency, gain)\n",
    "freq_range = find_slope_range(frequency, slopes)\n",
    "\n",
    "if freq_range:\n",
    "    print(f\"Frequency range with -20 dB/decade slope: {freq_range[0]} Hz to {freq_range[1]} Hz\")\n",
    "else:\n",
    "    print(\"No clear -20 dB/decade region found.\")\n",
    "\n",
    "plot_results(frequency, gain, slopes)\n"
   ]
  }
 ],
 "metadata": {
  "kernelspec": {
   "display_name": "Python 3",
   "language": "python",
   "name": "python3"
  },
  "language_info": {
   "codemirror_mode": {
    "name": "ipython",
    "version": 3
   },
   "file_extension": ".py",
   "mimetype": "text/x-python",
   "name": "python",
   "nbconvert_exporter": "python",
   "pygments_lexer": "ipython3",
   "version": "3.11.6"
  }
 },
 "nbformat": 4,
 "nbformat_minor": 5
}
