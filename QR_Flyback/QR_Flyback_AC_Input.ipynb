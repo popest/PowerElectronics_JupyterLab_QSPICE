{
 "cells": [
  {
   "cell_type": "markdown",
   "id": "280981ac",
   "metadata": {},
   "source": [
    "# QSPICE Python Files Initialization"
   ]
  },
  {
   "cell_type": "code",
   "execution_count": 4,
   "id": "6e7ae3d6",
   "metadata": {},
   "outputs": [],
   "source": [
    "from QSPICE import QSPICE_parser\n",
    "import importlib\n",
    "\n",
    "# reload QSPICE/Python parser without kernel restart\n",
    "importlib.reload(QSPICE_parser)\n",
    "\n",
    "#Create PyQSPICE file for input rectifier\n",
    "QSPICE_parser.parse_and_generate_script('Full_Wave_REC_P_load.qsch','QSPICE_Full_Wave_REC_P_load.py')"
   ]
  },
  {
   "cell_type": "markdown",
   "id": "60b52e92",
   "metadata": {},
   "source": [
    "# Python Initialization"
   ]
  },
  {
   "cell_type": "code",
   "execution_count": 73,
   "id": "c269efad-2a83-40ac-b80a-d9c2e6f30744",
   "metadata": {
    "editable": true,
    "slideshow": {
     "slide_type": ""
    },
    "tags": []
   },
   "outputs": [],
   "source": [
    "%matplotlib inline\n",
    "\n",
    "import math\n",
    "import importlib\n",
    "import pandas as pd\n",
    "import numpy as np\n",
    "\n",
    "#load all QSPICE autogenerating scripts here\n",
    "from QSPICE import QSPICE_Full_Wave_REC_P_load as QSPICE\n",
    "\n",
    "from IPython.display import display, Markdown, Latex\n",
    "from matplotlib import pyplot as plt\n",
    "from matplotlib.ticker import (MultipleLocator, AutoMinorLocator)\n",
    "from scipy.interpolate import RegularGridInterpolator\n",
    "from scipy.interpolate import interp1d\n",
    "\n",
    "# Reload QSPICE autogenerating circuit script without kernel restart\n",
    "importlib.reload(QSPICE)\n",
    "\n",
    "# one-dimensional interpolation\n",
    "def EOSS_Interp(path,file_name,VDS):\n",
    "    EOSS=0\n",
    "    if VDS>=0 and file_name != '':\n",
    "        df = pd.read_csv(path+file_name, header=None)\n",
    "        \n",
    "        X=df.loc[:,0].to_numpy()\n",
    "        Y=df.loc[:,1].to_numpy()\n",
    "\n",
    "        y_interp=interp1d(X, Y)\n",
    "        EOSS=y_interp(VDS)\n",
    "        \n",
    "    else:\n",
    "        EOSS=0\n",
    "        \n",
    "\n",
    "    return EOSS\n",
    "\n",
    "# two dimensional interpolation\n",
    "def EOFF_Interp(path,file_name,VDS,ID):\n",
    "    EOFF=0\n",
    "    if (VDS and ID >= 0) and (file_name != ''):\n",
    "        df = pd.read_csv(path+file_name, header=None)\n",
    "\n",
    "        Y=df.iloc[1:len(df.index),0].to_numpy()\n",
    "\n",
    "        X=df.iloc[0,1:].to_numpy()\n",
    "\n",
    "        data=df.iloc[1:,1:].to_numpy()\n",
    "   \n",
    "        interp = RegularGridInterpolator((Y,X),data)\n",
    "        EOFF=interp((ID,VDS))\n",
    "       \n",
    "    else:\n",
    "        EOFF=0\n",
    "    \n",
    "    \n",
    "    return EOFF\n",
    "    \n",
    "#Estimate input capacitor value based on required input ripple voltage\n",
    "def Cin_estimation(Pin, freq, Vin_ripple_pp, VAC_min):\n",
    "    return (Pin * 1/freq * (math.pi - 2 * math.asin((math.sqrt(2) * Vin_ripple_pp - 2 * VAC_min) / VAC_min / 2)) / math.pi / Vin_ripple_pp \n",
    "            / (2 * VAC_min * math.sqrt(2) - Vin_ripple_pp) / 2)\n",
    "    \n",
    "#Return estimated switching frequency\n",
    "def fsw_estimation(V_DC, Vr, Pin, Lp, Coss):   \n",
    "    return (-(math.sqrt(2) / math.pi * Coss ** (-0.1e1 / 0.2e1) / Vr * (-math.sqrt(2) * math.sqrt(Lp) * Pin * V_DC - math.sqrt(2) * \n",
    "            math.sqrt(Lp) * Pin * Vr + math.sqrt(2 * Lp * Pin ** 2 * V_DC ** 2 + 4 * Lp * Pin ** 2 * V_DC * Vr + 2 * Lp * Pin ** 2 \n",
    "            * Vr ** 2 + 4 * math.pi * math.sqrt(Coss) * Vr ** 2 * V_DC ** 2 * math.sqrt(Lp) * Pin)) / 2 + math.sqrt(2)/ math.pi * \n",
    "            Coss ** (-0.1e1 / 0.2e1) / V_DC * (-math.sqrt(2) * math.sqrt(Lp) * Pin * V_DC - math.sqrt(2) * math.sqrt(Lp) * Pin * Vr \n",
    "            + math.sqrt(2 * Lp * Pin **2 * V_DC ** 2 + 4 * Lp * Pin ** 2 * V_DC * Vr + 2 * Lp * Pin ** 2 * Vr ** 2 + 4 * math.pi * \n",
    "            math.sqrt(Coss) * Vr ** 2 * V_DC ** 2 * math.sqrt(Lp) * Pin)) / 2 - Vr * V_DC) / math.pi * Coss ** (-0.1e1 / 0.2e1) / Vr\n",
    "            / V_DC * Lp ** (-0.1e1 / 0.2e1))\n",
    "\n",
    "#Return primary peak current\n",
    "def Ip_peak(Pin, fsw, Lp):\n",
    "    return math.sqrt(2*Pin/(Lp*fsw))\n",
    "    \n",
    "#Return primary RMS current\n",
    "def Ip_RMS(Ip_pk,D):\n",
    "    return Ip_pk*math.sqrt(D/3)\n",
    "\n",
    "#Return estimated duty cycle\n",
    "def D_estimation(VDC,Pin, fsw, Lp):\n",
    "    return 1/VDC*math.sqrt(2*Pin*Lp*fsw)\n",
    "    "
   ]
  },
  {
   "cell_type": "markdown",
   "id": "1a2c2f85-c7f1-4a32-bade-b5db6b5b3d23",
   "metadata": {
    "editable": true,
    "slideshow": {
     "slide_type": ""
    },
    "tags": []
   },
   "source": [
    "# Input Data"
   ]
  },
  {
   "cell_type": "code",
   "execution_count": 74,
   "id": "da8beb37-a093-4e12-86f1-c3f362d9b35b",
   "metadata": {},
   "outputs": [],
   "source": [
    "#Input AC values in RMS\n",
    "VAC_min = 198\n",
    "VAC_max = 288\n",
    "VAC_nom = 230\n",
    "\n",
    "AC_freq = 50\n",
    "\n",
    "#Change this value such as calculated input capacitance is in agreement with rule of thumb (see section \"Input Capacitor Value Recommendation (in uF)\")\n",
    "VDC_ripple_pp = 35\n",
    "#Input capacitor ESR\n",
    "Cin_ESR = 150e-3\n",
    "\n",
    "# Nominal Output Voltage\n",
    "Vout = 24\n",
    "# For variable output voltage, specify Vout_max. Otherwise set Vout_max=Vout\n",
    "Vout_max = 30\n",
    "Pout = 115\n",
    "\n",
    "#Estimated efficiency of DC/DC flyback converter (without losses in input REC/EMI section)\n",
    "eff = 0.89\n",
    "#Maximum output peak-peak voltage ripple at full load\n",
    "Vout_pp = 0.1\n",
    "#Output Capacitor ESR\n",
    "ESR_Cout = 20e-3\n",
    "\n",
    "# selected reflected voltage (higher value, reduce EOSS losses but increases losses in primary clamp circuit)\n",
    "# Check factor kc in section \"Clamped Voltage vs. Reflected Voltage Ratio (-)\" and Primary clamp losses\n",
    "Vr = 135\n",
    "# Minimum switching frequency\n",
    "fsw_min = 85e3\n",
    "\n",
    "### Input REC Bridge Diode ####\n",
    "V_rec_fwd = 1.2\n",
    "r_rec_diff = 30e-3\n",
    "\n",
    "### Input EMI Filter ###\n",
    "#Additional total resistance formed by EMI components\n",
    "#NTC@130degC+CM_Choke1+CM_Choke2+PFC_Choke\n",
    "R_EMI = 1.27+160e-3+612e-3+0.3\n",
    "\n",
    "### Primary Switch ####\n",
    "#ONSemi NTPF450N80S3Z\n",
    "#Set MOSFET Data Folder and Eoff and Eoss file names. If empty string is provided, EOFF and EOSS energy estimation is skipped and return 0 J\n",
    "# Note. It assumes that EoFF energy data are obtained using standard double-pulse test method\n",
    "MOS_DATA_FLD = \"Data/MOSFET/NTPF450N80S3Z/\"\n",
    "EOFF_file_name = \"Eoff_DPT_10000mOhm_27deg.csv\"\n",
    "EOSS_file_name = \"EOSS.csv\"\n",
    "#Switch rated voltage\n",
    "BVds = 800\n",
    "#derating factor (switch stress is kM of switch VBR rating)\n",
    "kM = 0.85\n",
    "#estimated effective MOSFET Coss Capacitance + additional capacitance if provided (important for fsw estimation)\n",
    "Coss = 27e-12\n",
    "#Coss = 188e-12\n",
    "#WC RDSon@110degC\n",
    "rdson = 0.9\n",
    "#Total Gate Charge\n",
    "Qgate = 19.3e-9\n",
    "#Gate voltage (it assumes gate voltage swing is from 0 to Vg. It is just a rough approximation)\n",
    "Vg = 12\n",
    "\n",
    "### Secondary Switch Parameters\n",
    "#OnSemi MBR20200CT\n",
    "Vfwd = 0.6 # set 0.001 for sync. REC\n",
    "# differential resistance @125degC\n",
    "r_sec_diff = 10e-3\n",
    "#derating factor (diode stress is kD of diode VBR rating)\n",
    "kD = 0.6\n",
    "\n",
    "### Transformer ####\n",
    "#Estimated leakage is k_leak times primary inductance\n",
    "k_leak = 0.007\n",
    "\n",
    "### Primary Clamp Snubber ###\n",
    "#Estimated overshoot\n",
    "#Include into Vos forward recovery of snubber diode if needed\n",
    "Vos = 20\n",
    "# Clamping voltage ripple  \n",
    "Vclamp_pp = 25\n",
    "\n",
    "### Secondary diode snubber ###\n",
    "f_sec_ring = 20e6\n",
    "\n",
    "### Primary Current Sense ###\n",
    "Rsense = 0.195\n",
    "\n",
    "### Secondary Current Sense ###\n",
    "Rsense_sec = 12.5e-3\n"
   ]
  },
  {
   "cell_type": "markdown",
   "id": "dfd26df7-c837-4073-aecd-9d29714cdc6a",
   "metadata": {},
   "source": [
    "# Pre-Calculation"
   ]
  },
  {
   "cell_type": "markdown",
   "id": "db7d1b39-c552-42a0-b00d-60876776f18c",
   "metadata": {},
   "source": [
    "## Estimated Flyback Input Power (in W)\n",
    "This is estimated input power of the flyback circuit only (after the rectifier circuit)"
   ]
  },
  {
   "cell_type": "code",
   "execution_count": 75,
   "id": "95b6f965-e306-472a-8ed7-092f5ad6eb34",
   "metadata": {},
   "outputs": [
    {
     "name": "stdout",
     "output_type": "stream",
     "text": [
      "129.0\n"
     ]
    }
   ],
   "source": [
    "Pin=Pout/eff\n",
    "print(round(Pin,0))"
   ]
  },
  {
   "cell_type": "markdown",
   "id": "32ac3644-f966-4d67-837b-e11c70552361",
   "metadata": {},
   "source": [
    "## Input Capacitor Minimum Value Recommendation (in uF)"
   ]
  },
  {
   "cell_type": "markdown",
   "id": "a5509ab1-95b5-4c95-b228-65e50f23c072",
   "metadata": {},
   "source": [
    "Rule of thumb:  \n",
    "115VAC: 2uF/W  \n",
    "230VAC: 1uf/W  \n",
    "(85 - 265)VAC: (2 - 3) uF/W  \n",
    "\n",
    "NOTE: Change DC ripple value such as calculated input capacitor value is in agreement with selected rule of thumb\n"
   ]
  },
  {
   "cell_type": "code",
   "execution_count": 76,
   "id": "530671cf-0c7c-4c50-bcd1-05516e43f986",
   "metadata": {},
   "outputs": [
    {
     "name": "stdout",
     "output_type": "stream",
     "text": [
      "118.0\n"
     ]
    }
   ],
   "source": [
    "Cin = Cin_estimation(Pin, AC_freq, VDC_ripple_pp, VAC_min)\n",
    "print(round(Cin*1e6,0))"
   ]
  },
  {
   "cell_type": "markdown",
   "id": "c9e82394-aaa0-4791-a2f4-b6f551fa0cea",
   "metadata": {},
   "source": [
    "<span> When selecting capacitor MPN, consider tolerance, aging and ripple current.</span>"
   ]
  },
  {
   "cell_type": "markdown",
   "id": "6ef01a4d-faa8-44f9-9fe7-8b610182ce8e",
   "metadata": {},
   "source": [
    "## Maximum Input DC Peak Voltage (in V)"
   ]
  },
  {
   "cell_type": "code",
   "execution_count": 77,
   "id": "b42951d6-fa01-4254-a325-d41a924eb71b",
   "metadata": {},
   "outputs": [
    {
     "name": "stdout",
     "output_type": "stream",
     "text": [
      "407.0\n"
     ]
    }
   ],
   "source": [
    "VDC_max_pk=math.sqrt(2)*VAC_max\n",
    "print(round(VDC_max_pk,0))"
   ]
  },
  {
   "cell_type": "markdown",
   "id": "8ee98356-dcbe-43d3-8849-b6e355661380",
   "metadata": {},
   "source": [
    "## Minimum Input DC Valley Voltage (in V)"
   ]
  },
  {
   "cell_type": "code",
   "execution_count": 78,
   "id": "61669441-1579-40ec-9b80-e4a77feb4f9c",
   "metadata": {},
   "outputs": [
    {
     "name": "stdout",
     "output_type": "stream",
     "text": [
      "245.0\n"
     ]
    }
   ],
   "source": [
    "VDC_min_valley = VAC_min*math.sqrt(2)-VDC_ripple_pp\n",
    "print(round(VDC_min_valley,0))"
   ]
  },
  {
   "cell_type": "markdown",
   "id": "0ea2c3c0-55b6-42b4-b7cd-1baa5cef4de5",
   "metadata": {},
   "source": [
    "## Nominal Input DC AVG Voltage (in V)"
   ]
  },
  {
   "cell_type": "code",
   "execution_count": 158,
   "id": "e05685c2-44b6-43cd-92ad-d5a754799d74",
   "metadata": {},
   "outputs": [
    {
     "name": "stdout",
     "output_type": "stream",
     "text": [
      "309.0\n"
     ]
    }
   ],
   "source": [
    "#ret=QR_Flyback_QSPICE_circs.QSPICE_Input_REC(VAC_nom, Cin, Pin, V_rec_fwd, r_rec_diff,AC_freq)\n",
    "ret = QSPICE.QSPICE_Full_Wave_REC_P_load(Cin,Cin_ESR,AC_freq,V_rec_fwd,Pin,r_rec_diff,VAC_nom)\n",
    "VDC_nom=ret[5]\n",
    "P_REC_Vin_nom=ret[3]*4\n",
    "Iin_RMS_Vin_nom=ret[0]\n",
    "print(round(VDC_nom,0))"
   ]
  },
  {
   "cell_type": "markdown",
   "id": "b797f2e1-5e82-4a50-b37c-dfeaaf5a677a",
   "metadata": {},
   "source": [
    "# Transformer Requirements"
   ]
  },
  {
   "cell_type": "markdown",
   "id": "b57be894-cded-4fa3-8cda-d89330033bcb",
   "metadata": {},
   "source": [
    "## Transformer Turns Ratio (Np:1)"
   ]
  },
  {
   "cell_type": "code",
   "execution_count": 80,
   "id": "c66dcc87-3393-4103-a34e-963cb41546af",
   "metadata": {},
   "outputs": [
    {
     "name": "stdout",
     "output_type": "stream",
     "text": [
      "5.49\n"
     ]
    }
   ],
   "source": [
    "N=Vr/(Vout+Vfwd)\n",
    "print(round(N,2))"
   ]
  },
  {
   "cell_type": "markdown",
   "id": "4f42b7bf-6526-4f1e-8618-ccda4507e71d",
   "metadata": {},
   "source": [
    "## Maximum Primary Inductance (in uH)"
   ]
  },
  {
   "cell_type": "code",
   "execution_count": 81,
   "id": "c0491798-be96-456b-883f-a1931adf7a3c",
   "metadata": {},
   "outputs": [
    {
     "name": "stdout",
     "output_type": "stream",
     "text": [
      "328.0\n"
     ]
    }
   ],
   "source": [
    "Lp=0.1e1 / (1 / VDC_min_valley * math.sqrt(2) * math.sqrt(fsw_min * Pin) * (VDC_min_valley / Vr + 1) + math.pi * fsw_min * math.sqrt(Coss)) ** 2\n",
    "print(round(Lp*1e6,0))"
   ]
  },
  {
   "cell_type": "markdown",
   "id": "9b60b280-2565-478a-9369-001952b09112",
   "metadata": {},
   "source": [
    "# Estimated Operating Conditions"
   ]
  },
  {
   "cell_type": "markdown",
   "id": "94df69f2-007f-41dd-9b8d-e0dab5635bd1",
   "metadata": {},
   "source": [
    "## Estimated Maximum Switching Frequency (full load) (in kHz)"
   ]
  },
  {
   "cell_type": "code",
   "execution_count": 82,
   "id": "542b4456-1c07-4dff-a027-973bdc87265d",
   "metadata": {},
   "outputs": [
    {
     "name": "stdout",
     "output_type": "stream",
     "text": [
      "113.0\n"
     ]
    }
   ],
   "source": [
    "fsw_max=fsw_estimation(VDC_max_pk, Vr, Pin, Lp, Coss)\n",
    "print(round(fsw_max/1e3,0))"
   ]
  },
  {
   "cell_type": "markdown",
   "id": "4c1e93c4-3d7b-4a2f-bf8d-c9d5d4185bb4",
   "metadata": {},
   "source": [
    "## Estimated Nominal Switching Frequency (full load) (in kHz)"
   ]
  },
  {
   "cell_type": "code",
   "execution_count": 83,
   "id": "8390ba3c-7f03-4235-9494-5c1e382eb1a4",
   "metadata": {},
   "outputs": [
    {
     "name": "stdout",
     "output_type": "stream",
     "text": [
      "98.0\n"
     ]
    }
   ],
   "source": [
    "fsw_nom=fsw_estimation(VDC_nom, Vr, Pin, Lp, Coss)\n",
    "print(round(fsw_nom/1e3,0))"
   ]
  },
  {
   "cell_type": "markdown",
   "id": "81f2128a-192c-46b5-bcc7-f5925feb1591",
   "metadata": {},
   "source": [
    "## Maximum Duty-Cycle"
   ]
  },
  {
   "cell_type": "code",
   "execution_count": 84,
   "id": "c90d4239-0e4c-4d31-a827-7182f0b9787b",
   "metadata": {
    "editable": true,
    "slideshow": {
     "slide_type": ""
    },
    "tags": []
   },
   "outputs": [
    {
     "name": "stdout",
     "output_type": "stream",
     "text": [
      "0.346\n"
     ]
    }
   ],
   "source": [
    "D_max=D_estimation(VDC_min_valley,Pin, fsw_min, Lp)\n",
    "print(round(D_max,3))\n"
   ]
  },
  {
   "cell_type": "markdown",
   "id": "bc111349-1cf5-4884-8885-1d0749623460",
   "metadata": {},
   "source": [
    "## Minimum Duty-Cycle"
   ]
  },
  {
   "cell_type": "code",
   "execution_count": 85,
   "id": "ef19c44e-dd6e-4a2c-b030-190a378385af",
   "metadata": {},
   "outputs": [
    {
     "name": "stdout",
     "output_type": "stream",
     "text": [
      "0.241\n"
     ]
    }
   ],
   "source": [
    "D_min=D_estimation(VDC_max_pk,Pin, fsw_max, Lp)\n",
    "print(round(D_min,3))"
   ]
  },
  {
   "cell_type": "markdown",
   "id": "07addb29-880a-44c4-a90f-40d40813ea88",
   "metadata": {},
   "source": [
    "## Nominal Duty-Cycle"
   ]
  },
  {
   "cell_type": "code",
   "execution_count": 86,
   "id": "f45e132a-5f02-4def-a0fd-b49f66d07936",
   "metadata": {},
   "outputs": [
    {
     "name": "stdout",
     "output_type": "stream",
     "text": [
      "0.296\n"
     ]
    }
   ],
   "source": [
    "D_nom=D_estimation(VDC_nom,Pin, fsw_nom, Lp)\n",
    "print(round(D_nom,3))"
   ]
  },
  {
   "cell_type": "markdown",
   "id": "4b59f1a9-75f2-4f6b-ba59-12d8982ea88d",
   "metadata": {},
   "source": [
    "# Stress Analysis (Worst-Case Conditions)"
   ]
  },
  {
   "cell_type": "markdown",
   "id": "0d36ee3c-d275-4c10-8fbe-04ec2daaf19e",
   "metadata": {},
   "source": [
    "## Estimated Primary Switch Valley Point for Nominal Output Voltage:  (in V)"
   ]
  },
  {
   "cell_type": "markdown",
   "id": "af2cbf15-5db0-4303-a2a0-835bc99470a7",
   "metadata": {},
   "source": [
    "### Maximum Input Voltage"
   ]
  },
  {
   "cell_type": "code",
   "execution_count": 87,
   "id": "64be95bd-9108-48a8-9cfa-280c3a042bd5",
   "metadata": {},
   "outputs": [
    {
     "name": "stdout",
     "output_type": "stream",
     "text": [
      "272.0\n"
     ]
    }
   ],
   "source": [
    "V_valley_max=VDC_max_pk-Vr\n",
    "print(round(V_valley_max,0))"
   ]
  },
  {
   "cell_type": "markdown",
   "id": "91f09501-42c7-4953-9deb-b895c3f214ea",
   "metadata": {},
   "source": [
    "### Minimum Input Voltage"
   ]
  },
  {
   "cell_type": "code",
   "execution_count": 88,
   "id": "71d0ff91-6fdf-439c-aaf1-ea344801d9de",
   "metadata": {},
   "outputs": [
    {
     "name": "stdout",
     "output_type": "stream",
     "text": [
      "110.0\n"
     ]
    }
   ],
   "source": [
    "V_valley_min=VDC_min_valley-Vr\n",
    "print(round(V_valley_min,0))"
   ]
  },
  {
   "cell_type": "markdown",
   "id": "74f6b016-eb41-441b-ba81-607525f73c02",
   "metadata": {},
   "source": [
    "### Nominal Input Voltage"
   ]
  },
  {
   "cell_type": "code",
   "execution_count": 89,
   "id": "2db3a9e6-3e2f-47d2-8537-64af69d7089d",
   "metadata": {},
   "outputs": [
    {
     "name": "stdout",
     "output_type": "stream",
     "text": [
      "174.0\n"
     ]
    }
   ],
   "source": [
    "V_valley_nom=VDC_nom-Vr\n",
    "print(round(V_valley_nom,0))"
   ]
  },
  {
   "cell_type": "markdown",
   "id": "429f51bd-2533-4e8a-8321-dfeeb9e35e89",
   "metadata": {},
   "source": [
    "## Secondary Switch VBR Requirement > (in V)"
   ]
  },
  {
   "cell_type": "code",
   "execution_count": 90,
   "id": "d080a137-e330-47c3-9db5-b4837c778905",
   "metadata": {},
   "outputs": [
    {
     "name": "stdout",
     "output_type": "stream",
     "text": [
      "174.0\n"
     ]
    }
   ],
   "source": [
    "VBR_SEC=(VDC_max_pk/N+Vout_max)/kD\n",
    "print(round(VBR_SEC,0))"
   ]
  },
  {
   "cell_type": "markdown",
   "id": "3ac1231e-fbc2-4af4-8f3d-a86390f2ad58",
   "metadata": {},
   "source": [
    "## AC Input RMS Current (in A)\n",
    "Note: Use to properly rate the input fuse"
   ]
  },
  {
   "cell_type": "code",
   "execution_count": 156,
   "id": "dc6df29a-ff86-47b2-97d4-992f890e11bb",
   "metadata": {},
   "outputs": [
    {
     "name": "stdout",
     "output_type": "stream",
     "text": [
      "1.3\n"
     ]
    }
   ],
   "source": [
    "#ret=QSPICE.QSPICE_Input_REC(VAC_min, Cin, Pin, V_rec_fwd, r_rec_diff,AC_freq)\n",
    "ret = QSPICE.QSPICE_Full_Wave_REC_P_load(Cin,Cin_ESR,AC_freq,V_rec_fwd,Pin,r_rec_diff,VAC_min)\n",
    "Iin_RMS_Vin_min=ret[0]\n",
    "P_REC=ret[3]*4\n",
    "I_Cin_RMS=ret[4]\n",
    "round(P_REC,2)\n",
    "\n",
    "print(round(Iin_RMS_Vin_min,1))"
   ]
  },
  {
   "cell_type": "markdown",
   "id": "43f0bb80-f1b3-41d9-bc8d-3304d37e7d22",
   "metadata": {},
   "source": [
    "## Primary Peak Current (in A)"
   ]
  },
  {
   "cell_type": "code",
   "execution_count": 92,
   "id": "c6beb304-0551-4ad3-a15f-24f26e1a0db8",
   "metadata": {},
   "outputs": [
    {
     "name": "stdout",
     "output_type": "stream",
     "text": [
      "3.0\n"
     ]
    }
   ],
   "source": [
    "Ip_pk_max=Ip_peak(Pin, fsw_min, Lp)\n",
    "print(round(Ip_pk_max,1))"
   ]
  },
  {
   "cell_type": "markdown",
   "id": "dbd805da-7dff-4b20-8e3d-8cbaea2475b1",
   "metadata": {},
   "source": [
    "## Primary RMS Current (in A)"
   ]
  },
  {
   "cell_type": "code",
   "execution_count": 93,
   "id": "a056c1b3-e9a5-4485-8b4d-1d12903e251b",
   "metadata": {},
   "outputs": [
    {
     "name": "stdout",
     "output_type": "stream",
     "text": [
      "1.0\n"
     ]
    }
   ],
   "source": [
    "Ip_RMS_max=Ip_RMS(Ip_pk_max, D_max)\n",
    "print(round(Ip_RMS_max,1))"
   ]
  },
  {
   "cell_type": "markdown",
   "id": "330b7c29-fb48-4606-a9dd-b8d16d498f5a",
   "metadata": {},
   "source": [
    "## Secondary Peak Current (in A)"
   ]
  },
  {
   "cell_type": "code",
   "execution_count": 94,
   "id": "cd634ec5-037c-459f-b289-3c32eddcb697",
   "metadata": {},
   "outputs": [
    {
     "name": "stdout",
     "output_type": "stream",
     "text": [
      "16.2\n"
     ]
    }
   ],
   "source": [
    "Ds=1/Vr*math.sqrt(2*Pout*Lp*fsw_min)\n",
    "Ipks=(2*Pout/Vout)/Ds\n",
    "print(round(Ipks,1))"
   ]
  },
  {
   "cell_type": "markdown",
   "id": "ade7fda8-44f2-480c-bbc6-a981174c31cb",
   "metadata": {},
   "source": [
    "## Secondary RMS Current (in A)"
   ]
  },
  {
   "cell_type": "code",
   "execution_count": 95,
   "id": "7f357ba2-a618-4f8f-9b64-f5696799d718",
   "metadata": {},
   "outputs": [
    {
     "name": "stdout",
     "output_type": "stream",
     "text": [
      "7.2\n"
     ]
    }
   ],
   "source": [
    "Is_RMS=Ipks*math.sqrt(Ds/3)\n",
    "print(round(Is_RMS,1))"
   ]
  },
  {
   "cell_type": "markdown",
   "id": "88c909c0-6a80-43c3-85e7-31118c2e6331",
   "metadata": {},
   "source": [
    "## Input Capacitor Ripple Current (in Arms)"
   ]
  },
  {
   "cell_type": "code",
   "execution_count": 96,
   "id": "12bde4e1-9615-4a1d-b18c-8be988e9751e",
   "metadata": {},
   "outputs": [
    {
     "name": "stdout",
     "output_type": "stream",
     "text": [
      "1.3\n"
     ]
    }
   ],
   "source": [
    "print(round(I_Cin_RMS,1))"
   ]
  },
  {
   "cell_type": "markdown",
   "id": "3c8c143c-2964-4ff7-a8fb-5a6cafa9c8b7",
   "metadata": {},
   "source": [
    "# Primary RCD Clamp Design"
   ]
  },
  {
   "cell_type": "markdown",
   "id": "3da3634a-83f6-47a8-ae00-ce1275c87028",
   "metadata": {},
   "source": [
    "## Recommended Clamping Voltage (in V)"
   ]
  },
  {
   "cell_type": "code",
   "execution_count": 97,
   "id": "d0ca2ff9-c7e2-4dc3-a6cd-d7eeeec8217e",
   "metadata": {},
   "outputs": [
    {
     "name": "stdout",
     "output_type": "stream",
     "text": [
      "253.0\n"
     ]
    }
   ],
   "source": [
    "Vclamp=BVds*kM-Vos-VDC_max_pk\n",
    "print(round(Vclamp,0))"
   ]
  },
  {
   "cell_type": "markdown",
   "id": "ca3bff1f-edd2-4b6d-8fde-0f326f5be87e",
   "metadata": {},
   "source": [
    "## Clamped Voltage vs. Reflected Voltage Ratio (-)"
   ]
  },
  {
   "cell_type": "markdown",
   "id": "c3f7caa3-ecba-4e31-9e19-7cb38eecc54c",
   "metadata": {},
   "source": [
    "Note 1: The recommended range for factor kc is 1.3 to 2 (reducing kc -> higher losses in clamp circuit).  \n",
    "\n",
    "Note 2: The worst case ratio happens for maximum output voltage.\n",
    "\n",
    "Note 3: This might be one of the criteria for selecting suitable transformer turn ratio."
   ]
  },
  {
   "cell_type": "code",
   "execution_count": 98,
   "id": "117cc36a-a026-47f4-90d8-0083c6c6944c",
   "metadata": {},
   "outputs": [
    {
     "name": "stdout",
     "output_type": "stream",
     "text": [
      "1.5\n"
     ]
    }
   ],
   "source": [
    "kc=Vclamp/((Vout_max+Vfwd)*N)\n",
    "print(round(kc,1))"
   ]
  },
  {
   "cell_type": "markdown",
   "id": "b74d0e91-9966-4356-9cf5-5d21a01cfb09",
   "metadata": {},
   "source": [
    "## Leakage Energy (in uJ)"
   ]
  },
  {
   "cell_type": "code",
   "execution_count": 99,
   "id": "3e67949b-a2e5-4c82-b4ba-736f70bd77cc",
   "metadata": {},
   "outputs": [],
   "source": [
    "fsw_Vin_min_Vout_max=fsw_estimation(VDC_min_valley, (Vout_max+Vfwd)*N, Pin, Lp, Coss)\n",
    "fsw_Vin_max_Vout_max=fsw_estimation(VDC_max_pk, (Vout_max+Vfwd)*N, Pin, Lp, Coss)\n",
    "Eleak_Vmin=(0.5*Lp*k_leak*Ip_pk_max**2)\n",
    "Eleak_Vmax=(0.5*Lp*k_leak*Ip_peak(Pin, fsw_max, Lp)**2)\n",
    "Eleak_Vnom=(0.5*Lp*k_leak*Ip_peak(Pin, fsw_nom, Lp)**2)\n",
    "Eleak_Vout_max=(0.5*Lp*k_leak*Ip_peak(Pin, fsw_Vin_min_Vout_max, Lp)**2)"
   ]
  },
  {
   "cell_type": "code",
   "execution_count": 100,
   "id": "589064c4-cf5e-4d84-8285-040d983a48b3",
   "metadata": {},
   "outputs": [
    {
     "name": "stdout",
     "output_type": "stream",
     "text": [
      "152219.93616049382\n",
      "\n",
      "10.64\n",
      "7.98\n",
      "9.21\n",
      "8.24\n"
     ]
    }
   ],
   "source": [
    "print(fsw_Vin_max_Vout_max)\n",
    "print()\n",
    "print(round(Eleak_Vmin*1e6,2))\n",
    "print(round(Eleak_Vmax*1e6,2))\n",
    "print(round(Eleak_Vnom*1e6,2))\n",
    "print(round(Eleak_Vout_max*1e6,2))"
   ]
  },
  {
   "cell_type": "markdown",
   "id": "c7afa95b-296b-450c-acbd-2a431b01912b",
   "metadata": {},
   "source": [
    "## Clamping Resistor (in kOhm)\n",
    "Note: This calculation assumes maximum primary peak current based on maximum load operational condition. For the WC situation, the maximum primary peak current will be defined by PWM IC CS threshold + internal delay. When nominal Ipeak value is used, RCD Clamp should also use TVS diode to prevent Vclamp runaway under startup/fault conditions."
   ]
  },
  {
   "cell_type": "code",
   "execution_count": 101,
   "id": "8804de47-e53b-417e-8b98-e92d4e2f996a",
   "metadata": {},
   "outputs": [
    {
     "name": "stdout",
     "output_type": "stream",
     "text": [
      "23.69\n"
     ]
    }
   ],
   "source": [
    "R_clp=(Vclamp*(Vclamp-(Vout_max+Vfwd)*N))/(Eleak_Vmin*fsw_min)\n",
    "print(round(R_clp*1e-3,2))"
   ]
  },
  {
   "cell_type": "markdown",
   "id": "64f0a3d4-2898-4bf9-b454-2e1f7cf8a364",
   "metadata": {},
   "source": [
    "## Clamping Capacitor (in pF)"
   ]
  },
  {
   "cell_type": "code",
   "execution_count": 102,
   "id": "91d22272-ca31-4310-a49b-b747c33f6750",
   "metadata": {},
   "outputs": [
    {
     "name": "stdout",
     "output_type": "stream",
     "text": [
      "5021.0\n"
     ]
    }
   ],
   "source": [
    "C_clp=Vclamp/(R_clp*fsw_min*Vclamp_pp)\n",
    "print(round(C_clp*1e12,0))"
   ]
  },
  {
   "cell_type": "markdown",
   "id": "ec3fe307-8d00-4e67-86a6-c477e2124103",
   "metadata": {},
   "source": [
    "## RCD Clamp Diode Stress (in V)"
   ]
  },
  {
   "cell_type": "code",
   "execution_count": 103,
   "id": "ea728ff3-d558-4a4e-9d11-6ec915f65421",
   "metadata": {},
   "outputs": [
    {
     "name": "stdout",
     "output_type": "stream",
     "text": [
      "660.0\n"
     ]
    }
   ],
   "source": [
    "print(round(VDC_max_pk+Vclamp,0))"
   ]
  },
  {
   "cell_type": "markdown",
   "id": "c037088b-fa04-4d88-aeb4-85b894bac2f6",
   "metadata": {},
   "source": [
    "# Secondary RC Snubber"
   ]
  },
  {
   "cell_type": "markdown",
   "id": "39acfdcf-0ecd-42b4-8fb7-9d797225beae",
   "metadata": {},
   "source": [
    "## Secondary Leakage (in uH)"
   ]
  },
  {
   "cell_type": "code",
   "execution_count": 104,
   "id": "c6ea0061-7ae0-4279-a395-3a84f8dd86ba",
   "metadata": {},
   "outputs": [
    {
     "name": "stdout",
     "output_type": "stream",
     "text": [
      "0.07619\n"
     ]
    }
   ],
   "source": [
    "L_leak_sec=(Lp*k_leak)/N**2\n",
    "print(round(L_leak_sec*1e6,5))"
   ]
  },
  {
   "cell_type": "markdown",
   "id": "713bff88-c638-4aca-8c43-34ad91375741",
   "metadata": {},
   "source": [
    "## Recommended Resistor (in Ohm)"
   ]
  },
  {
   "cell_type": "code",
   "execution_count": 105,
   "id": "dafabcb9-deec-40e9-8d03-5c425b4edefd",
   "metadata": {},
   "outputs": [
    {
     "name": "stdout",
     "output_type": "stream",
     "text": [
      "9.57\n"
     ]
    }
   ],
   "source": [
    "R_sec_snub=2*math.pi*f_sec_ring*L_leak_sec\n",
    "print(round(R_sec_snub,2))"
   ]
  },
  {
   "cell_type": "markdown",
   "id": "f113f95c-574d-4a84-9a0b-a63bbc5e74f1",
   "metadata": {},
   "source": [
    "## Recommended Capacitor (in pF)"
   ]
  },
  {
   "cell_type": "code",
   "execution_count": 106,
   "id": "a17bb939-8ca9-4062-8c56-670a08d7e5aa",
   "metadata": {},
   "outputs": [
    {
     "name": "stdout",
     "output_type": "stream",
     "text": [
      "831\n"
     ]
    }
   ],
   "source": [
    "C_sec_snub=1/(2*math.pi*f_sec_ring*R_sec_snub)\n",
    "print(round(C_sec_snub*1e12))"
   ]
  },
  {
   "cell_type": "markdown",
   "id": "4568b716-6baf-49f9-8502-972bead1f14d",
   "metadata": {},
   "source": [
    "# Output Capacitor Requirements"
   ]
  },
  {
   "cell_type": "markdown",
   "id": "242f3985-6bb5-4591-8d4e-bb53b7303e38",
   "metadata": {},
   "source": [
    "## Ripple RMS Current (in A)"
   ]
  },
  {
   "cell_type": "code",
   "execution_count": 107,
   "id": "22978f39-0d50-484c-8115-137cb6b451d0",
   "metadata": {},
   "outputs": [
    {
     "name": "stdout",
     "output_type": "stream",
     "text": [
      "5.4\n"
     ]
    }
   ],
   "source": [
    "I_Cout_RMS=math.sqrt(Is_RMS**2-(Pout/Vout)**2)\n",
    "print(round(I_Cout_RMS,1))"
   ]
  },
  {
   "cell_type": "markdown",
   "id": "2dda773e-16b1-44f2-9418-0b2f34eed30c",
   "metadata": {},
   "source": [
    "## Peak Current (in A)"
   ]
  },
  {
   "cell_type": "code",
   "execution_count": 108,
   "id": "8f1f5be2-b025-46af-b737-8a1bc51ac0c2",
   "metadata": {},
   "outputs": [
    {
     "name": "stdout",
     "output_type": "stream",
     "text": [
      "11.4\n"
     ]
    }
   ],
   "source": [
    "I_Cout_pk=Ipks-(Pout/Vout)\n",
    "print(round(I_Cout_pk,1))"
   ]
  },
  {
   "cell_type": "markdown",
   "id": "b940090e-48e6-450a-bb89-636e4e0bb96f",
   "metadata": {},
   "source": [
    "## Voltage Ripple Caused by ESR (in V)"
   ]
  },
  {
   "cell_type": "code",
   "execution_count": 109,
   "id": "f095f071-bb8e-4177-9773-0eeba8a2cc7b",
   "metadata": {},
   "outputs": [
    {
     "data": {
      "text/markdown": [
       "<font size=\"6\"> <span style=\"color:red\"> Warning: Output capacitor ESR is too high.</span></font>"
      ],
      "text/plain": [
       "<IPython.core.display.Markdown object>"
      ]
     },
     "metadata": {},
     "output_type": "display_data"
    },
    {
     "name": "stdout",
     "output_type": "stream",
     "text": [
      "0.32\n"
     ]
    }
   ],
   "source": [
    "V_Cout_ESR_pp=Ipks*ESR_Cout\n",
    "\n",
    "if (V_Cout_ESR_pp) > Vout_pp:\n",
    "    display(Markdown('<font size=\"6\"> <span style=\"color:red\"> Warning: Output capacitor ESR is too high.</span></font>'))\n",
    "\n",
    "print(round(Ipks*ESR_Cout,2))\n"
   ]
  },
  {
   "cell_type": "markdown",
   "id": "8aad11c9-673f-4da6-9a6c-41d114f9b958",
   "metadata": {},
   "source": [
    "## Minimum Capacitance Value (in uF)"
   ]
  },
  {
   "cell_type": "markdown",
   "id": "c3947714-cd21-4232-b984-8af81c603614",
   "metadata": {},
   "source": [
    "Note: This assumes that output capacitor ESR is 0 Ohm"
   ]
  },
  {
   "cell_type": "code",
   "execution_count": 110,
   "id": "afa166be-d34f-4a6a-8e33-7a93d7dd8317",
   "metadata": {},
   "outputs": [
    {
     "name": "stdout",
     "output_type": "stream",
     "text": [
      "287.02\n"
     ]
    }
   ],
   "source": [
    "#Cmin = Lp * Ip_pk_max ** 2 * (D_max ** 2 + 2 * D_max + 1) / (Vout_pp-V_Cout_ESR_pp) / Vout / 8\n",
    "Cmin = Lp * Ip_pk_max ** 2 * (D_max ** 2 + 2 * D_max + 1) / (Vout_pp) / Vout / 8\n",
    "print(round(Cmin*1e6,2))"
   ]
  },
  {
   "cell_type": "markdown",
   "id": "ade57c51-fa0e-4581-ae6e-68b9c7e6f332",
   "metadata": {},
   "source": [
    "# Losses Analysis (Worst-Case Conditions)"
   ]
  },
  {
   "cell_type": "markdown",
   "id": "e028ba11-847e-409d-ac77-0bbd06567030",
   "metadata": {},
   "source": [
    "## Power Dissipation in Secondary Snubber (in W)"
   ]
  },
  {
   "cell_type": "code",
   "execution_count": 111,
   "id": "2ea74c5e-c6ca-492f-8e04-287e2486e5a3",
   "metadata": {},
   "outputs": [
    {
     "name": "stdout",
     "output_type": "stream",
     "text": [
      "0.69\n"
     ]
    }
   ],
   "source": [
    "P_sec_snub=0.5*C_sec_snub*(Vout_max+VDC_max_pk/N)**2*fsw_Vin_max_Vout_max\n",
    "print(round(P_sec_snub,2))"
   ]
  },
  {
   "cell_type": "markdown",
   "id": "dfe0b47c-8260-4c0a-9f92-831be07d8506",
   "metadata": {},
   "source": [
    "## Power Dissipation in Clamp (in W)"
   ]
  },
  {
   "cell_type": "markdown",
   "id": "99bf7abc-70c7-470b-9cc2-5187001f4c9a",
   "metadata": {},
   "source": [
    "Note: For QR Flyback, snubber losses are independent on Vin. With increasing Vin, Ipeak is reduced but fsw increases thus losses remain the same\n",
    "\n",
    "Note 2: This is theoretically estimated power dissipation, assuming 100% of the current circulating in the switch before turn-off is transferred to the diode in clamp circuit. In reality, due to the MOSFET parasitic capacitances COSS, CRSS, and transformer primary winding capacitance, part of the leakage energy is used to charge those capacitors, so the actual power dissipated in the resistor is lower."
   ]
  },
  {
   "cell_type": "code",
   "execution_count": 112,
   "id": "efcaec31-2d12-4a61-83e3-13d5566b0787",
   "metadata": {},
   "outputs": [
    {
     "name": "stdout",
     "output_type": "stream",
     "text": [
      "2.7\n"
     ]
    }
   ],
   "source": [
    "P_clamp=Eleak_Vmin*fsw_min*(kc/(kc-1))\n",
    "#P_clamp=Eleak_Vout_max*fsw_Vin_min_Vout_max*(kc/(kc-1))\n",
    "print(round(P_clamp,2))"
   ]
  },
  {
   "cell_type": "markdown",
   "id": "72887bcd-5eb3-4ce9-b80e-9113aed91f63",
   "metadata": {},
   "source": [
    "## Estimated Input Rectifier Losses (in W)"
   ]
  },
  {
   "cell_type": "code",
   "execution_count": 113,
   "id": "8ae69a5d-7c77-43e4-b4ba-0f0b9158da31",
   "metadata": {},
   "outputs": [
    {
     "name": "stdout",
     "output_type": "stream",
     "text": [
      "1.3\n"
     ]
    }
   ],
   "source": [
    "print(round(P_REC,2))"
   ]
  },
  {
   "cell_type": "markdown",
   "id": "a99e81aa-f1d2-43db-b09b-5f43b78cec52",
   "metadata": {},
   "source": [
    "## Primary Switch Conduction Losses (in W)"
   ]
  },
  {
   "cell_type": "code",
   "execution_count": 114,
   "id": "6808d91a-df82-487e-9b5e-742ed6c3501e",
   "metadata": {},
   "outputs": [
    {
     "name": "stdout",
     "output_type": "stream",
     "text": [
      "0.96\n"
     ]
    }
   ],
   "source": [
    "P_FET_cond=Ip_RMS_max**2*rdson\n",
    "print(round(P_FET_cond,2))"
   ]
  },
  {
   "cell_type": "markdown",
   "id": "6d0e2c81-9e6f-4225-bd39-b32422e20849",
   "metadata": {},
   "source": [
    "## Primary Switch Gate Losses (in mW)"
   ]
  },
  {
   "cell_type": "markdown",
   "id": "232c857e-8ec4-4064-b9ef-ff400da0d78f",
   "metadata": {},
   "source": [
    "Note: Qg is dramatically reduced when turning-on when VDS is low (QR or ZVS operation)"
   ]
  },
  {
   "cell_type": "code",
   "execution_count": 115,
   "id": "7314374c-dc99-48f6-bb73-e1485842e6b8",
   "metadata": {},
   "outputs": [
    {
     "name": "stdout",
     "output_type": "stream",
     "text": [
      "13.13\n"
     ]
    }
   ],
   "source": [
    "#check if factor 1/2 is valid or not as gate is charged/discharged in on/off thus twice per fsw\n",
    "P_Gate_Vin_max=0.5*fsw_max*Qgate*Vg\n",
    "print(round(P_Gate_Vin_max*1e3,2))"
   ]
  },
  {
   "cell_type": "markdown",
   "id": "1e2eb86a-b145-4610-99bf-da25cd35706d",
   "metadata": {},
   "source": [
    "## Primary Switch EOSS Losses (in W)"
   ]
  },
  {
   "cell_type": "markdown",
   "id": "9cceb073-7edd-4618-a3bd-777e8e64ec5f",
   "metadata": {},
   "source": [
    "### Maximum Input Voltage"
   ]
  },
  {
   "cell_type": "code",
   "execution_count": 116,
   "id": "91b042e4-4b32-4577-b8c9-18f8b4de61bb",
   "metadata": {},
   "outputs": [
    {
     "name": "stdout",
     "output_type": "stream",
     "text": [
      "0.21\n"
     ]
    }
   ],
   "source": [
    "P_EOSS_Vin_max=EOSS_Interp(MOS_DATA_FLD,EOSS_file_name,V_valley_max)*fsw_max\n",
    "print(round(P_EOSS_Vin_max,3))\n",
    "#print(EOSS_Interp(MOS_DATA_FLD,EOSS_file_name,V_valley_max))\n"
   ]
  },
  {
   "cell_type": "markdown",
   "id": "8c532284-ea17-4891-a186-467d418cb115",
   "metadata": {},
   "source": [
    "### Minimum Input Voltage"
   ]
  },
  {
   "cell_type": "code",
   "execution_count": 117,
   "id": "3c7dc3f2-34d8-4d2b-b5b2-0a2b340626ca",
   "metadata": {},
   "outputs": [
    {
     "name": "stdout",
     "output_type": "stream",
     "text": [
      "0.098\n"
     ]
    }
   ],
   "source": [
    "P_EOSS_Vin_min=EOSS_Interp(MOS_DATA_FLD,EOSS_file_name,V_valley_min)*fsw_min\n",
    "print(round(P_EOSS_Vin_min,3))"
   ]
  },
  {
   "cell_type": "markdown",
   "id": "a39ef17e-736d-4fac-8348-3b3c4d3cfde6",
   "metadata": {},
   "source": [
    "### Nominal Input Voltage"
   ]
  },
  {
   "cell_type": "code",
   "execution_count": 118,
   "id": "fd2fd5b1-68e5-42f5-b2bb-80cd32c5d254",
   "metadata": {},
   "outputs": [
    {
     "name": "stdout",
     "output_type": "stream",
     "text": [
      "0.136\n"
     ]
    }
   ],
   "source": [
    "P_EOSS_Vin_nom=EOSS_Interp(MOS_DATA_FLD,EOSS_file_name,V_valley_nom)*fsw_nom\n",
    "#round(P_EOSS_Vin_nom,3)\n",
    "print(round(P_EOSS_Vin_nom,3))"
   ]
  },
  {
   "cell_type": "markdown",
   "id": "30567fd1-0488-4c87-a72b-db9f70f724a4",
   "metadata": {},
   "source": [
    "## Primary Switch EOFF Losses (in W)"
   ]
  },
  {
   "cell_type": "markdown",
   "id": "6d2a7d7a-5a6f-43fe-93e0-12e3191fdbbe",
   "metadata": {},
   "source": [
    "### Maximum Input Voltage"
   ]
  },
  {
   "cell_type": "code",
   "execution_count": 119,
   "id": "7b3f00a4-8b39-49f9-8cec-213253b2db66",
   "metadata": {},
   "outputs": [
    {
     "name": "stdout",
     "output_type": "stream",
     "text": [
      "0.139\n"
     ]
    }
   ],
   "source": [
    "Ip_pk_min=Ip_peak(Pin, fsw_max, Lp)\n",
    "P_EOFF_Vin_max=(EOFF_Interp(MOS_DATA_FLD,EOFF_file_name,VDC_max_pk+Vclamp,Ip_pk_min)-EOSS_Interp(MOS_DATA_FLD,EOSS_file_name,VDC_max_pk+Vr))*fsw_max\n",
    "print(round(P_EOFF_Vin_max,3))\n",
    "\n",
    "#print(Ip_pk_min)\n",
    "#print(fsw_max)\n",
    "#print(VDC_max_pk+Vclamp)\n",
    "#print(EOSS_Interp(MOS_DATA_FLD,EOSS_file_name,VDC_max_pk+Vr))\n",
    "#print(EOFF_Interp(MOS_DATA_FLD,EOFF_file_name,VDC_max_pk+Vclamp,Ip_pk_min))"
   ]
  },
  {
   "cell_type": "markdown",
   "id": "a5b252e7-9328-4800-b10a-c05cfdc98539",
   "metadata": {},
   "source": [
    "### Minimum Input Voltage"
   ]
  },
  {
   "cell_type": "code",
   "execution_count": 120,
   "id": "de24cb02-1a1a-424f-89e8-118dc5f58999",
   "metadata": {},
   "outputs": [
    {
     "name": "stdout",
     "output_type": "stream",
     "text": [
      "0.089\n"
     ]
    }
   ],
   "source": [
    "P_EOFF_Vin_min=(EOFF_Interp(MOS_DATA_FLD,EOFF_file_name,VDC_min_valley+Vclamp,Ip_pk_max)-EOSS_Interp(MOS_DATA_FLD,EOSS_file_name,VDC_min_valley+Vr))*fsw_min\n",
    "#P_EOFF_Vin_min=(EOFF_Interp(MOS_DATA_FLD,EOFF_file_name,VDC_min_valley+Vclamp,Ip_pk_max))*fsw_min\n",
    "print(round(P_EOFF_Vin_min,3))"
   ]
  },
  {
   "cell_type": "markdown",
   "id": "d7af906a-f8c0-43c1-b97a-1d9f68d93a26",
   "metadata": {},
   "source": [
    "### Nominal Input Voltage"
   ]
  },
  {
   "cell_type": "code",
   "execution_count": 121,
   "id": "118fa726-8268-41cf-828c-a97efdea1644",
   "metadata": {},
   "outputs": [
    {
     "name": "stdout",
     "output_type": "stream",
     "text": [
      "0.11\n"
     ]
    }
   ],
   "source": [
    "Ip_pk_nom=Ip_peak(Pin, fsw_nom, Lp)\n",
    "P_EOFF_Vin_nom=(EOFF_Interp(MOS_DATA_FLD,EOFF_file_name,VDC_nom+Vclamp,Ip_pk_nom)-EOSS_Interp(MOS_DATA_FLD,EOSS_file_name,VDC_nom+Vr))*fsw_nom\n",
    "print(round(P_EOFF_Vin_nom,3))"
   ]
  },
  {
   "cell_type": "markdown",
   "id": "8b4c30bc-a3ed-41f8-bcc4-aa5367b01559",
   "metadata": {},
   "source": [
    "## Secondary Switch Conduction Losses (in W)"
   ]
  },
  {
   "cell_type": "code",
   "execution_count": 122,
   "id": "c52e3001-f7bc-4c58-ae69-54d350ac18a3",
   "metadata": {},
   "outputs": [
    {
     "name": "stdout",
     "output_type": "stream",
     "text": [
      "3.39\n"
     ]
    }
   ],
   "source": [
    "P_SW_Sec_cond=r_sec_diff*Is_RMS**2+(Pout/Vout)*Vfwd\n",
    "print(round(P_SW_Sec_cond,2))"
   ]
  },
  {
   "cell_type": "markdown",
   "id": "ba47d22c-caaf-4736-9f96-359a17369039",
   "metadata": {},
   "source": [
    "## EMI Filter DC Losses (in W)"
   ]
  },
  {
   "cell_type": "code",
   "execution_count": 123,
   "id": "9716effc-5a63-4094-9351-34868c02fd58",
   "metadata": {},
   "outputs": [
    {
     "name": "stdout",
     "output_type": "stream",
     "text": [
      "4.25\n"
     ]
    }
   ],
   "source": [
    "P_EMI=Iin_RMS_Vin_min**2*R_EMI\n",
    "print(round(P_EMI,2))"
   ]
  },
  {
   "cell_type": "markdown",
   "id": "d400e3a4-b43e-4f7d-bebd-335ef721779e",
   "metadata": {},
   "source": [
    "## Primary Current Sense Resistor Losses (in W)"
   ]
  },
  {
   "cell_type": "code",
   "execution_count": 124,
   "id": "529df88c-db05-485a-aef3-74b6f26f7543",
   "metadata": {},
   "outputs": [
    {
     "name": "stdout",
     "output_type": "stream",
     "text": [
      "0.21\n"
     ]
    }
   ],
   "source": [
    "P_RSense=Rsense*Ip_RMS_max**2\n",
    "print(round(P_RSense,2))"
   ]
  },
  {
   "cell_type": "markdown",
   "id": "641b571a-2cc1-495a-9f72-f779be7dcfc6",
   "metadata": {},
   "source": [
    "## Secondary Current Sense Resistor Losses (in W)"
   ]
  },
  {
   "cell_type": "code",
   "execution_count": 125,
   "id": "ffb4fe13-8c3c-4530-85ed-080d86e5d214",
   "metadata": {},
   "outputs": [
    {
     "name": "stdout",
     "output_type": "stream",
     "text": [
      "0.287\n"
     ]
    }
   ],
   "source": [
    "P_Rsense_sec=Rsense_sec*(Pout/Vout)**2\n",
    "print(round(P_Rsense_sec,3))"
   ]
  },
  {
   "cell_type": "markdown",
   "id": "74cd8d5a-7ed5-4ec0-9e5a-1d561c94b7fd",
   "metadata": {},
   "source": [
    "## Estimated Flyback Losses Without Magnetic Losses (in W)"
   ]
  },
  {
   "cell_type": "markdown",
   "id": "e389e987-c733-42a7-b9b3-0debd0269907",
   "metadata": {},
   "source": [
    "### Maximum Input Voltage"
   ]
  },
  {
   "cell_type": "code",
   "execution_count": 126,
   "id": "667842e0-5996-43a5-9e9f-9378007aea3f",
   "metadata": {},
   "outputs": [
    {
     "name": "stdout",
     "output_type": "stream",
     "text": [
      "7.73\n"
     ]
    }
   ],
   "source": [
    "P_Rsense_Vin_max = Ip_RMS(Ip_peak(Pin, fsw_max, Lp), D_min)**2*Rsense\n",
    "P_FET_cond_Vin_max = Ip_RMS(Ip_pk_min, D_min)**2*rdson\n",
    "P_sec_snub_Vin_max=0.5*C_sec_snub*(Vout+VDC_max_pk/N)**2*fsw_max\n",
    "\n",
    "Ds=1/Vr*math.sqrt(2*Pout*Lp*fsw_max)\n",
    "Ipks=(2*Pout/Vout)/Ds\n",
    "Is_RMS_Vin_max=Ipks*math.sqrt(Ds/3)\n",
    "P_SW_Sec_cond_Vin_max=r_sec_diff*Is_RMS_Vin_max**2+(Pout/Vout)*Vfwd\n",
    "\n",
    "#print(round(P_Rsense_Vin_max,3))\n",
    "#print(round(P_FET_cond_Vin_max,3))\n",
    "#print(round(P_SW_Sec_cond_Vin_max,3))\n",
    "#print(round(P_EOSS_Vin_max,3))\n",
    "#print(round(P_EOFF_Vin_max,3))\n",
    "\n",
    "Ptot_flyback_Vin_max=P_Rsense_Vin_max+P_Rsense_sec+P_clamp+P_SW_Sec_cond_Vin_max+P_FET_cond_Vin_max+P_EOSS_Vin_max+P_EOFF_Vin_max+P_Gate_Vin_max+P_sec_snub_Vin_max\n",
    "print(round(Ptot_flyback_Vin_max,2))\n",
    "\n",
    "#P_Gate_Vin_max=0.5*fsw_max*Qgate*Vg"
   ]
  },
  {
   "cell_type": "markdown",
   "id": "785b2100-9124-4a61-9ae6-2132839c3bf0",
   "metadata": {},
   "source": [
    "### Minimum Input Voltage"
   ]
  },
  {
   "cell_type": "code",
   "execution_count": 127,
   "id": "01e2f3da-97ce-46c5-b09c-6d3536cdd5c5",
   "metadata": {},
   "outputs": [
    {
     "name": "stdout",
     "output_type": "stream",
     "text": [
      "7.91\n"
     ]
    }
   ],
   "source": [
    "P_sec_snub_Vin_min=0.5*C_sec_snub*(Vout+VDC_min_valley/N)**2*fsw_min\n",
    "P_Gate_Vin_min=0.5*fsw_min*Qgate*Vg\n",
    "Ptot_flyback_Vin_min=P_RSense+P_Rsense_sec+P_clamp+P_SW_Sec_cond+P_FET_cond+P_EOSS_Vin_min+P_EOFF_Vin_min+P_Gate_Vin_min+P_sec_snub_Vin_min\n",
    "print(round(Ptot_flyback_Vin_min,2))"
   ]
  },
  {
   "cell_type": "markdown",
   "id": "61b7e1c4-c014-4fa3-b0f0-23edb50d2efe",
   "metadata": {},
   "source": [
    "### Nominal Input Voltage"
   ]
  },
  {
   "cell_type": "code",
   "execution_count": 128,
   "id": "0f351d02-4c5e-4ae4-8018-8ff5835adbb9",
   "metadata": {},
   "outputs": [
    {
     "name": "stdout",
     "output_type": "stream",
     "text": [
      "7.72\n"
     ]
    }
   ],
   "source": [
    "P_Gate_Vin_nom=0.5*fsw_nom*Qgate*Vg\n",
    "P_Rsense_Vin_nom = Ip_RMS(Ip_peak(Pin, fsw_nom, Lp), D_nom)**2*Rsense\n",
    "P_FET_cond_Vin_nom = Ip_RMS(Ip_pk_nom, D_nom)**2*rdson\n",
    "P_sec_snub_Vin_nom=0.5*C_sec_snub*(Vout+VDC_nom/N)**2*fsw_nom\n",
    "\n",
    "Ds=1/Vr*math.sqrt(2*Pout*Lp*fsw_nom)\n",
    "Ipks=(2*Pout/Vout)/Ds\n",
    "Is_RMS_Vin_nom=Ipks*math.sqrt(Ds/3)\n",
    "P_SW_Sec_cond_Vin_nom=r_sec_diff*Is_RMS_Vin_nom**2+(Pout/Vout)*Vfwd\n",
    "\n",
    "Ptot_flyback_Vin_nom=P_Rsense_Vin_nom+P_Rsense_sec+P_clamp+P_SW_Sec_cond_Vin_nom+P_FET_cond_Vin_nom+P_EOSS_Vin_nom+P_EOFF_Vin_nom+P_Gate_Vin_nom+P_sec_snub_Vin_nom\n",
    "print(round(Ptot_flyback_Vin_nom,2))"
   ]
  },
  {
   "cell_type": "markdown",
   "id": "3c4f9c95-a1ba-45a0-aa81-b3c590608abe",
   "metadata": {},
   "source": [
    "# Estimated Total Converter Losses Without Magnetic Losses (in W)"
   ]
  },
  {
   "cell_type": "markdown",
   "id": "d3facb5e-65ff-4925-ba52-8ce9acb1f1a4",
   "metadata": {},
   "source": [
    "### Maximum Input Voltage"
   ]
  },
  {
   "cell_type": "code",
   "execution_count": 129,
   "id": "e14f29d4-0c08-49ff-a24b-afa3a7dc9179",
   "metadata": {},
   "outputs": [
    {
     "name": "stdout",
     "output_type": "stream",
     "text": [
      "11.35\n"
     ]
    }
   ],
   "source": [
    "#ret=QR_Flyback_QSPICE_circs.QSPICE_Input_REC(VAC_max, Cin, Pin, V_rec_fwd, r_rec_diff,AC_freq)\n",
    "ret = QSPICE.QSPICE_Full_Wave_REC_P_load(Cin,Cin_ESR,AC_freq,V_rec_fwd,Pin,r_rec_diff,VAC_max)\n",
    "Iin_RMS_Vin_max=ret[0]\n",
    "\n",
    "P_REC_Vin_max=ret[3]*4\n",
    "P_EMI_Vin_max=R_EMI*Iin_RMS_Vin_max**2\n",
    "\n",
    "P_Tot_Vin_max = P_REC_Vin_max+P_EMI_Vin_max+Ptot_flyback_Vin_max\n",
    "print(round(P_Tot_Vin_max,2))\n"
   ]
  },
  {
   "cell_type": "markdown",
   "id": "ca15e14f-ec7a-4854-b6ba-7d23b5b694a7",
   "metadata": {},
   "source": [
    "### Minimum Input Voltage"
   ]
  },
  {
   "cell_type": "code",
   "execution_count": 130,
   "id": "c7f3988d-90f7-4e54-b0fa-d1c375b25faf",
   "metadata": {},
   "outputs": [
    {
     "name": "stdout",
     "output_type": "stream",
     "text": [
      "13.46\n"
     ]
    }
   ],
   "source": [
    "P_Tot_Vin_min = P_REC+P_EMI+Ptot_flyback_Vin_min\n",
    "print(round(P_Tot_Vin_min,2))"
   ]
  },
  {
   "cell_type": "markdown",
   "id": "5c41accd-88cf-426e-98c8-5d5c226f921d",
   "metadata": {},
   "source": [
    "### Nominal Input Voltage"
   ]
  },
  {
   "cell_type": "code",
   "execution_count": 131,
   "id": "9b8f3594-552b-4670-ab3b-bddb2896f385",
   "metadata": {},
   "outputs": [
    {
     "name": "stdout",
     "output_type": "stream",
     "text": [
      "12.39\n"
     ]
    }
   ],
   "source": [
    "P_EMI_Vin_nom=R_EMI*Iin_RMS_Vin_nom**2\n",
    "\n",
    "P_Tot_Vin_nom = P_REC_Vin_nom+P_EMI_Vin_nom+Ptot_flyback_Vin_nom\n",
    "print(round(P_Tot_Vin_nom,2))"
   ]
  },
  {
   "cell_type": "markdown",
   "id": "73f6ddec-6bf1-4d35-b67f-a0c77981df9b",
   "metadata": {},
   "source": [
    "# Estimated Flyback Efficiency Without Magnetics (in %)"
   ]
  },
  {
   "cell_type": "code",
   "execution_count": 132,
   "id": "c066bab4-f281-43b9-8500-fa7350f41e03",
   "metadata": {},
   "outputs": [
    {
     "name": "stdout",
     "output_type": "stream",
     "text": [
      "Maximum Input Voltage:  93.7\n",
      "Minimum Input Voltage:  93.6\n",
      "Nominal Input Voltage:  93.7\n"
     ]
    }
   ],
   "source": [
    "eff_calc_Vin_max=Pout/(Pout+Ptot_flyback_Vin_max)\n",
    "eff_calc_Vin_min=Pout/(Pout+Ptot_flyback_Vin_min)\n",
    "eff_calc_Vin_nom=Pout/(Pout+Ptot_flyback_Vin_nom)\n",
    "\n",
    "print(\"Maximum Input Voltage: \",round(eff_calc_Vin_max*100,1))\n",
    "print(\"Minimum Input Voltage: \",round(eff_calc_Vin_min*100,1))\n",
    "print(\"Nominal Input Voltage: \",round(eff_calc_Vin_nom*100,1))"
   ]
  },
  {
   "cell_type": "markdown",
   "id": "767c37b1-a33b-43d7-b5bd-ecf604c1d5a6",
   "metadata": {},
   "source": [
    "# Estimated Total Converter Efficiency Without Magnetics (in %)"
   ]
  },
  {
   "cell_type": "code",
   "execution_count": 133,
   "id": "f8741d31-9167-4f9d-8ca0-fb4bc32ec132",
   "metadata": {},
   "outputs": [
    {
     "name": "stdout",
     "output_type": "stream",
     "text": [
      "Maximum Input Voltage:  91.0\n",
      "Minimum Input Voltage:  89.5\n",
      "Nominal Input Voltage:  90.3\n"
     ]
    }
   ],
   "source": [
    "eff_tot_calc_Vin_max=Pout/(Pout+P_Tot_Vin_max)\n",
    "eff_tot_calc_Vin_min=Pout/(Pout+P_Tot_Vin_min)\n",
    "eff_tot_calc_Vin_nom=Pout/(Pout+P_Tot_Vin_nom)\n",
    "\n",
    "print(\"Maximum Input Voltage: \",round(eff_tot_calc_Vin_max*100,1))\n",
    "print(\"Minimum Input Voltage: \",round(eff_tot_calc_Vin_min*100,1))\n",
    "print(\"Nominal Input Voltage: \",round(eff_tot_calc_Vin_nom*100,1))"
   ]
  },
  {
   "cell_type": "code",
   "execution_count": 134,
   "id": "d303e765-2240-4eb8-b1fd-806ab4fe47b5",
   "metadata": {},
   "outputs": [
    {
     "data": {
      "image/png": "[encoded data removed]",
      "text/plain": [
       "<Figure size 1800x600 with 2 Axes>"
      ]
     },
     "metadata": {},
     "output_type": "display_data"
    }
   ],
   "source": [
    "labels_Ploss= 'REC+EMI', 'Primary Switch(Total)', 'Secondary Switch(Total)', 'Clamp+Snubber','R_sense_Tot'\n",
    "data_Ploss = [P_REC+P_EMI, P_FET_cond+P_EOSS_Vin_min+P_EOFF_Vin_min+P_Gate_Vin_min, P_SW_Sec_cond, P_clamp+P_sec_snub_Vin_min, P_RSense+P_Rsense_sec]\n",
    "\n",
    "labels_Ploss_Bar= 'REC','EMI', 'P_Cond','P_SW','P_OSS', 'P_Gate', 'S_Cond', 'Clamp','Snubber','R_sen','R_sen_S'\n",
    "data_Ploss_Bar = [P_REC, P_EMI,P_FET_cond,P_EOFF_Vin_min,P_EOSS_Vin_min,P_Gate_Vin_min,P_SW_Sec_cond,P_clamp,P_sec_snub_Vin_min,P_RSense,P_Rsense_sec]\n",
    "\n",
    "#labels_bar= 'DC/DC', 'Total'\n",
    "#data_bar = [round((Pout/(Pout+Ptot_flyback_Vin_min))*100,1), round((Pout/(Pout+Ptot))*100,1)]\n",
    "\n",
    "#bar_labels = ['red', 'blue', '_red', 'orange','green']\n",
    "bar_colors = ['tab:blue', 'tab:blue', 'tab:orange', 'tab:orange', 'tab:orange','tab:orange','tab:green','tab:red', 'tab:red','tab:purple','tab:purple']\n",
    "\n",
    "def autopct_format(values):\n",
    "        def my_format(pct):\n",
    "            total = sum(values)\n",
    "            val = round(pct*total/100,3)\n",
    "            return '{:.1f}%\\n({v:.2f} W)'.format(pct, v=val)\n",
    "        return my_format\n",
    "\n",
    "def addlabels(x,y):\n",
    "    for i in range(len(x)):\n",
    "        ax2.text(i, y[i]+0.05, round(y[i],2), ha = 'center')\n",
    "        \n",
    "\n",
    "fig, (ax1, ax2) = plt.subplots(1, 2, figsize=(18,6))\n",
    "#fig, ax1 = plt.subplots()\n",
    "fig.suptitle('Power Losses Breakdown (w/o Losses in Magnetics, Nominal Vout)'+'\\n'+'(Minimum Input Voltage)',fontsize=18)\n",
    "ax1.pie(data_Ploss, labels=labels_Ploss, autopct=autopct_format(data_Ploss))\n",
    "\n",
    "ax2.bar(labels_Ploss_Bar, data_Ploss_Bar,color=bar_colors)\n",
    "ax2.grid(True, linestyle='-.',axis='y')\n",
    "ax2.yaxis.set_minor_locator(AutoMinorLocator(5))\n",
    "ax2.set_ylabel('Power (W)')\n",
    "addlabels(labels_Ploss_Bar,data_Ploss_Bar)\n",
    "\n",
    "fig.subplots_adjust(top=0.86)\n",
    "\n",
    "plt.show()"
   ]
  },
  {
   "cell_type": "code",
   "execution_count": 135,
   "id": "06576d8b-3ad1-4b1b-9992-f93e9e4bfe47",
   "metadata": {
    "jupyter": {
     "source_hidden": true
    }
   },
   "outputs": [
    {
     "data": {
      "image/png": "[encoded data removed]",
      "text/plain": [
       "<Figure size 1800x600 with 2 Axes>"
      ]
     },
     "metadata": {},
     "output_type": "display_data"
    }
   ],
   "source": [
    "labels_Ploss= 'REC+EMI', 'Primary Switch(Total)', 'Secondary Switch(Total)', 'Clamp+Snubber','R_sense_Tot'\n",
    "data_Ploss = [P_REC_Vin_max+P_EMI_Vin_max, P_FET_cond_Vin_max+P_EOSS_Vin_max+P_EOFF_Vin_max+P_Gate_Vin_max, P_SW_Sec_cond_Vin_max, P_clamp+P_sec_snub_Vin_max, P_Rsense_Vin_max+P_Rsense_sec]\n",
    "\n",
    "#Ptot_flyback_Vin_max=P_Rsense_Vin_max+P_clamp+P_SW_Sec_cond_Vin_max+P_FET_cond_Vin_max+P_EOSS_Vin_max+P_EOFF_Vin_max\n",
    "\n",
    "labels_Ploss_Bar= 'REC','EMI', 'P_Cond','P_SW','P_OSS', 'P_Gate', 'S_Cond', 'Clamp', 'Snubber','R_sen','R_sen_S'\n",
    "data_Ploss_Bar = [P_REC_Vin_max, P_EMI_Vin_max, P_FET_cond_Vin_max,P_EOFF_Vin_max,P_EOSS_Vin_max,P_Gate_Vin_max,P_SW_Sec_cond_Vin_max,P_clamp,P_sec_snub_Vin_max,P_Rsense_Vin_max,P_Rsense_sec]\n",
    "\n",
    "#labels_bar= 'DC/DC', 'Total'\n",
    "#data_bar = [round((Pout/(Pout+Ptot_flyback_Vin_min))*100,1), round((Pout/(Pout+Ptot))*100,1)]\n",
    "\n",
    "#bar_labels = ['red', 'blue', '_red', 'orange','green']\n",
    "bar_colors = ['tab:blue', 'tab:blue', 'tab:orange', 'tab:orange', 'tab:orange', 'tab:orange','tab:green','tab:red','tab:red','tab:purple','tab:purple']\n",
    "\n",
    "def autopct_format(values):\n",
    "        def my_format(pct):\n",
    "            total = sum(values)\n",
    "            val = round(pct*total/100,3)\n",
    "            return '{:.1f}%\\n({v:.2f} W)'.format(pct, v=val)\n",
    "        return my_format\n",
    "\n",
    "def addlabels(x,y):\n",
    "    for i in range(len(x)):\n",
    "        ax2.text(i, y[i]+0.05, round(y[i],2), ha = 'center')\n",
    "        \n",
    "\n",
    "fig, (ax1, ax2) = plt.subplots(1, 2, figsize=(18,6))\n",
    "#fig, ax1 = plt.subplots()\n",
    "fig.suptitle('Power Losses Breakdown (w/o Losses in Magnetics, Nominal Vout)'+'\\n'+'(Maximum Input Voltage)',fontsize=18)\n",
    "ax1.pie(data_Ploss, labels=labels_Ploss, autopct=autopct_format(data_Ploss))\n",
    "\n",
    "ax2.bar(labels_Ploss_Bar, data_Ploss_Bar,color=bar_colors)\n",
    "ax2.grid(True, linestyle='-.',axis='y')\n",
    "ax2.yaxis.set_minor_locator(AutoMinorLocator(5))\n",
    "ax2.set_ylabel('Power (W)')\n",
    "addlabels(labels_Ploss_Bar,data_Ploss_Bar)\n",
    "\n",
    "fig.subplots_adjust(top=0.86)\n",
    "\n",
    "plt.show()"
   ]
  },
  {
   "cell_type": "code",
   "execution_count": 136,
   "id": "4cafb194-5167-400b-badb-4f1adbd7482e",
   "metadata": {
    "jupyter": {
     "source_hidden": true
    }
   },
   "outputs": [
    {
     "data": {
      "image/png": "[encoded data removed]",
      "text/plain": [
       "<Figure size 1800x600 with 2 Axes>"
      ]
     },
     "metadata": {},
     "output_type": "display_data"
    }
   ],
   "source": [
    "labels_Ploss= 'REC+EMI', 'Primary Switch(Total)', 'Secondary Switch(Total)', 'Clamp+Snubber','R_sense_Tot'\n",
    "data_Ploss = [P_REC_Vin_nom+P_EMI_Vin_nom, P_FET_cond_Vin_nom+P_EOSS_Vin_nom+P_EOFF_Vin_nom+P_Gate_Vin_nom, P_SW_Sec_cond_Vin_nom, P_clamp+P_sec_snub_Vin_nom, P_Rsense_Vin_nom+P_Rsense_sec]\n",
    "\n",
    "#Ptot_flyback_Vin_max=P_Rsense_Vin_max+P_clamp+P_SW_Sec_cond_Vin_max+P_FET_cond_Vin_max+P_EOSS_Vin_max+P_EOFF_Vin_max\n",
    "\n",
    "labels_Ploss_Bar= 'REC','EMI', 'P_Cond','P_SW','P_OSS','P_Gate', 'S_Cond', 'Clamp','Snubber','R_sen','R_sen_S'\n",
    "data_Ploss_Bar = [P_REC_Vin_nom, P_EMI_Vin_nom, P_FET_cond_Vin_nom,P_EOFF_Vin_nom,P_EOSS_Vin_nom,P_Gate_Vin_nom,P_SW_Sec_cond_Vin_nom,P_clamp,P_sec_snub_Vin_nom,P_Rsense_Vin_nom,P_Rsense_sec]\n",
    "\n",
    "#labels_bar= 'DC/DC', 'Total'\n",
    "#data_bar = [round((Pout/(Pout+Ptot_flyback_Vin_min))*100,1), round((Pout/(Pout+Ptot))*100,1)]\n",
    "\n",
    "#bar_labels = ['red', 'blue', '_red', 'orange','green']\n",
    "bar_colors = ['tab:blue', 'tab:blue', 'tab:orange', 'tab:orange', 'tab:orange', 'tab:orange','tab:green','tab:red','tab:red','tab:purple','tab:purple']\n",
    "\n",
    "def autopct_format(values):\n",
    "        def my_format(pct):\n",
    "            total = sum(values)\n",
    "            val = round(pct*total/100,3)\n",
    "            return '{:.1f}%\\n({v:.2f} W)'.format(pct, v=val)\n",
    "        return my_format\n",
    "\n",
    "def addlabels(x,y):\n",
    "    for i in range(len(x)):\n",
    "        ax2.text(i, y[i]+0.05, round(y[i],2), ha = 'center')\n",
    "        \n",
    "\n",
    "fig, (ax1, ax2) = plt.subplots(1, 2, figsize=(18,6))\n",
    "#fig, ax1 = plt.subplots()\n",
    "fig.suptitle('Power Losses Breakdown (w/o Losses in Magnetics, Nominal Vout)'+'\\n'+'(Nominal Input Voltage)',fontsize=18)\n",
    "ax1.pie(data_Ploss, labels=labels_Ploss, autopct=autopct_format(data_Ploss))\n",
    "\n",
    "ax2.bar(labels_Ploss_Bar, data_Ploss_Bar,color=bar_colors)\n",
    "ax2.grid(True, linestyle='-.',axis='y')\n",
    "ax2.yaxis.set_minor_locator(AutoMinorLocator(5))\n",
    "ax2.set_ylabel('Power (W)')\n",
    "addlabels(labels_Ploss_Bar,data_Ploss_Bar)\n",
    "\n",
    "fig.subplots_adjust(top=0.86)\n",
    "\n",
    "plt.show()"
   ]
  },
  {
   "cell_type": "code",
   "execution_count": 137,
   "id": "cfd1d8bc-b387-46c8-99e0-466c9c89c459",
   "metadata": {
    "editable": true,
    "jupyter": {
     "source_hidden": true
    },
    "slideshow": {
     "slide_type": ""
    },
    "tags": []
   },
   "outputs": [],
   "source": [
    "if eff > min(eff_calc_Vin_max, eff_calc_Vin_min, eff_calc_Vin_nom):\n",
    "    display(Markdown('<font size=\"6\"> <span style=\"color:red\"> Warning: User estimated efficiency is bigger than calculated. The results are underestimated.</span></font>'))\n",
    "\n",
    "    \n"
   ]
  },
  {
   "cell_type": "code",
   "execution_count": null,
   "id": "3a1d928d-86e2-4b8d-8774-b5e08e0aa8ad",
   "metadata": {
    "editable": true,
    "slideshow": {
     "slide_type": ""
    },
    "tags": []
   },
   "outputs": [],
   "source": []
  },
  {
   "cell_type": "code",
   "execution_count": null,
   "id": "565acd7a-34f7-471d-9aa4-75f3a0889bf7",
   "metadata": {},
   "outputs": [],
   "source": []
  },
  {
   "cell_type": "code",
   "execution_count": null,
   "id": "ea0aaa83-1344-4654-9c67-6cfee863f1cf",
   "metadata": {},
   "outputs": [],
   "source": []
  },
  {
   "cell_type": "code",
   "execution_count": null,
   "id": "57460750-0841-4e2d-a2c6-222d38de9c3d",
   "metadata": {
    "editable": true,
    "slideshow": {
     "slide_type": ""
    },
    "tags": []
   },
   "outputs": [],
   "source": []
  }
 ],
 "metadata": {
  "kernelspec": {
   "display_name": "Python 3 (ipykernel)",
   "language": "python",
   "name": "python3"
  },
  "language_info": {
   "codemirror_mode": {
    "name": "ipython",
    "version": 3
   },
   "file_extension": ".py",
   "mimetype": "text/x-python",
   "name": "python",
   "nbconvert_exporter": "python",
   "pygments_lexer": "ipython3",
   "version": "3.11.6"
  }
 },
 "nbformat": 4,
 "nbformat_minor": 5
}
