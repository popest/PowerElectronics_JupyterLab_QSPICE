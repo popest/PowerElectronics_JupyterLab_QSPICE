{
 "cells": [
  {
   "cell_type": "markdown",
   "id": "a35f7459-2207-4d2c-a270-4b631a6115ff",
   "metadata": {},
   "source": [
    "# Controler Parameters (NCP1342AMDCDA)"
   ]
  },
  {
   "cell_type": "code",
   "execution_count": 1,
   "id": "144571cd-2ba8-4eca-895c-9b2e199d9edb",
   "metadata": {},
   "outputs": [],
   "source": [
    "ton_max=32e-6\n",
    "\n",
    "# Current Limit Threshold Voltage\n",
    "Vcs_th_min=0.76\n",
    "Vcs_th_nom=0.80\n",
    "Vcs_th_max=0.84\n",
    "\n",
    "# Leading Edge Blanking Duration\n",
    "tLEB1_min=220e-9\n",
    "tLEB1_nom=265e-9\n",
    "tLEB1_max=330e-9\n",
    "\n",
    "# Current Limit Threshold Propagation Delay\n",
    "tdelay_ILIM1_nom=95e-9\n",
    "tdelay_ILIM1_max=175e-9\n",
    "\n",
    "# PWM Comparator Propagation Delay\n",
    "tdelay_PWM_nom=125e-9\n",
    "tdelay_PWM_max=175e-9\n",
    "\n",
    "# Jitter\n",
    "f_jitter=3.9e3\n",
    "\n",
    "#Peak Jitter Voltage\n",
    "V_jitter_peak_min=52e-3\n",
    "V_jitter_peak_nom=61e-3\n",
    "V_jitter_peak_max=70e-3\n",
    "\n",
    "# \n"
   ]
  },
  {
   "cell_type": "markdown",
   "id": "bea76328-c0cc-4d7b-adc2-e11697007308",
   "metadata": {},
   "source": [
    "# Input Data"
   ]
  },
  {
   "cell_type": "code",
   "execution_count": 2,
   "id": "415d598d-e4c7-4fdb-aa7f-101364cc9b37",
   "metadata": {},
   "outputs": [],
   "source": [
    "# Maximum Input DC Peak Voltage (in V)\n",
    "Vin_max=407\n",
    "\n",
    "# Minimum Input DC Valley Voltage (in V)\n",
    "Vin_min=245\n",
    "\n",
    "# Output Voltage Range (in V)\n",
    "Vout_max=30\n",
    "Vout_nom=24\n",
    "Vout_min=16\n",
    "\n",
    "# Primary inductance (in H)\n",
    "Lp=330e-6\n",
    "\n",
    "# Primary Aux. Winding Ratio\n",
    "Np_aux=6.8\n",
    "\n",
    "# N Prim-Sec\n",
    "Np=5.5\n",
    "\n",
    "# Primary Peak Current (@Vin min, in A)\n",
    "Ip_peak_Vin_min=3.012\n",
    "\n",
    "# Primary Peak Current (@Vin max, in A)\n",
    "Ip_peak_Vin_max=2.6\n",
    "\n",
    "# Overpower Protection\n",
    "RZCD=20e3\n",
    "#ROPPU=475e3\n",
    "ROPPU=681e3\n",
    "ROPPL=1.82e3\n",
    "Vf=0.6\n",
    "\n",
    "# Primary sense resistor\n",
    "Rsense=195e-3\n",
    "\n",
    "#Rsense=185e-3"
   ]
  },
  {
   "cell_type": "markdown",
   "id": "40c635d0-ce2a-44c2-9b44-becdbd5cfd18",
   "metadata": {},
   "source": [
    "# Overpower Protection Analysis"
   ]
  },
  {
   "cell_type": "code",
   "execution_count": 3,
   "id": "9c3ae31f-ae47-47ce-b876-028dc9631757",
   "metadata": {},
   "outputs": [],
   "source": [
    "#Voltage on ZCD pin\n",
    "Vzcd_Pos_Max=ROPPL/(RZCD+ROPPL)*(Vout_max*(Np/Np_aux)-Vf)\n",
    "Vzcd_Pos_Min=ROPPL/(RZCD+ROPPL)*(Vout_min*(Np/Np_aux)-Vf)\n",
    "Vzcd_Pos_Nom=ROPPL/(RZCD+ROPPL)*(Vout_nom*(Np/Np_aux)-Vf)\n",
    "\n",
    "Vzcd_Neg_max=(-1*Vin_max*1/Np_aux)*(ROPPL/(RZCD+ROPPU+ROPPL))\n",
    "Vzcd_Neg_min=(-1*Vin_min*1/Np_aux)*(ROPPL/(RZCD+ROPPU+ROPPL))"
   ]
  },
  {
   "cell_type": "code",
   "execution_count": 4,
   "id": "72a7d38d-2db8-40d5-8da8-dbd5b633bfca",
   "metadata": {},
   "outputs": [
    {
     "name": "stdout",
     "output_type": "stream",
     "text": [
      "1.9738663934868173\n",
      "1.029374022753006\n",
      "1.5690839488866124\n",
      "\n",
      "-0.1549932456975847\n",
      "-0.09330060244694902\n"
     ]
    }
   ],
   "source": [
    "print(Vzcd_Pos_Max)\n",
    "print(Vzcd_Pos_Min)\n",
    "print(Vzcd_Pos_Nom)\n",
    "print()\n",
    "print(Vzcd_Neg_max)\n",
    "print(Vzcd_Neg_min)"
   ]
  },
  {
   "cell_type": "markdown",
   "id": "9c1cb250-624a-48e1-bb42-3b99bab55184",
   "metadata": {},
   "source": [
    "## Recommended trip point"
   ]
  },
  {
   "cell_type": "code",
   "execution_count": 5,
   "id": "8277648d-c30b-4f6b-bdf5-27b0ffe70b34",
   "metadata": {},
   "outputs": [
    {
     "name": "stdout",
     "output_type": "stream",
     "text": [
      "3.6144\n",
      "3.12\n"
     ]
    }
   ],
   "source": [
    "#Vin_min\n",
    "Ip_vin_min_trip=Ip_peak_Vin_min*1.2\n",
    "\n",
    "#Vin_max\n",
    "Ip_vin_max_trip=Ip_peak_Vin_max*1.2\n",
    "\n",
    "print(Ip_vin_min_trip)\n",
    "print(Ip_vin_max_trip)"
   ]
  },
  {
   "cell_type": "markdown",
   "id": "ec21aedc-55e2-4bc5-9674-1616c4bad2df",
   "metadata": {},
   "source": [
    "## CS Pin Tripping point"
   ]
  },
  {
   "cell_type": "code",
   "execution_count": 6,
   "id": "a08c4757-7f33-47fd-8fdc-99a3372335f7",
   "metadata": {},
   "outputs": [],
   "source": [
    "#Vin min\n",
    "Ip_V_min=(Vcs_th_nom+Vzcd_Neg_min)/Rsense\n",
    "\n",
    "#Vin max\n",
    "Ip_V_max=(Vcs_th_nom+Vzcd_Neg_max)/Rsense"
   ]
  },
  {
   "cell_type": "code",
   "execution_count": 7,
   "id": "065765ea-0e16-44ef-b3e7-20e1a249be8a",
   "metadata": {},
   "outputs": [
    {
     "name": "stdout",
     "output_type": "stream",
     "text": [
      "3.6240994746310307\n",
      "3.3077269451405917\n"
     ]
    }
   ],
   "source": [
    "print(Ip_V_min)\n",
    "print(Ip_V_max)"
   ]
  },
  {
   "cell_type": "code",
   "execution_count": null,
   "id": "27eef3e2-2167-4268-9209-7488655c6db3",
   "metadata": {},
   "outputs": [],
   "source": []
  }
 ],
 "metadata": {
  "kernelspec": {
   "display_name": "Python 3 (ipykernel)",
   "language": "python",
   "name": "python3"
  },
  "language_info": {
   "codemirror_mode": {
    "name": "ipython",
    "version": 3
   },
   "file_extension": ".py",
   "mimetype": "text/x-python",
   "name": "python",
   "nbconvert_exporter": "python",
   "pygments_lexer": "ipython3",
   "version": "3.8.17"
  }
 },
 "nbformat": 4,
 "nbformat_minor": 5
}
